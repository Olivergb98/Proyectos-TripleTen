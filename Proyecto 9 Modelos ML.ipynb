{
 "cells": [
  {
   "cell_type": "markdown",
   "metadata": {},
   "source": [
    "# Proyecto 9: Modelos de Machine Learning para telefonía celular."
   ]
  },
  {
   "cell_type": "markdown",
   "metadata": {},
   "source": [
    "# Introducción"
   ]
  },
  {
   "cell_type": "markdown",
   "metadata": {},
   "source": [
    "La compañía móvil Megaline no está satisfecha al ver que muchos de sus clientes utilizan planes heredados. Quieren desarrollar un modelo que pueda analizar el comportamiento de los clientes y recomendar uno de los nuevos planes de Megaline: Smart o Ultra."
   ]
  },
  {
   "cell_type": "markdown",
   "metadata": {},
   "source": [
    "# Objetivo"
   ]
  },
  {
   "cell_type": "markdown",
   "metadata": {},
   "source": [
    "Utilizar los diferentes modelos de clasificación para determinar cuál es el que debemos usar en este caso, consideranto tanto precisión como tiempo de ejecución."
   ]
  },
  {
   "cell_type": "markdown",
   "metadata": {},
   "source": [
    "# Carga del dataset e importación de librerías"
   ]
  },
  {
   "cell_type": "code",
   "execution_count": 2,
   "metadata": {},
   "outputs": [],
   "source": [
    "import pandas as pd\n",
    "#importar modelos\n",
    "from sklearn.tree import DecisionTreeClassifier\n",
    "from sklearn.ensemble import RandomForestClassifier\n",
    "from sklearn.linear_model import LogisticRegression\n",
    "from sklearn.model_selection import train_test_split\n",
    "#importar métricas\n",
    "from sklearn.metrics import accuracy_score\n",
    "import time"
   ]
  },
  {
   "cell_type": "code",
   "execution_count": 3,
   "metadata": {},
   "outputs": [
    {
     "name": "stdout",
     "output_type": "stream",
     "text": [
      "<class 'pandas.core.frame.DataFrame'>\n",
      "RangeIndex: 3214 entries, 0 to 3213\n",
      "Data columns (total 5 columns):\n",
      " #   Column    Non-Null Count  Dtype  \n",
      "---  ------    --------------  -----  \n",
      " 0   calls     3214 non-null   float64\n",
      " 1   minutes   3214 non-null   float64\n",
      " 2   messages  3214 non-null   float64\n",
      " 3   mb_used   3214 non-null   float64\n",
      " 4   is_ultra  3214 non-null   int64  \n",
      "dtypes: float64(4), int64(1)\n",
      "memory usage: 125.7 KB\n"
     ]
    }
   ],
   "source": [
    "df= pd.read_csv('C:/Users/Oliver/Tripleten/users_behavior.csv')\n",
    "df.info()"
   ]
  },
  {
   "cell_type": "markdown",
   "metadata": {},
   "source": [
    "Primero vamos a establecer cuáles van a ser las características y la variable objetivo, y después separar los datos para entrenamiento y validación de los modelos."
   ]
  },
  {
   "cell_type": "code",
   "execution_count": 4,
   "metadata": {},
   "outputs": [],
   "source": [
    "features = df.drop(['is_ultra'], axis=1)\n",
    "target = df['is_ultra']"
   ]
  },
  {
   "cell_type": "code",
   "execution_count": 5,
   "metadata": {},
   "outputs": [],
   "source": [
    "features_train, features_valid, target_train, target_valid = train_test_split(features, target, test_size=0.25, random_state=12345)"
   ]
  },
  {
   "cell_type": "markdown",
   "metadata": {},
   "source": [
    "Con los parámetros necesarios, podemos empezar la prueba de modelos."
   ]
  },
  {
   "cell_type": "markdown",
   "metadata": {},
   "source": [
    "# Árbol de decisión"
   ]
  },
  {
   "cell_type": "markdown",
   "metadata": {},
   "source": [
    "Vamos a determinar qué profundidad nos da la mejor precisión en este modelo."
   ]
  },
  {
   "cell_type": "code",
   "execution_count": 6,
   "metadata": {},
   "outputs": [
    {
     "name": "stdout",
     "output_type": "stream",
     "text": [
      "Mejor profundidad = 7 con exactitud de 0.7898009950248757\n"
     ]
    }
   ],
   "source": [
    "#creamos un loop que devuelva el mejor resultado\n",
    "best_tree_depth = 0\n",
    "best_accuracy = 0\n",
    "for depth in range(1,21): \n",
    "    model_tree = DecisionTreeClassifier(random_state=12345, max_depth=depth)\n",
    "    model_tree.fit(features_train, target_train)\n",
    "    tree_test = model_tree.predict(features_valid)\n",
    "    tree_score = accuracy_score(tree_test, target_valid)\n",
    "    if tree_score > best_accuracy:\n",
    "        best_tree_depth = depth\n",
    "        best_accuracy= tree_score\n",
    "print('Mejor profundidad =', best_tree_depth, 'con exactitud de', best_accuracy)"
   ]
  },
  {
   "cell_type": "markdown",
   "metadata": {},
   "source": [
    "Dentro de los modelos de árboles de decisión, una profundidad de 7 nos da el mejor resultado, aunque la exactitud parece ser bastante baja, hay que generar los demás modelos para ver cuál brinda los mejores resultados."
   ]
  },
  {
   "cell_type": "markdown",
   "metadata": {},
   "source": [
    "# Random Forest"
   ]
  },
  {
   "cell_type": "markdown",
   "metadata": {},
   "source": [
    "Ahora veremos cuál es la mejor exactitud que podemos obtener con un modelo de random forest, de la mano con el número de estimadores óptimo para maximizar la exactitud."
   ]
  },
  {
   "cell_type": "code",
   "execution_count": 7,
   "metadata": {},
   "outputs": [
    {
     "ename": "KeyboardInterrupt",
     "evalue": "",
     "output_type": "error",
     "traceback": [
      "\u001b[1;31m---------------------------------------------------------------------------\u001b[0m",
      "\u001b[1;31mKeyboardInterrupt\u001b[0m                         Traceback (most recent call last)",
      "Cell \u001b[1;32mIn[7], line 7\u001b[0m\n\u001b[0;32m      5\u001b[0m \u001b[38;5;28;01mfor\u001b[39;00m depth \u001b[38;5;129;01min\u001b[39;00m \u001b[38;5;28mrange\u001b[39m(\u001b[38;5;241m1\u001b[39m,\u001b[38;5;241m21\u001b[39m):\n\u001b[0;32m      6\u001b[0m     model_rf \u001b[38;5;241m=\u001b[39m RandomForestClassifier(random_state\u001b[38;5;241m=\u001b[39m \u001b[38;5;241m12345\u001b[39m, n_estimators\u001b[38;5;241m=\u001b[39mest, max_depth\u001b[38;5;241m=\u001b[39mdepth)\n\u001b[1;32m----> 7\u001b[0m     model_rf\u001b[38;5;241m.\u001b[39mfit(features_train, target_train)\n\u001b[0;32m      8\u001b[0m     score\u001b[38;5;241m=\u001b[39m model_rf\u001b[38;5;241m.\u001b[39mscore(features_valid, target_valid)\n\u001b[0;32m      9\u001b[0m     \u001b[38;5;28;01mif\u001b[39;00m score \u001b[38;5;241m>\u001b[39m best_rf_score:\n",
      "File \u001b[1;32mc:\\Users\\Oliver\\anaconda3\\Lib\\site-packages\\sklearn\\base.py:1474\u001b[0m, in \u001b[0;36m_fit_context.<locals>.decorator.<locals>.wrapper\u001b[1;34m(estimator, *args, **kwargs)\u001b[0m\n\u001b[0;32m   1467\u001b[0m     estimator\u001b[38;5;241m.\u001b[39m_validate_params()\n\u001b[0;32m   1469\u001b[0m \u001b[38;5;28;01mwith\u001b[39;00m config_context(\n\u001b[0;32m   1470\u001b[0m     skip_parameter_validation\u001b[38;5;241m=\u001b[39m(\n\u001b[0;32m   1471\u001b[0m         prefer_skip_nested_validation \u001b[38;5;129;01mor\u001b[39;00m global_skip_validation\n\u001b[0;32m   1472\u001b[0m     )\n\u001b[0;32m   1473\u001b[0m ):\n\u001b[1;32m-> 1474\u001b[0m     \u001b[38;5;28;01mreturn\u001b[39;00m fit_method(estimator, \u001b[38;5;241m*\u001b[39margs, \u001b[38;5;241m*\u001b[39m\u001b[38;5;241m*\u001b[39mkwargs)\n",
      "File \u001b[1;32mc:\\Users\\Oliver\\anaconda3\\Lib\\site-packages\\sklearn\\ensemble\\_forest.py:489\u001b[0m, in \u001b[0;36mBaseForest.fit\u001b[1;34m(self, X, y, sample_weight)\u001b[0m\n\u001b[0;32m    478\u001b[0m trees \u001b[38;5;241m=\u001b[39m [\n\u001b[0;32m    479\u001b[0m     \u001b[38;5;28mself\u001b[39m\u001b[38;5;241m.\u001b[39m_make_estimator(append\u001b[38;5;241m=\u001b[39m\u001b[38;5;28;01mFalse\u001b[39;00m, random_state\u001b[38;5;241m=\u001b[39mrandom_state)\n\u001b[0;32m    480\u001b[0m     \u001b[38;5;28;01mfor\u001b[39;00m i \u001b[38;5;129;01min\u001b[39;00m \u001b[38;5;28mrange\u001b[39m(n_more_estimators)\n\u001b[0;32m    481\u001b[0m ]\n\u001b[0;32m    483\u001b[0m \u001b[38;5;66;03m# Parallel loop: we prefer the threading backend as the Cython code\u001b[39;00m\n\u001b[0;32m    484\u001b[0m \u001b[38;5;66;03m# for fitting the trees is internally releasing the Python GIL\u001b[39;00m\n\u001b[0;32m    485\u001b[0m \u001b[38;5;66;03m# making threading more efficient than multiprocessing in\u001b[39;00m\n\u001b[0;32m    486\u001b[0m \u001b[38;5;66;03m# that case. However, for joblib 0.12+ we respect any\u001b[39;00m\n\u001b[0;32m    487\u001b[0m \u001b[38;5;66;03m# parallel_backend contexts set at a higher level,\u001b[39;00m\n\u001b[0;32m    488\u001b[0m \u001b[38;5;66;03m# since correctness does not rely on using threads.\u001b[39;00m\n\u001b[1;32m--> 489\u001b[0m trees \u001b[38;5;241m=\u001b[39m Parallel(\n\u001b[0;32m    490\u001b[0m     n_jobs\u001b[38;5;241m=\u001b[39m\u001b[38;5;28mself\u001b[39m\u001b[38;5;241m.\u001b[39mn_jobs,\n\u001b[0;32m    491\u001b[0m     verbose\u001b[38;5;241m=\u001b[39m\u001b[38;5;28mself\u001b[39m\u001b[38;5;241m.\u001b[39mverbose,\n\u001b[0;32m    492\u001b[0m     prefer\u001b[38;5;241m=\u001b[39m\u001b[38;5;124m\"\u001b[39m\u001b[38;5;124mthreads\u001b[39m\u001b[38;5;124m\"\u001b[39m,\n\u001b[0;32m    493\u001b[0m )(\n\u001b[0;32m    494\u001b[0m     delayed(_parallel_build_trees)(\n\u001b[0;32m    495\u001b[0m         t,\n\u001b[0;32m    496\u001b[0m         \u001b[38;5;28mself\u001b[39m\u001b[38;5;241m.\u001b[39mbootstrap,\n\u001b[0;32m    497\u001b[0m         X,\n\u001b[0;32m    498\u001b[0m         y,\n\u001b[0;32m    499\u001b[0m         sample_weight,\n\u001b[0;32m    500\u001b[0m         i,\n\u001b[0;32m    501\u001b[0m         \u001b[38;5;28mlen\u001b[39m(trees),\n\u001b[0;32m    502\u001b[0m         verbose\u001b[38;5;241m=\u001b[39m\u001b[38;5;28mself\u001b[39m\u001b[38;5;241m.\u001b[39mverbose,\n\u001b[0;32m    503\u001b[0m         class_weight\u001b[38;5;241m=\u001b[39m\u001b[38;5;28mself\u001b[39m\u001b[38;5;241m.\u001b[39mclass_weight,\n\u001b[0;32m    504\u001b[0m         n_samples_bootstrap\u001b[38;5;241m=\u001b[39mn_samples_bootstrap,\n\u001b[0;32m    505\u001b[0m         missing_values_in_feature_mask\u001b[38;5;241m=\u001b[39mmissing_values_in_feature_mask,\n\u001b[0;32m    506\u001b[0m     )\n\u001b[0;32m    507\u001b[0m     \u001b[38;5;28;01mfor\u001b[39;00m i, t \u001b[38;5;129;01min\u001b[39;00m \u001b[38;5;28menumerate\u001b[39m(trees)\n\u001b[0;32m    508\u001b[0m )\n\u001b[0;32m    510\u001b[0m \u001b[38;5;66;03m# Collect newly grown trees\u001b[39;00m\n\u001b[0;32m    511\u001b[0m \u001b[38;5;28mself\u001b[39m\u001b[38;5;241m.\u001b[39mestimators_\u001b[38;5;241m.\u001b[39mextend(trees)\n",
      "File \u001b[1;32mc:\\Users\\Oliver\\anaconda3\\Lib\\site-packages\\sklearn\\utils\\parallel.py:67\u001b[0m, in \u001b[0;36mParallel.__call__\u001b[1;34m(self, iterable)\u001b[0m\n\u001b[0;32m     62\u001b[0m config \u001b[38;5;241m=\u001b[39m get_config()\n\u001b[0;32m     63\u001b[0m iterable_with_config \u001b[38;5;241m=\u001b[39m (\n\u001b[0;32m     64\u001b[0m     (_with_config(delayed_func, config), args, kwargs)\n\u001b[0;32m     65\u001b[0m     \u001b[38;5;28;01mfor\u001b[39;00m delayed_func, args, kwargs \u001b[38;5;129;01min\u001b[39;00m iterable\n\u001b[0;32m     66\u001b[0m )\n\u001b[1;32m---> 67\u001b[0m \u001b[38;5;28;01mreturn\u001b[39;00m \u001b[38;5;28msuper\u001b[39m()\u001b[38;5;241m.\u001b[39m\u001b[38;5;21m__call__\u001b[39m(iterable_with_config)\n",
      "File \u001b[1;32mc:\\Users\\Oliver\\anaconda3\\Lib\\site-packages\\joblib\\parallel.py:1918\u001b[0m, in \u001b[0;36mParallel.__call__\u001b[1;34m(self, iterable)\u001b[0m\n\u001b[0;32m   1916\u001b[0m     output \u001b[38;5;241m=\u001b[39m \u001b[38;5;28mself\u001b[39m\u001b[38;5;241m.\u001b[39m_get_sequential_output(iterable)\n\u001b[0;32m   1917\u001b[0m     \u001b[38;5;28mnext\u001b[39m(output)\n\u001b[1;32m-> 1918\u001b[0m     \u001b[38;5;28;01mreturn\u001b[39;00m output \u001b[38;5;28;01mif\u001b[39;00m \u001b[38;5;28mself\u001b[39m\u001b[38;5;241m.\u001b[39mreturn_generator \u001b[38;5;28;01melse\u001b[39;00m \u001b[38;5;28mlist\u001b[39m(output)\n\u001b[0;32m   1920\u001b[0m \u001b[38;5;66;03m# Let's create an ID that uniquely identifies the current call. If the\u001b[39;00m\n\u001b[0;32m   1921\u001b[0m \u001b[38;5;66;03m# call is interrupted early and that the same instance is immediately\u001b[39;00m\n\u001b[0;32m   1922\u001b[0m \u001b[38;5;66;03m# re-used, this id will be used to prevent workers that were\u001b[39;00m\n\u001b[0;32m   1923\u001b[0m \u001b[38;5;66;03m# concurrently finalizing a task from the previous call to run the\u001b[39;00m\n\u001b[0;32m   1924\u001b[0m \u001b[38;5;66;03m# callback.\u001b[39;00m\n\u001b[0;32m   1925\u001b[0m \u001b[38;5;28;01mwith\u001b[39;00m \u001b[38;5;28mself\u001b[39m\u001b[38;5;241m.\u001b[39m_lock:\n",
      "File \u001b[1;32mc:\\Users\\Oliver\\anaconda3\\Lib\\site-packages\\joblib\\parallel.py:1847\u001b[0m, in \u001b[0;36mParallel._get_sequential_output\u001b[1;34m(self, iterable)\u001b[0m\n\u001b[0;32m   1845\u001b[0m \u001b[38;5;28mself\u001b[39m\u001b[38;5;241m.\u001b[39mn_dispatched_batches \u001b[38;5;241m+\u001b[39m\u001b[38;5;241m=\u001b[39m \u001b[38;5;241m1\u001b[39m\n\u001b[0;32m   1846\u001b[0m \u001b[38;5;28mself\u001b[39m\u001b[38;5;241m.\u001b[39mn_dispatched_tasks \u001b[38;5;241m+\u001b[39m\u001b[38;5;241m=\u001b[39m \u001b[38;5;241m1\u001b[39m\n\u001b[1;32m-> 1847\u001b[0m res \u001b[38;5;241m=\u001b[39m func(\u001b[38;5;241m*\u001b[39margs, \u001b[38;5;241m*\u001b[39m\u001b[38;5;241m*\u001b[39mkwargs)\n\u001b[0;32m   1848\u001b[0m \u001b[38;5;28mself\u001b[39m\u001b[38;5;241m.\u001b[39mn_completed_tasks \u001b[38;5;241m+\u001b[39m\u001b[38;5;241m=\u001b[39m \u001b[38;5;241m1\u001b[39m\n\u001b[0;32m   1849\u001b[0m \u001b[38;5;28mself\u001b[39m\u001b[38;5;241m.\u001b[39mprint_progress()\n",
      "File \u001b[1;32mc:\\Users\\Oliver\\anaconda3\\Lib\\site-packages\\sklearn\\utils\\parallel.py:129\u001b[0m, in \u001b[0;36m_FuncWrapper.__call__\u001b[1;34m(self, *args, **kwargs)\u001b[0m\n\u001b[0;32m    127\u001b[0m     config \u001b[38;5;241m=\u001b[39m {}\n\u001b[0;32m    128\u001b[0m \u001b[38;5;28;01mwith\u001b[39;00m config_context(\u001b[38;5;241m*\u001b[39m\u001b[38;5;241m*\u001b[39mconfig):\n\u001b[1;32m--> 129\u001b[0m     \u001b[38;5;28;01mreturn\u001b[39;00m \u001b[38;5;28mself\u001b[39m\u001b[38;5;241m.\u001b[39mfunction(\u001b[38;5;241m*\u001b[39margs, \u001b[38;5;241m*\u001b[39m\u001b[38;5;241m*\u001b[39mkwargs)\n",
      "File \u001b[1;32mc:\\Users\\Oliver\\anaconda3\\Lib\\site-packages\\sklearn\\ensemble\\_forest.py:192\u001b[0m, in \u001b[0;36m_parallel_build_trees\u001b[1;34m(tree, bootstrap, X, y, sample_weight, tree_idx, n_trees, verbose, class_weight, n_samples_bootstrap, missing_values_in_feature_mask)\u001b[0m\n\u001b[0;32m    189\u001b[0m     \u001b[38;5;28;01melif\u001b[39;00m class_weight \u001b[38;5;241m==\u001b[39m \u001b[38;5;124m\"\u001b[39m\u001b[38;5;124mbalanced_subsample\u001b[39m\u001b[38;5;124m\"\u001b[39m:\n\u001b[0;32m    190\u001b[0m         curr_sample_weight \u001b[38;5;241m*\u001b[39m\u001b[38;5;241m=\u001b[39m compute_sample_weight(\u001b[38;5;124m\"\u001b[39m\u001b[38;5;124mbalanced\u001b[39m\u001b[38;5;124m\"\u001b[39m, y, indices\u001b[38;5;241m=\u001b[39mindices)\n\u001b[1;32m--> 192\u001b[0m     tree\u001b[38;5;241m.\u001b[39m_fit(\n\u001b[0;32m    193\u001b[0m         X,\n\u001b[0;32m    194\u001b[0m         y,\n\u001b[0;32m    195\u001b[0m         sample_weight\u001b[38;5;241m=\u001b[39mcurr_sample_weight,\n\u001b[0;32m    196\u001b[0m         check_input\u001b[38;5;241m=\u001b[39m\u001b[38;5;28;01mFalse\u001b[39;00m,\n\u001b[0;32m    197\u001b[0m         missing_values_in_feature_mask\u001b[38;5;241m=\u001b[39mmissing_values_in_feature_mask,\n\u001b[0;32m    198\u001b[0m     )\n\u001b[0;32m    199\u001b[0m \u001b[38;5;28;01melse\u001b[39;00m:\n\u001b[0;32m    200\u001b[0m     tree\u001b[38;5;241m.\u001b[39m_fit(\n\u001b[0;32m    201\u001b[0m         X,\n\u001b[0;32m    202\u001b[0m         y,\n\u001b[1;32m   (...)\u001b[0m\n\u001b[0;32m    205\u001b[0m         missing_values_in_feature_mask\u001b[38;5;241m=\u001b[39mmissing_values_in_feature_mask,\n\u001b[0;32m    206\u001b[0m     )\n",
      "File \u001b[1;32mc:\\Users\\Oliver\\anaconda3\\Lib\\site-packages\\sklearn\\tree\\_classes.py:294\u001b[0m, in \u001b[0;36mBaseDecisionTree._fit\u001b[1;34m(self, X, y, sample_weight, check_input, missing_values_in_feature_mask)\u001b[0m\n\u001b[0;32m    291\u001b[0m \u001b[38;5;28mself\u001b[39m\u001b[38;5;241m.\u001b[39mn_outputs_ \u001b[38;5;241m=\u001b[39m y\u001b[38;5;241m.\u001b[39mshape[\u001b[38;5;241m1\u001b[39m]\n\u001b[0;32m    293\u001b[0m \u001b[38;5;28;01mif\u001b[39;00m is_classification:\n\u001b[1;32m--> 294\u001b[0m     check_classification_targets(y)\n\u001b[0;32m    295\u001b[0m     y \u001b[38;5;241m=\u001b[39m np\u001b[38;5;241m.\u001b[39mcopy(y)\n\u001b[0;32m    297\u001b[0m     \u001b[38;5;28mself\u001b[39m\u001b[38;5;241m.\u001b[39mclasses_ \u001b[38;5;241m=\u001b[39m []\n",
      "File \u001b[1;32mc:\\Users\\Oliver\\anaconda3\\Lib\\site-packages\\sklearn\\utils\\multiclass.py:213\u001b[0m, in \u001b[0;36mcheck_classification_targets\u001b[1;34m(y)\u001b[0m\n\u001b[0;32m    201\u001b[0m \u001b[38;5;28;01mdef\u001b[39;00m \u001b[38;5;21mcheck_classification_targets\u001b[39m(y):\n\u001b[0;32m    202\u001b[0m \u001b[38;5;250m    \u001b[39m\u001b[38;5;124;03m\"\"\"Ensure that target y is of a non-regression type.\u001b[39;00m\n\u001b[0;32m    203\u001b[0m \n\u001b[0;32m    204\u001b[0m \u001b[38;5;124;03m    Only the following target types (as defined in type_of_target) are allowed:\u001b[39;00m\n\u001b[1;32m   (...)\u001b[0m\n\u001b[0;32m    211\u001b[0m \u001b[38;5;124;03m        Target values.\u001b[39;00m\n\u001b[0;32m    212\u001b[0m \u001b[38;5;124;03m    \"\"\"\u001b[39;00m\n\u001b[1;32m--> 213\u001b[0m     y_type \u001b[38;5;241m=\u001b[39m type_of_target(y, input_name\u001b[38;5;241m=\u001b[39m\u001b[38;5;124m\"\u001b[39m\u001b[38;5;124my\u001b[39m\u001b[38;5;124m\"\u001b[39m)\n\u001b[0;32m    214\u001b[0m     \u001b[38;5;28;01mif\u001b[39;00m y_type \u001b[38;5;129;01mnot\u001b[39;00m \u001b[38;5;129;01min\u001b[39;00m [\n\u001b[0;32m    215\u001b[0m         \u001b[38;5;124m\"\u001b[39m\u001b[38;5;124mbinary\u001b[39m\u001b[38;5;124m\"\u001b[39m,\n\u001b[0;32m    216\u001b[0m         \u001b[38;5;124m\"\u001b[39m\u001b[38;5;124mmulticlass\u001b[39m\u001b[38;5;124m\"\u001b[39m,\n\u001b[1;32m   (...)\u001b[0m\n\u001b[0;32m    219\u001b[0m         \u001b[38;5;124m\"\u001b[39m\u001b[38;5;124mmultilabel-sequences\u001b[39m\u001b[38;5;124m\"\u001b[39m,\n\u001b[0;32m    220\u001b[0m     ]:\n\u001b[0;32m    221\u001b[0m         \u001b[38;5;28;01mraise\u001b[39;00m \u001b[38;5;167;01mValueError\u001b[39;00m(\n\u001b[0;32m    222\u001b[0m             \u001b[38;5;124mf\u001b[39m\u001b[38;5;124m\"\u001b[39m\u001b[38;5;124mUnknown label type: \u001b[39m\u001b[38;5;132;01m{\u001b[39;00my_type\u001b[38;5;132;01m}\u001b[39;00m\u001b[38;5;124m. Maybe you are trying to fit a \u001b[39m\u001b[38;5;124m\"\u001b[39m\n\u001b[0;32m    223\u001b[0m             \u001b[38;5;124m\"\u001b[39m\u001b[38;5;124mclassifier, which expects discrete classes on a \u001b[39m\u001b[38;5;124m\"\u001b[39m\n\u001b[0;32m    224\u001b[0m             \u001b[38;5;124m\"\u001b[39m\u001b[38;5;124mregression target with continuous values.\u001b[39m\u001b[38;5;124m\"\u001b[39m\n\u001b[0;32m    225\u001b[0m         )\n",
      "File \u001b[1;32mc:\\Users\\Oliver\\anaconda3\\Lib\\site-packages\\sklearn\\utils\\multiclass.py:395\u001b[0m, in \u001b[0;36mtype_of_target\u001b[1;34m(y, input_name)\u001b[0m\n\u001b[0;32m    393\u001b[0m \u001b[38;5;28;01mif\u001b[39;00m issparse(first_row):\n\u001b[0;32m    394\u001b[0m     first_row \u001b[38;5;241m=\u001b[39m first_row\u001b[38;5;241m.\u001b[39mdata\n\u001b[1;32m--> 395\u001b[0m \u001b[38;5;28;01mif\u001b[39;00m xp\u001b[38;5;241m.\u001b[39munique_values(y)\u001b[38;5;241m.\u001b[39mshape[\u001b[38;5;241m0\u001b[39m] \u001b[38;5;241m>\u001b[39m \u001b[38;5;241m2\u001b[39m \u001b[38;5;129;01mor\u001b[39;00m (y\u001b[38;5;241m.\u001b[39mndim \u001b[38;5;241m==\u001b[39m \u001b[38;5;241m2\u001b[39m \u001b[38;5;129;01mand\u001b[39;00m \u001b[38;5;28mlen\u001b[39m(first_row) \u001b[38;5;241m>\u001b[39m \u001b[38;5;241m1\u001b[39m):\n\u001b[0;32m    396\u001b[0m     \u001b[38;5;66;03m# [1, 2, 3] or [[1., 2., 3]] or [[1, 2]]\u001b[39;00m\n\u001b[0;32m    397\u001b[0m     \u001b[38;5;28;01mreturn\u001b[39;00m \u001b[38;5;124m\"\u001b[39m\u001b[38;5;124mmulticlass\u001b[39m\u001b[38;5;124m\"\u001b[39m \u001b[38;5;241m+\u001b[39m suffix\n\u001b[0;32m    398\u001b[0m \u001b[38;5;28;01melse\u001b[39;00m:\n",
      "File \u001b[1;32mc:\\Users\\Oliver\\anaconda3\\Lib\\site-packages\\sklearn\\utils\\_array_api.py:307\u001b[0m, in \u001b[0;36m_NumPyAPIWrapper.unique_values\u001b[1;34m(self, x)\u001b[0m\n\u001b[0;32m    306\u001b[0m \u001b[38;5;28;01mdef\u001b[39;00m \u001b[38;5;21munique_values\u001b[39m(\u001b[38;5;28mself\u001b[39m, x):\n\u001b[1;32m--> 307\u001b[0m     \u001b[38;5;28;01mreturn\u001b[39;00m numpy\u001b[38;5;241m.\u001b[39munique(x)\n",
      "File \u001b[1;32mc:\\Users\\Oliver\\anaconda3\\Lib\\site-packages\\numpy\\lib\\arraysetops.py:274\u001b[0m, in \u001b[0;36munique\u001b[1;34m(ar, return_index, return_inverse, return_counts, axis, equal_nan)\u001b[0m\n\u001b[0;32m    272\u001b[0m ar \u001b[38;5;241m=\u001b[39m np\u001b[38;5;241m.\u001b[39masanyarray(ar)\n\u001b[0;32m    273\u001b[0m \u001b[38;5;28;01mif\u001b[39;00m axis \u001b[38;5;129;01mis\u001b[39;00m \u001b[38;5;28;01mNone\u001b[39;00m:\n\u001b[1;32m--> 274\u001b[0m     ret \u001b[38;5;241m=\u001b[39m _unique1d(ar, return_index, return_inverse, return_counts, \n\u001b[0;32m    275\u001b[0m                     equal_nan\u001b[38;5;241m=\u001b[39mequal_nan)\n\u001b[0;32m    276\u001b[0m     \u001b[38;5;28;01mreturn\u001b[39;00m _unpack_tuple(ret)\n\u001b[0;32m    278\u001b[0m \u001b[38;5;66;03m# axis was specified and not None\u001b[39;00m\n",
      "File \u001b[1;32mc:\\Users\\Oliver\\anaconda3\\Lib\\site-packages\\numpy\\lib\\arraysetops.py:336\u001b[0m, in \u001b[0;36m_unique1d\u001b[1;34m(ar, return_index, return_inverse, return_counts, equal_nan)\u001b[0m\n\u001b[0;32m    334\u001b[0m     aux \u001b[38;5;241m=\u001b[39m ar[perm]\n\u001b[0;32m    335\u001b[0m \u001b[38;5;28;01melse\u001b[39;00m:\n\u001b[1;32m--> 336\u001b[0m     ar\u001b[38;5;241m.\u001b[39msort()\n\u001b[0;32m    337\u001b[0m     aux \u001b[38;5;241m=\u001b[39m ar\n\u001b[0;32m    338\u001b[0m mask \u001b[38;5;241m=\u001b[39m np\u001b[38;5;241m.\u001b[39mempty(aux\u001b[38;5;241m.\u001b[39mshape, dtype\u001b[38;5;241m=\u001b[39mnp\u001b[38;5;241m.\u001b[39mbool_)\n",
      "\u001b[1;31mKeyboardInterrupt\u001b[0m: "
     ]
    }
   ],
   "source": [
    "best_rf_score = 0\n",
    "best_est= 0\n",
    "best_depth= 0\n",
    "for est in range(1,51):\n",
    "    for depth in range(1,21):\n",
    "        model_rf = RandomForestClassifier(random_state= 12345, n_estimators=est, max_depth=depth)\n",
    "        model_rf.fit(features_train, target_train)\n",
    "        score= model_rf.score(features_valid, target_valid)\n",
    "        if score > best_rf_score:\n",
    "            best_rf_score = score\n",
    "            best_est= est\n",
    "            best_depth = depth\n",
    "\n",
    "print('El mejor modelo de Random Forest es con', best_est, 'estimadores, una profundidad máxima de', best_depth, 'y da una exactitud de', best_rf_score)"
   ]
  },
  {
   "cell_type": "code",
   "execution_count": null,
   "metadata": {},
   "outputs": [],
   "source": [
    "#Variante para f1_score\n",
    "best_rf_score = 0\n",
    "best_est = 0\n",
    "best_depth = 0\n",
    "for est in range(1, 20):\n",
    "    for depth in range(1, 21):\n",
    "        model_rf = RandomForestClassifier(\n",
    "            random_state=12345, n_estimators=est, max_depth=depth)\n",
    "        model_rf.fit(features_train, target_train)\n",
    "        predict_valid = model_rf.predict(features_valid)\n",
    "        score = f1_score(target_valid, predict_valid)\n",
    "        if score > best_rf_score:\n",
    "            best_rf_score = score\n",
    "            best_est = est\n",
    "            best_depth = depth\n",
    "    \n",
    "print('El mejor modelo de Random Forest es con', best_est, 'estimadores, una profundidad máxima de', best_depth, 'y tiene un valor f1 de', best_rf_score)"
   ]
  },
  {
   "cell_type": "markdown",
   "metadata": {},
   "source": [
    "Notamos que obtenemos una puntuación ligeramente mejor con este modelo, aunque para obtenerla necesitamos aplicar un gran número de estimadores, lo que puede significar un gran tiempo de ejecución si se traduce a un dataset más grande. Sin embargo, con este conjunto pequeño el tiempo podría no ser considerable."
   ]
  },
  {
   "cell_type": "markdown",
   "metadata": {},
   "source": [
    "# Regresión logística"
   ]
  },
  {
   "cell_type": "markdown",
   "metadata": {},
   "source": [
    "Por último, haremos una prueba de regresión logística para determinar si este modelo es más preciso que los otros dos."
   ]
  },
  {
   "cell_type": "code",
   "execution_count": null,
   "metadata": {},
   "outputs": [
    {
     "name": "stdout",
     "output_type": "stream",
     "text": [
      "Precisión del modelo de regresión logística: 0.7039800995024875\n"
     ]
    }
   ],
   "source": [
    "model_log= LogisticRegression(random_state=12345, solver='liblinear')\n",
    "model_log.fit(features_train, target_train)\n",
    "score_log= model_log.score(features_valid, target_valid)\n",
    "print('Precisión del modelo de regresión logística:', score_log)"
   ]
  },
  {
   "cell_type": "markdown",
   "metadata": {},
   "source": [
    "Este modelo ha tenido la menor precisión de los 3, así que lo descartaremos como opción."
   ]
  },
  {
   "cell_type": "markdown",
   "metadata": {},
   "source": [
    "<div class=\"alert alert-block alert-success\">\n",
    "<b>Comentario del revisor (1ra Iteracion)</b> <a class=“tocSkip”></a>\n",
    "\n",
    "Buen trabajo con el entrenamiento y evaluación de tus modelos! Utilizaste los parámetros necesarios para ir iterando sobre el desempeño de cada modelo, siempre que se trata de modelar ML es importante este proceso iterativo de experimentación hasta encontrar los parámetros correctos \n",
    "</div>"
   ]
  },
  {
   "cell_type": "markdown",
   "metadata": {},
   "source": [
    "# Tiempo de ejecución"
   ]
  },
  {
   "cell_type": "markdown",
   "metadata": {},
   "source": [
    "El árbol de decisión y random forest tuvieron resultados similares, ahora hay que comprobar el tiempo de ejecución para determinar si es recomendable usar random forest o si por ese pequeño porcentaje extra, no lo vale. Para el árbol de decisión usaremos la profundidad máxima de 7 y para random forest usaremos 60 estimadores.\n",
    "Nos basaremos en el tiempo que tarda cada uno en \"predecir\" los resultados de todo el dataset."
   ]
  },
  {
   "cell_type": "code",
   "execution_count": null,
   "metadata": {},
   "outputs": [
    {
     "name": "stdout",
     "output_type": "stream",
     "text": [
      "Tiempo de ejecución: 0.007000923156738281\n"
     ]
    }
   ],
   "source": [
    "#usaremos el módulo time para medir el tiempo de ejecución\n",
    "#primero mediremos el tiempo que toma en predecir el árbol de decisión\n",
    "start_tree = time.time()\n",
    "\n",
    "tree= DecisionTreeClassifier(random_state=12345, max_depth=7)\n",
    "tree.fit(features, target)\n",
    "tree_predictions= tree.predict(features)\n",
    "\n",
    "end_tree = time.time()\n",
    "print('Tiempo de ejecución:', end_tree - start_tree)"
   ]
  },
  {
   "cell_type": "code",
   "execution_count": null,
   "metadata": {},
   "outputs": [
    {
     "name": "stdout",
     "output_type": "stream",
     "text": [
      "Tiempo de ejecución: 0.25792717933654785\n"
     ]
    }
   ],
   "source": [
    "#ahora haremos la misma prueba con el modelo de random forest \n",
    "start_rf = time.time()\n",
    "\n",
    "forest = RandomForestClassifier(random_state=12345, n_estimators = 60)\n",
    "forest.fit(features, target)\n",
    "rf_predictions = forest.predict(features)\n",
    "\n",
    "end_rf = time.time()\n",
    "print('Tiempo de ejecución:', end_rf - start_rf)"
   ]
  },
  {
   "cell_type": "code",
   "execution_count": 8,
   "metadata": {},
   "outputs": [
    {
     "name": "stdout",
     "output_type": "stream",
     "text": [
      "CPU times: total: 250 ms\n",
      "Wall time: 234 ms\n"
     ]
    }
   ],
   "source": [
    "%%time\n",
    "\n",
    "forest = RandomForestClassifier(random_state=12345, n_estimators = 60)\n",
    "forest.fit(features, target)\n",
    "rf_predictions = forest.predict(features)\n"
   ]
  },
  {
   "cell_type": "code",
   "execution_count": 9,
   "metadata": {},
   "outputs": [
    {
     "name": "stdout",
     "output_type": "stream",
     "text": [
      "CPU times: total: 15.6 ms\n",
      "Wall time: 6.34 ms\n"
     ]
    }
   ],
   "source": [
    "%%time\n",
    "tree = DecisionTreeClassifier(random_state=12345, max_depth=7)\n",
    "tree.fit(features, target)\n",
    "tree_predictions = tree.predict(features)"
   ]
  },
  {
   "cell_type": "markdown",
   "metadata": {},
   "source": [
    "Como era de esperarse, el tiempo de ejecución es bastante elevado, y con menor cantidad de estimadores la diferencia en precisión del modelo es aún menor y sigue tardando considerablemente más, así que concluimos que el mejor modelo a utilizar será el árbol de decisión."
   ]
  },
  {
   "cell_type": "markdown",
   "metadata": {},
   "source": [
    "<div class=\"alert alert-block alert-success\">\n",
    "<b>Comentario del revisor (1ra Iteracion)</b> <a class=“tocSkip”></a>\n",
    "\n",
    "Muy bien, analizar el tiempo que tiene cada paso en el entrenamiento es importante ya que a veces se requiere esta información para poder utilizar un modelo en tiempo real\n",
    "</div>"
   ]
  },
  {
   "cell_type": "markdown",
   "metadata": {},
   "source": [
    "# Conclusión "
   ]
  },
  {
   "cell_type": "markdown",
   "metadata": {},
   "source": [
    "Después de evaluar los 3 diferentes modelos, concluimos que el óptimo para este problema es un árbol de decisión, ya que el random forest tiene una precisión bastante similar pero tarda mucho más en realizar las predicciones, y aunque en este caso el tiempo sigue siendo muy poco, al trasladarlo a una base de datos mayor el tiempo se dispararía y con muy poco beneficio en precisión."
   ]
  },
  {
   "cell_type": "markdown",
   "metadata": {},
   "source": [
    "<div class=\"alert alert-block alert-warning\">\n",
    "<b>Comentario del revisor (1ra Iteracion)</b> <a class=“tocSkip”></a>\n",
    "\n",
    "Buen trabajo con tu proyecto Oliver! Entrenaste los modelos correctamente y los fuiste mejorando cambiando los hiperparámetros logrando así una métrica por encima del umbral que se propuso para este proyecto.\n",
    "    \n",
    "También podrías realizar un EDA de los datos con los que vas a entrenar tu modelo, puedes generar gráficas y explorar las diferentes variables ya que así entenderás mejor los datos y sabrás que es lo que puede afectar tu modelo.\n",
    "    \n",
    "Saludos!\n",
    "</div>"
   ]
  }
 ],
 "metadata": {
  "ExecuteTimeLog": [
   {
    "duration": 315,
    "start_time": "2025-01-22T16:49:34.870Z"
   },
   {
    "duration": 16,
    "start_time": "2025-01-22T16:50:00.328Z"
   },
   {
    "duration": 502,
    "start_time": "2025-01-22T16:51:48.693Z"
   },
   {
    "duration": 897,
    "start_time": "2025-01-22T18:41:36.910Z"
   },
   {
    "duration": 217,
    "start_time": "2025-01-22T18:51:24.476Z"
   },
   {
    "duration": 788,
    "start_time": "2025-01-22T18:52:03.690Z"
   },
   {
    "duration": 21,
    "start_time": "2025-01-22T18:52:04.480Z"
   },
   {
    "duration": 3,
    "start_time": "2025-01-22T18:52:04.503Z"
   },
   {
    "duration": 6,
    "start_time": "2025-01-22T18:52:04.508Z"
   },
   {
    "duration": 794,
    "start_time": "2025-01-22T20:11:11.899Z"
   },
   {
    "duration": 18,
    "start_time": "2025-01-22T20:11:12.695Z"
   },
   {
    "duration": 3,
    "start_time": "2025-01-22T20:11:12.715Z"
   },
   {
    "duration": 4,
    "start_time": "2025-01-22T20:11:12.722Z"
   },
   {
    "duration": 2,
    "start_time": "2025-01-22T20:34:22.279Z"
   },
   {
    "duration": 3,
    "start_time": "2025-01-22T20:34:25.428Z"
   },
   {
    "duration": 9,
    "start_time": "2025-01-23T17:32:17.566Z"
   },
   {
    "duration": 816,
    "start_time": "2025-01-23T17:32:29.124Z"
   },
   {
    "duration": 19,
    "start_time": "2025-01-23T17:32:29.943Z"
   },
   {
    "duration": 4,
    "start_time": "2025-01-23T17:32:29.964Z"
   },
   {
    "duration": 4,
    "start_time": "2025-01-23T17:32:29.969Z"
   },
   {
    "duration": 244,
    "start_time": "2025-01-23T17:32:29.976Z"
   },
   {
    "duration": 787,
    "start_time": "2025-01-23T17:34:53.435Z"
   },
   {
    "duration": 13,
    "start_time": "2025-01-23T17:34:54.224Z"
   },
   {
    "duration": 3,
    "start_time": "2025-01-23T17:34:54.239Z"
   },
   {
    "duration": 4,
    "start_time": "2025-01-23T17:34:54.244Z"
   },
   {
    "duration": 183,
    "start_time": "2025-01-23T17:34:54.250Z"
   },
   {
    "duration": 11550,
    "start_time": "2025-01-23T17:41:39.534Z"
   },
   {
    "duration": 165,
    "start_time": "2025-01-23T17:42:32.052Z"
   },
   {
    "duration": 886,
    "start_time": "2025-01-23T18:08:17.282Z"
   },
   {
    "duration": 4850,
    "start_time": "2025-01-23T18:10:15.788Z"
   },
   {
    "duration": 19174,
    "start_time": "2025-01-23T18:10:33.443Z"
   },
   {
    "duration": 268,
    "start_time": "2025-01-23T18:28:47.102Z"
   },
   {
    "duration": 19092,
    "start_time": "2025-01-23T18:29:01.701Z"
   },
   {
    "duration": 214,
    "start_time": "2025-01-23T18:29:43.745Z"
   },
   {
    "duration": 3,
    "start_time": "2025-01-23T18:29:49.185Z"
   },
   {
    "duration": 3,
    "start_time": "2025-01-23T18:32:46.245Z"
   },
   {
    "duration": 236,
    "start_time": "2025-01-23T18:33:01.121Z"
   },
   {
    "duration": 842,
    "start_time": "2025-01-23T18:33:11.158Z"
   },
   {
    "duration": 4739,
    "start_time": "2025-01-23T18:33:49.440Z"
   },
   {
    "duration": 19165,
    "start_time": "2025-01-23T18:34:06.237Z"
   },
   {
    "duration": 21,
    "start_time": "2025-01-23T18:41:27.305Z"
   },
   {
    "duration": 12,
    "start_time": "2025-01-23T18:41:32.336Z"
   },
   {
    "duration": 18,
    "start_time": "2025-01-23T18:43:16.782Z"
   },
   {
    "duration": 12,
    "start_time": "2025-01-23T18:43:21.047Z"
   },
   {
    "duration": 15,
    "start_time": "2025-01-23T18:54:33.365Z"
   },
   {
    "duration": 814,
    "start_time": "2025-01-23T18:54:56.355Z"
   },
   {
    "duration": 19,
    "start_time": "2025-01-23T18:54:57.171Z"
   },
   {
    "duration": 4,
    "start_time": "2025-01-23T18:54:57.192Z"
   },
   {
    "duration": 16,
    "start_time": "2025-01-23T18:54:57.198Z"
   },
   {
    "duration": 188,
    "start_time": "2025-01-23T18:54:57.217Z"
   },
   {
    "duration": 19276,
    "start_time": "2025-01-23T18:54:57.408Z"
   },
   {
    "duration": 10,
    "start_time": "2025-01-23T18:55:16.686Z"
   },
   {
    "duration": 3,
    "start_time": "2025-01-23T19:20:28.269Z"
   },
   {
    "duration": 738,
    "start_time": "2025-01-23T19:20:32.489Z"
   },
   {
    "duration": 14,
    "start_time": "2025-01-23T19:20:33.229Z"
   },
   {
    "duration": 3,
    "start_time": "2025-01-23T19:20:33.245Z"
   },
   {
    "duration": 4,
    "start_time": "2025-01-23T19:20:33.249Z"
   },
   {
    "duration": 188,
    "start_time": "2025-01-23T19:20:33.255Z"
   },
   {
    "duration": 19458,
    "start_time": "2025-01-23T19:20:33.445Z"
   },
   {
    "duration": 12,
    "start_time": "2025-01-23T19:20:52.904Z"
   },
   {
    "duration": 221,
    "start_time": "2025-01-23T19:20:52.919Z"
   },
   {
    "duration": 5,
    "start_time": "2025-01-23T19:27:04.529Z"
   },
   {
    "duration": 14,
    "start_time": "2025-01-23T19:27:08.898Z"
   },
   {
    "duration": 14,
    "start_time": "2025-01-23T19:27:37.955Z"
   },
   {
    "duration": 14,
    "start_time": "2025-01-23T19:30:26.191Z"
   },
   {
    "duration": 312,
    "start_time": "2025-01-23T19:34:04.221Z"
   },
   {
    "duration": 870,
    "start_time": "2025-01-23T20:15:04.701Z"
   },
   {
    "duration": 69,
    "start_time": "2025-01-23T20:15:13.093Z"
   },
   {
    "duration": 841,
    "start_time": "2025-01-23T20:15:56.035Z"
   },
   {
    "duration": 18,
    "start_time": "2025-01-23T20:15:56.880Z"
   },
   {
    "duration": 3,
    "start_time": "2025-01-23T20:15:56.900Z"
   },
   {
    "duration": 5,
    "start_time": "2025-01-23T20:15:56.909Z"
   },
   {
    "duration": 186,
    "start_time": "2025-01-23T20:15:56.916Z"
   },
   {
    "duration": 19509,
    "start_time": "2025-01-23T20:15:57.104Z"
   },
   {
    "duration": 11,
    "start_time": "2025-01-23T20:16:16.615Z"
   },
   {
    "duration": 14,
    "start_time": "2025-01-23T20:16:16.628Z"
   },
   {
    "duration": 345,
    "start_time": "2025-01-23T20:16:16.644Z"
   },
   {
    "duration": 843,
    "start_time": "2025-01-24T03:58:07.662Z"
   },
   {
    "duration": 22,
    "start_time": "2025-01-24T03:58:08.508Z"
   },
   {
    "duration": 3,
    "start_time": "2025-01-24T03:58:08.532Z"
   },
   {
    "duration": 5,
    "start_time": "2025-01-24T03:58:08.537Z"
   },
   {
    "duration": 184,
    "start_time": "2025-01-24T03:58:08.544Z"
   },
   {
    "duration": 20754,
    "start_time": "2025-01-24T03:58:08.730Z"
   },
   {
    "duration": 19,
    "start_time": "2025-01-24T03:58:29.486Z"
   },
   {
    "duration": 14,
    "start_time": "2025-01-24T03:58:29.507Z"
   },
   {
    "duration": 342,
    "start_time": "2025-01-24T03:58:29.522Z"
   }
  ],
  "kernelspec": {
   "display_name": "base",
   "language": "python",
   "name": "python3"
  },
  "language_info": {
   "codemirror_mode": {
    "name": "ipython",
    "version": 3
   },
   "file_extension": ".py",
   "mimetype": "text/x-python",
   "name": "python",
   "nbconvert_exporter": "python",
   "pygments_lexer": "ipython3",
   "version": "3.12.4"
  },
  "toc": {
   "base_numbering": 1,
   "nav_menu": {},
   "number_sections": true,
   "sideBar": true,
   "skip_h1_title": true,
   "title_cell": "Table of Contents",
   "title_sidebar": "Contents",
   "toc_cell": false,
   "toc_position": {},
   "toc_section_display": true,
   "toc_window_display": false
  }
 },
 "nbformat": 4,
 "nbformat_minor": 2
}
