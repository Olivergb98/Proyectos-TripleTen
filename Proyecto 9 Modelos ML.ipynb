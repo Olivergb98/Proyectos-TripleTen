{
 "cells": [
  {
   "cell_type": "markdown",
   "metadata": {},
   "source": [
    "# Proyecto 9: Modelos de Machine Learning para telefonía celular."
   ]
  },
  {
   "cell_type": "markdown",
   "metadata": {},
   "source": [
    "# Introducción"
   ]
  },
  {
   "cell_type": "markdown",
   "metadata": {},
   "source": [
    "La compañía móvil Megaline no está satisfecha al ver que muchos de sus clientes utilizan planes heredados. Quieren desarrollar un modelo que pueda analizar el comportamiento de los clientes y recomendar uno de los nuevos planes de Megaline: Smart o Ultra."
   ]
  },
  {
   "cell_type": "markdown",
   "metadata": {},
   "source": [
    "# Objetivo"
   ]
  },
  {
   "cell_type": "markdown",
   "metadata": {},
   "source": [
    "Utilizar los diferentes modelos de clasificación para determinar cuál es el que debemos usar en este caso, consideranto tanto precisión como tiempo de ejecución."
   ]
  },
  {
   "cell_type": "markdown",
   "metadata": {},
   "source": [
    "# Carga del dataset e importación de librerías"
   ]
  },
  {
   "cell_type": "code",
   "execution_count": 1,
   "metadata": {},
   "outputs": [],
   "source": [
    "import pandas as pd\n",
    "#importar modelos\n",
    "from sklearn.tree import DecisionTreeClassifier\n",
    "from sklearn.ensemble import RandomForestClassifier\n",
    "from sklearn.linear_model import LogisticRegression\n",
    "from sklearn.model_selection import train_test_split\n",
    "#importar métricas\n",
    "from sklearn.metrics import accuracy_score, f1_score\n",
    "import time"
   ]
  },
  {
   "cell_type": "code",
   "execution_count": 2,
   "metadata": {},
   "outputs": [
    {
     "name": "stdout",
     "output_type": "stream",
     "text": [
      "<class 'pandas.core.frame.DataFrame'>\n",
      "RangeIndex: 3214 entries, 0 to 3213\n",
      "Data columns (total 5 columns):\n",
      " #   Column    Non-Null Count  Dtype  \n",
      "---  ------    --------------  -----  \n",
      " 0   calls     3214 non-null   float64\n",
      " 1   minutes   3214 non-null   float64\n",
      " 2   messages  3214 non-null   float64\n",
      " 3   mb_used   3214 non-null   float64\n",
      " 4   is_ultra  3214 non-null   int64  \n",
      "dtypes: float64(4), int64(1)\n",
      "memory usage: 125.7 KB\n"
     ]
    }
   ],
   "source": [
    "df= pd.read_csv('C:/Users/Oliver/Tripleten/users_behavior.csv')\n",
    "df.info()"
   ]
  },
  {
   "cell_type": "markdown",
   "metadata": {},
   "source": [
    "Primero vamos a establecer cuáles van a ser las características y la variable objetivo, y después separar los datos para entrenamiento y validación de los modelos."
   ]
  },
  {
   "cell_type": "code",
   "execution_count": 3,
   "metadata": {},
   "outputs": [],
   "source": [
    "features = df.drop(['is_ultra'], axis=1)\n",
    "target = df['is_ultra']"
   ]
  },
  {
   "cell_type": "code",
   "execution_count": 4,
   "metadata": {},
   "outputs": [],
   "source": [
    "features_train, features_valid, target_train, target_valid = train_test_split(features, target, test_size=0.25, random_state=12345)"
   ]
  },
  {
   "cell_type": "markdown",
   "metadata": {},
   "source": [
    "Con los parámetros necesarios, podemos empezar la prueba de modelos."
   ]
  },
  {
   "cell_type": "markdown",
   "metadata": {},
   "source": [
    "# Árbol de decisión"
   ]
  },
  {
   "cell_type": "markdown",
   "metadata": {},
   "source": [
    "Vamos a determinar qué profundidad nos da la mejor precisión en este modelo."
   ]
  },
  {
   "cell_type": "code",
   "execution_count": 5,
   "metadata": {},
   "outputs": [
    {
     "name": "stdout",
     "output_type": "stream",
     "text": [
      "Mejor profundidad = 7 con exactitud de 0.7898009950248757\n"
     ]
    }
   ],
   "source": [
    "#creamos un loop que devuelva el mejor resultado\n",
    "best_tree_depth = 0\n",
    "best_accuracy = 0\n",
    "for depth in range(1,21): \n",
    "    model_tree = DecisionTreeClassifier(random_state=12345, max_depth=depth)\n",
    "    model_tree.fit(features_train, target_train)\n",
    "    tree_test = model_tree.predict(features_valid)\n",
    "    tree_score = accuracy_score(tree_test, target_valid)\n",
    "    if tree_score > best_accuracy:\n",
    "        best_tree_depth = depth\n",
    "        best_accuracy= tree_score\n",
    "print('Mejor profundidad =', best_tree_depth, 'con exactitud de', best_accuracy)"
   ]
  },
  {
   "cell_type": "markdown",
   "metadata": {},
   "source": [
    "Dentro de los modelos de árboles de decisión, una profundidad de 7 nos da el mejor resultado, aunque la exactitud parece ser bastante baja, hay que generar los demás modelos para ver cuál brinda los mejores resultados."
   ]
  },
  {
   "cell_type": "markdown",
   "metadata": {},
   "source": [
    "# Random Forest"
   ]
  },
  {
   "cell_type": "markdown",
   "metadata": {},
   "source": [
    "Ahora veremos cuál es la mejor exactitud que podemos obtener con un modelo de random forest, de la mano con el número de estimadores óptimo para maximizar la exactitud."
   ]
  },
  {
   "cell_type": "code",
   "execution_count": 6,
   "metadata": {},
   "outputs": [
    {
     "name": "stdout",
     "output_type": "stream",
     "text": [
      "El mejor modelo de Random Forest es con 19 estimadores, una profundidad máxima de 9 y da una exactitud de 0.8146766169154229\n"
     ]
    }
   ],
   "source": [
    "best_rf_score = 0\n",
    "best_est= 0\n",
    "best_depth= 0\n",
    "for est in range(1,51):\n",
    "    for depth in range(1,21):\n",
    "        model_rf = RandomForestClassifier(random_state= 12345, n_estimators=est, max_depth=depth)\n",
    "        model_rf.fit(features_train, target_train)\n",
    "        score= model_rf.score(features_valid, target_valid)\n",
    "        if score > best_rf_score:\n",
    "            best_rf_score = score\n",
    "            best_est= est\n",
    "            best_depth = depth\n",
    "\n",
    "print('El mejor modelo de Random Forest es con', best_est, 'estimadores, una profundidad máxima de', best_depth, 'y da una exactitud de', best_rf_score)"
   ]
  },
  {
   "cell_type": "code",
   "execution_count": 7,
   "metadata": {},
   "outputs": [
    {
     "name": "stdout",
     "output_type": "stream",
     "text": [
      "El mejor modelo de Random Forest es con 19 estimadores, una profundidad máxima de 9 y tiene un valor f1 de 0.6227848101265823\n"
     ]
    }
   ],
   "source": [
    "#Variante para f1_score\n",
    "best_rf_score = 0\n",
    "best_est = 0\n",
    "best_depth = 0\n",
    "for est in range(1, 20):\n",
    "    for depth in range(1, 21):\n",
    "        model_rf = RandomForestClassifier(\n",
    "            random_state=12345, n_estimators=est, max_depth=depth)\n",
    "        model_rf.fit(features_train, target_train)\n",
    "        predict_valid = model_rf.predict(features_valid)\n",
    "        score = f1_score(target_valid, predict_valid)\n",
    "        if score > best_rf_score:\n",
    "            best_rf_score = score\n",
    "            best_est = est\n",
    "            best_depth = depth\n",
    "    \n",
    "print('El mejor modelo de Random Forest es con', best_est, 'estimadores, una profundidad máxima de', best_depth, 'y tiene un valor f1 de', best_rf_score)"
   ]
  },
  {
   "cell_type": "markdown",
   "metadata": {},
   "source": [
    "Notamos que obtenemos una puntuación ligeramente mejor con este modelo, aunque para obtenerla necesitamos aplicar un gran número de estimadores, lo que puede significar un gran tiempo de ejecución si se traduce a un dataset más grande. Sin embargo, con este conjunto pequeño el tiempo podría no ser considerable."
   ]
  },
  {
   "cell_type": "markdown",
   "metadata": {},
   "source": [
    "# Regresión logística"
   ]
  },
  {
   "cell_type": "markdown",
   "metadata": {},
   "source": [
    "Por último, haremos una prueba de regresión logística para determinar si este modelo es más preciso que los otros dos."
   ]
  },
  {
   "cell_type": "code",
   "execution_count": 8,
   "metadata": {},
   "outputs": [
    {
     "name": "stdout",
     "output_type": "stream",
     "text": [
      "Precisión del modelo de regresión logística: 0.7027363184079602\n"
     ]
    }
   ],
   "source": [
    "model_log= LogisticRegression(random_state=12345, solver='liblinear')\n",
    "model_log.fit(features_train, target_train)\n",
    "score_log= model_log.score(features_valid, target_valid)\n",
    "print('Precisión del modelo de regresión logística:', score_log)"
   ]
  },
  {
   "cell_type": "markdown",
   "metadata": {},
   "source": [
    "Este modelo ha tenido la menor precisión de los 3, así que lo descartaremos como opción."
   ]
  },
  {
   "cell_type": "markdown",
   "metadata": {},
   "source": [
    "# Tiempo de ejecución"
   ]
  },
  {
   "cell_type": "markdown",
   "metadata": {},
   "source": [
    "El árbol de decisión y random forest tuvieron resultados similares, ahora hay que comprobar el tiempo de ejecución para determinar si es recomendable usar random forest o si por ese pequeño porcentaje extra, no lo vale. Para el árbol de decisión usaremos la profundidad máxima de 7 y para random forest usaremos 60 estimadores.\n",
    "Nos basaremos en el tiempo que tarda cada uno en \"predecir\" los resultados de todo el dataset."
   ]
  },
  {
   "cell_type": "code",
   "execution_count": 9,
   "metadata": {},
   "outputs": [
    {
     "name": "stdout",
     "output_type": "stream",
     "text": [
      "Tiempo de ejecución: 0.006507158279418945\n"
     ]
    }
   ],
   "source": [
    "#usaremos el módulo time para medir el tiempo de ejecución\n",
    "#primero mediremos el tiempo que toma en predecir el árbol de decisión\n",
    "start_tree = time.time()\n",
    "\n",
    "tree= DecisionTreeClassifier(random_state=12345, max_depth=7)\n",
    "tree.fit(features, target)\n",
    "tree_predictions= tree.predict(features)\n",
    "\n",
    "end_tree = time.time()\n",
    "print('Tiempo de ejecución:', end_tree - start_tree)"
   ]
  },
  {
   "cell_type": "code",
   "execution_count": 10,
   "metadata": {},
   "outputs": [
    {
     "name": "stdout",
     "output_type": "stream",
     "text": [
      "Tiempo de ejecución: 0.23861265182495117\n"
     ]
    }
   ],
   "source": [
    "#ahora haremos la misma prueba con el modelo de random forest \n",
    "start_rf = time.time()\n",
    "\n",
    "forest = RandomForestClassifier(random_state=12345, n_estimators = 60)\n",
    "forest.fit(features, target)\n",
    "rf_predictions = forest.predict(features)\n",
    "\n",
    "end_rf = time.time()\n",
    "print('Tiempo de ejecución:', end_rf - start_rf)"
   ]
  },
  {
   "cell_type": "code",
   "execution_count": 11,
   "metadata": {},
   "outputs": [
    {
     "name": "stdout",
     "output_type": "stream",
     "text": [
      "CPU times: total: 234 ms\n",
      "Wall time: 235 ms\n"
     ]
    }
   ],
   "source": [
    "%%time\n",
    "\n",
    "forest = RandomForestClassifier(random_state=12345, n_estimators = 60)\n",
    "forest.fit(features, target)\n",
    "rf_predictions = forest.predict(features)\n"
   ]
  },
  {
   "cell_type": "code",
   "execution_count": 12,
   "metadata": {},
   "outputs": [
    {
     "name": "stdout",
     "output_type": "stream",
     "text": [
      "CPU times: total: 0 ns\n",
      "Wall time: 6.07 ms\n"
     ]
    }
   ],
   "source": [
    "%%time\n",
    "tree = DecisionTreeClassifier(random_state=12345, max_depth=7)\n",
    "tree.fit(features, target)\n",
    "tree_predictions = tree.predict(features)"
   ]
  },
  {
   "cell_type": "markdown",
   "metadata": {},
   "source": [
    "Como era de esperarse, el tiempo de ejecución es bastante elevado, y con menor cantidad de estimadores la diferencia en precisión del modelo es aún menor y sigue tardando considerablemente más, así que concluimos que el mejor modelo a utilizar será el árbol de decisión."
   ]
  },
  {
   "cell_type": "markdown",
   "metadata": {},
   "source": [
    "# Conclusión "
   ]
  },
  {
   "cell_type": "markdown",
   "metadata": {},
   "source": [
    "Después de evaluar los 3 diferentes modelos, concluimos que el óptimo para este problema es un árbol de decisión, ya que el random forest tiene una precisión bastante similar pero tarda mucho más en realizar las predicciones, y aunque en este caso el tiempo sigue siendo muy poco, al trasladarlo a una base de datos mayor el tiempo se dispararía y con muy poco beneficio en precisión."
   ]
  }
 ],
 "metadata": {
  "ExecuteTimeLog": [
   {
    "duration": 315,
    "start_time": "2025-01-22T16:49:34.870Z"
   },
   {
    "duration": 16,
    "start_time": "2025-01-22T16:50:00.328Z"
   },
   {
    "duration": 502,
    "start_time": "2025-01-22T16:51:48.693Z"
   },
   {
    "duration": 897,
    "start_time": "2025-01-22T18:41:36.910Z"
   },
   {
    "duration": 217,
    "start_time": "2025-01-22T18:51:24.476Z"
   },
   {
    "duration": 788,
    "start_time": "2025-01-22T18:52:03.690Z"
   },
   {
    "duration": 21,
    "start_time": "2025-01-22T18:52:04.480Z"
   },
   {
    "duration": 3,
    "start_time": "2025-01-22T18:52:04.503Z"
   },
   {
    "duration": 6,
    "start_time": "2025-01-22T18:52:04.508Z"
   },
   {
    "duration": 794,
    "start_time": "2025-01-22T20:11:11.899Z"
   },
   {
    "duration": 18,
    "start_time": "2025-01-22T20:11:12.695Z"
   },
   {
    "duration": 3,
    "start_time": "2025-01-22T20:11:12.715Z"
   },
   {
    "duration": 4,
    "start_time": "2025-01-22T20:11:12.722Z"
   },
   {
    "duration": 2,
    "start_time": "2025-01-22T20:34:22.279Z"
   },
   {
    "duration": 3,
    "start_time": "2025-01-22T20:34:25.428Z"
   },
   {
    "duration": 9,
    "start_time": "2025-01-23T17:32:17.566Z"
   },
   {
    "duration": 816,
    "start_time": "2025-01-23T17:32:29.124Z"
   },
   {
    "duration": 19,
    "start_time": "2025-01-23T17:32:29.943Z"
   },
   {
    "duration": 4,
    "start_time": "2025-01-23T17:32:29.964Z"
   },
   {
    "duration": 4,
    "start_time": "2025-01-23T17:32:29.969Z"
   },
   {
    "duration": 244,
    "start_time": "2025-01-23T17:32:29.976Z"
   },
   {
    "duration": 787,
    "start_time": "2025-01-23T17:34:53.435Z"
   },
   {
    "duration": 13,
    "start_time": "2025-01-23T17:34:54.224Z"
   },
   {
    "duration": 3,
    "start_time": "2025-01-23T17:34:54.239Z"
   },
   {
    "duration": 4,
    "start_time": "2025-01-23T17:34:54.244Z"
   },
   {
    "duration": 183,
    "start_time": "2025-01-23T17:34:54.250Z"
   },
   {
    "duration": 11550,
    "start_time": "2025-01-23T17:41:39.534Z"
   },
   {
    "duration": 165,
    "start_time": "2025-01-23T17:42:32.052Z"
   },
   {
    "duration": 886,
    "start_time": "2025-01-23T18:08:17.282Z"
   },
   {
    "duration": 4850,
    "start_time": "2025-01-23T18:10:15.788Z"
   },
   {
    "duration": 19174,
    "start_time": "2025-01-23T18:10:33.443Z"
   },
   {
    "duration": 268,
    "start_time": "2025-01-23T18:28:47.102Z"
   },
   {
    "duration": 19092,
    "start_time": "2025-01-23T18:29:01.701Z"
   },
   {
    "duration": 214,
    "start_time": "2025-01-23T18:29:43.745Z"
   },
   {
    "duration": 3,
    "start_time": "2025-01-23T18:29:49.185Z"
   },
   {
    "duration": 3,
    "start_time": "2025-01-23T18:32:46.245Z"
   },
   {
    "duration": 236,
    "start_time": "2025-01-23T18:33:01.121Z"
   },
   {
    "duration": 842,
    "start_time": "2025-01-23T18:33:11.158Z"
   },
   {
    "duration": 4739,
    "start_time": "2025-01-23T18:33:49.440Z"
   },
   {
    "duration": 19165,
    "start_time": "2025-01-23T18:34:06.237Z"
   },
   {
    "duration": 21,
    "start_time": "2025-01-23T18:41:27.305Z"
   },
   {
    "duration": 12,
    "start_time": "2025-01-23T18:41:32.336Z"
   },
   {
    "duration": 18,
    "start_time": "2025-01-23T18:43:16.782Z"
   },
   {
    "duration": 12,
    "start_time": "2025-01-23T18:43:21.047Z"
   },
   {
    "duration": 15,
    "start_time": "2025-01-23T18:54:33.365Z"
   },
   {
    "duration": 814,
    "start_time": "2025-01-23T18:54:56.355Z"
   },
   {
    "duration": 19,
    "start_time": "2025-01-23T18:54:57.171Z"
   },
   {
    "duration": 4,
    "start_time": "2025-01-23T18:54:57.192Z"
   },
   {
    "duration": 16,
    "start_time": "2025-01-23T18:54:57.198Z"
   },
   {
    "duration": 188,
    "start_time": "2025-01-23T18:54:57.217Z"
   },
   {
    "duration": 19276,
    "start_time": "2025-01-23T18:54:57.408Z"
   },
   {
    "duration": 10,
    "start_time": "2025-01-23T18:55:16.686Z"
   },
   {
    "duration": 3,
    "start_time": "2025-01-23T19:20:28.269Z"
   },
   {
    "duration": 738,
    "start_time": "2025-01-23T19:20:32.489Z"
   },
   {
    "duration": 14,
    "start_time": "2025-01-23T19:20:33.229Z"
   },
   {
    "duration": 3,
    "start_time": "2025-01-23T19:20:33.245Z"
   },
   {
    "duration": 4,
    "start_time": "2025-01-23T19:20:33.249Z"
   },
   {
    "duration": 188,
    "start_time": "2025-01-23T19:20:33.255Z"
   },
   {
    "duration": 19458,
    "start_time": "2025-01-23T19:20:33.445Z"
   },
   {
    "duration": 12,
    "start_time": "2025-01-23T19:20:52.904Z"
   },
   {
    "duration": 221,
    "start_time": "2025-01-23T19:20:52.919Z"
   },
   {
    "duration": 5,
    "start_time": "2025-01-23T19:27:04.529Z"
   },
   {
    "duration": 14,
    "start_time": "2025-01-23T19:27:08.898Z"
   },
   {
    "duration": 14,
    "start_time": "2025-01-23T19:27:37.955Z"
   },
   {
    "duration": 14,
    "start_time": "2025-01-23T19:30:26.191Z"
   },
   {
    "duration": 312,
    "start_time": "2025-01-23T19:34:04.221Z"
   },
   {
    "duration": 870,
    "start_time": "2025-01-23T20:15:04.701Z"
   },
   {
    "duration": 69,
    "start_time": "2025-01-23T20:15:13.093Z"
   },
   {
    "duration": 841,
    "start_time": "2025-01-23T20:15:56.035Z"
   },
   {
    "duration": 18,
    "start_time": "2025-01-23T20:15:56.880Z"
   },
   {
    "duration": 3,
    "start_time": "2025-01-23T20:15:56.900Z"
   },
   {
    "duration": 5,
    "start_time": "2025-01-23T20:15:56.909Z"
   },
   {
    "duration": 186,
    "start_time": "2025-01-23T20:15:56.916Z"
   },
   {
    "duration": 19509,
    "start_time": "2025-01-23T20:15:57.104Z"
   },
   {
    "duration": 11,
    "start_time": "2025-01-23T20:16:16.615Z"
   },
   {
    "duration": 14,
    "start_time": "2025-01-23T20:16:16.628Z"
   },
   {
    "duration": 345,
    "start_time": "2025-01-23T20:16:16.644Z"
   },
   {
    "duration": 843,
    "start_time": "2025-01-24T03:58:07.662Z"
   },
   {
    "duration": 22,
    "start_time": "2025-01-24T03:58:08.508Z"
   },
   {
    "duration": 3,
    "start_time": "2025-01-24T03:58:08.532Z"
   },
   {
    "duration": 5,
    "start_time": "2025-01-24T03:58:08.537Z"
   },
   {
    "duration": 184,
    "start_time": "2025-01-24T03:58:08.544Z"
   },
   {
    "duration": 20754,
    "start_time": "2025-01-24T03:58:08.730Z"
   },
   {
    "duration": 19,
    "start_time": "2025-01-24T03:58:29.486Z"
   },
   {
    "duration": 14,
    "start_time": "2025-01-24T03:58:29.507Z"
   },
   {
    "duration": 342,
    "start_time": "2025-01-24T03:58:29.522Z"
   }
  ],
  "kernelspec": {
   "display_name": "base",
   "language": "python",
   "name": "python3"
  },
  "language_info": {
   "codemirror_mode": {
    "name": "ipython",
    "version": 3
   },
   "file_extension": ".py",
   "mimetype": "text/x-python",
   "name": "python",
   "nbconvert_exporter": "python",
   "pygments_lexer": "ipython3",
   "version": "3.12.7"
  },
  "toc": {
   "base_numbering": 1,
   "nav_menu": {},
   "number_sections": true,
   "sideBar": true,
   "skip_h1_title": true,
   "title_cell": "Table of Contents",
   "title_sidebar": "Contents",
   "toc_cell": false,
   "toc_position": {},
   "toc_section_display": true,
   "toc_window_display": false
  }
 },
 "nbformat": 4,
 "nbformat_minor": 2
}
