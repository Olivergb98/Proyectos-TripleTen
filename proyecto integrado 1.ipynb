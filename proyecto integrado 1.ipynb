{
 "cells": [
  {
   "cell_type": "markdown",
   "metadata": {
    "tags": [
     "e5c1f0c2-db9f-43a0-99b9-4875c52427e8"
    ]
   },
   "source": [
    "# Proyecto integrado 1: Análisis de ventas de videojuegos"
   ]
  },
  {
   "cell_type": "markdown",
   "metadata": {},
   "source": [
    "## Objetivo"
   ]
  },
  {
   "cell_type": "markdown",
   "metadata": {},
   "source": [
    "Describir el comportamiento de los videojuegos basándonos en parámetros estadísticos para definir qué juegos es más probable que tengan éxito."
   ]
  },
  {
   "cell_type": "markdown",
   "metadata": {},
   "source": [
    "## Preparación de datos"
   ]
  },
  {
   "cell_type": "markdown",
   "metadata": {},
   "source": [
    "Para empezar a trabajar con los datos primero se tienen que hacer algunos ajustes, como asegurarnos que las columnas estén correctamente nombradas y el tipo de datos sea el correcto dependiento de la información de cada columna"
   ]
  },
  {
   "cell_type": "code",
   "execution_count": 1,
   "metadata": {},
   "outputs": [],
   "source": [
    "import pandas as pd"
   ]
  },
  {
   "cell_type": "code",
   "execution_count": 2,
   "metadata": {},
   "outputs": [
    {
     "name": "stdout",
     "output_type": "stream",
     "text": [
      "<class 'pandas.core.frame.DataFrame'>\n",
      "RangeIndex: 16715 entries, 0 to 16714\n",
      "Data columns (total 11 columns):\n",
      " #   Column           Non-Null Count  Dtype  \n",
      "---  ------           --------------  -----  \n",
      " 0   Name             16713 non-null  object \n",
      " 1   Platform         16715 non-null  object \n",
      " 2   Year_of_Release  16446 non-null  float64\n",
      " 3   Genre            16713 non-null  object \n",
      " 4   NA_sales         16715 non-null  float64\n",
      " 5   EU_sales         16715 non-null  float64\n",
      " 6   JP_sales         16715 non-null  float64\n",
      " 7   Other_sales      16715 non-null  float64\n",
      " 8   Critic_Score     8137 non-null   float64\n",
      " 9   User_Score       10014 non-null  object \n",
      " 10  Rating           9949 non-null   object \n",
      "dtypes: float64(6), object(5)\n",
      "memory usage: 1.4+ MB\n"
     ]
    }
   ],
   "source": [
    "df = pd.read_csv('./games.csv')\n",
    "df.info()"
   ]
  },
  {
   "cell_type": "code",
   "execution_count": 3,
   "metadata": {},
   "outputs": [
    {
     "data": {
      "text/html": [
       "<div>\n",
       "<style scoped>\n",
       "    .dataframe tbody tr th:only-of-type {\n",
       "        vertical-align: middle;\n",
       "    }\n",
       "\n",
       "    .dataframe tbody tr th {\n",
       "        vertical-align: top;\n",
       "    }\n",
       "\n",
       "    .dataframe thead th {\n",
       "        text-align: right;\n",
       "    }\n",
       "</style>\n",
       "<table border=\"1\" class=\"dataframe\">\n",
       "  <thead>\n",
       "    <tr style=\"text-align: right;\">\n",
       "      <th></th>\n",
       "      <th>Name</th>\n",
       "      <th>Platform</th>\n",
       "      <th>Year_of_Release</th>\n",
       "      <th>Genre</th>\n",
       "      <th>NA_sales</th>\n",
       "      <th>EU_sales</th>\n",
       "      <th>JP_sales</th>\n",
       "      <th>Other_sales</th>\n",
       "      <th>Critic_Score</th>\n",
       "      <th>User_Score</th>\n",
       "      <th>Rating</th>\n",
       "    </tr>\n",
       "  </thead>\n",
       "  <tbody>\n",
       "    <tr>\n",
       "      <th>2427</th>\n",
       "      <td>Army Men: Air Attack</td>\n",
       "      <td>PS</td>\n",
       "      <td>1999.0</td>\n",
       "      <td>Action</td>\n",
       "      <td>0.47</td>\n",
       "      <td>0.32</td>\n",
       "      <td>0.00</td>\n",
       "      <td>0.06</td>\n",
       "      <td>NaN</td>\n",
       "      <td>NaN</td>\n",
       "      <td>NaN</td>\n",
       "    </tr>\n",
       "    <tr>\n",
       "      <th>9735</th>\n",
       "      <td>Madden NFL 06</td>\n",
       "      <td>DS</td>\n",
       "      <td>2005.0</td>\n",
       "      <td>Sports</td>\n",
       "      <td>0.11</td>\n",
       "      <td>0.00</td>\n",
       "      <td>0.00</td>\n",
       "      <td>0.01</td>\n",
       "      <td>66.0</td>\n",
       "      <td>6.3</td>\n",
       "      <td>E</td>\n",
       "    </tr>\n",
       "    <tr>\n",
       "      <th>8528</th>\n",
       "      <td>Zoo Hospital</td>\n",
       "      <td>Wii</td>\n",
       "      <td>2008.0</td>\n",
       "      <td>Simulation</td>\n",
       "      <td>0.14</td>\n",
       "      <td>0.01</td>\n",
       "      <td>0.00</td>\n",
       "      <td>0.01</td>\n",
       "      <td>61.0</td>\n",
       "      <td>tbd</td>\n",
       "      <td>E</td>\n",
       "    </tr>\n",
       "    <tr>\n",
       "      <th>6851</th>\n",
       "      <td>Final Fantasy Fables: Chocobo Tales</td>\n",
       "      <td>DS</td>\n",
       "      <td>2006.0</td>\n",
       "      <td>Adventure</td>\n",
       "      <td>0.10</td>\n",
       "      <td>0.01</td>\n",
       "      <td>0.12</td>\n",
       "      <td>0.01</td>\n",
       "      <td>75.0</td>\n",
       "      <td>7.4</td>\n",
       "      <td>E</td>\n",
       "    </tr>\n",
       "    <tr>\n",
       "      <th>5164</th>\n",
       "      <td>ESPN X Games Skateboarding</td>\n",
       "      <td>PS2</td>\n",
       "      <td>2001.0</td>\n",
       "      <td>Sports</td>\n",
       "      <td>0.18</td>\n",
       "      <td>0.14</td>\n",
       "      <td>0.00</td>\n",
       "      <td>0.05</td>\n",
       "      <td>58.0</td>\n",
       "      <td>7.8</td>\n",
       "      <td>E</td>\n",
       "    </tr>\n",
       "  </tbody>\n",
       "</table>\n",
       "</div>"
      ],
      "text/plain": [
       "                                     Name Platform  Year_of_Release  \\\n",
       "2427                 Army Men: Air Attack       PS           1999.0   \n",
       "9735                        Madden NFL 06       DS           2005.0   \n",
       "8528                         Zoo Hospital      Wii           2008.0   \n",
       "6851  Final Fantasy Fables: Chocobo Tales       DS           2006.0   \n",
       "5164           ESPN X Games Skateboarding      PS2           2001.0   \n",
       "\n",
       "           Genre  NA_sales  EU_sales  JP_sales  Other_sales  Critic_Score  \\\n",
       "2427      Action      0.47      0.32      0.00         0.06           NaN   \n",
       "9735      Sports      0.11      0.00      0.00         0.01          66.0   \n",
       "8528  Simulation      0.14      0.01      0.00         0.01          61.0   \n",
       "6851   Adventure      0.10      0.01      0.12         0.01          75.0   \n",
       "5164      Sports      0.18      0.14      0.00         0.05          58.0   \n",
       "\n",
       "     User_Score Rating  \n",
       "2427        NaN    NaN  \n",
       "9735        6.3      E  \n",
       "8528        tbd      E  \n",
       "6851        7.4      E  \n",
       "5164        7.8      E  "
      ]
     },
     "execution_count": 3,
     "metadata": {},
     "output_type": "execute_result"
    }
   ],
   "source": [
    "df.sample(5)"
   ]
  },
  {
   "cell_type": "markdown",
   "metadata": {},
   "source": [
    "Primero cambiaremos los nombres de las columnas"
   ]
  },
  {
   "cell_type": "code",
   "execution_count": 4,
   "metadata": {},
   "outputs": [],
   "source": [
    "new_col_names = ['name', 'platform', 'year_of_release', 'genre', 'na_sales', 'eu_sales', 'jp_sales', 'other_sales', 'critics_score', 'user_score', 'rating']\n",
    "df.columns = new_col_names"
   ]
  },
  {
   "cell_type": "code",
   "execution_count": 5,
   "metadata": {},
   "outputs": [
    {
     "name": "stdout",
     "output_type": "stream",
     "text": [
      "      name platform  year_of_release genre  na_sales  eu_sales  jp_sales  \\\n",
      "659    NaN      GEN           1993.0   NaN      1.78      0.53      0.00   \n",
      "14244  NaN      GEN           1993.0   NaN      0.00      0.00      0.03   \n",
      "\n",
      "       other_sales  critics_score user_score rating  \n",
      "659           0.08            NaN        NaN    NaN  \n",
      "14244         0.00            NaN        NaN    NaN  \n"
     ]
    }
   ],
   "source": [
    "print(df[df['name'].isna()])"
   ]
  },
  {
   "cell_type": "markdown",
   "metadata": {},
   "source": [
    "Después hay que ver cómo trataremos los valores ausentes. Primero, borraré las dos filas donde no hay nombre del juego ya que son muy pocas y tampoco incluyen género."
   ]
  },
  {
   "cell_type": "code",
   "execution_count": 6,
   "metadata": {},
   "outputs": [
    {
     "data": {
      "text/html": [
       "<div>\n",
       "<style scoped>\n",
       "    .dataframe tbody tr th:only-of-type {\n",
       "        vertical-align: middle;\n",
       "    }\n",
       "\n",
       "    .dataframe tbody tr th {\n",
       "        vertical-align: top;\n",
       "    }\n",
       "\n",
       "    .dataframe thead th {\n",
       "        text-align: right;\n",
       "    }\n",
       "</style>\n",
       "<table border=\"1\" class=\"dataframe\">\n",
       "  <thead>\n",
       "    <tr style=\"text-align: right;\">\n",
       "      <th></th>\n",
       "      <th>name</th>\n",
       "      <th>platform</th>\n",
       "      <th>year_of_release</th>\n",
       "      <th>genre</th>\n",
       "      <th>na_sales</th>\n",
       "      <th>eu_sales</th>\n",
       "      <th>jp_sales</th>\n",
       "      <th>other_sales</th>\n",
       "      <th>critics_score</th>\n",
       "      <th>user_score</th>\n",
       "      <th>rating</th>\n",
       "    </tr>\n",
       "  </thead>\n",
       "  <tbody>\n",
       "    <tr>\n",
       "      <th>6393</th>\n",
       "      <td>Reader Rabbit Kindergarten</td>\n",
       "      <td>DS</td>\n",
       "      <td>2008.0</td>\n",
       "      <td>Misc</td>\n",
       "      <td>0.25</td>\n",
       "      <td>0.00</td>\n",
       "      <td>0.00</td>\n",
       "      <td>0.02</td>\n",
       "      <td>NaN</td>\n",
       "      <td>tbd</td>\n",
       "      <td>E</td>\n",
       "    </tr>\n",
       "    <tr>\n",
       "      <th>14441</th>\n",
       "      <td>Toaru Majutsu no Kagaku no Ensemble</td>\n",
       "      <td>PSP</td>\n",
       "      <td>2013.0</td>\n",
       "      <td>Adventure</td>\n",
       "      <td>0.00</td>\n",
       "      <td>0.00</td>\n",
       "      <td>0.03</td>\n",
       "      <td>0.00</td>\n",
       "      <td>NaN</td>\n",
       "      <td>NaN</td>\n",
       "      <td>NaN</td>\n",
       "    </tr>\n",
       "    <tr>\n",
       "      <th>6541</th>\n",
       "      <td>Drakan: The Ancients' Gates</td>\n",
       "      <td>PS2</td>\n",
       "      <td>2002.0</td>\n",
       "      <td>Adventure</td>\n",
       "      <td>0.13</td>\n",
       "      <td>0.10</td>\n",
       "      <td>0.00</td>\n",
       "      <td>0.03</td>\n",
       "      <td>78.0</td>\n",
       "      <td>9</td>\n",
       "      <td>M</td>\n",
       "    </tr>\n",
       "    <tr>\n",
       "      <th>15451</th>\n",
       "      <td>Chicago Enforcer</td>\n",
       "      <td>XB</td>\n",
       "      <td>2005.0</td>\n",
       "      <td>Shooter</td>\n",
       "      <td>0.02</td>\n",
       "      <td>0.00</td>\n",
       "      <td>0.00</td>\n",
       "      <td>0.00</td>\n",
       "      <td>33.0</td>\n",
       "      <td>2.8</td>\n",
       "      <td>M</td>\n",
       "    </tr>\n",
       "    <tr>\n",
       "      <th>2483</th>\n",
       "      <td>FIFA Soccer World Championship</td>\n",
       "      <td>PS2</td>\n",
       "      <td>2000.0</td>\n",
       "      <td>Sports</td>\n",
       "      <td>0.27</td>\n",
       "      <td>0.21</td>\n",
       "      <td>0.28</td>\n",
       "      <td>0.07</td>\n",
       "      <td>NaN</td>\n",
       "      <td>NaN</td>\n",
       "      <td>NaN</td>\n",
       "    </tr>\n",
       "    <tr>\n",
       "      <th>7573</th>\n",
       "      <td>Dead to Rights II</td>\n",
       "      <td>PS2</td>\n",
       "      <td>2005.0</td>\n",
       "      <td>Shooter</td>\n",
       "      <td>0.10</td>\n",
       "      <td>0.08</td>\n",
       "      <td>0.00</td>\n",
       "      <td>0.03</td>\n",
       "      <td>51.0</td>\n",
       "      <td>5.3</td>\n",
       "      <td>M</td>\n",
       "    </tr>\n",
       "    <tr>\n",
       "      <th>11315</th>\n",
       "      <td>Marvel Nemesis: Rise of the Imperfects</td>\n",
       "      <td>DS</td>\n",
       "      <td>2005.0</td>\n",
       "      <td>Fighting</td>\n",
       "      <td>0.08</td>\n",
       "      <td>0.00</td>\n",
       "      <td>0.00</td>\n",
       "      <td>0.01</td>\n",
       "      <td>34.0</td>\n",
       "      <td>6.5</td>\n",
       "      <td>E10+</td>\n",
       "    </tr>\n",
       "    <tr>\n",
       "      <th>2059</th>\n",
       "      <td>NERF N-Strike Elite</td>\n",
       "      <td>Wii</td>\n",
       "      <td>2009.0</td>\n",
       "      <td>Shooter</td>\n",
       "      <td>0.93</td>\n",
       "      <td>0.00</td>\n",
       "      <td>0.00</td>\n",
       "      <td>0.07</td>\n",
       "      <td>67.0</td>\n",
       "      <td>4.5</td>\n",
       "      <td>E10+</td>\n",
       "    </tr>\n",
       "    <tr>\n",
       "      <th>7496</th>\n",
       "      <td>Barbie: Groom and Glam Pups</td>\n",
       "      <td>Wii</td>\n",
       "      <td>2010.0</td>\n",
       "      <td>Action</td>\n",
       "      <td>0.18</td>\n",
       "      <td>0.02</td>\n",
       "      <td>0.00</td>\n",
       "      <td>0.01</td>\n",
       "      <td>NaN</td>\n",
       "      <td>tbd</td>\n",
       "      <td>E</td>\n",
       "    </tr>\n",
       "    <tr>\n",
       "      <th>10644</th>\n",
       "      <td>Disney's The Jungle Book</td>\n",
       "      <td>GBA</td>\n",
       "      <td>2002.0</td>\n",
       "      <td>Platform</td>\n",
       "      <td>0.07</td>\n",
       "      <td>0.03</td>\n",
       "      <td>0.00</td>\n",
       "      <td>0.00</td>\n",
       "      <td>60.0</td>\n",
       "      <td>tbd</td>\n",
       "      <td>E</td>\n",
       "    </tr>\n",
       "  </tbody>\n",
       "</table>\n",
       "</div>"
      ],
      "text/plain": [
       "                                         name platform  year_of_release  \\\n",
       "6393               Reader Rabbit Kindergarten       DS           2008.0   \n",
       "14441     Toaru Majutsu no Kagaku no Ensemble      PSP           2013.0   \n",
       "6541              Drakan: The Ancients' Gates      PS2           2002.0   \n",
       "15451                        Chicago Enforcer       XB           2005.0   \n",
       "2483           FIFA Soccer World Championship      PS2           2000.0   \n",
       "7573                        Dead to Rights II      PS2           2005.0   \n",
       "11315  Marvel Nemesis: Rise of the Imperfects       DS           2005.0   \n",
       "2059                      NERF N-Strike Elite      Wii           2009.0   \n",
       "7496              Barbie: Groom and Glam Pups      Wii           2010.0   \n",
       "10644                Disney's The Jungle Book      GBA           2002.0   \n",
       "\n",
       "           genre  na_sales  eu_sales  jp_sales  other_sales  critics_score  \\\n",
       "6393        Misc      0.25      0.00      0.00         0.02            NaN   \n",
       "14441  Adventure      0.00      0.00      0.03         0.00            NaN   \n",
       "6541   Adventure      0.13      0.10      0.00         0.03           78.0   \n",
       "15451    Shooter      0.02      0.00      0.00         0.00           33.0   \n",
       "2483      Sports      0.27      0.21      0.28         0.07            NaN   \n",
       "7573     Shooter      0.10      0.08      0.00         0.03           51.0   \n",
       "11315   Fighting      0.08      0.00      0.00         0.01           34.0   \n",
       "2059     Shooter      0.93      0.00      0.00         0.07           67.0   \n",
       "7496      Action      0.18      0.02      0.00         0.01            NaN   \n",
       "10644   Platform      0.07      0.03      0.00         0.00           60.0   \n",
       "\n",
       "      user_score rating  \n",
       "6393         tbd      E  \n",
       "14441        NaN    NaN  \n",
       "6541           9      M  \n",
       "15451        2.8      M  \n",
       "2483         NaN    NaN  \n",
       "7573         5.3      M  \n",
       "11315        6.5   E10+  \n",
       "2059         4.5   E10+  \n",
       "7496         tbd      E  \n",
       "10644        tbd      E  "
      ]
     },
     "execution_count": 6,
     "metadata": {},
     "output_type": "execute_result"
    }
   ],
   "source": [
    "df = df.dropna(subset=['name'])\n",
    "df.sample(10)"
   ]
  },
  {
   "cell_type": "markdown",
   "metadata": {},
   "source": [
    "Hay valores ausentes en el año de estreno y en los scores, en user_score hay tbd, que considero valor ausente, hay que comprobar si tambén está presente en critics_score."
   ]
  },
  {
   "cell_type": "code",
   "execution_count": 7,
   "metadata": {},
   "outputs": [
    {
     "name": "stdout",
     "output_type": "stream",
     "text": [
      "Empty DataFrame\n",
      "Columns: [name, platform, year_of_release, genre, na_sales, eu_sales, jp_sales, other_sales, critics_score, user_score, rating]\n",
      "Index: []\n"
     ]
    }
   ],
   "source": [
    "print(df[df['critics_score'] == 'tbd'])"
   ]
  },
  {
   "cell_type": "markdown",
   "metadata": {},
   "source": []
  }
 ],
 "metadata": {
  "ExecuteTimeLog": [
   {
    "duration": 327,
    "start_time": "2024-11-18T18:02:18.081Z"
   },
   {
    "duration": 5,
    "start_time": "2024-11-18T18:02:39.304Z"
   },
   {
    "duration": 13,
    "start_time": "2024-11-18T18:04:34.646Z"
   },
   {
    "duration": 59,
    "start_time": "2024-11-18T18:04:42.301Z"
   },
   {
    "duration": 25,
    "start_time": "2024-11-18T18:21:51.895Z"
   },
   {
    "duration": 29,
    "start_time": "2024-11-18T18:24:36.203Z"
   },
   {
    "duration": 35,
    "start_time": "2024-11-18T18:24:55.637Z"
   },
   {
    "duration": 162,
    "start_time": "2024-11-18T18:27:35.080Z"
   },
   {
    "duration": 5,
    "start_time": "2024-11-18T18:27:58.209Z"
   },
   {
    "duration": 13,
    "start_time": "2024-11-18T18:28:12.545Z"
   },
   {
    "duration": 18,
    "start_time": "2024-11-18T18:29:19.667Z"
   },
   {
    "duration": 3,
    "start_time": "2024-11-18T18:29:53.620Z"
   },
   {
    "duration": 5,
    "start_time": "2024-11-18T18:35:28.437Z"
   },
   {
    "duration": 221,
    "start_time": "2024-11-18T18:36:45.946Z"
   },
   {
    "duration": 3,
    "start_time": "2024-11-18T18:36:59.552Z"
   },
   {
    "duration": 3,
    "start_time": "2024-11-18T18:38:40.302Z"
   },
   {
    "duration": 14,
    "start_time": "2024-11-18T18:38:46.217Z"
   },
   {
    "duration": 4,
    "start_time": "2024-11-18T18:40:17.956Z"
   },
   {
    "duration": 5,
    "start_time": "2024-11-18T18:52:50.412Z"
   },
   {
    "duration": 40,
    "start_time": "2024-11-18T18:53:01.511Z"
   },
   {
    "duration": 353,
    "start_time": "2024-11-18T18:53:09.245Z"
   },
   {
    "duration": 48,
    "start_time": "2024-11-18T18:53:09.600Z"
   },
   {
    "duration": 9,
    "start_time": "2024-11-18T18:53:09.650Z"
   },
   {
    "duration": 666,
    "start_time": "2024-11-18T18:53:09.661Z"
   },
   {
    "duration": 9,
    "start_time": "2024-11-18T18:53:59.598Z"
   },
   {
    "duration": 3,
    "start_time": "2024-11-18T18:54:15.120Z"
   },
   {
    "duration": 14,
    "start_time": "2024-11-18T18:54:42.197Z"
   },
   {
    "duration": 13,
    "start_time": "2024-11-18T18:56:11.198Z"
   },
   {
    "duration": 278,
    "start_time": "2024-11-18T18:56:24.508Z"
   },
   {
    "duration": 42,
    "start_time": "2024-11-18T18:56:24.789Z"
   },
   {
    "duration": 3,
    "start_time": "2024-11-18T18:56:24.833Z"
   },
   {
    "duration": 14,
    "start_time": "2024-11-18T18:56:24.838Z"
   },
   {
    "duration": 19,
    "start_time": "2024-11-18T18:57:50.682Z"
   },
   {
    "duration": 37,
    "start_time": "2024-11-18T18:58:14.170Z"
   },
   {
    "duration": 34,
    "start_time": "2024-11-18T18:59:36.130Z"
   },
   {
    "duration": 33,
    "start_time": "2024-11-18T18:59:45.025Z"
   },
   {
    "duration": 37,
    "start_time": "2024-11-18T18:59:56.268Z"
   },
   {
    "duration": 35,
    "start_time": "2024-11-18T19:00:03.691Z"
   },
   {
    "duration": 577,
    "start_time": "2024-11-18T19:02:58.295Z"
   },
   {
    "duration": 38,
    "start_time": "2024-11-18T19:03:17.213Z"
   },
   {
    "duration": 288,
    "start_time": "2024-11-18T19:03:40.494Z"
   },
   {
    "duration": 36,
    "start_time": "2024-11-18T19:03:40.784Z"
   },
   {
    "duration": 9,
    "start_time": "2024-11-18T19:03:40.822Z"
   },
   {
    "duration": 19,
    "start_time": "2024-11-18T19:03:40.833Z"
   },
   {
    "duration": 3,
    "start_time": "2024-11-18T19:03:40.855Z"
   },
   {
    "duration": 4,
    "start_time": "2024-11-18T19:06:18.157Z"
   },
   {
    "duration": 295,
    "start_time": "2024-11-18T19:07:26.709Z"
   },
   {
    "duration": 39,
    "start_time": "2024-11-18T19:07:27.006Z"
   },
   {
    "duration": 3,
    "start_time": "2024-11-18T19:07:27.048Z"
   },
   {
    "duration": 8,
    "start_time": "2024-11-18T19:07:27.053Z"
   },
   {
    "duration": 18,
    "start_time": "2024-11-18T19:07:27.063Z"
   },
   {
    "duration": 4,
    "start_time": "2024-11-18T19:07:27.083Z"
   },
   {
    "duration": 287,
    "start_time": "2024-11-18T19:09:20.793Z"
   },
   {
    "duration": 29,
    "start_time": "2024-11-18T19:09:21.082Z"
   },
   {
    "duration": 4,
    "start_time": "2024-11-18T19:09:21.113Z"
   },
   {
    "duration": 15,
    "start_time": "2024-11-18T19:09:21.118Z"
   },
   {
    "duration": 19,
    "start_time": "2024-11-18T19:09:21.136Z"
   },
   {
    "duration": 4,
    "start_time": "2024-11-18T19:09:21.157Z"
   },
   {
    "duration": 31,
    "start_time": "2024-11-18T19:09:36.420Z"
   },
   {
    "duration": 11,
    "start_time": "2024-11-18T19:09:51.539Z"
   },
   {
    "duration": 633,
    "start_time": "2024-11-18T19:13:19.494Z"
   },
   {
    "duration": 38,
    "start_time": "2024-11-18T19:14:10.094Z"
   },
   {
    "duration": 290,
    "start_time": "2024-11-18T19:14:17.410Z"
   },
   {
    "duration": 41,
    "start_time": "2024-11-18T19:14:17.702Z"
   },
   {
    "duration": 16,
    "start_time": "2024-11-18T19:14:17.745Z"
   },
   {
    "duration": 3,
    "start_time": "2024-11-18T19:14:17.762Z"
   },
   {
    "duration": 8,
    "start_time": "2024-11-18T19:14:17.768Z"
   },
   {
    "duration": 16,
    "start_time": "2024-11-18T19:14:17.778Z"
   },
   {
    "duration": 6,
    "start_time": "2024-11-18T19:14:17.796Z"
   }
  ],
  "kernelspec": {
   "display_name": "Python 3 (ipykernel)",
   "language": "python",
   "name": "python3"
  },
  "language_info": {
   "codemirror_mode": {
    "name": "ipython",
    "version": 3
   },
   "file_extension": ".py",
   "mimetype": "text/x-python",
   "name": "python",
   "nbconvert_exporter": "python",
   "pygments_lexer": "ipython3",
   "version": "3.9.19"
  },
  "toc": {
   "base_numbering": 1,
   "nav_menu": {},
   "number_sections": true,
   "sideBar": true,
   "skip_h1_title": true,
   "title_cell": "Table of Contents",
   "title_sidebar": "Contents",
   "toc_cell": false,
   "toc_position": {},
   "toc_section_display": true,
   "toc_window_display": false
  }
 },
 "nbformat": 4,
 "nbformat_minor": 2
}
