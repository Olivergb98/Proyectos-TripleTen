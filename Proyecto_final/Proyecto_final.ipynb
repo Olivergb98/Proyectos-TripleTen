{
 "cells": [
  {
   "cell_type": "markdown",
   "id": "914eb562",
   "metadata": {},
   "source": [
    "# Proyecto final: Cancelación de clientes en telecomunicaciones"
   ]
  },
  {
   "cell_type": "markdown",
   "id": "6adfb853",
   "metadata": {},
   "source": [
    "Al operador de telecomunicaciones Interconnect le gustaría poder pronosticar su tasa de cancelación de clientes. Si se descubre que un usuario o usuaria planea irse, se le ofrecerán códigos promocionales y opciones de planes especiales. El equipo de marketing de Interconnect ha recopilado algunos de los datos personales de sus clientes, incluyendo información sobre sus planes y contratos."
   ]
  },
  {
   "cell_type": "markdown",
   "id": "fc64cf8a",
   "metadata": {},
   "source": [
    "Explicación de los datasets:\n",
    "\n",
    "<b>contract.csv</b>\n",
    "\n",
    "<ul>\n",
    "<li><b>customerID:</b> ID del cliente.</li>\n",
    "<li><b>BeginDate:</b> Fecha en la que contrató el servicio.</li>\n",
    "<li><b>EndDate:</b> Fecha en la que canceló el servicio si es que canceló, si no es 'No'.</li>\n",
    "<li><b>Type:</b> Si paga mensual, anualmente o cada dos años.</li>\n",
    "<li><b>PaperlessBilling:</b> Si el recibo llega físico (Yes/NO).</li>\n",
    "<li><b>PaymentMethod:</b> Método de pago.</li>\n",
    "<li><b>MontlyCharges:</b> Cobro mensual.</li>\n",
    "<li><b>TotalCharges:</b> Total que se le ha cobrado al cliente.</li>\n",
    "</ul>\n",
    "\n",
    "<b>internet.csv</b>\n",
    "\n",
    "<ul>\n",
    "<li><b>customerID:</b> ID del cliente.</li>\n",
    "<li><b>InternetService:</b> Tiene este servicio (Yes/NO).</li>\n",
    "<li><b>OnlineSecurity:</b> Tiene este servicio (Yes/NO). </li>\n",
    "<li><b>OnlineBackup:</b> Tiene este servicio (Yes/NO).</li>\n",
    "<li><b>DeviceProtection:</b> Tiene este servicio (Yes/NO).</li>\n",
    "<li><b>TechSupport:</b> Tiene este servicio (Yes/NO).</li>\n",
    "<li><b>StreamingTV:</b> Tiene este servicio (Yes/NO).</li>\n",
    "<li><b>StreamingMovies:</b> Tiene este servicio (Yes/NO).</li>\n",
    "</ul>\n",
    "\n",
    "<b>personal.csv</b>\n",
    "\n",
    "<ul>\n",
    "<li><b>customerID:</b> ID del cliente.</li>\n",
    "<li><b>gender:</b> Género.</li>\n",
    "<li><b>SeniorCitizen:</b> Si el cliente es adulto mayor.</li>\n",
    "<li><b>Partner:</b> Si el cliente vive con una pareja .</li>\n",
    "<li><b>Dependents:</b> Si el cliente tiene personas a su cargo como hijos o adultos mayores.</li>\n",
    "</ul>\n",
    "\n",
    "<b>phone.csv</b>\n",
    "\n",
    "<ul>\n",
    "<li><b>customerID:</b> ID del cliente.</li>\n",
    "<li><b>MultipleLines:</b> Tiene más de una línea (yes/no).</li>\n",
    "</ul>\n"
   ]
  },
  {
   "cell_type": "markdown",
   "id": "4500bdf8",
   "metadata": {},
   "source": [
    "## Plan de trabajo"
   ]
  },
  {
   "cell_type": "markdown",
   "id": "72671fc8",
   "metadata": {},
   "source": [
    "¿Qué factores influyen más a que la gente cancele el servicio?\n",
    "\n",
    "¿Podemos crear un modelo que pueda predecir precisamente los clientes que cancelan?\n",
    "\n",
    "¿Qué tanto influye el sercicio (internet/teléfono) que tienen contratado?"
   ]
  },
  {
   "cell_type": "markdown",
   "id": "68ce281a",
   "metadata": {},
   "source": [
    "Para resolver la tarea, propongo el siguiente plan de trabajo:\n",
    "\n",
    "1. Cargar los datasets y unirlos en uno solo.\n",
    "\n",
    "2. Rellenar los datos ausentes para que reflejen la asuencia de ciertos clientes en los planes que no tienen contratados.\n",
    "\n",
    "3. Convertir la columna objetivo de end_date a positivo/negativo (0/1)\n",
    "\n",
    "4. Transformar los datos del resto de columnas a numéricos para que sean más fáciles de trabjar para modelos de ML.\n",
    "\n",
    "5. Probar diferentes modelos de clasificación y escoger el que mejor métricas tenga, sugiero basarnos en f1 score en vez de AUC/ROC.\n",
    "\n",
    "6. Ya que tengamos el mejor modelo, considero que podemos analizar los pesos de cada variable para ver cuál influye más en la tasa de cancelación."
   ]
  },
  {
   "cell_type": "markdown",
   "id": "b0584fb5",
   "metadata": {},
   "source": [
    "## Carga de datos e importación de librerías"
   ]
  },
  {
   "cell_type": "code",
   "execution_count": 1,
   "id": "49addbfb",
   "metadata": {},
   "outputs": [],
   "source": [
    "import pandas as pd\n",
    "import numpy as np\n",
    "import re\n",
    "from boruta import BorutaPy\n",
    "from sklearn.metrics import f1_score, roc_auc_score, recall_score, accuracy_score, classification_report\n",
    "from sklearn.ensemble import RandomForestClassifier\n",
    "from sklearn.neighbors import KNeighborsClassifier\n",
    "from sklearn.tree import DecisionTreeClassifier\n",
    "from sklearn.linear_model import LogisticRegression\n",
    "from lightgbm import LGBMClassifier\n",
    "from xgboost import XGBClassifier\n",
    "from sklearn.preprocessing import StandardScaler\n",
    "from sklearn.model_selection import train_test_split, cross_val_score\n"
   ]
  },
  {
   "cell_type": "code",
   "execution_count": 2,
   "id": "de1024a0",
   "metadata": {},
   "outputs": [],
   "source": [
    "contract = pd.read_csv('dataset/contract.csv')\n",
    "internet = pd.read_csv('dataset/internet.csv')\n",
    "personal = pd.read_csv('dataset/personal.csv')\n",
    "phone = pd.read_csv('dataset/phone.csv')"
   ]
  },
  {
   "cell_type": "markdown",
   "id": "0c55856f",
   "metadata": {},
   "source": [
    "## EDA"
   ]
  },
  {
   "cell_type": "markdown",
   "id": "419ac320",
   "metadata": {},
   "source": [
    "Primero vamos a ver cada dataframe y ver qué información nos dan"
   ]
  },
  {
   "cell_type": "code",
   "execution_count": 3,
   "id": "3dc75c86",
   "metadata": {},
   "outputs": [
    {
     "name": "stdout",
     "output_type": "stream",
     "text": [
      "<class 'pandas.core.frame.DataFrame'>\n",
      "RangeIndex: 7043 entries, 0 to 7042\n",
      "Data columns (total 8 columns):\n",
      " #   Column            Non-Null Count  Dtype  \n",
      "---  ------            --------------  -----  \n",
      " 0   customerID        7043 non-null   object \n",
      " 1   BeginDate         7043 non-null   object \n",
      " 2   EndDate           7043 non-null   object \n",
      " 3   Type              7043 non-null   object \n",
      " 4   PaperlessBilling  7043 non-null   object \n",
      " 5   PaymentMethod     7043 non-null   object \n",
      " 6   MonthlyCharges    7043 non-null   float64\n",
      " 7   TotalCharges      7043 non-null   object \n",
      "dtypes: float64(1), object(7)\n",
      "memory usage: 440.3+ KB\n"
     ]
    }
   ],
   "source": [
    "contract.info()"
   ]
  },
  {
   "cell_type": "code",
   "execution_count": 4,
   "id": "f5be18a4",
   "metadata": {},
   "outputs": [
    {
     "name": "stdout",
     "output_type": "stream",
     "text": [
      "<class 'pandas.core.frame.DataFrame'>\n",
      "RangeIndex: 5517 entries, 0 to 5516\n",
      "Data columns (total 8 columns):\n",
      " #   Column            Non-Null Count  Dtype \n",
      "---  ------            --------------  ----- \n",
      " 0   customerID        5517 non-null   object\n",
      " 1   InternetService   5517 non-null   object\n",
      " 2   OnlineSecurity    5517 non-null   object\n",
      " 3   OnlineBackup      5517 non-null   object\n",
      " 4   DeviceProtection  5517 non-null   object\n",
      " 5   TechSupport       5517 non-null   object\n",
      " 6   StreamingTV       5517 non-null   object\n",
      " 7   StreamingMovies   5517 non-null   object\n",
      "dtypes: object(8)\n",
      "memory usage: 344.9+ KB\n"
     ]
    }
   ],
   "source": [
    "internet.info()"
   ]
  },
  {
   "cell_type": "code",
   "execution_count": 5,
   "id": "1ef772b9",
   "metadata": {},
   "outputs": [
    {
     "name": "stdout",
     "output_type": "stream",
     "text": [
      "<class 'pandas.core.frame.DataFrame'>\n",
      "RangeIndex: 7043 entries, 0 to 7042\n",
      "Data columns (total 5 columns):\n",
      " #   Column         Non-Null Count  Dtype \n",
      "---  ------         --------------  ----- \n",
      " 0   customerID     7043 non-null   object\n",
      " 1   gender         7043 non-null   object\n",
      " 2   SeniorCitizen  7043 non-null   int64 \n",
      " 3   Partner        7043 non-null   object\n",
      " 4   Dependents     7043 non-null   object\n",
      "dtypes: int64(1), object(4)\n",
      "memory usage: 275.2+ KB\n"
     ]
    }
   ],
   "source": [
    "personal.info()"
   ]
  },
  {
   "cell_type": "code",
   "execution_count": 6,
   "id": "418deb10",
   "metadata": {},
   "outputs": [
    {
     "name": "stdout",
     "output_type": "stream",
     "text": [
      "<class 'pandas.core.frame.DataFrame'>\n",
      "RangeIndex: 6361 entries, 0 to 6360\n",
      "Data columns (total 2 columns):\n",
      " #   Column         Non-Null Count  Dtype \n",
      "---  ------         --------------  ----- \n",
      " 0   customerID     6361 non-null   object\n",
      " 1   MultipleLines  6361 non-null   object\n",
      "dtypes: object(2)\n",
      "memory usage: 99.5+ KB\n"
     ]
    }
   ],
   "source": [
    "phone.info()"
   ]
  },
  {
   "cell_type": "markdown",
   "id": "7337c2aa",
   "metadata": {},
   "source": [
    "De entrada, vemos que todos los dataframes tienen customerID, lo que significa que podemos unir todos los archivos en un sólo dataframe para trabajar con él. También vemos que no hay valores ausentes en ninguno de nuestros dataframes"
   ]
  },
  {
   "cell_type": "code",
   "execution_count": 7,
   "id": "dcb4b119",
   "metadata": {},
   "outputs": [
    {
     "data": {
      "text/html": [
       "<div>\n",
       "<style scoped>\n",
       "    .dataframe tbody tr th:only-of-type {\n",
       "        vertical-align: middle;\n",
       "    }\n",
       "\n",
       "    .dataframe tbody tr th {\n",
       "        vertical-align: top;\n",
       "    }\n",
       "\n",
       "    .dataframe thead th {\n",
       "        text-align: right;\n",
       "    }\n",
       "</style>\n",
       "<table border=\"1\" class=\"dataframe\">\n",
       "  <thead>\n",
       "    <tr style=\"text-align: right;\">\n",
       "      <th></th>\n",
       "      <th>customerID</th>\n",
       "      <th>BeginDate</th>\n",
       "      <th>EndDate</th>\n",
       "      <th>Type</th>\n",
       "      <th>PaperlessBilling</th>\n",
       "      <th>PaymentMethod</th>\n",
       "      <th>MonthlyCharges</th>\n",
       "      <th>TotalCharges</th>\n",
       "    </tr>\n",
       "  </thead>\n",
       "  <tbody>\n",
       "    <tr>\n",
       "      <th>3</th>\n",
       "      <td>7795-CFOCW</td>\n",
       "      <td>2016-05-01</td>\n",
       "      <td>No</td>\n",
       "      <td>One year</td>\n",
       "      <td>No</td>\n",
       "      <td>Bank transfer (automatic)</td>\n",
       "      <td>42.30</td>\n",
       "      <td>1840.75</td>\n",
       "    </tr>\n",
       "    <tr>\n",
       "      <th>6260</th>\n",
       "      <td>0458-HEUZG</td>\n",
       "      <td>2019-01-01</td>\n",
       "      <td>No</td>\n",
       "      <td>Two year</td>\n",
       "      <td>No</td>\n",
       "      <td>Mailed check</td>\n",
       "      <td>35.40</td>\n",
       "      <td>450.4</td>\n",
       "    </tr>\n",
       "    <tr>\n",
       "      <th>2583</th>\n",
       "      <td>6463-MVYRY</td>\n",
       "      <td>2015-05-01</td>\n",
       "      <td>No</td>\n",
       "      <td>Two year</td>\n",
       "      <td>No</td>\n",
       "      <td>Bank transfer (automatic)</td>\n",
       "      <td>69.85</td>\n",
       "      <td>4003</td>\n",
       "    </tr>\n",
       "    <tr>\n",
       "      <th>5373</th>\n",
       "      <td>4043-MKDTV</td>\n",
       "      <td>2014-03-01</td>\n",
       "      <td>No</td>\n",
       "      <td>Two year</td>\n",
       "      <td>Yes</td>\n",
       "      <td>Electronic check</td>\n",
       "      <td>105.25</td>\n",
       "      <td>7291.75</td>\n",
       "    </tr>\n",
       "    <tr>\n",
       "      <th>6898</th>\n",
       "      <td>1956-YIFGE</td>\n",
       "      <td>2018-04-01</td>\n",
       "      <td>No</td>\n",
       "      <td>One year</td>\n",
       "      <td>Yes</td>\n",
       "      <td>Mailed check</td>\n",
       "      <td>100.05</td>\n",
       "      <td>2090.25</td>\n",
       "    </tr>\n",
       "  </tbody>\n",
       "</table>\n",
       "</div>"
      ],
      "text/plain": [
       "      customerID   BeginDate EndDate      Type PaperlessBilling  \\\n",
       "3     7795-CFOCW  2016-05-01      No  One year               No   \n",
       "6260  0458-HEUZG  2019-01-01      No  Two year               No   \n",
       "2583  6463-MVYRY  2015-05-01      No  Two year               No   \n",
       "5373  4043-MKDTV  2014-03-01      No  Two year              Yes   \n",
       "6898  1956-YIFGE  2018-04-01      No  One year              Yes   \n",
       "\n",
       "                  PaymentMethod  MonthlyCharges TotalCharges  \n",
       "3     Bank transfer (automatic)           42.30      1840.75  \n",
       "6260               Mailed check           35.40        450.4  \n",
       "2583  Bank transfer (automatic)           69.85         4003  \n",
       "5373           Electronic check          105.25      7291.75  \n",
       "6898               Mailed check          100.05      2090.25  "
      ]
     },
     "execution_count": 7,
     "metadata": {},
     "output_type": "execute_result"
    }
   ],
   "source": [
    "contract.sample(5)"
   ]
  },
  {
   "cell_type": "code",
   "execution_count": 8,
   "id": "47fad7fa",
   "metadata": {},
   "outputs": [
    {
     "data": {
      "text/html": [
       "<div>\n",
       "<style scoped>\n",
       "    .dataframe tbody tr th:only-of-type {\n",
       "        vertical-align: middle;\n",
       "    }\n",
       "\n",
       "    .dataframe tbody tr th {\n",
       "        vertical-align: top;\n",
       "    }\n",
       "\n",
       "    .dataframe thead th {\n",
       "        text-align: right;\n",
       "    }\n",
       "</style>\n",
       "<table border=\"1\" class=\"dataframe\">\n",
       "  <thead>\n",
       "    <tr style=\"text-align: right;\">\n",
       "      <th></th>\n",
       "      <th>customerID</th>\n",
       "      <th>InternetService</th>\n",
       "      <th>OnlineSecurity</th>\n",
       "      <th>OnlineBackup</th>\n",
       "      <th>DeviceProtection</th>\n",
       "      <th>TechSupport</th>\n",
       "      <th>StreamingTV</th>\n",
       "      <th>StreamingMovies</th>\n",
       "    </tr>\n",
       "  </thead>\n",
       "  <tbody>\n",
       "    <tr>\n",
       "      <th>2155</th>\n",
       "      <td>0815-MFZGM</td>\n",
       "      <td>Fiber optic</td>\n",
       "      <td>No</td>\n",
       "      <td>No</td>\n",
       "      <td>Yes</td>\n",
       "      <td>Yes</td>\n",
       "      <td>Yes</td>\n",
       "      <td>Yes</td>\n",
       "    </tr>\n",
       "    <tr>\n",
       "      <th>2088</th>\n",
       "      <td>4328-VUFWD</td>\n",
       "      <td>DSL</td>\n",
       "      <td>No</td>\n",
       "      <td>No</td>\n",
       "      <td>No</td>\n",
       "      <td>Yes</td>\n",
       "      <td>No</td>\n",
       "      <td>Yes</td>\n",
       "    </tr>\n",
       "    <tr>\n",
       "      <th>888</th>\n",
       "      <td>3312-UUMZW</td>\n",
       "      <td>Fiber optic</td>\n",
       "      <td>No</td>\n",
       "      <td>Yes</td>\n",
       "      <td>No</td>\n",
       "      <td>No</td>\n",
       "      <td>Yes</td>\n",
       "      <td>Yes</td>\n",
       "    </tr>\n",
       "    <tr>\n",
       "      <th>4191</th>\n",
       "      <td>8992-OBVDG</td>\n",
       "      <td>DSL</td>\n",
       "      <td>No</td>\n",
       "      <td>No</td>\n",
       "      <td>Yes</td>\n",
       "      <td>No</td>\n",
       "      <td>No</td>\n",
       "      <td>Yes</td>\n",
       "    </tr>\n",
       "    <tr>\n",
       "      <th>5124</th>\n",
       "      <td>9317-WZPGV</td>\n",
       "      <td>Fiber optic</td>\n",
       "      <td>No</td>\n",
       "      <td>No</td>\n",
       "      <td>No</td>\n",
       "      <td>No</td>\n",
       "      <td>No</td>\n",
       "      <td>Yes</td>\n",
       "    </tr>\n",
       "  </tbody>\n",
       "</table>\n",
       "</div>"
      ],
      "text/plain": [
       "      customerID InternetService OnlineSecurity OnlineBackup DeviceProtection  \\\n",
       "2155  0815-MFZGM     Fiber optic             No           No              Yes   \n",
       "2088  4328-VUFWD             DSL             No           No               No   \n",
       "888   3312-UUMZW     Fiber optic             No          Yes               No   \n",
       "4191  8992-OBVDG             DSL             No           No              Yes   \n",
       "5124  9317-WZPGV     Fiber optic             No           No               No   \n",
       "\n",
       "     TechSupport StreamingTV StreamingMovies  \n",
       "2155         Yes         Yes             Yes  \n",
       "2088         Yes          No             Yes  \n",
       "888           No         Yes             Yes  \n",
       "4191          No          No             Yes  \n",
       "5124          No          No             Yes  "
      ]
     },
     "execution_count": 8,
     "metadata": {},
     "output_type": "execute_result"
    }
   ],
   "source": [
    "internet.sample(5)"
   ]
  },
  {
   "cell_type": "code",
   "execution_count": 9,
   "id": "64825d2d",
   "metadata": {},
   "outputs": [
    {
     "data": {
      "text/html": [
       "<div>\n",
       "<style scoped>\n",
       "    .dataframe tbody tr th:only-of-type {\n",
       "        vertical-align: middle;\n",
       "    }\n",
       "\n",
       "    .dataframe tbody tr th {\n",
       "        vertical-align: top;\n",
       "    }\n",
       "\n",
       "    .dataframe thead th {\n",
       "        text-align: right;\n",
       "    }\n",
       "</style>\n",
       "<table border=\"1\" class=\"dataframe\">\n",
       "  <thead>\n",
       "    <tr style=\"text-align: right;\">\n",
       "      <th></th>\n",
       "      <th>customerID</th>\n",
       "      <th>gender</th>\n",
       "      <th>SeniorCitizen</th>\n",
       "      <th>Partner</th>\n",
       "      <th>Dependents</th>\n",
       "    </tr>\n",
       "  </thead>\n",
       "  <tbody>\n",
       "    <tr>\n",
       "      <th>6119</th>\n",
       "      <td>0080-EMYVY</td>\n",
       "      <td>Female</td>\n",
       "      <td>0</td>\n",
       "      <td>No</td>\n",
       "      <td>No</td>\n",
       "    </tr>\n",
       "    <tr>\n",
       "      <th>5351</th>\n",
       "      <td>5649-VUKMC</td>\n",
       "      <td>Female</td>\n",
       "      <td>0</td>\n",
       "      <td>No</td>\n",
       "      <td>No</td>\n",
       "    </tr>\n",
       "    <tr>\n",
       "      <th>3427</th>\n",
       "      <td>9919-KNPOO</td>\n",
       "      <td>Female</td>\n",
       "      <td>0</td>\n",
       "      <td>Yes</td>\n",
       "      <td>No</td>\n",
       "    </tr>\n",
       "    <tr>\n",
       "      <th>1173</th>\n",
       "      <td>0107-WESLM</td>\n",
       "      <td>Male</td>\n",
       "      <td>0</td>\n",
       "      <td>No</td>\n",
       "      <td>No</td>\n",
       "    </tr>\n",
       "    <tr>\n",
       "      <th>403</th>\n",
       "      <td>3067-SVMTC</td>\n",
       "      <td>Female</td>\n",
       "      <td>0</td>\n",
       "      <td>Yes</td>\n",
       "      <td>No</td>\n",
       "    </tr>\n",
       "  </tbody>\n",
       "</table>\n",
       "</div>"
      ],
      "text/plain": [
       "      customerID  gender  SeniorCitizen Partner Dependents\n",
       "6119  0080-EMYVY  Female              0      No         No\n",
       "5351  5649-VUKMC  Female              0      No         No\n",
       "3427  9919-KNPOO  Female              0     Yes         No\n",
       "1173  0107-WESLM    Male              0      No         No\n",
       "403   3067-SVMTC  Female              0     Yes         No"
      ]
     },
     "execution_count": 9,
     "metadata": {},
     "output_type": "execute_result"
    }
   ],
   "source": [
    "personal.sample(5)"
   ]
  },
  {
   "cell_type": "code",
   "execution_count": 10,
   "id": "badcd09d",
   "metadata": {},
   "outputs": [
    {
     "data": {
      "text/html": [
       "<div>\n",
       "<style scoped>\n",
       "    .dataframe tbody tr th:only-of-type {\n",
       "        vertical-align: middle;\n",
       "    }\n",
       "\n",
       "    .dataframe tbody tr th {\n",
       "        vertical-align: top;\n",
       "    }\n",
       "\n",
       "    .dataframe thead th {\n",
       "        text-align: right;\n",
       "    }\n",
       "</style>\n",
       "<table border=\"1\" class=\"dataframe\">\n",
       "  <thead>\n",
       "    <tr style=\"text-align: right;\">\n",
       "      <th></th>\n",
       "      <th>customerID</th>\n",
       "      <th>MultipleLines</th>\n",
       "    </tr>\n",
       "  </thead>\n",
       "  <tbody>\n",
       "    <tr>\n",
       "      <th>4575</th>\n",
       "      <td>1561-BWHIN</td>\n",
       "      <td>No</td>\n",
       "    </tr>\n",
       "    <tr>\n",
       "      <th>4949</th>\n",
       "      <td>2207-OBZNX</td>\n",
       "      <td>No</td>\n",
       "    </tr>\n",
       "    <tr>\n",
       "      <th>825</th>\n",
       "      <td>3865-YIOTT</td>\n",
       "      <td>Yes</td>\n",
       "    </tr>\n",
       "    <tr>\n",
       "      <th>5721</th>\n",
       "      <td>0547-HURJB</td>\n",
       "      <td>No</td>\n",
       "    </tr>\n",
       "    <tr>\n",
       "      <th>448</th>\n",
       "      <td>7803-XOCCZ</td>\n",
       "      <td>No</td>\n",
       "    </tr>\n",
       "  </tbody>\n",
       "</table>\n",
       "</div>"
      ],
      "text/plain": [
       "      customerID MultipleLines\n",
       "4575  1561-BWHIN            No\n",
       "4949  2207-OBZNX            No\n",
       "825   3865-YIOTT           Yes\n",
       "5721  0547-HURJB            No\n",
       "448   7803-XOCCZ            No"
      ]
     },
     "execution_count": 10,
     "metadata": {},
     "output_type": "execute_result"
    }
   ],
   "source": [
    "phone.sample(5)"
   ]
  },
  {
   "cell_type": "code",
   "execution_count": 11,
   "id": "6c2312c7",
   "metadata": {},
   "outputs": [
    {
     "name": "stdout",
     "output_type": "stream",
     "text": [
      "<class 'pandas.core.frame.DataFrame'>\n",
      "RangeIndex: 7043 entries, 0 to 7042\n",
      "Data columns (total 20 columns):\n",
      " #   Column            Non-Null Count  Dtype  \n",
      "---  ------            --------------  -----  \n",
      " 0   customerID        7043 non-null   object \n",
      " 1   BeginDate         7043 non-null   object \n",
      " 2   EndDate           7043 non-null   object \n",
      " 3   Type              7043 non-null   object \n",
      " 4   PaperlessBilling  7043 non-null   object \n",
      " 5   PaymentMethod     7043 non-null   object \n",
      " 6   MonthlyCharges    7043 non-null   float64\n",
      " 7   TotalCharges      7043 non-null   object \n",
      " 8   InternetService   5517 non-null   object \n",
      " 9   OnlineSecurity    5517 non-null   object \n",
      " 10  OnlineBackup      5517 non-null   object \n",
      " 11  DeviceProtection  5517 non-null   object \n",
      " 12  TechSupport       5517 non-null   object \n",
      " 13  StreamingTV       5517 non-null   object \n",
      " 14  StreamingMovies   5517 non-null   object \n",
      " 15  gender            7043 non-null   object \n",
      " 16  SeniorCitizen     7043 non-null   int64  \n",
      " 17  Partner           7043 non-null   object \n",
      " 18  Dependents        7043 non-null   object \n",
      " 19  MultipleLines     6361 non-null   object \n",
      "dtypes: float64(1), int64(1), object(18)\n",
      "memory usage: 1.1+ MB\n"
     ]
    }
   ],
   "source": [
    "df = (\n",
    "    contract.merge(internet, on='customerID', how='outer')\n",
    "            .merge(personal, on='customerID', how='outer')\n",
    "            .merge(phone, on='customerID', how='outer')\n",
    ")\n",
    "\n",
    "df.info()"
   ]
  },
  {
   "cell_type": "code",
   "execution_count": 12,
   "id": "9b5df098",
   "metadata": {},
   "outputs": [
    {
     "data": {
      "text/plain": [
       "0"
      ]
     },
     "execution_count": 12,
     "metadata": {},
     "output_type": "execute_result"
    }
   ],
   "source": [
    "df['customerID'].duplicated().sum()"
   ]
  },
  {
   "cell_type": "markdown",
   "id": "8611d8d0",
   "metadata": {},
   "source": [
    "Ahora que tenemos un sólo dataframe unido, sin customerID duplicado, cambiamos los nombres de las columnas para que tengan snake casing"
   ]
  },
  {
   "cell_type": "code",
   "execution_count": 13,
   "id": "073e902f",
   "metadata": {},
   "outputs": [
    {
     "name": "stdout",
     "output_type": "stream",
     "text": [
      "Index(['customer_id', 'begin_date', 'end_date', 'payment_type',\n",
      "       'paperless_billing', 'payment_method', 'monthly_charges',\n",
      "       'total_charges', 'internet_service', 'online_security', 'online_backup',\n",
      "       'device_protection', 'tech_support', 'streaming_tv', 'streaming_movies',\n",
      "       'gender', 'senior_citizen', 'partner', 'dependents', 'multiple_lines'],\n",
      "      dtype='object')\n"
     ]
    }
   ],
   "source": [
    "def snake_case(s):\n",
    "    return re.sub(r'(?<!^)(?=[A-Z])', '_', s).lower()\n",
    "\n",
    "df.columns = [snake_case(col) for col in df.columns]\n",
    "\n",
    "df.rename(columns={'customer_i_d' : 'customer_id', 'streaming_t_v': 'streaming_tv', 'type' : 'payment_type'}, inplace=True)\n",
    "\n",
    "print(df.columns)"
   ]
  },
  {
   "cell_type": "markdown",
   "id": "8515a208",
   "metadata": {},
   "source": [
    "Ahora tenemos que ver cómo manejar los datos ausentes, ya que son muchos como para descartarlos"
   ]
  },
  {
   "cell_type": "code",
   "execution_count": 14,
   "id": "fc38df5f",
   "metadata": {},
   "outputs": [
    {
     "data": {
      "text/html": [
       "<div>\n",
       "<style scoped>\n",
       "    .dataframe tbody tr th:only-of-type {\n",
       "        vertical-align: middle;\n",
       "    }\n",
       "\n",
       "    .dataframe tbody tr th {\n",
       "        vertical-align: top;\n",
       "    }\n",
       "\n",
       "    .dataframe thead th {\n",
       "        text-align: right;\n",
       "    }\n",
       "</style>\n",
       "<table border=\"1\" class=\"dataframe\">\n",
       "  <thead>\n",
       "    <tr style=\"text-align: right;\">\n",
       "      <th></th>\n",
       "      <th>customer_id</th>\n",
       "      <th>begin_date</th>\n",
       "      <th>end_date</th>\n",
       "      <th>payment_type</th>\n",
       "      <th>paperless_billing</th>\n",
       "      <th>payment_method</th>\n",
       "      <th>monthly_charges</th>\n",
       "      <th>total_charges</th>\n",
       "      <th>internet_service</th>\n",
       "      <th>online_security</th>\n",
       "      <th>online_backup</th>\n",
       "      <th>device_protection</th>\n",
       "      <th>tech_support</th>\n",
       "      <th>streaming_tv</th>\n",
       "      <th>streaming_movies</th>\n",
       "      <th>gender</th>\n",
       "      <th>senior_citizen</th>\n",
       "      <th>partner</th>\n",
       "      <th>dependents</th>\n",
       "      <th>multiple_lines</th>\n",
       "    </tr>\n",
       "  </thead>\n",
       "  <tbody>\n",
       "    <tr>\n",
       "      <th>7021</th>\n",
       "      <td>9962-BFPDU</td>\n",
       "      <td>2020-01-01</td>\n",
       "      <td>No</td>\n",
       "      <td>Month-to-month</td>\n",
       "      <td>No</td>\n",
       "      <td>Mailed check</td>\n",
       "      <td>20.05</td>\n",
       "      <td>20.05</td>\n",
       "      <td>NaN</td>\n",
       "      <td>NaN</td>\n",
       "      <td>NaN</td>\n",
       "      <td>NaN</td>\n",
       "      <td>NaN</td>\n",
       "      <td>NaN</td>\n",
       "      <td>NaN</td>\n",
       "      <td>Female</td>\n",
       "      <td>0</td>\n",
       "      <td>Yes</td>\n",
       "      <td>Yes</td>\n",
       "      <td>No</td>\n",
       "    </tr>\n",
       "    <tr>\n",
       "      <th>5174</th>\n",
       "      <td>7277-KAMWT</td>\n",
       "      <td>2019-01-01</td>\n",
       "      <td>No</td>\n",
       "      <td>Two year</td>\n",
       "      <td>No</td>\n",
       "      <td>Credit card (automatic)</td>\n",
       "      <td>20.00</td>\n",
       "      <td>268.45</td>\n",
       "      <td>NaN</td>\n",
       "      <td>NaN</td>\n",
       "      <td>NaN</td>\n",
       "      <td>NaN</td>\n",
       "      <td>NaN</td>\n",
       "      <td>NaN</td>\n",
       "      <td>NaN</td>\n",
       "      <td>Male</td>\n",
       "      <td>0</td>\n",
       "      <td>No</td>\n",
       "      <td>No</td>\n",
       "      <td>No</td>\n",
       "    </tr>\n",
       "    <tr>\n",
       "      <th>854</th>\n",
       "      <td>1240-HCBOH</td>\n",
       "      <td>2014-07-01</td>\n",
       "      <td>No</td>\n",
       "      <td>Two year</td>\n",
       "      <td>Yes</td>\n",
       "      <td>Mailed check</td>\n",
       "      <td>26.10</td>\n",
       "      <td>1759.55</td>\n",
       "      <td>NaN</td>\n",
       "      <td>NaN</td>\n",
       "      <td>NaN</td>\n",
       "      <td>NaN</td>\n",
       "      <td>NaN</td>\n",
       "      <td>NaN</td>\n",
       "      <td>NaN</td>\n",
       "      <td>Female</td>\n",
       "      <td>0</td>\n",
       "      <td>No</td>\n",
       "      <td>No</td>\n",
       "      <td>Yes</td>\n",
       "    </tr>\n",
       "    <tr>\n",
       "      <th>4845</th>\n",
       "      <td>6828-HMKWP</td>\n",
       "      <td>2019-02-01</td>\n",
       "      <td>No</td>\n",
       "      <td>Two year</td>\n",
       "      <td>No</td>\n",
       "      <td>Bank transfer (automatic)</td>\n",
       "      <td>21.05</td>\n",
       "      <td>262.05</td>\n",
       "      <td>NaN</td>\n",
       "      <td>NaN</td>\n",
       "      <td>NaN</td>\n",
       "      <td>NaN</td>\n",
       "      <td>NaN</td>\n",
       "      <td>NaN</td>\n",
       "      <td>NaN</td>\n",
       "      <td>Male</td>\n",
       "      <td>0</td>\n",
       "      <td>Yes</td>\n",
       "      <td>Yes</td>\n",
       "      <td>No</td>\n",
       "    </tr>\n",
       "    <tr>\n",
       "      <th>1563</th>\n",
       "      <td>2274-XUATA</td>\n",
       "      <td>2014-02-01</td>\n",
       "      <td>No</td>\n",
       "      <td>Two year</td>\n",
       "      <td>Yes</td>\n",
       "      <td>Bank transfer (automatic)</td>\n",
       "      <td>63.10</td>\n",
       "      <td>4685.55</td>\n",
       "      <td>DSL</td>\n",
       "      <td>Yes</td>\n",
       "      <td>Yes</td>\n",
       "      <td>Yes</td>\n",
       "      <td>Yes</td>\n",
       "      <td>Yes</td>\n",
       "      <td>Yes</td>\n",
       "      <td>Male</td>\n",
       "      <td>1</td>\n",
       "      <td>Yes</td>\n",
       "      <td>No</td>\n",
       "      <td>NaN</td>\n",
       "    </tr>\n",
       "  </tbody>\n",
       "</table>\n",
       "</div>"
      ],
      "text/plain": [
       "     customer_id  begin_date end_date    payment_type paperless_billing  \\\n",
       "7021  9962-BFPDU  2020-01-01       No  Month-to-month                No   \n",
       "5174  7277-KAMWT  2019-01-01       No        Two year                No   \n",
       "854   1240-HCBOH  2014-07-01       No        Two year               Yes   \n",
       "4845  6828-HMKWP  2019-02-01       No        Two year                No   \n",
       "1563  2274-XUATA  2014-02-01       No        Two year               Yes   \n",
       "\n",
       "                 payment_method  monthly_charges total_charges  \\\n",
       "7021               Mailed check            20.05         20.05   \n",
       "5174    Credit card (automatic)            20.00        268.45   \n",
       "854                Mailed check            26.10       1759.55   \n",
       "4845  Bank transfer (automatic)            21.05        262.05   \n",
       "1563  Bank transfer (automatic)            63.10       4685.55   \n",
       "\n",
       "     internet_service online_security online_backup device_protection  \\\n",
       "7021              NaN             NaN           NaN               NaN   \n",
       "5174              NaN             NaN           NaN               NaN   \n",
       "854               NaN             NaN           NaN               NaN   \n",
       "4845              NaN             NaN           NaN               NaN   \n",
       "1563              DSL             Yes           Yes               Yes   \n",
       "\n",
       "     tech_support streaming_tv streaming_movies  gender  senior_citizen  \\\n",
       "7021          NaN          NaN              NaN  Female               0   \n",
       "5174          NaN          NaN              NaN    Male               0   \n",
       "854           NaN          NaN              NaN  Female               0   \n",
       "4845          NaN          NaN              NaN    Male               0   \n",
       "1563          Yes          Yes              Yes    Male               1   \n",
       "\n",
       "     partner dependents multiple_lines  \n",
       "7021     Yes        Yes             No  \n",
       "5174      No         No             No  \n",
       "854       No         No            Yes  \n",
       "4845     Yes        Yes             No  \n",
       "1563     Yes         No            NaN  "
      ]
     },
     "execution_count": 14,
     "metadata": {},
     "output_type": "execute_result"
    }
   ],
   "source": [
    "df[df.isnull().any(axis=1)].sample(5)"
   ]
  },
  {
   "cell_type": "code",
   "execution_count": 15,
   "id": "2ed77d87",
   "metadata": {},
   "outputs": [],
   "source": [
    "#Convertir la columna objetivo a positivos y negativos y cambiar el nombre\n",
    "df['end_date'] = np.where(df['end_date'] == 'No', 0, 1)\n",
    "df.rename(columns={'end_date': 'churn'}, inplace=True)"
   ]
  },
  {
   "cell_type": "code",
   "execution_count": 16,
   "id": "bb3d8dac",
   "metadata": {},
   "outputs": [],
   "source": [
    "#cambiamos a formato de fecha y dejamos sólo el año\n",
    "df['begin_date'] = pd.to_datetime(df['begin_date'])\n",
    "df['begin_year'] = df['begin_date'].dt.year\n",
    "df.drop(columns=['begin_date'], inplace=True)"
   ]
  },
  {
   "cell_type": "markdown",
   "id": "d187067c",
   "metadata": {},
   "source": [
    "Vemos también que la columna total_charges es de tipo object, lo que significa que hay un error en alguna fila que no permite que la columna sea tratada como float, vamos a ver cuál es la causa"
   ]
  },
  {
   "cell_type": "code",
   "execution_count": 17,
   "id": "5bde1ee4",
   "metadata": {},
   "outputs": [
    {
     "name": "stdout",
     "output_type": "stream",
     "text": [
      "Filas con errores: 11\n"
     ]
    },
    {
     "data": {
      "text/html": [
       "<div>\n",
       "<style scoped>\n",
       "    .dataframe tbody tr th:only-of-type {\n",
       "        vertical-align: middle;\n",
       "    }\n",
       "\n",
       "    .dataframe tbody tr th {\n",
       "        vertical-align: top;\n",
       "    }\n",
       "\n",
       "    .dataframe thead th {\n",
       "        text-align: right;\n",
       "    }\n",
       "</style>\n",
       "<table border=\"1\" class=\"dataframe\">\n",
       "  <thead>\n",
       "    <tr style=\"text-align: right;\">\n",
       "      <th></th>\n",
       "      <th>total_charges</th>\n",
       "    </tr>\n",
       "  </thead>\n",
       "  <tbody>\n",
       "    <tr>\n",
       "      <th>945</th>\n",
       "      <td></td>\n",
       "    </tr>\n",
       "    <tr>\n",
       "      <th>1731</th>\n",
       "      <td></td>\n",
       "    </tr>\n",
       "    <tr>\n",
       "      <th>1906</th>\n",
       "      <td></td>\n",
       "    </tr>\n",
       "    <tr>\n",
       "      <th>2025</th>\n",
       "      <td></td>\n",
       "    </tr>\n",
       "    <tr>\n",
       "      <th>2176</th>\n",
       "      <td></td>\n",
       "    </tr>\n",
       "    <tr>\n",
       "      <th>2250</th>\n",
       "      <td></td>\n",
       "    </tr>\n",
       "    <tr>\n",
       "      <th>2855</th>\n",
       "      <td></td>\n",
       "    </tr>\n",
       "    <tr>\n",
       "      <th>3052</th>\n",
       "      <td></td>\n",
       "    </tr>\n",
       "    <tr>\n",
       "      <th>3118</th>\n",
       "      <td></td>\n",
       "    </tr>\n",
       "    <tr>\n",
       "      <th>4054</th>\n",
       "      <td></td>\n",
       "    </tr>\n",
       "    <tr>\n",
       "      <th>5433</th>\n",
       "      <td></td>\n",
       "    </tr>\n",
       "  </tbody>\n",
       "</table>\n",
       "</div>"
      ],
      "text/plain": [
       "     total_charges\n",
       "945               \n",
       "1731              \n",
       "1906              \n",
       "2025              \n",
       "2176              \n",
       "2250              \n",
       "2855              \n",
       "3052              \n",
       "3118              \n",
       "4054              \n",
       "5433              "
      ]
     },
     "execution_count": 17,
     "metadata": {},
     "output_type": "execute_result"
    }
   ],
   "source": [
    "is_numeric = df['total_charges'].astype(str).str.strip().str.replace('.', '', 1).str.isdigit()\n",
    "\n",
    "errors = df[~is_numeric]\n",
    "print(f\"Filas con errores: {len(errors)}\")\n",
    "errors[['total_charges']]"
   ]
  },
  {
   "cell_type": "markdown",
   "id": "b4205755",
   "metadata": {},
   "source": [
    "En efecto, hay 11 filas que causan un problema porque no tienen datos. Son bastante pocas así que pueden eliminar."
   ]
  },
  {
   "cell_type": "code",
   "execution_count": 18,
   "id": "79a8592b",
   "metadata": {},
   "outputs": [],
   "source": [
    "df['total_charges'] = pd.to_numeric(df['total_charges'], errors='coerce')\n",
    "df = df.dropna(subset=['total_charges'])"
   ]
  },
  {
   "cell_type": "code",
   "execution_count": 19,
   "id": "4b7564a6",
   "metadata": {},
   "outputs": [],
   "source": [
    "#cambiamos columnas binarias a valores numéricos, manteniendo los valores nulos\n",
    "binary_columns = ['paperless_billing', 'online_security', 'online_backup', 'device_protection', 'tech_support', 'streaming_tv', 'streaming_movies', 'multiple_lines', 'partner', 'dependents']\n",
    "for col in binary_columns:\n",
    "    df[col] = df[col].map({'Yes': 1, 'No': 0}).where(df[col].notna(), df[col])"
   ]
  },
  {
   "cell_type": "code",
   "execution_count": 20,
   "id": "a99c5b27",
   "metadata": {},
   "outputs": [
    {
     "data": {
      "text/html": [
       "<div>\n",
       "<style scoped>\n",
       "    .dataframe tbody tr th:only-of-type {\n",
       "        vertical-align: middle;\n",
       "    }\n",
       "\n",
       "    .dataframe tbody tr th {\n",
       "        vertical-align: top;\n",
       "    }\n",
       "\n",
       "    .dataframe thead th {\n",
       "        text-align: right;\n",
       "    }\n",
       "</style>\n",
       "<table border=\"1\" class=\"dataframe\">\n",
       "  <thead>\n",
       "    <tr style=\"text-align: right;\">\n",
       "      <th></th>\n",
       "      <th>customer_id</th>\n",
       "      <th>churn</th>\n",
       "      <th>payment_type</th>\n",
       "      <th>paperless_billing</th>\n",
       "      <th>payment_method</th>\n",
       "      <th>monthly_charges</th>\n",
       "      <th>total_charges</th>\n",
       "      <th>internet_service</th>\n",
       "      <th>online_security</th>\n",
       "      <th>online_backup</th>\n",
       "      <th>device_protection</th>\n",
       "      <th>tech_support</th>\n",
       "      <th>streaming_tv</th>\n",
       "      <th>streaming_movies</th>\n",
       "      <th>gender</th>\n",
       "      <th>senior_citizen</th>\n",
       "      <th>partner</th>\n",
       "      <th>dependents</th>\n",
       "      <th>multiple_lines</th>\n",
       "      <th>begin_year</th>\n",
       "    </tr>\n",
       "  </thead>\n",
       "  <tbody>\n",
       "    <tr>\n",
       "      <th>6599</th>\n",
       "      <td>9378-FXTIZ</td>\n",
       "      <td>1</td>\n",
       "      <td>One year</td>\n",
       "      <td>1</td>\n",
       "      <td>Credit card (automatic)</td>\n",
       "      <td>70.15</td>\n",
       "      <td>3715.65</td>\n",
       "      <td>DSL</td>\n",
       "      <td>0.0</td>\n",
       "      <td>0.0</td>\n",
       "      <td>0.0</td>\n",
       "      <td>0.0</td>\n",
       "      <td>1.0</td>\n",
       "      <td>1.0</td>\n",
       "      <td>Female</td>\n",
       "      <td>0</td>\n",
       "      <td>1</td>\n",
       "      <td>0</td>\n",
       "      <td>1.0</td>\n",
       "      <td>2015</td>\n",
       "    </tr>\n",
       "  </tbody>\n",
       "</table>\n",
       "</div>"
      ],
      "text/plain": [
       "     customer_id  churn payment_type  paperless_billing  \\\n",
       "6599  9378-FXTIZ      1     One year                  1   \n",
       "\n",
       "               payment_method  monthly_charges  total_charges  \\\n",
       "6599  Credit card (automatic)            70.15        3715.65   \n",
       "\n",
       "     internet_service online_security online_backup device_protection  \\\n",
       "6599              DSL             0.0           0.0               0.0   \n",
       "\n",
       "     tech_support streaming_tv streaming_movies  gender  senior_citizen  \\\n",
       "6599          0.0          1.0              1.0  Female               0   \n",
       "\n",
       "      partner  dependents multiple_lines  begin_year  \n",
       "6599        1           0            1.0        2015  "
      ]
     },
     "execution_count": 20,
     "metadata": {},
     "output_type": "execute_result"
    }
   ],
   "source": [
    "df.sample()"
   ]
  },
  {
   "cell_type": "code",
   "execution_count": 21,
   "id": "3e74fba6",
   "metadata": {},
   "outputs": [
    {
     "name": "stdout",
     "output_type": "stream",
     "text": [
      "Unique Type: ['One year' 'Month-to-month' 'Two year']\n",
      "Unique Payment Method: ['Mailed check' 'Electronic check' 'Credit card (automatic)'\n",
      " 'Bank transfer (automatic)']\n",
      "Unique internet_service: ['DSL' 'Fiber optic' nan]\n"
     ]
    }
   ],
   "source": [
    "print('Unique Type:' , df['payment_type'].unique())\n",
    "print('Unique Payment Method:' , df['payment_method'].unique())\n",
    "print('Unique internet_service:', df['internet_service'].unique())"
   ]
  },
  {
   "cell_type": "code",
   "execution_count": 22,
   "id": "56dc83a6",
   "metadata": {},
   "outputs": [
    {
     "name": "stderr",
     "output_type": "stream",
     "text": [
      "C:\\Users\\Oliver\\AppData\\Local\\Temp\\ipykernel_19260\\1640476755.py:9: FutureWarning: Downcasting object dtype arrays on .fillna, .ffill, .bfill is deprecated and will change in a future version. Call result.infer_objects(copy=False) instead. To opt-in to the future behavior, set `pd.set_option('future.no_silent_downcasting', True)`\n",
      "  df['internet_service'] = df['internet_service'].map({'DSL': 1, 'Fiber optic': 2}).where(df['internet_service'].notna(), df['internet_service']).fillna(0)\n"
     ]
    },
    {
     "data": {
      "text/html": [
       "<div>\n",
       "<style scoped>\n",
       "    .dataframe tbody tr th:only-of-type {\n",
       "        vertical-align: middle;\n",
       "    }\n",
       "\n",
       "    .dataframe tbody tr th {\n",
       "        vertical-align: top;\n",
       "    }\n",
       "\n",
       "    .dataframe thead th {\n",
       "        text-align: right;\n",
       "    }\n",
       "</style>\n",
       "<table border=\"1\" class=\"dataframe\">\n",
       "  <thead>\n",
       "    <tr style=\"text-align: right;\">\n",
       "      <th></th>\n",
       "      <th>customer_id</th>\n",
       "      <th>churn</th>\n",
       "      <th>payment_type</th>\n",
       "      <th>paperless_billing</th>\n",
       "      <th>payment_method</th>\n",
       "      <th>monthly_charges</th>\n",
       "      <th>total_charges</th>\n",
       "      <th>internet_service</th>\n",
       "      <th>online_security</th>\n",
       "      <th>online_backup</th>\n",
       "      <th>device_protection</th>\n",
       "      <th>tech_support</th>\n",
       "      <th>streaming_tv</th>\n",
       "      <th>streaming_movies</th>\n",
       "      <th>gender</th>\n",
       "      <th>senior_citizen</th>\n",
       "      <th>partner</th>\n",
       "      <th>dependents</th>\n",
       "      <th>multiple_lines</th>\n",
       "      <th>begin_year</th>\n",
       "    </tr>\n",
       "  </thead>\n",
       "  <tbody>\n",
       "    <tr>\n",
       "      <th>1597</th>\n",
       "      <td>2324-EFHVG</td>\n",
       "      <td>0</td>\n",
       "      <td>2</td>\n",
       "      <td>1</td>\n",
       "      <td>2</td>\n",
       "      <td>104.4</td>\n",
       "      <td>6692.65</td>\n",
       "      <td>2.0</td>\n",
       "      <td>0.0</td>\n",
       "      <td>1.0</td>\n",
       "      <td>1.0</td>\n",
       "      <td>0.0</td>\n",
       "      <td>1.0</td>\n",
       "      <td>1.0</td>\n",
       "      <td>0</td>\n",
       "      <td>0</td>\n",
       "      <td>0</td>\n",
       "      <td>0</td>\n",
       "      <td>1.0</td>\n",
       "      <td>2014</td>\n",
       "    </tr>\n",
       "  </tbody>\n",
       "</table>\n",
       "</div>"
      ],
      "text/plain": [
       "     customer_id  churn  payment_type  paperless_billing  payment_method  \\\n",
       "1597  2324-EFHVG      0             2                  1               2   \n",
       "\n",
       "      monthly_charges  total_charges  internet_service online_security  \\\n",
       "1597            104.4        6692.65               2.0             0.0   \n",
       "\n",
       "     online_backup device_protection tech_support streaming_tv  \\\n",
       "1597           1.0               1.0          0.0          1.0   \n",
       "\n",
       "     streaming_movies  gender  senior_citizen  partner  dependents  \\\n",
       "1597              1.0       0               0        0           0   \n",
       "\n",
       "     multiple_lines  begin_year  \n",
       "1597            1.0        2014  "
      ]
     },
     "execution_count": 22,
     "metadata": {},
     "output_type": "execute_result"
    }
   ],
   "source": [
    "#tansformamos el resto de columnas categóricas a numéricas con mapeo\n",
    "df['payment_type'] = df['payment_type'].map({'Month-to-month': 0, 'One year': 1, 'Two year': 2})\n",
    "df['payment_method'] = df['payment_method'].map({\n",
    "    'Electronic check': 0,\n",
    "    'Mailed check': 1,\n",
    "    'Bank transfer (automatic)': 2,\n",
    "    'Credit card (automatic)': 3\n",
    "})\n",
    "df['internet_service'] = df['internet_service'].map({'DSL': 1, 'Fiber optic': 2}).where(df['internet_service'].notna(), df['internet_service']).fillna(0)\n",
    "df['gender'] = df['gender'].map({'Male': 0, 'Female': 1})\n",
    "df.sample()"
   ]
  },
  {
   "cell_type": "markdown",
   "id": "6c71e84f",
   "metadata": {},
   "source": [
    "Los valores ausentes se deben a que el cliente no estaba registrado en los respectivos dataframes, por lo que considero adecuado llenar todos estos con un 'No', de acuerdo a la notación de cada columna. Aunque es probable que se deba a otro factor, como una base de datos incompleta, así que haremos la prueba con ambos tipos de caso."
   ]
  },
  {
   "cell_type": "code",
   "execution_count": 23,
   "id": "a86babdd",
   "metadata": {},
   "outputs": [
    {
     "name": "stdout",
     "output_type": "stream",
     "text": [
      "<class 'pandas.core.frame.DataFrame'>\n",
      "Index: 7032 entries, 0 to 7042\n",
      "Data columns (total 20 columns):\n",
      " #   Column             Non-Null Count  Dtype  \n",
      "---  ------             --------------  -----  \n",
      " 0   customer_id        7032 non-null   object \n",
      " 1   churn              7032 non-null   int32  \n",
      " 2   payment_type       7032 non-null   int64  \n",
      " 3   paperless_billing  7032 non-null   int64  \n",
      " 4   payment_method     7032 non-null   int64  \n",
      " 5   monthly_charges    7032 non-null   float64\n",
      " 6   total_charges      7032 non-null   float64\n",
      " 7   internet_service   7032 non-null   float64\n",
      " 8   online_security    5512 non-null   object \n",
      " 9   online_backup      5512 non-null   object \n",
      " 10  device_protection  5512 non-null   object \n",
      " 11  tech_support       5512 non-null   object \n",
      " 12  streaming_tv       5512 non-null   object \n",
      " 13  streaming_movies   5512 non-null   object \n",
      " 14  gender             7032 non-null   int64  \n",
      " 15  senior_citizen     7032 non-null   int64  \n",
      " 16  partner            7032 non-null   int64  \n",
      " 17  dependents         7032 non-null   int64  \n",
      " 18  multiple_lines     6352 non-null   object \n",
      " 19  begin_year         7032 non-null   int32  \n",
      "dtypes: float64(3), int32(2), int64(7), object(8)\n",
      "memory usage: 1.1+ MB\n"
     ]
    }
   ],
   "source": [
    "df.info()"
   ]
  },
  {
   "cell_type": "code",
   "execution_count": 24,
   "id": "71551ad2",
   "metadata": {},
   "outputs": [
    {
     "name": "stderr",
     "output_type": "stream",
     "text": [
      "C:\\Users\\Oliver\\AppData\\Local\\Temp\\ipykernel_19260\\4100383662.py:2: FutureWarning: Downcasting object dtype arrays on .fillna, .ffill, .bfill is deprecated and will change in a future version. Call result.infer_objects(copy=False) instead. To opt-in to the future behavior, set `pd.set_option('future.no_silent_downcasting', True)`\n",
      "  df_no = df.copy().fillna(0)\n",
      "C:\\Users\\Oliver\\AppData\\Local\\Temp\\ipykernel_19260\\4100383662.py:6: FutureWarning: Downcasting object dtype arrays on .fillna, .ffill, .bfill is deprecated and will change in a future version. Call result.infer_objects(copy=False) instead. To opt-in to the future behavior, set `pd.set_option('future.no_silent_downcasting', True)`\n",
      "  df_alt[binary_columns] = df_alt[binary_columns].fillna(2)\n"
     ]
    }
   ],
   "source": [
    "#Creamos los dos dataframes\n",
    "df_no = df.copy().fillna(0)\n",
    "\n",
    "\n",
    "df_alt = df.copy()\n",
    "df_alt[binary_columns] = df_alt[binary_columns].fillna(2)"
   ]
  },
  {
   "cell_type": "code",
   "execution_count": 25,
   "id": "c3e8288e",
   "metadata": {},
   "outputs": [
    {
     "name": "stdout",
     "output_type": "stream",
     "text": [
      "<class 'pandas.core.frame.DataFrame'>\n",
      "Index: 7032 entries, 0 to 7042\n",
      "Data columns (total 20 columns):\n",
      " #   Column             Non-Null Count  Dtype  \n",
      "---  ------             --------------  -----  \n",
      " 0   customer_id        7032 non-null   object \n",
      " 1   churn              7032 non-null   int32  \n",
      " 2   payment_type       7032 non-null   int64  \n",
      " 3   paperless_billing  7032 non-null   int64  \n",
      " 4   payment_method     7032 non-null   int64  \n",
      " 5   monthly_charges    7032 non-null   float64\n",
      " 6   total_charges      7032 non-null   float64\n",
      " 7   internet_service   7032 non-null   float64\n",
      " 8   online_security    7032 non-null   float64\n",
      " 9   online_backup      7032 non-null   float64\n",
      " 10  device_protection  7032 non-null   float64\n",
      " 11  tech_support       7032 non-null   float64\n",
      " 12  streaming_tv       7032 non-null   float64\n",
      " 13  streaming_movies   7032 non-null   float64\n",
      " 14  gender             7032 non-null   int64  \n",
      " 15  senior_citizen     7032 non-null   int64  \n",
      " 16  partner            7032 non-null   int64  \n",
      " 17  dependents         7032 non-null   int64  \n",
      " 18  multiple_lines     7032 non-null   float64\n",
      " 19  begin_year         7032 non-null   int32  \n",
      "dtypes: float64(10), int32(2), int64(7), object(1)\n",
      "memory usage: 1.1+ MB\n"
     ]
    }
   ],
   "source": [
    "df_no.info()"
   ]
  },
  {
   "cell_type": "code",
   "execution_count": 26,
   "id": "6e622b7c",
   "metadata": {},
   "outputs": [
    {
     "name": "stdout",
     "output_type": "stream",
     "text": [
      "<class 'pandas.core.frame.DataFrame'>\n",
      "Index: 7032 entries, 0 to 7042\n",
      "Data columns (total 20 columns):\n",
      " #   Column             Non-Null Count  Dtype  \n",
      "---  ------             --------------  -----  \n",
      " 0   customer_id        7032 non-null   object \n",
      " 1   churn              7032 non-null   int32  \n",
      " 2   payment_type       7032 non-null   int64  \n",
      " 3   paperless_billing  7032 non-null   int64  \n",
      " 4   payment_method     7032 non-null   int64  \n",
      " 5   monthly_charges    7032 non-null   float64\n",
      " 6   total_charges      7032 non-null   float64\n",
      " 7   internet_service   7032 non-null   float64\n",
      " 8   online_security    7032 non-null   float64\n",
      " 9   online_backup      7032 non-null   float64\n",
      " 10  device_protection  7032 non-null   float64\n",
      " 11  tech_support       7032 non-null   float64\n",
      " 12  streaming_tv       7032 non-null   float64\n",
      " 13  streaming_movies   7032 non-null   float64\n",
      " 14  gender             7032 non-null   int64  \n",
      " 15  senior_citizen     7032 non-null   int64  \n",
      " 16  partner            7032 non-null   int64  \n",
      " 17  dependents         7032 non-null   int64  \n",
      " 18  multiple_lines     7032 non-null   float64\n",
      " 19  begin_year         7032 non-null   int32  \n",
      "dtypes: float64(10), int32(2), int64(7), object(1)\n",
      "memory usage: 1.1+ MB\n"
     ]
    }
   ],
   "source": [
    "df_alt.info()"
   ]
  },
  {
   "cell_type": "markdown",
   "id": "c7bffd08",
   "metadata": {},
   "source": [
    "## Selección de características"
   ]
  },
  {
   "cell_type": "markdown",
   "id": "7b1b662b",
   "metadata": {},
   "source": [
    "Vamos a probar diferentes modelos, pero primero haremos una prueba con el módulo Boruta para ver cuáles parámetros son significativos."
   ]
  },
  {
   "cell_type": "code",
   "execution_count": 27,
   "id": "00eb5c92",
   "metadata": {},
   "outputs": [
    {
     "name": "stdout",
     "output_type": "stream",
     "text": [
      "Iteration: 1 / 100\n",
      "Iteration: 2 / 100\n",
      "Iteration: 3 / 100\n",
      "Iteration: 4 / 100\n",
      "Iteration: 5 / 100\n",
      "Iteration: 6 / 100\n",
      "Iteration: 7 / 100\n",
      "Iteration: 8 / 100\n",
      "\n",
      "\n",
      "BorutaPy finished running.\n",
      "\n",
      "Iteration: \t9 / 100\n",
      "Confirmed: \t4\n",
      "Tentative: \t0\n",
      "Rejected: \t14\n",
      "Features seleccionadas por Boruta:\n",
      "Index(['payment_type', 'monthly_charges', 'total_charges', 'begin_year'], dtype='object')\n"
     ]
    }
   ],
   "source": [
    "#boruta para df_no\n",
    "X = df_no.drop(columns=['customer_id', 'churn'])\n",
    "y = df_no['churn']\n",
    "\n",
    "rf = RandomForestClassifier(n_estimators=100, random_state=42, n_jobs=-1)\n",
    "\n",
    "boruta_selector = BorutaPy(\n",
    "    estimator=rf,\n",
    "    n_estimators='auto',\n",
    "    max_iter=100,\n",
    "    random_state=42,\n",
    "    verbose=1\n",
    ")\n",
    "\n",
    "boruta_selector.fit(X.values, y.values)\n",
    "# Variables seleccionadas (True/False por cada feature)\n",
    "selected_mask = boruta_selector.support_\n",
    "\n",
    "# Nombres de las features seleccionadas\n",
    "selected_features = X.columns[selected_mask]\n",
    "\n",
    "print(\"Features seleccionadas por Boruta:\")\n",
    "print(selected_features)\n"
   ]
  },
  {
   "cell_type": "code",
   "execution_count": 28,
   "id": "41869c79",
   "metadata": {},
   "outputs": [
    {
     "name": "stdout",
     "output_type": "stream",
     "text": [
      "Iteration: 1 / 100\n",
      "Iteration: 2 / 100\n",
      "Iteration: 3 / 100\n",
      "Iteration: 4 / 100\n",
      "Iteration: 5 / 100\n",
      "Iteration: 6 / 100\n",
      "Iteration: 7 / 100\n",
      "Iteration: 8 / 100\n",
      "Iteration: 9 / 100\n",
      "Iteration: 10 / 100\n",
      "Iteration: 11 / 100\n",
      "Iteration: 12 / 100\n",
      "\n",
      "\n",
      "BorutaPy finished running.\n",
      "\n",
      "Iteration: \t13 / 100\n",
      "Confirmed: \t4\n",
      "Tentative: \t0\n",
      "Rejected: \t14\n",
      "Features seleccionadas por Boruta:\n",
      "['payment_type', 'monthly_charges', 'total_charges', 'begin_year']\n"
     ]
    }
   ],
   "source": [
    "#boruta para df_alt\n",
    "X = df_alt.drop(columns=['customer_id', 'churn'])\n",
    "y = df_alt['churn']\n",
    "\n",
    "rf = RandomForestClassifier(n_estimators=100, random_state=42, n_jobs=-1)\n",
    "\n",
    "boruta_selector = BorutaPy(\n",
    "    estimator=rf,\n",
    "    n_estimators='auto',\n",
    "    max_iter=100,\n",
    "    random_state=42,\n",
    "    verbose=1\n",
    ")\n",
    "\n",
    "boruta_selector.fit(X.values, y.values)\n",
    "# Variables seleccionadas (True/False por cada feature)\n",
    "selected_mask = boruta_selector.support_\n",
    "\n",
    "# Nombres de las features seleccionadas\n",
    "selected_features = X.columns[selected_mask]\n",
    "\n",
    "print(\"Features seleccionadas por Boruta:\")\n",
    "print(selected_features.tolist())\n"
   ]
  },
  {
   "cell_type": "markdown",
   "id": "f6621899",
   "metadata": {},
   "source": [
    "Para ambos dataframes nos dio el mismo resultado de las columnas importantes, podemos hacer la prueba para ver si en efecto el modelo es mejor con sólo esas features"
   ]
  },
  {
   "cell_type": "code",
   "execution_count": 29,
   "id": "d5d1ba9b",
   "metadata": {},
   "outputs": [],
   "source": [
    "def split(df, target='churn', test_size=0.25, random_state=42):\n",
    "    X = df.drop(columns=['customer_id', target])\n",
    "    y = df[target]\n",
    "    X_train, X_test, y_train, y_test = train_test_split(X, y, test_size=test_size, random_state=random_state)\n",
    "    return X_train, X_test, y_train, y_test\n",
    "\n",
    "X_train_no, X_test_no, y_train_no, y_test_no = split(df_no)\n",
    "X_train_alt, X_test_alt, y_train_alt, y_test_alt = split(df_alt)"
   ]
  },
  {
   "cell_type": "code",
   "execution_count": 30,
   "id": "2a73c582",
   "metadata": {},
   "outputs": [],
   "source": [
    "#Dataframe rellenado con 0 con características de Boruta\n",
    "#Como las columnas que se rellenaron con 0 no aparecen en la lista de Boruta, no es necesario hacerlo con df_alt\n",
    "df_bor = df_no.copy()[selected_features.tolist() + ['churn']]\n",
    "X = df_bor.drop(columns= 'churn')\n",
    "y = df_bor['churn']\n",
    "X_train_bor, X_test_bor, y_train_bor, y_test_bor = train_test_split(X, y, test_size=0.25, random_state=42)"
   ]
  },
  {
   "cell_type": "code",
   "execution_count": 31,
   "id": "cfa231c1",
   "metadata": {},
   "outputs": [],
   "source": [
    "def test_rf(X_train, y_train, X_test, y_test):\n",
    "    rf = RandomForestClassifier(n_estimators=100, random_state=314)\n",
    "    rf.fit(X_train, y_train)\n",
    "    predictions = rf.predict(X_test)\n",
    "    f1 = f1_score(y_test, predictions)\n",
    "\n",
    "    y_proba = rf.predict_proba(X_test)[:, 1]\n",
    "    roc_prob = roc_auc_score(y_test, y_proba)\n",
    "\n",
    "    recall = recall_score(y_test, predictions)\n",
    "    \n",
    "    print(f\"F1 score: {f1:.4f}, Recall Score: {recall:.4f} ROC_AUC score: {roc_prob:.4f}\")\n",
    "    return"
   ]
  },
  {
   "cell_type": "code",
   "execution_count": 32,
   "id": "4c1d56c0",
   "metadata": {},
   "outputs": [
    {
     "name": "stdout",
     "output_type": "stream",
     "text": [
      "Para df con valores nulos rellenados con 0:\n",
      "F1 score: 0.6161, Recall Score: 0.5408 ROC_AUC score: 0.8558\n",
      "\n",
      "Para df con valores nulos rellenados con 2:\n",
      "F1 score: 0.6201, Recall Score: 0.5429 ROC_AUC score: 0.8554\n",
      "\n",
      "Para df con features seleccionadas por Boruta:\n",
      "F1 score: 0.6159, Recall Score: 0.5730 ROC_AUC score: 0.8520\n"
     ]
    }
   ],
   "source": [
    "print('Para df con valores nulos rellenados con 0:')\n",
    "test_rf(X_train_no, y_train_no, X_test_no, y_test_no)\n",
    "print()\n",
    "print('Para df con valores nulos rellenados con 2:')\n",
    "test_rf(X_train_alt, y_train_alt, X_test_alt, y_test_alt)\n",
    "print()\n",
    "print('Para df con features seleccionadas por Boruta:')\n",
    "test_rf(X_train_bor, y_train_bor, X_test_bor, y_test_bor)"
   ]
  },
  {
   "cell_type": "markdown",
   "id": "934cc2e0",
   "metadata": {},
   "source": [
    "La diferencia entre usar cualquiera de los 3 dataframes es relativamente baja, pero el de los features determinados por Boruta nos dan el recall score más alto de los 3, así que podemos trabajar con este."
   ]
  },
  {
   "cell_type": "markdown",
   "id": "05267a67",
   "metadata": {},
   "source": [
    "## Modelos de Machine Learning"
   ]
  },
  {
   "cell_type": "markdown",
   "id": "44daba35",
   "metadata": {},
   "source": [
    "Vamos a probar diferentes modelos para ver cuál es el que mejor nos funciona, hizimos una prueba preeliminar con Random Forest para elegir con qué características trabajar, pero podemos mejorarlo consdierablemente con ajuste de hiper parámetros. Los modelos que voy a probar son SelectKBest, RandomForest, LogisticRegression, DecisionTreeClassifier y LGMB Classifier."
   ]
  },
  {
   "cell_type": "markdown",
   "id": "ee3bf4eb",
   "metadata": {},
   "source": [
    "### KNeighborsClassifier"
   ]
  },
  {
   "cell_type": "code",
   "execution_count": 33,
   "id": "842b7025",
   "metadata": {},
   "outputs": [],
   "source": [
    "X = df_bor.drop(columns='churn')\n",
    "y = df_bor['churn']\n",
    "\n",
    "X_train, X_test, y_train, y_test = train_test_split(X, y, test_size=0.25, random_state=123)\n",
    "\n",
    "#Realizamos el escalado de las características\n",
    "scaler = StandardScaler()\n",
    "X_scaled = scaler.fit_transform(X)\n",
    "\n",
    "X_train_scaled, X_test_scaled, y_train, y_test = train_test_split(X_scaled, y, test_size=0.25, random_state=123)"
   ]
  },
  {
   "cell_type": "code",
   "execution_count": 34,
   "id": "9f107c22",
   "metadata": {},
   "outputs": [],
   "source": [
    "def evaluate_model(model, x_test, y_test, preds):\n",
    "    f1 = f1_score(y_test, preds)\n",
    "    y_proba = model.predict_proba(x_test)[:, 1]\n",
    "    roc_prob = roc_auc_score(y_test, y_proba)\n",
    "    recall = recall_score(y_test, preds)\n",
    "\n",
    "    return {\n",
    "        'F1': round(f1, 4),\n",
    "        'Recall': round(recall, 4),\n",
    "        'ROC AUC': round(roc_prob, 4)\n",
    "    }"
   ]
  },
  {
   "cell_type": "code",
   "execution_count": 35,
   "id": "3b276ef9",
   "metadata": {},
   "outputs": [
    {
     "name": "stdout",
     "output_type": "stream",
     "text": [
      "Mejor valor de k: 22\n",
      "Score promedio con k=22: 0.8258\n"
     ]
    }
   ],
   "source": [
    "#Obtenemos el mejor valor de k para KNeighborsClassifier\n",
    "k_range = range(1, 31)\n",
    "scores = []\n",
    "\n",
    "for k in k_range:\n",
    "    knn = KNeighborsClassifier(n_neighbors=k)\n",
    "    cv_scores = cross_val_score(knn, X_scaled, y, cv=5, scoring= None)\n",
    "    scores.append(np.mean(cv_scores))\n",
    "\n",
    "# Mostrar mejor k\n",
    "best_k = k_range[np.argmax(scores)]\n",
    "print(f\"Mejor valor de k: {best_k}\")\n",
    "print(f\"Score promedio con k={best_k}: {max(scores):.4f}\")"
   ]
  },
  {
   "cell_type": "code",
   "execution_count": 36,
   "id": "f48bcff9",
   "metadata": {},
   "outputs": [
    {
     "data": {
      "text/plain": [
       "{'F1': 0.5859, 'Recall': 0.5088, 'ROC AUC': 0.8603}"
      ]
     },
     "execution_count": 36,
     "metadata": {},
     "output_type": "execute_result"
    }
   ],
   "source": [
    "#Y ahora creamos el modelo con el mejor k\n",
    "knn = KNeighborsClassifier(n_neighbors=22)\n",
    "knn.fit(X_train_scaled, y_train)\n",
    "k_preds = knn.predict(X_test_scaled)\n",
    "\n",
    "final_knn = evaluate_model(knn, X_test_scaled, y_test, k_preds)\n",
    "final_knn"
   ]
  },
  {
   "cell_type": "markdown",
   "id": "1c5761ba",
   "metadata": {},
   "source": [
    "Es muy bajo el recall score para KNN, vamos a ver si los otros modelos mejoran. Sus métricas fueron:\n",
    "\n",
    "F1 score: 0.5859, Recall Score: 0.5088,  ROC_AUC score: 0.8603"
   ]
  },
  {
   "cell_type": "markdown",
   "id": "24ed4e83",
   "metadata": {},
   "source": [
    "### LogisticRegression"
   ]
  },
  {
   "cell_type": "code",
   "execution_count": 37,
   "id": "c2c608a8",
   "metadata": {},
   "outputs": [
    {
     "data": {
      "text/plain": [
       "{'F1': 0.5594, 'Recall': 0.7588, 'ROC AUC': 0.8107}"
      ]
     },
     "execution_count": 37,
     "metadata": {},
     "output_type": "execute_result"
    }
   ],
   "source": [
    "lr = LogisticRegression(max_iter=1000, random_state=123, solver='liblinear', class_weight='balanced')\n",
    "lr.fit(X_train_scaled, y_train)\n",
    "lr_preds = lr.predict(X_test_scaled)\n",
    "evaluate_model(lr, X_test_scaled, y_test, lr_preds)"
   ]
  },
  {
   "cell_type": "code",
   "execution_count": 38,
   "id": "12970a4c",
   "metadata": {},
   "outputs": [
    {
     "data": {
      "text/plain": [
       "{'F1': 0.5646, 'Recall': 0.7522, 'ROC AUC': 0.808}"
      ]
     },
     "execution_count": 38,
     "metadata": {},
     "output_type": "execute_result"
    }
   ],
   "source": [
    "lr_1 = LogisticRegression(max_iter=1000, random_state=123, solver='liblinear', class_weight='balanced')\n",
    "lr_1.fit(X_train, y_train)\n",
    "lr_1_preds = lr_1.predict(X_test)\n",
    "evaluate_model(lr_1, X_test, y_test, lr_1_preds)"
   ]
  },
  {
   "cell_type": "code",
   "execution_count": 39,
   "id": "aa7d7eb9",
   "metadata": {},
   "outputs": [
    {
     "data": {
      "text/plain": [
       "{'F1': 0.3943, 'Recall': 0.5687, 'ROC AUC': 0.5577}"
      ]
     },
     "execution_count": 39,
     "metadata": {},
     "output_type": "execute_result"
    }
   ],
   "source": [
    "lr_2 = LogisticRegression(max_iter=1000, random_state=123, solver='liblinear', class_weight='balanced')\n",
    "lr_2.fit(X_train_no, y_train)\n",
    "lr_2_preds = lr_2.predict(X_test_no)\n",
    "evaluate_model(lr_2, X_test_no, y_test_no, lr_2_preds)"
   ]
  },
  {
   "cell_type": "code",
   "execution_count": 40,
   "id": "8742e525",
   "metadata": {},
   "outputs": [
    {
     "data": {
      "text/plain": [
       "{'F1': 0.6068, 'Recall': 0.7833, 'ROC AUC': 0.8284}"
      ]
     },
     "execution_count": 40,
     "metadata": {},
     "output_type": "execute_result"
    }
   ],
   "source": [
    "#Regresión logística con el dataframe rellenado con 2\n",
    "lr_3 = LogisticRegression(max_iter=1000, random_state=123, solver='liblinear', class_weight='balanced')\n",
    "lr_3.fit(X_train_alt, y_train_alt)\n",
    "lr_3_preds = lr_3.predict(X_test_alt)\n",
    "final_lr = evaluate_model(lr_3, X_test_alt, y_test_alt, lr_3_preds)\n",
    "final_lr"
   ]
  },
  {
   "cell_type": "markdown",
   "id": "3ed5a02c",
   "metadata": {},
   "source": [
    "El modelo de Regresión Logística que mejores resultados nos dio fue el que usa los datos nulos que se rellenaron con dos, muy cerca del que usó sólo las caracerísticas seleccionadas por boruta, pero con mejor evaluación en todas las métricas utilizadas."
   ]
  },
  {
   "cell_type": "markdown",
   "id": "84202aaa",
   "metadata": {},
   "source": [
    "### Random Forest"
   ]
  },
  {
   "cell_type": "markdown",
   "id": "d08c2caa",
   "metadata": {},
   "source": [
    "Ahora vamos a probar RandomForestClassifier, vamos a buscar primero los mejores parámetros para nuestro modelo, y después lo probaremos "
   ]
  },
  {
   "cell_type": "code",
   "execution_count": 41,
   "id": "6d29df6d",
   "metadata": {},
   "outputs": [],
   "source": [
    "def best_rf(X_train, X_test, y_train = y_train, y_test = y_test):\n",
    "    best_f1 = 0\n",
    "    best_recall = 0\n",
    "    best_est = 0\n",
    "    best_depth = 0\n",
    "\n",
    "    for est in range(1, 51):\n",
    "        for depth in range(1, 21):\n",
    "            model_rf = RandomForestClassifier(\n",
    "                random_state=12345,\n",
    "                n_estimators=est,\n",
    "                max_depth=depth\n",
    "            )\n",
    "            model_rf.fit(X_train, y_train)\n",
    "            rf_test_preds = model_rf.predict(X_test)\n",
    "\n",
    "            f1 = f1_score(y_test, rf_test_preds)\n",
    "            recall = recall_score(y_test, rf_test_preds)\n",
    "\n",
    "            if f1 > best_f1:\n",
    "                best_f1 = f1\n",
    "                best_recall = recall\n",
    "                best_est = est\n",
    "                best_depth = depth\n",
    "\n",
    "    print(f\"El mejor modelo de Random Forest tiene {best_est} estimadores, Profundidad máxima de {best_depth}, F1-score: {best_f1:.4f}, y Recall: {best_recall:.4f}\")\n",
    "    return"
   ]
  },
  {
   "cell_type": "code",
   "execution_count": 42,
   "id": "06a9b07b",
   "metadata": {},
   "outputs": [],
   "source": [
    "#features con boruta\n",
    "#best_rf(X_train, X_test)"
   ]
  },
  {
   "cell_type": "markdown",
   "id": "0007726c",
   "metadata": {},
   "source": [
    "Para features con boruta:\n",
    "\n",
    "El mejor modelo de Random Forest tiene 24 estimadores, Profundidad máxima de 15, F1-score: 0.6201, y Recall: 0.5746"
   ]
  },
  {
   "cell_type": "code",
   "execution_count": 43,
   "id": "1b72752f",
   "metadata": {},
   "outputs": [],
   "source": [
    "#features rellenados con 2\n",
    "#best_rf(X_train_alt, X_test_alt)"
   ]
  },
  {
   "cell_type": "markdown",
   "id": "cf09ec02",
   "metadata": {},
   "source": [
    "Para features rellenados con 2:\n",
    "\n",
    "El mejor modelo de Random Forest tiene 1 estimadores, Profundidad máxima de 20, F1-score: 0.3026, y Recall: 0.3026"
   ]
  },
  {
   "cell_type": "code",
   "execution_count": 44,
   "id": "72ebbaf6",
   "metadata": {},
   "outputs": [],
   "source": [
    "#features rellenados con 0\n",
    "#best_rf(X_train_no, X_test_no)"
   ]
  },
  {
   "cell_type": "markdown",
   "id": "fa70b3d1",
   "metadata": {},
   "source": [
    "Para features rellenados con 0:\n",
    "\n",
    "El mejor modelo de Random Forest tiene 1 estimadores, Profundidad máxima de 18, F1-score: 0.2892, y Recall: 0.2895"
   ]
  },
  {
   "cell_type": "markdown",
   "id": "179916be",
   "metadata": {},
   "source": [
    "Lo que más conviene es utilizar el modelo con Boruta"
   ]
  },
  {
   "cell_type": "code",
   "execution_count": 45,
   "id": "5cee6699",
   "metadata": {},
   "outputs": [
    {
     "data": {
      "text/plain": [
       "{'F1': 0.6201, 'Recall': 0.5746, 'ROC AUC': 0.843}"
      ]
     },
     "execution_count": 45,
     "metadata": {},
     "output_type": "execute_result"
    }
   ],
   "source": [
    "rf = RandomForestClassifier(n_estimators=24, max_depth=15, random_state=12345)\n",
    "rf.fit(X_train, y_train)\n",
    "rf_preds = rf.predict(X_test)\n",
    "final_rf = evaluate_model(rf, X_test, y_test, rf_preds)\n",
    "final_rf"
   ]
  },
  {
   "cell_type": "markdown",
   "id": "559d6ad1",
   "metadata": {},
   "source": [
    "### Árbol de decisión"
   ]
  },
  {
   "cell_type": "code",
   "execution_count": 46,
   "id": "11bed659",
   "metadata": {},
   "outputs": [
    {
     "name": "stdout",
     "output_type": "stream",
     "text": [
      "Mejor profundidad = 4 con exactitud de 0.8139931740614335\n"
     ]
    }
   ],
   "source": [
    "best_tree_depth = 0\n",
    "best_accuracy = 0\n",
    "for depth in range(1,51): \n",
    "    model_tree = DecisionTreeClassifier(random_state=12345, max_depth=depth)\n",
    "    model_tree.fit(X_train, y_train)\n",
    "    tree_preds = model_tree.predict(X_test)\n",
    "    tree_score = accuracy_score(y_test, tree_preds)\n",
    "    if tree_score > best_accuracy:\n",
    "        best_tree_depth = depth\n",
    "        best_accuracy= tree_score\n",
    "print('Mejor profundidad =', best_tree_depth, 'con exactitud de', best_accuracy)"
   ]
  },
  {
   "cell_type": "code",
   "execution_count": 47,
   "id": "eab92cfb",
   "metadata": {},
   "outputs": [
    {
     "name": "stderr",
     "output_type": "stream",
     "text": [
      "c:\\Users\\Oliver\\anaconda3\\Lib\\site-packages\\sklearn\\metrics\\_classification.py:1531: UndefinedMetricWarning: Recall is ill-defined and being set to 0.0 due to no true samples. Use `zero_division` parameter to control this behavior.\n",
      "  _warn_prf(average, modifier, f\"{metric.capitalize()} is\", len(result))\n"
     ]
    },
    {
     "name": "stdout",
     "output_type": "stream",
     "text": [
      "Mejor profundidad = 6 con recall de 0.714765100671141\n"
     ]
    }
   ],
   "source": [
    "best_tree_depth = 0\n",
    "best_accuracy = 0\n",
    "for depth in range(1,51): \n",
    "    model_tree = DecisionTreeClassifier(random_state=12345, max_depth=depth)\n",
    "    model_tree.fit(X_train, y_train)\n",
    "    tree_preds = model_tree.predict(X_test)\n",
    "    tree_score = recall_score(tree_preds, y_test)\n",
    "    if tree_score > best_accuracy:\n",
    "        best_tree_depth = depth\n",
    "        best_accuracy= tree_score\n",
    "print('Mejor profundidad =', best_tree_depth, 'con recall de', best_accuracy)"
   ]
  },
  {
   "cell_type": "markdown",
   "id": "071f9ede",
   "metadata": {},
   "source": [
    "Mejor profundidad = 4 con exactitud de 0.8139931740614335"
   ]
  },
  {
   "cell_type": "code",
   "execution_count": 48,
   "id": "4e363d74",
   "metadata": {},
   "outputs": [
    {
     "data": {
      "text/plain": [
       "{'F1': 0.5948, 'Recall': 0.5263, 'ROC AUC': 0.8341}"
      ]
     },
     "execution_count": 48,
     "metadata": {},
     "output_type": "execute_result"
    }
   ],
   "source": [
    "tree = DecisionTreeClassifier(random_state=12345, max_depth=4)\n",
    "tree.fit(X_train, y_train)\n",
    "tree_preds = tree.predict(X_test)\n",
    "decision_tree_final = evaluate_model(tree, X_test, y_test, tree_preds)\n",
    "decision_tree_final"
   ]
  },
  {
   "cell_type": "code",
   "execution_count": 49,
   "id": "fe9d1390",
   "metadata": {},
   "outputs": [
    {
     "data": {
      "text/plain": [
       "{'F1': 0.565, 'Recall': 0.4671, 'ROC AUC': 0.8542}"
      ]
     },
     "execution_count": 49,
     "metadata": {},
     "output_type": "execute_result"
    }
   ],
   "source": [
    "tree = DecisionTreeClassifier(random_state=12345, max_depth=6)\n",
    "tree.fit(X_train, y_train)\n",
    "tree_preds = tree.predict(X_test)\n",
    "evaluate_model(tree, X_test, y_test, tree_preds)"
   ]
  },
  {
   "cell_type": "markdown",
   "id": "43a17a10",
   "metadata": {},
   "source": [
    "### LGMBClassifier"
   ]
  },
  {
   "cell_type": "code",
   "execution_count": 50,
   "id": "664923e1",
   "metadata": {},
   "outputs": [
    {
     "name": "stdout",
     "output_type": "stream",
     "text": [
      "El mejor modelo de LGBM es con 176 estimadores, una profundidad máxima de 20 y da un recall score de 0.5614035087719298\n"
     ]
    }
   ],
   "source": [
    "\n",
    "\n",
    "best_score = 0\n",
    "best_est= 0\n",
    "best_depth = 0\n",
    "\n",
    "for est in range(1, 301, 25):\n",
    "    for depth in range(1, 31):\n",
    "        model_lgbm = LGBMClassifier(n_estimators=est, max_depth=depth, random_state=12345,\n",
    "                                    verbose = -1) #Para evitar que sature el notebook con logs.\n",
    "        model_lgbm.fit(X_train, y_train)\n",
    "\n",
    "        lgbm_preds = model_lgbm.predict(X_test)\n",
    "        score = recall_score(y_test, lgbm_preds)\n",
    "        if score > best_score:\n",
    "            best_score = score\n",
    "            best_est= est\n",
    "            best_depth = depth\n",
    "\n",
    "print('El mejor modelo de LGBM es con', best_est, 'estimadores, una profundidad máxima de', best_depth, 'y da un recall score de', best_score)"
   ]
  },
  {
   "cell_type": "markdown",
   "id": "d77f711b",
   "metadata": {},
   "source": [
    "El mejor modelo de LGBM para df_bor es con 101 estimadores, una profundidad máxima de 10 y da un f1 score de 0.6036363636363636\n",
    "\n",
    "\n",
    "\n",
    "El mejor modelo de LGBM para df_alt es con con 176 estimadores, una profundidad máxima de 8 y da un f1 score de 0.07879924953095685\n",
    "\n",
    "El mejor modelo de LGBM para df_no es con con 176 estimadores, una profundidad máxima de 9 y da un f1 score de 0.09157509157509157\n"
   ]
  },
  {
   "cell_type": "markdown",
   "id": "3808f6c8",
   "metadata": {},
   "source": [
    "Se realizaron más pruebas, pero con diferentes parámetros no mejoran significativamente, la mejor opción para LGBM es utilizar los features propuestos por boruta."
   ]
  },
  {
   "cell_type": "code",
   "execution_count": 51,
   "id": "79158c00",
   "metadata": {},
   "outputs": [
    {
     "data": {
      "text/plain": [
       "{'F1': 0.6036, 'Recall': 0.5461, 'ROC AUC': 0.8555}"
      ]
     },
     "execution_count": 51,
     "metadata": {},
     "output_type": "execute_result"
    }
   ],
   "source": [
    "lgbm = LGBMClassifier(n_estimators=101, max_depth = 10, random_state=12345, verbose=-1)\n",
    "lgbm.fit(X_train, y_train)\n",
    "lgbm_preds = lgbm.predict(X_test)\n",
    "final_lgbm =evaluate_model(lgbm, X_test, y_test, lgbm_preds)\n",
    "final_lgbm"
   ]
  },
  {
   "cell_type": "markdown",
   "id": "f63dc57d",
   "metadata": {},
   "source": [
    "### XGBoost"
   ]
  },
  {
   "cell_type": "code",
   "execution_count": 52,
   "id": "83f35fe7",
   "metadata": {},
   "outputs": [],
   "source": [
    "def rate_xgb(X_train, X_test, y_train= y_train, y_test=y_test):\n",
    "    best_recall = 0\n",
    "    best_estimators = 0\n",
    "    best_depth = 0\n",
    "\n",
    "    for est in range(10, 201, 10):\n",
    "        for depth in range(3, 15):\n",
    "            model = XGBClassifier(\n",
    "                n_estimators=est,\n",
    "                max_depth=depth,\n",
    "                eval_metric='logloss',\n",
    "                random_state=42\n",
    "            )\n",
    "            model.fit(X_train, y_train)\n",
    "            y_pred = model.predict(X_test)\n",
    "            recall = recall_score(y_test, y_pred)\n",
    "\n",
    "            if recall > best_recall:\n",
    "                best_recall = recall\n",
    "                best_estimators = est\n",
    "                best_depth = depth\n",
    "\n",
    "    print('El mejor modelo de XGBoost es con', best_estimators, 'estimadores, una profundidad máxima de', best_depth, 'y da un score de', best_recall)\n",
    "    return"
   ]
  },
  {
   "cell_type": "code",
   "execution_count": 53,
   "id": "dcec5d81",
   "metadata": {},
   "outputs": [],
   "source": [
    "#rate_xgb(X_train_alt, X_test_alt)"
   ]
  },
  {
   "cell_type": "markdown",
   "id": "75c2fe8b",
   "metadata": {},
   "source": [
    "El mejor modelo de XGBoost es con 50 estimadores, una profundidad máxima de 13 y da un recall score de 0.5855263157894737\n",
    "\n",
    "El mejor modelo de XGBoost es con 10 estimadores, una profundidad máxima de 12 y da un f1 score de 0.6173708920187794\n",
    "\n"
   ]
  },
  {
   "cell_type": "markdown",
   "id": "51eb84f7",
   "metadata": {},
   "source": [
    "Los mejores resultados para XGBoost también fueron utilizando la versión del datarame de features seleccionados por Boruta"
   ]
  },
  {
   "cell_type": "code",
   "execution_count": 54,
   "id": "ebe9d402",
   "metadata": {},
   "outputs": [
    {
     "data": {
      "text/plain": [
       "{'F1': 0.6152, 'Recall': 0.5855, 'ROC AUC': 0.8463}"
      ]
     },
     "execution_count": 54,
     "metadata": {},
     "output_type": "execute_result"
    }
   ],
   "source": [
    "xgb = XGBClassifier(n_estimators=50, max_depth=13, random_state=12345)\n",
    "xgb.fit(X_train, y_train)\n",
    "xgb_preds = xgb.predict(X_test)\n",
    "final_xgb = evaluate_model(xgb, X_test, y_test, xgb_preds)\n",
    "final_xgb"
   ]
  },
  {
   "cell_type": "markdown",
   "id": "9461a82a",
   "metadata": {},
   "source": [
    "## Selección del modelo"
   ]
  },
  {
   "cell_type": "markdown",
   "id": "0b04fa05",
   "metadata": {},
   "source": [
    "Ya hicimos la prueba de varios modelos, vamos a hacer una comparación del rendimiento de cada uno para ver cuál elegimos"
   ]
  },
  {
   "cell_type": "code",
   "execution_count": 55,
   "id": "e5b344ef",
   "metadata": {},
   "outputs": [
    {
     "name": "stdout",
     "output_type": "stream",
     "text": [
      "                        F1  Recall  ROC AUC\n",
      "Modelo                                     \n",
      "KNN                 0.5859  0.5088   0.8603\n",
      "LogisticRegression  0.6068  0.7833   0.8284\n",
      "RandomForest        0.6201  0.5746   0.8430\n",
      "DecisionTree        0.5948  0.5263   0.8341\n",
      "LGBM                0.6036  0.5461   0.8555\n",
      "XGB                 0.6152  0.5855   0.8463\n"
     ]
    }
   ],
   "source": [
    "results = pd.DataFrame([\n",
    "    {'Modelo': 'KNN', **final_knn},\n",
    "    {'Modelo': 'LogisticRegression', **final_lr},\n",
    "    {'Modelo': 'RandomForest', **final_rf},\n",
    "    {'Modelo': 'DecisionTree', **decision_tree_final},\n",
    "    {'Modelo': 'LGBM', **final_lgbm}, \n",
    "    {'Modelo': 'XGB', **final_xgb}\n",
    "])\n",
    "\n",
    "print(results.set_index('Modelo'))\n"
   ]
  },
  {
   "cell_type": "markdown",
   "id": "deb012ff",
   "metadata": {},
   "source": [
    "El modelo que mejor se desempeña para nuestro objetivo es LogisticRegression, tiene un valor F1 de .60 y un recall score de .78, con un valor de ROC_AUC ligeramente menor al resto, pero en nuestra métrica objetivo de recall se desempeña considerablemente mejor. Éste se trabajó con el dataframe que usaba todos los features, y rellenaba los datos ausentes con un 2."
   ]
  },
  {
   "cell_type": "code",
   "execution_count": 56,
   "id": "638925a3",
   "metadata": {},
   "outputs": [],
   "source": [
    "final_model = lr_3\n",
    "X = df_alt.drop(columns= ['customer_id', 'churn'])"
   ]
  },
  {
   "cell_type": "markdown",
   "id": "8488d3b3",
   "metadata": {},
   "source": [
    "Con nuestro modelo, podemos utilizar la función que tiene para predecir probabilidad (.predict_proba) y utilizar los datos de personas que no han cancelado y tengan alta probabilidad de cancelación, dependiendod el umbral que se establezca, para ofrecer promociones u otro tipo de atención personalizada."
   ]
  },
  {
   "cell_type": "code",
   "execution_count": 57,
   "id": "4ad2b910",
   "metadata": {},
   "outputs": [
    {
     "data": {
      "text/html": [
       "<div>\n",
       "<style scoped>\n",
       "    .dataframe tbody tr th:only-of-type {\n",
       "        vertical-align: middle;\n",
       "    }\n",
       "\n",
       "    .dataframe tbody tr th {\n",
       "        vertical-align: top;\n",
       "    }\n",
       "\n",
       "    .dataframe thead th {\n",
       "        text-align: right;\n",
       "    }\n",
       "</style>\n",
       "<table border=\"1\" class=\"dataframe\">\n",
       "  <thead>\n",
       "    <tr style=\"text-align: right;\">\n",
       "      <th></th>\n",
       "      <th>customer_id</th>\n",
       "      <th>churn</th>\n",
       "      <th>payment_type</th>\n",
       "      <th>paperless_billing</th>\n",
       "      <th>payment_method</th>\n",
       "      <th>monthly_charges</th>\n",
       "      <th>total_charges</th>\n",
       "      <th>internet_service</th>\n",
       "      <th>online_security</th>\n",
       "      <th>online_backup</th>\n",
       "      <th>...</th>\n",
       "      <th>tech_support</th>\n",
       "      <th>streaming_tv</th>\n",
       "      <th>streaming_movies</th>\n",
       "      <th>gender</th>\n",
       "      <th>senior_citizen</th>\n",
       "      <th>partner</th>\n",
       "      <th>dependents</th>\n",
       "      <th>multiple_lines</th>\n",
       "      <th>begin_year</th>\n",
       "      <th>churn_prob</th>\n",
       "    </tr>\n",
       "  </thead>\n",
       "  <tbody>\n",
       "    <tr>\n",
       "      <th>5590</th>\n",
       "      <td>7872-RDDLZ</td>\n",
       "      <td>0</td>\n",
       "      <td>0</td>\n",
       "      <td>0</td>\n",
       "      <td>0</td>\n",
       "      <td>54.90</td>\n",
       "      <td>3725.50</td>\n",
       "      <td>1.0</td>\n",
       "      <td>0.0</td>\n",
       "      <td>1.0</td>\n",
       "      <td>...</td>\n",
       "      <td>0.0</td>\n",
       "      <td>0.0</td>\n",
       "      <td>0.0</td>\n",
       "      <td>1</td>\n",
       "      <td>1</td>\n",
       "      <td>0</td>\n",
       "      <td>0</td>\n",
       "      <td>1.0</td>\n",
       "      <td>2014</td>\n",
       "      <td>0.417433</td>\n",
       "    </tr>\n",
       "    <tr>\n",
       "      <th>2230</th>\n",
       "      <td>3190-XFANI</td>\n",
       "      <td>1</td>\n",
       "      <td>1</td>\n",
       "      <td>1</td>\n",
       "      <td>2</td>\n",
       "      <td>100.60</td>\n",
       "      <td>5069.65</td>\n",
       "      <td>2.0</td>\n",
       "      <td>0.0</td>\n",
       "      <td>0.0</td>\n",
       "      <td>...</td>\n",
       "      <td>1.0</td>\n",
       "      <td>1.0</td>\n",
       "      <td>1.0</td>\n",
       "      <td>0</td>\n",
       "      <td>0</td>\n",
       "      <td>0</td>\n",
       "      <td>1</td>\n",
       "      <td>1.0</td>\n",
       "      <td>2015</td>\n",
       "      <td>0.372419</td>\n",
       "    </tr>\n",
       "    <tr>\n",
       "      <th>1859</th>\n",
       "      <td>2696-ECXKC</td>\n",
       "      <td>0</td>\n",
       "      <td>1</td>\n",
       "      <td>0</td>\n",
       "      <td>1</td>\n",
       "      <td>100.90</td>\n",
       "      <td>5448.60</td>\n",
       "      <td>2.0</td>\n",
       "      <td>1.0</td>\n",
       "      <td>0.0</td>\n",
       "      <td>...</td>\n",
       "      <td>0.0</td>\n",
       "      <td>1.0</td>\n",
       "      <td>1.0</td>\n",
       "      <td>1</td>\n",
       "      <td>0</td>\n",
       "      <td>1</td>\n",
       "      <td>1</td>\n",
       "      <td>1.0</td>\n",
       "      <td>2015</td>\n",
       "      <td>0.288006</td>\n",
       "    </tr>\n",
       "    <tr>\n",
       "      <th>4958</th>\n",
       "      <td>6980-IMXXE</td>\n",
       "      <td>0</td>\n",
       "      <td>2</td>\n",
       "      <td>0</td>\n",
       "      <td>2</td>\n",
       "      <td>20.20</td>\n",
       "      <td>1412.65</td>\n",
       "      <td>0.0</td>\n",
       "      <td>NaN</td>\n",
       "      <td>NaN</td>\n",
       "      <td>...</td>\n",
       "      <td>NaN</td>\n",
       "      <td>NaN</td>\n",
       "      <td>NaN</td>\n",
       "      <td>1</td>\n",
       "      <td>0</td>\n",
       "      <td>1</td>\n",
       "      <td>1</td>\n",
       "      <td>0.0</td>\n",
       "      <td>2014</td>\n",
       "      <td>0.030367</td>\n",
       "    </tr>\n",
       "    <tr>\n",
       "      <th>5903</th>\n",
       "      <td>8313-AFGBW</td>\n",
       "      <td>0</td>\n",
       "      <td>2</td>\n",
       "      <td>0</td>\n",
       "      <td>0</td>\n",
       "      <td>73.60</td>\n",
       "      <td>3522.65</td>\n",
       "      <td>1.0</td>\n",
       "      <td>0.0</td>\n",
       "      <td>1.0</td>\n",
       "      <td>...</td>\n",
       "      <td>0.0</td>\n",
       "      <td>1.0</td>\n",
       "      <td>1.0</td>\n",
       "      <td>0</td>\n",
       "      <td>0</td>\n",
       "      <td>1</td>\n",
       "      <td>0</td>\n",
       "      <td>0.0</td>\n",
       "      <td>2016</td>\n",
       "      <td>0.119776</td>\n",
       "    </tr>\n",
       "    <tr>\n",
       "      <th>836</th>\n",
       "      <td>1217-VASWC</td>\n",
       "      <td>0</td>\n",
       "      <td>1</td>\n",
       "      <td>1</td>\n",
       "      <td>2</td>\n",
       "      <td>100.55</td>\n",
       "      <td>4304.00</td>\n",
       "      <td>2.0</td>\n",
       "      <td>0.0</td>\n",
       "      <td>1.0</td>\n",
       "      <td>...</td>\n",
       "      <td>0.0</td>\n",
       "      <td>1.0</td>\n",
       "      <td>1.0</td>\n",
       "      <td>0</td>\n",
       "      <td>1</td>\n",
       "      <td>1</td>\n",
       "      <td>0</td>\n",
       "      <td>0.0</td>\n",
       "      <td>2016</td>\n",
       "      <td>0.480688</td>\n",
       "    </tr>\n",
       "    <tr>\n",
       "      <th>6549</th>\n",
       "      <td>9300-AGZNL</td>\n",
       "      <td>1</td>\n",
       "      <td>0</td>\n",
       "      <td>1</td>\n",
       "      <td>0</td>\n",
       "      <td>94.00</td>\n",
       "      <td>94.00</td>\n",
       "      <td>2.0</td>\n",
       "      <td>0.0</td>\n",
       "      <td>0.0</td>\n",
       "      <td>...</td>\n",
       "      <td>0.0</td>\n",
       "      <td>1.0</td>\n",
       "      <td>1.0</td>\n",
       "      <td>0</td>\n",
       "      <td>1</td>\n",
       "      <td>0</td>\n",
       "      <td>0</td>\n",
       "      <td>1.0</td>\n",
       "      <td>2019</td>\n",
       "      <td>0.941352</td>\n",
       "    </tr>\n",
       "    <tr>\n",
       "      <th>2744</th>\n",
       "      <td>3902-MIVLE</td>\n",
       "      <td>0</td>\n",
       "      <td>2</td>\n",
       "      <td>0</td>\n",
       "      <td>1</td>\n",
       "      <td>75.70</td>\n",
       "      <td>4676.70</td>\n",
       "      <td>1.0</td>\n",
       "      <td>1.0</td>\n",
       "      <td>0.0</td>\n",
       "      <td>...</td>\n",
       "      <td>1.0</td>\n",
       "      <td>0.0</td>\n",
       "      <td>1.0</td>\n",
       "      <td>0</td>\n",
       "      <td>0</td>\n",
       "      <td>1</td>\n",
       "      <td>1</td>\n",
       "      <td>1.0</td>\n",
       "      <td>2014</td>\n",
       "      <td>0.037591</td>\n",
       "    </tr>\n",
       "    <tr>\n",
       "      <th>3287</th>\n",
       "      <td>4695-VADHF</td>\n",
       "      <td>1</td>\n",
       "      <td>0</td>\n",
       "      <td>0</td>\n",
       "      <td>0</td>\n",
       "      <td>57.45</td>\n",
       "      <td>990.85</td>\n",
       "      <td>1.0</td>\n",
       "      <td>0.0</td>\n",
       "      <td>0.0</td>\n",
       "      <td>...</td>\n",
       "      <td>0.0</td>\n",
       "      <td>0.0</td>\n",
       "      <td>1.0</td>\n",
       "      <td>0</td>\n",
       "      <td>0</td>\n",
       "      <td>1</td>\n",
       "      <td>1</td>\n",
       "      <td>0.0</td>\n",
       "      <td>2018</td>\n",
       "      <td>0.541687</td>\n",
       "    </tr>\n",
       "    <tr>\n",
       "      <th>6472</th>\n",
       "      <td>9167-APMXZ</td>\n",
       "      <td>0</td>\n",
       "      <td>0</td>\n",
       "      <td>1</td>\n",
       "      <td>2</td>\n",
       "      <td>84.15</td>\n",
       "      <td>1821.95</td>\n",
       "      <td>2.0</td>\n",
       "      <td>0.0</td>\n",
       "      <td>0.0</td>\n",
       "      <td>...</td>\n",
       "      <td>0.0</td>\n",
       "      <td>1.0</td>\n",
       "      <td>0.0</td>\n",
       "      <td>1</td>\n",
       "      <td>0</td>\n",
       "      <td>0</td>\n",
       "      <td>0</td>\n",
       "      <td>1.0</td>\n",
       "      <td>2018</td>\n",
       "      <td>0.806325</td>\n",
       "    </tr>\n",
       "  </tbody>\n",
       "</table>\n",
       "<p>10 rows × 21 columns</p>\n",
       "</div>"
      ],
      "text/plain": [
       "     customer_id  churn  payment_type  paperless_billing  payment_method  \\\n",
       "5590  7872-RDDLZ      0             0                  0               0   \n",
       "2230  3190-XFANI      1             1                  1               2   \n",
       "1859  2696-ECXKC      0             1                  0               1   \n",
       "4958  6980-IMXXE      0             2                  0               2   \n",
       "5903  8313-AFGBW      0             2                  0               0   \n",
       "836   1217-VASWC      0             1                  1               2   \n",
       "6549  9300-AGZNL      1             0                  1               0   \n",
       "2744  3902-MIVLE      0             2                  0               1   \n",
       "3287  4695-VADHF      1             0                  0               0   \n",
       "6472  9167-APMXZ      0             0                  1               2   \n",
       "\n",
       "      monthly_charges  total_charges  internet_service online_security  \\\n",
       "5590            54.90        3725.50               1.0             0.0   \n",
       "2230           100.60        5069.65               2.0             0.0   \n",
       "1859           100.90        5448.60               2.0             1.0   \n",
       "4958            20.20        1412.65               0.0             NaN   \n",
       "5903            73.60        3522.65               1.0             0.0   \n",
       "836            100.55        4304.00               2.0             0.0   \n",
       "6549            94.00          94.00               2.0             0.0   \n",
       "2744            75.70        4676.70               1.0             1.0   \n",
       "3287            57.45         990.85               1.0             0.0   \n",
       "6472            84.15        1821.95               2.0             0.0   \n",
       "\n",
       "     online_backup  ... tech_support streaming_tv streaming_movies gender  \\\n",
       "5590           1.0  ...          0.0          0.0              0.0      1   \n",
       "2230           0.0  ...          1.0          1.0              1.0      0   \n",
       "1859           0.0  ...          0.0          1.0              1.0      1   \n",
       "4958           NaN  ...          NaN          NaN              NaN      1   \n",
       "5903           1.0  ...          0.0          1.0              1.0      0   \n",
       "836            1.0  ...          0.0          1.0              1.0      0   \n",
       "6549           0.0  ...          0.0          1.0              1.0      0   \n",
       "2744           0.0  ...          1.0          0.0              1.0      0   \n",
       "3287           0.0  ...          0.0          0.0              1.0      0   \n",
       "6472           0.0  ...          0.0          1.0              0.0      1   \n",
       "\n",
       "      senior_citizen  partner  dependents  multiple_lines begin_year  \\\n",
       "5590               1        0           0             1.0       2014   \n",
       "2230               0        0           1             1.0       2015   \n",
       "1859               0        1           1             1.0       2015   \n",
       "4958               0        1           1             0.0       2014   \n",
       "5903               0        1           0             0.0       2016   \n",
       "836                1        1           0             0.0       2016   \n",
       "6549               1        0           0             1.0       2019   \n",
       "2744               0        1           1             1.0       2014   \n",
       "3287               0        1           1             0.0       2018   \n",
       "6472               0        0           0             1.0       2018   \n",
       "\n",
       "      churn_prob  \n",
       "5590    0.417433  \n",
       "2230    0.372419  \n",
       "1859    0.288006  \n",
       "4958    0.030367  \n",
       "5903    0.119776  \n",
       "836     0.480688  \n",
       "6549    0.941352  \n",
       "2744    0.037591  \n",
       "3287    0.541687  \n",
       "6472    0.806325  \n",
       "\n",
       "[10 rows x 21 columns]"
      ]
     },
     "execution_count": 57,
     "metadata": {},
     "output_type": "execute_result"
    }
   ],
   "source": [
    "df['churn_prob'] = final_model.predict_proba(X)[:,1]\n",
    "df.sample(10)"
   ]
  },
  {
   "cell_type": "markdown",
   "id": "ae052cc2",
   "metadata": {},
   "source": [
    "Logramos predecir con éxito la probabilidad de que un cliente vaya a cancelar, lo que podemos hacer ahora es una lista de los clientes que es probable que cancelen para que la empresa los contacte para dar seguimiento al caso antes que tomen alguna decisión desfavorable.\n",
    "\n",
    "El umbral está considerado como .5, si la empresa sólo se quiere enfocar en únicamente los clientes más urgentes, puede moficiar este umbral."
   ]
  },
  {
   "cell_type": "markdown",
   "id": "136150b2",
   "metadata": {},
   "source": [
    "## Poducto final"
   ]
  },
  {
   "cell_type": "code",
   "execution_count": 58,
   "id": "bca1486c",
   "metadata": {},
   "outputs": [
    {
     "data": {
      "text/html": [
       "<div>\n",
       "<style scoped>\n",
       "    .dataframe tbody tr th:only-of-type {\n",
       "        vertical-align: middle;\n",
       "    }\n",
       "\n",
       "    .dataframe tbody tr th {\n",
       "        vertical-align: top;\n",
       "    }\n",
       "\n",
       "    .dataframe thead th {\n",
       "        text-align: right;\n",
       "    }\n",
       "</style>\n",
       "<table border=\"1\" class=\"dataframe\">\n",
       "  <thead>\n",
       "    <tr style=\"text-align: right;\">\n",
       "      <th></th>\n",
       "      <th>customer_id</th>\n",
       "      <th>churn_prob</th>\n",
       "    </tr>\n",
       "  </thead>\n",
       "  <tbody>\n",
       "    <tr>\n",
       "      <th>3641</th>\n",
       "      <td>5150-ITWWB</td>\n",
       "      <td>0.937674</td>\n",
       "    </tr>\n",
       "    <tr>\n",
       "      <th>4504</th>\n",
       "      <td>6350-XFYGW</td>\n",
       "      <td>0.927149</td>\n",
       "    </tr>\n",
       "    <tr>\n",
       "      <th>3421</th>\n",
       "      <td>4847-TAJYI</td>\n",
       "      <td>0.924549</td>\n",
       "    </tr>\n",
       "    <tr>\n",
       "      <th>2887</th>\n",
       "      <td>4115-NZRKS</td>\n",
       "      <td>0.924418</td>\n",
       "    </tr>\n",
       "    <tr>\n",
       "      <th>2323</th>\n",
       "      <td>3320-VEOYC</td>\n",
       "      <td>0.921200</td>\n",
       "    </tr>\n",
       "    <tr>\n",
       "      <th>...</th>\n",
       "      <td>...</td>\n",
       "      <td>...</td>\n",
       "    </tr>\n",
       "    <tr>\n",
       "      <th>4212</th>\n",
       "      <td>5948-UJZLF</td>\n",
       "      <td>0.500856</td>\n",
       "    </tr>\n",
       "    <tr>\n",
       "      <th>2558</th>\n",
       "      <td>3657-COGMW</td>\n",
       "      <td>0.500232</td>\n",
       "    </tr>\n",
       "    <tr>\n",
       "      <th>2451</th>\n",
       "      <td>3511-APPBJ</td>\n",
       "      <td>0.500211</td>\n",
       "    </tr>\n",
       "    <tr>\n",
       "      <th>2501</th>\n",
       "      <td>3577-AMVUX</td>\n",
       "      <td>0.500177</td>\n",
       "    </tr>\n",
       "    <tr>\n",
       "      <th>4398</th>\n",
       "      <td>6199-IWKGC</td>\n",
       "      <td>0.500139</td>\n",
       "    </tr>\n",
       "  </tbody>\n",
       "</table>\n",
       "<p>1434 rows × 2 columns</p>\n",
       "</div>"
      ],
      "text/plain": [
       "     customer_id  churn_prob\n",
       "3641  5150-ITWWB    0.937674\n",
       "4504  6350-XFYGW    0.927149\n",
       "3421  4847-TAJYI    0.924549\n",
       "2887  4115-NZRKS    0.924418\n",
       "2323  3320-VEOYC    0.921200\n",
       "...          ...         ...\n",
       "4212  5948-UJZLF    0.500856\n",
       "2558  3657-COGMW    0.500232\n",
       "2451  3511-APPBJ    0.500211\n",
       "2501  3577-AMVUX    0.500177\n",
       "4398  6199-IWKGC    0.500139\n",
       "\n",
       "[1434 rows x 2 columns]"
      ]
     },
     "execution_count": 58,
     "metadata": {},
     "output_type": "execute_result"
    }
   ],
   "source": [
    "tolerance = .5\n",
    "df_to_contact = df[(df['churn_prob'] > tolerance) & (df['churn'] == 0)][['customer_id', 'churn_prob']]\n",
    "df_to_contact.sort_values(by='churn_prob', ascending=False)"
   ]
  },
  {
   "cell_type": "markdown",
   "id": "355b9448",
   "metadata": {},
   "source": [
    "## Conclusión"
   ]
  },
  {
   "cell_type": "markdown",
   "id": "34f1a415",
   "metadata": {},
   "source": [
    "Logramos hacer un modelo que predice la probabilidad de que un cliente se vaya a ir por medio de la Regresión Logística. La métrica en la que nos enfocamos fue recall_score ya que nos ayuda con los verdaderos positivos, minimizando así que no detecte a un cliente que se iba a ir y el modelo no lo detectó, y este modelo, además de tener otras métricas comparables a las de los otros modelos que se probaron, tenía un desempeño considerablemente mejor con el recall_score.\n",
    "\n",
    "Ahora tenemos la posibilidad de utilizar este modelo, ajustando el margen de tolerancia si se desea, para encontrar a los clientes que es probable que vayan a cancelar y así poder tomar acciones con ellos en específico, ahorrando recursos a la empresa y reduciendo la tasa de clientes que cancelan el servico."
   ]
  },
  {
   "cell_type": "markdown",
   "id": "83432379",
   "metadata": {},
   "source": [
    "## Informe de solución"
   ]
  },
  {
   "cell_type": "markdown",
   "id": "b8fbbdfe",
   "metadata": {},
   "source": [
    "Se había proupesto un plan inicial de trabajo antes de empezar a hacer lo que necesitábamos. Se plantearon unas preguntas a responder, que quedaron parcialmente contestadas, la primera siendo ¿Qué factores influyen más a que la gente cancele el servicio? No se contestó explícitamente, pero la selección de características con Boruta, que sugirió el equipo, nos devolvió las que tienen más peso en la tasa de cancelación; estas son el método de pago, los cargos mensuales y totales, y el año de inicio, lo que va de la mano con la tercera pregunta, que pregutnaba qué tanto influye si tienen internet o teléfono contratado, y la respuesta va relacionada a los cargos mensuales, si tienen los dos servicios, la cuenta es mayor. La segunda pregunta, de si podemos crear un modelo que pueda predecir precisamente los clientes que cancelan, es el resultado final del trabajo, aunque el modelo creado no es completamente preciso, genera la la probabilidad de que un cliente vaya a cancelar, que es justo lo que necesitamos y le logró exitosamente.\n",
    "\n",
    "Del plan de trabajo original, se llevó a cabo la base de lo propuesto, que fue unificar los datasets, convertir columnas categóricas a numéricas, pero el resto fue diferente. El equipo me comentó acertadamente que la métrica f1 podría no ser la más adecuada para el caso, así que opté por recall score, sin descuidar el resto de métricas para que no se enfoque únicamente en recall, porque los modelos que tenían un recall excepcional, fallaban considerablemente en las demás métricas.\n",
    "\n",
    "Por último, se había propuesto basarnos en los pesos que tenía nuestro modelo para cada columna, pero fue una mejor opción utilizar la función de predecir probabilidad, y trabajar con esa, ya que le da al equipo de retención los datos de a quién se le tiene que contactar y les da la herramienta de priorizar a los que más alta probabilidad tienen de cancelar.\n",
    "\n",
    "Una de las principales dificultades fue saber qué hacer con los valores ausentes, para esto analicé muchas opciones y opté por no asumir que simplemente significaban que el cliente no tenía el servicio, podía ser un error del sistema, así que trabajé los valores ausentes como un dato diferente a un sí y no, sin descartar la posibilidad de que fueran no, y seguí haciendo las pruebas con todas mis opciones para aseguar que los diferentes modelos pudieran mejorar dependiendo de la calidad de información que le brindaba cada dataframe. También tuve ciertas complicaciones con el código para escoger los mejor hiperparámetros de cada modelo, ya que al probar diferentes métricas, a veces no eran compatibles con el código que ya tenía y tenía que buscar cómo adaptarlo para que me diera la información que necesitaba.\n",
    "\n",
    "Los pasos clave apra resolver la tarea de forma satisfactoria fueron determinar la métrica que más aplicaba al problema, el recall score fue un aspecto primordial para determinar el mejor modelo, pero era muy importante también poner atención a las demás métricas que estábamos trabajando, por ejemplo random forest sugería que lo que maximizaba el recall era utilizar sólo un estimador, pero eso es desaprovechar completamente el modelo. Fuera de eso, sólo tuve problemas con que todos los dataframes fueran igualmente trabajables, ya que ciertos códigos no eran complatibles y tenía que hacer modificiaciones específicas, tuve que hacer mucho backtracking pero al final todo quedó en orden.\n",
    "\n",
    "El modelo que se eligió fue una Regresión Logística, ya que tenía métricas de f1 y ROC_AUC competitivas con el resto de modelos que se probaron, pero superaba considerablemente al resto en recall score, que es la que nos aseguraba que era más probable que se detecte a un cliente que podía cancelar. Sus métricas fueron: F1': 0.6068, 'Recall': 0.7833, 'ROC AUC': 0.8284 "
   ]
  }
 ],
 "metadata": {
  "kernelspec": {
   "display_name": "base",
   "language": "python",
   "name": "python3"
  },
  "language_info": {
   "codemirror_mode": {
    "name": "ipython",
    "version": 3
   },
   "file_extension": ".py",
   "mimetype": "text/x-python",
   "name": "python",
   "nbconvert_exporter": "python",
   "pygments_lexer": "ipython3",
   "version": "3.12.7"
  }
 },
 "nbformat": 4,
 "nbformat_minor": 5
}
