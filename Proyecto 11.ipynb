{
 "cells": [
  {
   "cell_type": "markdown",
   "metadata": {},
   "source": [
    "# Proyecto 11: Aprendizaje automático en negocios"
   ]
  },
  {
   "cell_type": "markdown",
   "metadata": {},
   "source": [
    "## Introducción"
   ]
  },
  {
   "cell_type": "markdown",
   "metadata": {},
   "source": [
    "La compañía de extracción de petróleo OilyGiant quiere encontrar los mejores lugares donde abrir 200 pozos nuevos de petróleo. Se tienen datos sobre muestras de crudo de tres regiones. Ya se conocen los parámetros de cada pozo petrolero de la región."
   ]
  },
  {
   "cell_type": "markdown",
   "metadata": {},
   "source": [
    "## Objetivo"
   ]
  },
  {
   "cell_type": "markdown",
   "metadata": {},
   "source": [
    "Crear un modelo de regresión linear para predecir los valores de producción de las regiones en cuestión. Se busca definir qué región será seleccionada para perforar 200 pozos con un presupuesto de 100,000 millones de dólares, por lo que cada pozo debe producir por lo menos 50,000 dólares para que sea rentable, esto se realizará por medio de bootstrapping."
   ]
  },
  {
   "cell_type": "markdown",
   "metadata": {},
   "source": [
    "## Importación de librerías y carga de datasets"
   ]
  },
  {
   "cell_type": "code",
   "execution_count": 1,
   "metadata": {},
   "outputs": [],
   "source": [
    "import pandas as pd\n",
    "import numpy as np\n",
    "from sklearn.model_selection import train_test_split\n",
    "from sklearn.linear_model import LinearRegression\n",
    "from sklearn.metrics import mean_squared_error\n",
    "import matplotlib.pyplot as plt"
   ]
  },
  {
   "cell_type": "code",
   "execution_count": 2,
   "metadata": {},
   "outputs": [],
   "source": [
    "df_1 = pd.read_csv('https://practicum-content.s3.us-west-1.amazonaws.com/datasets/geo_data_0.csv')\n",
    "df_2 = pd.read_csv('https://practicum-content.s3.us-west-1.amazonaws.com/datasets/geo_data_1.csv')\n",
    "df_3 = pd.read_csv('https://practicum-content.s3.us-west-1.amazonaws.com/datasets/geo_data_2.csv')"
   ]
  },
  {
   "cell_type": "markdown",
   "metadata": {},
   "source": [
    "## Análisis preeliminar de datos"
   ]
  },
  {
   "cell_type": "markdown",
   "metadata": {},
   "source": [
    "Primero veremos una muestra de un dataset para ver el tipo de datos y validar si alguno no es necesario, además de comprobar si hay valores ausentes para proceder con el modelo."
   ]
  },
  {
   "cell_type": "code",
   "execution_count": 3,
   "metadata": {},
   "outputs": [
    {
     "name": "stdout",
     "output_type": "stream",
     "text": [
      "      id        f0        f1        f2     product\n",
      "0  txEyH  0.705745 -0.497823  1.221170  105.280062\n",
      "1  2acmU  1.334711 -0.340164  4.365080   73.037750\n",
      "2  409Wp  1.022732  0.151990  1.419926   85.265647\n",
      "3  iJLyR -0.032172  0.139033  2.978566  168.620776\n",
      "4  Xdl7t  1.988431  0.155413  4.751769  154.036647\n",
      "<class 'pandas.core.frame.DataFrame'>\n",
      "RangeIndex: 100000 entries, 0 to 99999\n",
      "Data columns (total 5 columns):\n",
      " #   Column   Non-Null Count   Dtype  \n",
      "---  ------   --------------   -----  \n",
      " 0   id       100000 non-null  object \n",
      " 1   f0       100000 non-null  float64\n",
      " 2   f1       100000 non-null  float64\n",
      " 3   f2       100000 non-null  float64\n",
      " 4   product  100000 non-null  float64\n",
      "dtypes: float64(4), object(1)\n",
      "memory usage: 3.8+ MB\n"
     ]
    }
   ],
   "source": [
    "print(df_1.head())\n",
    "df_1.info()"
   ]
  },
  {
   "cell_type": "code",
   "execution_count": 4,
   "metadata": {},
   "outputs": [
    {
     "name": "stdout",
     "output_type": "stream",
     "text": [
      "          id         f0         f1        f2     product\n",
      "17093  NDCs8  -3.369410  -9.891461  3.002543   84.038886\n",
      "34478  1bB93   2.051275 -14.181650  2.996009   84.038886\n",
      "14277  Z6vJq -10.527303  -8.950743  2.007622   57.085625\n",
      "6479   Ju4rD  13.544422  -8.270923  5.002070  134.766305\n",
      "91938  2Epes -11.217275 -12.481099  3.997213  110.992147\n",
      "42206  PUtYG   3.596299 -10.493009  3.999075  110.992147\n",
      "60061  C1I35 -15.468645  -6.999435  1.993780   57.085625\n",
      "62116  1bzMW   3.585006   8.992391  4.993698  134.766305\n",
      "33512  Akp9X  -4.356971  -4.957868  2.995210   84.038886\n",
      "78607  EWrKA  -3.571208  -4.807907  2.997018   84.038886\n",
      "<class 'pandas.core.frame.DataFrame'>\n",
      "RangeIndex: 100000 entries, 0 to 99999\n",
      "Data columns (total 5 columns):\n",
      " #   Column   Non-Null Count   Dtype  \n",
      "---  ------   --------------   -----  \n",
      " 0   id       100000 non-null  object \n",
      " 1   f0       100000 non-null  float64\n",
      " 2   f1       100000 non-null  float64\n",
      " 3   f2       100000 non-null  float64\n",
      " 4   product  100000 non-null  float64\n",
      "dtypes: float64(4), object(1)\n",
      "memory usage: 3.8+ MB\n"
     ]
    }
   ],
   "source": [
    "print(df_2.sample(10))\n",
    "df_2.info()"
   ]
  },
  {
   "cell_type": "code",
   "execution_count": 8,
   "metadata": {},
   "outputs": [
    {
     "name": "stdout",
     "output_type": "stream",
     "text": [
      "          id        f0        f1        f2     product\n",
      "2427   seyA7 -0.664996  3.175957  7.043247  165.288891\n",
      "22240  ccNH9  1.017089 -0.310800  4.772705   98.798355\n",
      "94934  K8lR1  0.059825 -1.713911 -2.721046   75.472993\n",
      "69420  EfDIo  0.338318 -2.396382 -1.713179   68.646909\n",
      "79768  M4arC  0.789849 -0.603951  1.648399   78.609630\n",
      "90254  83jYt  1.119777 -1.625189  6.362882  149.030820\n",
      "73844  26gdF -2.116491 -0.116843  5.141264  172.107991\n",
      "64465  E3qkl -1.875492  1.589099  0.727207  135.246123\n",
      "43197  vPCJv  0.908576  0.099811  0.119565   91.985991\n",
      "8315   iSKn4 -1.863658 -2.290102  0.939737  139.372791\n",
      "<class 'pandas.core.frame.DataFrame'>\n",
      "RangeIndex: 100000 entries, 0 to 99999\n",
      "Data columns (total 5 columns):\n",
      " #   Column   Non-Null Count   Dtype  \n",
      "---  ------   --------------   -----  \n",
      " 0   id       100000 non-null  object \n",
      " 1   f0       100000 non-null  float64\n",
      " 2   f1       100000 non-null  float64\n",
      " 3   f2       100000 non-null  float64\n",
      " 4   product  100000 non-null  float64\n",
      "dtypes: float64(4), object(1)\n",
      "memory usage: 3.8+ MB\n"
     ]
    }
   ],
   "source": [
    "print(df_3.sample(10))\n",
    "df_3.info()"
   ]
  },
  {
   "cell_type": "code",
   "execution_count": 9,
   "metadata": {},
   "outputs": [
    {
     "data": {
      "text/html": [
       "<div>\n",
       "<style scoped>\n",
       "    .dataframe tbody tr th:only-of-type {\n",
       "        vertical-align: middle;\n",
       "    }\n",
       "\n",
       "    .dataframe tbody tr th {\n",
       "        vertical-align: top;\n",
       "    }\n",
       "\n",
       "    .dataframe thead th {\n",
       "        text-align: right;\n",
       "    }\n",
       "</style>\n",
       "<table border=\"1\" class=\"dataframe\">\n",
       "  <thead>\n",
       "    <tr style=\"text-align: right;\">\n",
       "      <th></th>\n",
       "      <th>id</th>\n",
       "      <th>f0</th>\n",
       "      <th>f1</th>\n",
       "      <th>f2</th>\n",
       "      <th>product</th>\n",
       "    </tr>\n",
       "  </thead>\n",
       "  <tbody>\n",
       "  </tbody>\n",
       "</table>\n",
       "</div>"
      ],
      "text/plain": [
       "Empty DataFrame\n",
       "Columns: [id, f0, f1, f2, product]\n",
       "Index: []"
      ]
     },
     "execution_count": 9,
     "metadata": {},
     "output_type": "execute_result"
    }
   ],
   "source": [
    "df_1[df_1.isna().any(axis=1)]"
   ]
  },
  {
   "cell_type": "code",
   "execution_count": 10,
   "metadata": {},
   "outputs": [
    {
     "data": {
      "text/html": [
       "<div>\n",
       "<style scoped>\n",
       "    .dataframe tbody tr th:only-of-type {\n",
       "        vertical-align: middle;\n",
       "    }\n",
       "\n",
       "    .dataframe tbody tr th {\n",
       "        vertical-align: top;\n",
       "    }\n",
       "\n",
       "    .dataframe thead th {\n",
       "        text-align: right;\n",
       "    }\n",
       "</style>\n",
       "<table border=\"1\" class=\"dataframe\">\n",
       "  <thead>\n",
       "    <tr style=\"text-align: right;\">\n",
       "      <th></th>\n",
       "      <th>id</th>\n",
       "      <th>f0</th>\n",
       "      <th>f1</th>\n",
       "      <th>f2</th>\n",
       "      <th>product</th>\n",
       "    </tr>\n",
       "  </thead>\n",
       "  <tbody>\n",
       "  </tbody>\n",
       "</table>\n",
       "</div>"
      ],
      "text/plain": [
       "Empty DataFrame\n",
       "Columns: [id, f0, f1, f2, product]\n",
       "Index: []"
      ]
     },
     "execution_count": 10,
     "metadata": {},
     "output_type": "execute_result"
    }
   ],
   "source": [
    "df_2[df_2.isna().any(axis=1)]"
   ]
  },
  {
   "cell_type": "code",
   "execution_count": 11,
   "metadata": {},
   "outputs": [
    {
     "data": {
      "text/html": [
       "<div>\n",
       "<style scoped>\n",
       "    .dataframe tbody tr th:only-of-type {\n",
       "        vertical-align: middle;\n",
       "    }\n",
       "\n",
       "    .dataframe tbody tr th {\n",
       "        vertical-align: top;\n",
       "    }\n",
       "\n",
       "    .dataframe thead th {\n",
       "        text-align: right;\n",
       "    }\n",
       "</style>\n",
       "<table border=\"1\" class=\"dataframe\">\n",
       "  <thead>\n",
       "    <tr style=\"text-align: right;\">\n",
       "      <th></th>\n",
       "      <th>id</th>\n",
       "      <th>f0</th>\n",
       "      <th>f1</th>\n",
       "      <th>f2</th>\n",
       "      <th>product</th>\n",
       "    </tr>\n",
       "  </thead>\n",
       "  <tbody>\n",
       "  </tbody>\n",
       "</table>\n",
       "</div>"
      ],
      "text/plain": [
       "Empty DataFrame\n",
       "Columns: [id, f0, f1, f2, product]\n",
       "Index: []"
      ]
     },
     "execution_count": 11,
     "metadata": {},
     "output_type": "execute_result"
    }
   ],
   "source": [
    "df_3[df_3.isna().any(axis=1)]"
   ]
  },
  {
   "cell_type": "markdown",
   "metadata": {},
   "source": [
    "Vemos que no hay valores ausentes ni duplicados, podemos proceder al modelo y análisis."
   ]
  },
  {
   "cell_type": "markdown",
   "metadata": {},
   "source": [
    "## Creación del modelo de ML"
   ]
  },
  {
   "cell_type": "markdown",
   "metadata": {},
   "source": [
    "Vamos a crear un modelo linear de machine learning para la producción de cada pozo basándonos en f0, f1 y f2."
   ]
  },
  {
   "cell_type": "code",
   "execution_count": 12,
   "metadata": {},
   "outputs": [],
   "source": [
    "df_test = df_1.drop('id', axis=1)"
   ]
  },
  {
   "cell_type": "code",
   "execution_count": 13,
   "metadata": {},
   "outputs": [],
   "source": [
    "features = df_test.drop('product', axis=1)\n",
    "target = df_test['product']"
   ]
  },
  {
   "cell_type": "code",
   "execution_count": 14,
   "metadata": {},
   "outputs": [],
   "source": [
    "features_train, features_valid, target_train, target_valid = train_test_split(features, target, test_size=.25, random_state=12345)"
   ]
  },
  {
   "cell_type": "code",
   "execution_count": 15,
   "metadata": {},
   "outputs": [],
   "source": [
    "model = LinearRegression()\n",
    "model.fit(features_train, target_train)\n",
    "predictions_valid = model.predict(features_valid)"
   ]
  },
  {
   "cell_type": "code",
   "execution_count": 16,
   "metadata": {},
   "outputs": [
    {
     "name": "stdout",
     "output_type": "stream",
     "text": [
      "37.5794217150813\n"
     ]
    }
   ],
   "source": [
    "score = mean_squared_error(target_valid, predictions_valid)**.5\n",
    "print(score)"
   ]
  },
  {
   "cell_type": "code",
   "execution_count": 17,
   "metadata": {},
   "outputs": [],
   "source": [
    "def production(data, region): #se introduce el dataframe y el número de la región como parámetros, devuelve las filas del dataframe del conjunto de validación\n",
    "    features = data.drop(['product', 'id'], axis=1)\n",
    "    target = data['product']\n",
    "    features_train, features_valid, target_train, target_valid = train_test_split(features, target, test_size=.25, random_state=12345)\n",
    "    model = LinearRegression()\n",
    "    model.fit(features_train, target_train)\n",
    "    pred_val = model.predict(features_valid)\n",
    "    data['predictions'] = model.predict(features)\n",
    "    rmse = mean_squared_error(target_valid, pred_val)**.5\n",
    "    avg_prod = data['predictions'].mean()\n",
    "    print(f\"El RMSE para la región {region} es de {rmse}\")\n",
    "    print(f\"El valor promedio que se predice de producción de la región {region} es igual a {avg_prod}\")\n",
    "    return data.loc[features_valid.index]"
   ]
  },
  {
   "cell_type": "code",
   "execution_count": 18,
   "metadata": {},
   "outputs": [
    {
     "name": "stdout",
     "output_type": "stream",
     "text": [
      "El RMSE para la región 1 es de 37.5794217150813\n",
      "El valor promedio que se predice de producción de la región 1 es igual a 92.62849276088778\n"
     ]
    },
    {
     "data": {
      "text/html": [
       "<div>\n",
       "<style scoped>\n",
       "    .dataframe tbody tr th:only-of-type {\n",
       "        vertical-align: middle;\n",
       "    }\n",
       "\n",
       "    .dataframe tbody tr th {\n",
       "        vertical-align: top;\n",
       "    }\n",
       "\n",
       "    .dataframe thead th {\n",
       "        text-align: right;\n",
       "    }\n",
       "</style>\n",
       "<table border=\"1\" class=\"dataframe\">\n",
       "  <thead>\n",
       "    <tr style=\"text-align: right;\">\n",
       "      <th></th>\n",
       "      <th>id</th>\n",
       "      <th>f0</th>\n",
       "      <th>f1</th>\n",
       "      <th>f2</th>\n",
       "      <th>product</th>\n",
       "      <th>predictions</th>\n",
       "    </tr>\n",
       "  </thead>\n",
       "  <tbody>\n",
       "    <tr>\n",
       "      <th>71751</th>\n",
       "      <td>7Z2gx</td>\n",
       "      <td>0.948970</td>\n",
       "      <td>-0.057547</td>\n",
       "      <td>2.095727</td>\n",
       "      <td>10.038645</td>\n",
       "      <td>95.894952</td>\n",
       "    </tr>\n",
       "    <tr>\n",
       "      <th>80493</th>\n",
       "      <td>b2HU8</td>\n",
       "      <td>0.992974</td>\n",
       "      <td>0.206671</td>\n",
       "      <td>-0.142278</td>\n",
       "      <td>114.551489</td>\n",
       "      <td>77.572583</td>\n",
       "    </tr>\n",
       "    <tr>\n",
       "      <th>2655</th>\n",
       "      <td>Y0dXD</td>\n",
       "      <td>1.199854</td>\n",
       "      <td>-0.563356</td>\n",
       "      <td>-1.852991</td>\n",
       "      <td>132.603635</td>\n",
       "      <td>77.892640</td>\n",
       "    </tr>\n",
       "    <tr>\n",
       "      <th>53233</th>\n",
       "      <td>Mje59</td>\n",
       "      <td>0.691422</td>\n",
       "      <td>-0.433347</td>\n",
       "      <td>0.564974</td>\n",
       "      <td>169.072125</td>\n",
       "      <td>90.175134</td>\n",
       "    </tr>\n",
       "    <tr>\n",
       "      <th>91141</th>\n",
       "      <td>yqXxU</td>\n",
       "      <td>0.420772</td>\n",
       "      <td>0.972638</td>\n",
       "      <td>0.736190</td>\n",
       "      <td>122.325180</td>\n",
       "      <td>70.510088</td>\n",
       "    </tr>\n",
       "    <tr>\n",
       "      <th>...</th>\n",
       "      <td>...</td>\n",
       "      <td>...</td>\n",
       "      <td>...</td>\n",
       "      <td>...</td>\n",
       "      <td>...</td>\n",
       "      <td>...</td>\n",
       "    </tr>\n",
       "    <tr>\n",
       "      <th>12581</th>\n",
       "      <td>CzptN</td>\n",
       "      <td>1.841106</td>\n",
       "      <td>-0.107678</td>\n",
       "      <td>2.585648</td>\n",
       "      <td>170.116726</td>\n",
       "      <td>103.037104</td>\n",
       "    </tr>\n",
       "    <tr>\n",
       "      <th>18456</th>\n",
       "      <td>cT9bJ</td>\n",
       "      <td>0.041859</td>\n",
       "      <td>0.489280</td>\n",
       "      <td>2.168001</td>\n",
       "      <td>93.632175</td>\n",
       "      <td>85.403255</td>\n",
       "    </tr>\n",
       "    <tr>\n",
       "      <th>73035</th>\n",
       "      <td>Y7xR6</td>\n",
       "      <td>0.376389</td>\n",
       "      <td>1.054298</td>\n",
       "      <td>-0.430104</td>\n",
       "      <td>127.352259</td>\n",
       "      <td>61.509833</td>\n",
       "    </tr>\n",
       "    <tr>\n",
       "      <th>63834</th>\n",
       "      <td>4WJRf</td>\n",
       "      <td>1.071330</td>\n",
       "      <td>-0.470046</td>\n",
       "      <td>4.527099</td>\n",
       "      <td>99.782700</td>\n",
       "      <td>118.180397</td>\n",
       "    </tr>\n",
       "    <tr>\n",
       "      <th>43558</th>\n",
       "      <td>2RU3S</td>\n",
       "      <td>1.726318</td>\n",
       "      <td>-0.077871</td>\n",
       "      <td>5.007083</td>\n",
       "      <td>177.821022</td>\n",
       "      <td>118.169392</td>\n",
       "    </tr>\n",
       "  </tbody>\n",
       "</table>\n",
       "<p>25000 rows × 6 columns</p>\n",
       "</div>"
      ],
      "text/plain": [
       "          id        f0        f1        f2     product  predictions\n",
       "71751  7Z2gx  0.948970 -0.057547  2.095727   10.038645    95.894952\n",
       "80493  b2HU8  0.992974  0.206671 -0.142278  114.551489    77.572583\n",
       "2655   Y0dXD  1.199854 -0.563356 -1.852991  132.603635    77.892640\n",
       "53233  Mje59  0.691422 -0.433347  0.564974  169.072125    90.175134\n",
       "91141  yqXxU  0.420772  0.972638  0.736190  122.325180    70.510088\n",
       "...      ...       ...       ...       ...         ...          ...\n",
       "12581  CzptN  1.841106 -0.107678  2.585648  170.116726   103.037104\n",
       "18456  cT9bJ  0.041859  0.489280  2.168001   93.632175    85.403255\n",
       "73035  Y7xR6  0.376389  1.054298 -0.430104  127.352259    61.509833\n",
       "63834  4WJRf  1.071330 -0.470046  4.527099   99.782700   118.180397\n",
       "43558  2RU3S  1.726318 -0.077871  5.007083  177.821022   118.169392\n",
       "\n",
       "[25000 rows x 6 columns]"
      ]
     },
     "execution_count": 18,
     "metadata": {},
     "output_type": "execute_result"
    }
   ],
   "source": [
    "reg_1 = production(df_1, 1)\n",
    "reg_1"
   ]
  },
  {
   "cell_type": "code",
   "execution_count": 19,
   "metadata": {},
   "outputs": [
    {
     "name": "stdout",
     "output_type": "stream",
     "text": [
      "El RMSE para la región 2 es de 0.8930992867756166\n",
      "El valor promedio que se predice de producción de la región 2 es igual a 68.8263527177715\n"
     ]
    },
    {
     "data": {
      "text/html": [
       "<div>\n",
       "<style scoped>\n",
       "    .dataframe tbody tr th:only-of-type {\n",
       "        vertical-align: middle;\n",
       "    }\n",
       "\n",
       "    .dataframe tbody tr th {\n",
       "        vertical-align: top;\n",
       "    }\n",
       "\n",
       "    .dataframe thead th {\n",
       "        text-align: right;\n",
       "    }\n",
       "</style>\n",
       "<table border=\"1\" class=\"dataframe\">\n",
       "  <thead>\n",
       "    <tr style=\"text-align: right;\">\n",
       "      <th></th>\n",
       "      <th>id</th>\n",
       "      <th>f0</th>\n",
       "      <th>f1</th>\n",
       "      <th>f2</th>\n",
       "      <th>product</th>\n",
       "      <th>predictions</th>\n",
       "    </tr>\n",
       "  </thead>\n",
       "  <tbody>\n",
       "    <tr>\n",
       "      <th>71751</th>\n",
       "      <td>aTbUt</td>\n",
       "      <td>-0.371866</td>\n",
       "      <td>-1.862494</td>\n",
       "      <td>3.002210</td>\n",
       "      <td>80.859783</td>\n",
       "      <td>82.663314</td>\n",
       "    </tr>\n",
       "    <tr>\n",
       "      <th>80493</th>\n",
       "      <td>CK34V</td>\n",
       "      <td>9.015122</td>\n",
       "      <td>-13.881455</td>\n",
       "      <td>1.995363</td>\n",
       "      <td>53.906522</td>\n",
       "      <td>54.431786</td>\n",
       "    </tr>\n",
       "    <tr>\n",
       "      <th>2655</th>\n",
       "      <td>ioXCO</td>\n",
       "      <td>-6.507568</td>\n",
       "      <td>-4.817448</td>\n",
       "      <td>1.003449</td>\n",
       "      <td>30.132364</td>\n",
       "      <td>29.748760</td>\n",
       "    </tr>\n",
       "    <tr>\n",
       "      <th>53233</th>\n",
       "      <td>xk6tF</td>\n",
       "      <td>14.560845</td>\n",
       "      <td>-10.667755</td>\n",
       "      <td>1.995175</td>\n",
       "      <td>53.906522</td>\n",
       "      <td>53.552133</td>\n",
       "    </tr>\n",
       "    <tr>\n",
       "      <th>91141</th>\n",
       "      <td>F9AmG</td>\n",
       "      <td>6.090476</td>\n",
       "      <td>-4.494723</td>\n",
       "      <td>0.013815</td>\n",
       "      <td>0.000000</td>\n",
       "      <td>1.243856</td>\n",
       "    </tr>\n",
       "    <tr>\n",
       "      <th>...</th>\n",
       "      <td>...</td>\n",
       "      <td>...</td>\n",
       "      <td>...</td>\n",
       "      <td>...</td>\n",
       "      <td>...</td>\n",
       "      <td>...</td>\n",
       "    </tr>\n",
       "    <tr>\n",
       "      <th>12581</th>\n",
       "      <td>fJBfd</td>\n",
       "      <td>-4.107455</td>\n",
       "      <td>-4.607004</td>\n",
       "      <td>4.991140</td>\n",
       "      <td>137.945408</td>\n",
       "      <td>136.869211</td>\n",
       "    </tr>\n",
       "    <tr>\n",
       "      <th>18456</th>\n",
       "      <td>paaof</td>\n",
       "      <td>-8.363585</td>\n",
       "      <td>-6.357527</td>\n",
       "      <td>3.995592</td>\n",
       "      <td>110.992147</td>\n",
       "      <td>110.693465</td>\n",
       "    </tr>\n",
       "    <tr>\n",
       "      <th>73035</th>\n",
       "      <td>tOADJ</td>\n",
       "      <td>-9.136241</td>\n",
       "      <td>-5.403258</td>\n",
       "      <td>5.000925</td>\n",
       "      <td>137.945408</td>\n",
       "      <td>137.879341</td>\n",
       "    </tr>\n",
       "    <tr>\n",
       "      <th>63834</th>\n",
       "      <td>AiZ1G</td>\n",
       "      <td>-6.386442</td>\n",
       "      <td>-0.764568</td>\n",
       "      <td>3.011526</td>\n",
       "      <td>84.038886</td>\n",
       "      <td>83.761966</td>\n",
       "    </tr>\n",
       "    <tr>\n",
       "      <th>43558</th>\n",
       "      <td>2PENr</td>\n",
       "      <td>10.542817</td>\n",
       "      <td>-6.206446</td>\n",
       "      <td>1.992290</td>\n",
       "      <td>53.906522</td>\n",
       "      <td>53.958466</td>\n",
       "    </tr>\n",
       "  </tbody>\n",
       "</table>\n",
       "<p>25000 rows × 6 columns</p>\n",
       "</div>"
      ],
      "text/plain": [
       "          id         f0         f1        f2     product  predictions\n",
       "71751  aTbUt  -0.371866  -1.862494  3.002210   80.859783    82.663314\n",
       "80493  CK34V   9.015122 -13.881455  1.995363   53.906522    54.431786\n",
       "2655   ioXCO  -6.507568  -4.817448  1.003449   30.132364    29.748760\n",
       "53233  xk6tF  14.560845 -10.667755  1.995175   53.906522    53.552133\n",
       "91141  F9AmG   6.090476  -4.494723  0.013815    0.000000     1.243856\n",
       "...      ...        ...        ...       ...         ...          ...\n",
       "12581  fJBfd  -4.107455  -4.607004  4.991140  137.945408   136.869211\n",
       "18456  paaof  -8.363585  -6.357527  3.995592  110.992147   110.693465\n",
       "73035  tOADJ  -9.136241  -5.403258  5.000925  137.945408   137.879341\n",
       "63834  AiZ1G  -6.386442  -0.764568  3.011526   84.038886    83.761966\n",
       "43558  2PENr  10.542817  -6.206446  1.992290   53.906522    53.958466\n",
       "\n",
       "[25000 rows x 6 columns]"
      ]
     },
     "execution_count": 19,
     "metadata": {},
     "output_type": "execute_result"
    }
   ],
   "source": [
    "reg_2 = production(df_2, 2)\n",
    "reg_2"
   ]
  },
  {
   "cell_type": "code",
   "execution_count": 20,
   "metadata": {},
   "outputs": [
    {
     "name": "stdout",
     "output_type": "stream",
     "text": [
      "El RMSE para la región 3 es de 40.02970873393434\n",
      "El valor promedio que se predice de producción de la región 3 es igual a 95.02020328978764\n"
     ]
    },
    {
     "data": {
      "text/html": [
       "<div>\n",
       "<style scoped>\n",
       "    .dataframe tbody tr th:only-of-type {\n",
       "        vertical-align: middle;\n",
       "    }\n",
       "\n",
       "    .dataframe tbody tr th {\n",
       "        vertical-align: top;\n",
       "    }\n",
       "\n",
       "    .dataframe thead th {\n",
       "        text-align: right;\n",
       "    }\n",
       "</style>\n",
       "<table border=\"1\" class=\"dataframe\">\n",
       "  <thead>\n",
       "    <tr style=\"text-align: right;\">\n",
       "      <th></th>\n",
       "      <th>id</th>\n",
       "      <th>f0</th>\n",
       "      <th>f1</th>\n",
       "      <th>f2</th>\n",
       "      <th>product</th>\n",
       "      <th>predictions</th>\n",
       "    </tr>\n",
       "  </thead>\n",
       "  <tbody>\n",
       "    <tr>\n",
       "      <th>71751</th>\n",
       "      <td>DMlgl</td>\n",
       "      <td>-1.444717</td>\n",
       "      <td>-3.861599</td>\n",
       "      <td>2.225805</td>\n",
       "      <td>61.212375</td>\n",
       "      <td>93.599633</td>\n",
       "    </tr>\n",
       "    <tr>\n",
       "      <th>80493</th>\n",
       "      <td>tbrRC</td>\n",
       "      <td>-1.418617</td>\n",
       "      <td>1.276544</td>\n",
       "      <td>-0.976433</td>\n",
       "      <td>41.850118</td>\n",
       "      <td>75.105159</td>\n",
       "    </tr>\n",
       "    <tr>\n",
       "      <th>2655</th>\n",
       "      <td>JRs1w</td>\n",
       "      <td>-4.587649</td>\n",
       "      <td>-0.413199</td>\n",
       "      <td>1.649268</td>\n",
       "      <td>57.776581</td>\n",
       "      <td>90.066809</td>\n",
       "    </tr>\n",
       "    <tr>\n",
       "      <th>53233</th>\n",
       "      <td>bidOx</td>\n",
       "      <td>1.871584</td>\n",
       "      <td>1.619101</td>\n",
       "      <td>4.273555</td>\n",
       "      <td>100.053761</td>\n",
       "      <td>105.162375</td>\n",
       "    </tr>\n",
       "    <tr>\n",
       "      <th>91141</th>\n",
       "      <td>AcBBB</td>\n",
       "      <td>-2.028785</td>\n",
       "      <td>4.128167</td>\n",
       "      <td>6.089547</td>\n",
       "      <td>109.897122</td>\n",
       "      <td>115.303310</td>\n",
       "    </tr>\n",
       "    <tr>\n",
       "      <th>...</th>\n",
       "      <td>...</td>\n",
       "      <td>...</td>\n",
       "      <td>...</td>\n",
       "      <td>...</td>\n",
       "      <td>...</td>\n",
       "      <td>...</td>\n",
       "    </tr>\n",
       "    <tr>\n",
       "      <th>12581</th>\n",
       "      <td>y2n7n</td>\n",
       "      <td>-1.315037</td>\n",
       "      <td>-0.122572</td>\n",
       "      <td>-0.345986</td>\n",
       "      <td>28.492402</td>\n",
       "      <td>78.765887</td>\n",
       "    </tr>\n",
       "    <tr>\n",
       "      <th>18456</th>\n",
       "      <td>aBi2q</td>\n",
       "      <td>0.015144</td>\n",
       "      <td>0.876998</td>\n",
       "      <td>2.603666</td>\n",
       "      <td>21.431303</td>\n",
       "      <td>95.603394</td>\n",
       "    </tr>\n",
       "    <tr>\n",
       "      <th>73035</th>\n",
       "      <td>CMYf3</td>\n",
       "      <td>0.725767</td>\n",
       "      <td>-0.151545</td>\n",
       "      <td>3.258620</td>\n",
       "      <td>125.487229</td>\n",
       "      <td>99.407281</td>\n",
       "    </tr>\n",
       "    <tr>\n",
       "      <th>63834</th>\n",
       "      <td>HzkKW</td>\n",
       "      <td>-0.232209</td>\n",
       "      <td>-0.180354</td>\n",
       "      <td>-0.524997</td>\n",
       "      <td>99.422903</td>\n",
       "      <td>77.779912</td>\n",
       "    </tr>\n",
       "    <tr>\n",
       "      <th>43558</th>\n",
       "      <td>Qwd5N</td>\n",
       "      <td>-2.350293</td>\n",
       "      <td>-1.041230</td>\n",
       "      <td>8.458378</td>\n",
       "      <td>127.445075</td>\n",
       "      <td>129.032417</td>\n",
       "    </tr>\n",
       "  </tbody>\n",
       "</table>\n",
       "<p>25000 rows × 6 columns</p>\n",
       "</div>"
      ],
      "text/plain": [
       "          id        f0        f1        f2     product  predictions\n",
       "71751  DMlgl -1.444717 -3.861599  2.225805   61.212375    93.599633\n",
       "80493  tbrRC -1.418617  1.276544 -0.976433   41.850118    75.105159\n",
       "2655   JRs1w -4.587649 -0.413199  1.649268   57.776581    90.066809\n",
       "53233  bidOx  1.871584  1.619101  4.273555  100.053761   105.162375\n",
       "91141  AcBBB -2.028785  4.128167  6.089547  109.897122   115.303310\n",
       "...      ...       ...       ...       ...         ...          ...\n",
       "12581  y2n7n -1.315037 -0.122572 -0.345986   28.492402    78.765887\n",
       "18456  aBi2q  0.015144  0.876998  2.603666   21.431303    95.603394\n",
       "73035  CMYf3  0.725767 -0.151545  3.258620  125.487229    99.407281\n",
       "63834  HzkKW -0.232209 -0.180354 -0.524997   99.422903    77.779912\n",
       "43558  Qwd5N -2.350293 -1.041230  8.458378  127.445075   129.032417\n",
       "\n",
       "[25000 rows x 6 columns]"
      ]
     },
     "execution_count": 20,
     "metadata": {},
     "output_type": "execute_result"
    }
   ],
   "source": [
    "reg_3 = production(df_3, 3)\n",
    "reg_3"
   ]
  },
  {
   "cell_type": "markdown",
   "metadata": {},
   "source": [
    "La región 2 da un promedio considerablemente menor a las regiones una y 3, vamos a hacer un pequeño análisis para ver por qué puede ser."
   ]
  },
  {
   "cell_type": "code",
   "execution_count": 21,
   "metadata": {},
   "outputs": [
    {
     "data": {
      "text/html": [
       "<div>\n",
       "<style scoped>\n",
       "    .dataframe tbody tr th:only-of-type {\n",
       "        vertical-align: middle;\n",
       "    }\n",
       "\n",
       "    .dataframe tbody tr th {\n",
       "        vertical-align: top;\n",
       "    }\n",
       "\n",
       "    .dataframe thead th {\n",
       "        text-align: right;\n",
       "    }\n",
       "</style>\n",
       "<table border=\"1\" class=\"dataframe\">\n",
       "  <thead>\n",
       "    <tr style=\"text-align: right;\">\n",
       "      <th></th>\n",
       "      <th>f0</th>\n",
       "      <th>f1</th>\n",
       "      <th>f2</th>\n",
       "      <th>product</th>\n",
       "      <th>predictions</th>\n",
       "    </tr>\n",
       "  </thead>\n",
       "  <tbody>\n",
       "    <tr>\n",
       "      <th>count</th>\n",
       "      <td>25000.000000</td>\n",
       "      <td>25000.000000</td>\n",
       "      <td>25000.000000</td>\n",
       "      <td>25000.000000</td>\n",
       "      <td>25000.000000</td>\n",
       "    </tr>\n",
       "    <tr>\n",
       "      <th>mean</th>\n",
       "      <td>1.145552</td>\n",
       "      <td>-4.810661</td>\n",
       "      <td>2.490924</td>\n",
       "      <td>68.723136</td>\n",
       "      <td>68.728547</td>\n",
       "    </tr>\n",
       "    <tr>\n",
       "      <th>std</th>\n",
       "      <td>8.966920</td>\n",
       "      <td>5.098579</td>\n",
       "      <td>1.706594</td>\n",
       "      <td>46.022165</td>\n",
       "      <td>46.010225</td>\n",
       "    </tr>\n",
       "    <tr>\n",
       "      <th>min</th>\n",
       "      <td>-24.738401</td>\n",
       "      <td>-25.291518</td>\n",
       "      <td>-0.017686</td>\n",
       "      <td>0.000000</td>\n",
       "      <td>-1.893774</td>\n",
       "    </tr>\n",
       "    <tr>\n",
       "      <th>25%</th>\n",
       "      <td>-6.330435</td>\n",
       "      <td>-8.288350</td>\n",
       "      <td>0.999896</td>\n",
       "      <td>26.953261</td>\n",
       "      <td>28.536661</td>\n",
       "    </tr>\n",
       "    <tr>\n",
       "      <th>50%</th>\n",
       "      <td>1.148456</td>\n",
       "      <td>-4.854744</td>\n",
       "      <td>2.009842</td>\n",
       "      <td>57.085625</td>\n",
       "      <td>57.851586</td>\n",
       "    </tr>\n",
       "    <tr>\n",
       "      <th>75%</th>\n",
       "      <td>8.600052</td>\n",
       "      <td>-1.364010</td>\n",
       "      <td>3.999865</td>\n",
       "      <td>107.813044</td>\n",
       "      <td>109.346485</td>\n",
       "    </tr>\n",
       "    <tr>\n",
       "      <th>max</th>\n",
       "      <td>26.535304</td>\n",
       "      <td>16.737196</td>\n",
       "      <td>5.019091</td>\n",
       "      <td>137.945408</td>\n",
       "      <td>139.818970</td>\n",
       "    </tr>\n",
       "  </tbody>\n",
       "</table>\n",
       "</div>"
      ],
      "text/plain": [
       "                 f0            f1            f2       product   predictions\n",
       "count  25000.000000  25000.000000  25000.000000  25000.000000  25000.000000\n",
       "mean       1.145552     -4.810661      2.490924     68.723136     68.728547\n",
       "std        8.966920      5.098579      1.706594     46.022165     46.010225\n",
       "min      -24.738401    -25.291518     -0.017686      0.000000     -1.893774\n",
       "25%       -6.330435     -8.288350      0.999896     26.953261     28.536661\n",
       "50%        1.148456     -4.854744      2.009842     57.085625     57.851586\n",
       "75%        8.600052     -1.364010      3.999865    107.813044    109.346485\n",
       "max       26.535304     16.737196      5.019091    137.945408    139.818970"
      ]
     },
     "execution_count": 21,
     "metadata": {},
     "output_type": "execute_result"
    }
   ],
   "source": [
    "reg_2.describe()"
   ]
  },
  {
   "cell_type": "code",
   "execution_count": 22,
   "metadata": {},
   "outputs": [
    {
     "data": {
      "text/html": [
       "<div>\n",
       "<style scoped>\n",
       "    .dataframe tbody tr th:only-of-type {\n",
       "        vertical-align: middle;\n",
       "    }\n",
       "\n",
       "    .dataframe tbody tr th {\n",
       "        vertical-align: top;\n",
       "    }\n",
       "\n",
       "    .dataframe thead th {\n",
       "        text-align: right;\n",
       "    }\n",
       "</style>\n",
       "<table border=\"1\" class=\"dataframe\">\n",
       "  <thead>\n",
       "    <tr style=\"text-align: right;\">\n",
       "      <th></th>\n",
       "      <th>id</th>\n",
       "      <th>f0</th>\n",
       "      <th>f1</th>\n",
       "      <th>f2</th>\n",
       "      <th>product</th>\n",
       "      <th>predictions</th>\n",
       "    </tr>\n",
       "  </thead>\n",
       "  <tbody>\n",
       "    <tr>\n",
       "      <th>91141</th>\n",
       "      <td>F9AmG</td>\n",
       "      <td>6.090476</td>\n",
       "      <td>-4.494723</td>\n",
       "      <td>0.013815</td>\n",
       "      <td>0.0</td>\n",
       "      <td>1.243856</td>\n",
       "    </tr>\n",
       "    <tr>\n",
       "      <th>60458</th>\n",
       "      <td>hFo8J</td>\n",
       "      <td>14.936429</td>\n",
       "      <td>-2.177675</td>\n",
       "      <td>0.002751</td>\n",
       "      <td>0.0</td>\n",
       "      <td>-0.387515</td>\n",
       "    </tr>\n",
       "    <tr>\n",
       "      <th>52027</th>\n",
       "      <td>GxIpc</td>\n",
       "      <td>10.899110</td>\n",
       "      <td>-4.569143</td>\n",
       "      <td>0.002090</td>\n",
       "      <td>0.0</td>\n",
       "      <td>0.232528</td>\n",
       "    </tr>\n",
       "    <tr>\n",
       "      <th>25371</th>\n",
       "      <td>AHFcE</td>\n",
       "      <td>5.686667</td>\n",
       "      <td>1.554737</td>\n",
       "      <td>0.005034</td>\n",
       "      <td>0.0</td>\n",
       "      <td>0.932481</td>\n",
       "    </tr>\n",
       "    <tr>\n",
       "      <th>52292</th>\n",
       "      <td>HgtkM</td>\n",
       "      <td>4.604699</td>\n",
       "      <td>-2.155147</td>\n",
       "      <td>0.002581</td>\n",
       "      <td>0.0</td>\n",
       "      <td>1.104900</td>\n",
       "    </tr>\n",
       "    <tr>\n",
       "      <th>...</th>\n",
       "      <td>...</td>\n",
       "      <td>...</td>\n",
       "      <td>...</td>\n",
       "      <td>...</td>\n",
       "      <td>...</td>\n",
       "      <td>...</td>\n",
       "    </tr>\n",
       "    <tr>\n",
       "      <th>25841</th>\n",
       "      <td>s2LSM</td>\n",
       "      <td>17.522742</td>\n",
       "      <td>1.882029</td>\n",
       "      <td>0.005323</td>\n",
       "      <td>0.0</td>\n",
       "      <td>-0.782472</td>\n",
       "    </tr>\n",
       "    <tr>\n",
       "      <th>38938</th>\n",
       "      <td>ipsXG</td>\n",
       "      <td>2.673063</td>\n",
       "      <td>-6.719536</td>\n",
       "      <td>0.000522</td>\n",
       "      <td>0.0</td>\n",
       "      <td>1.429934</td>\n",
       "    </tr>\n",
       "    <tr>\n",
       "      <th>43479</th>\n",
       "      <td>YL3dr</td>\n",
       "      <td>8.929817</td>\n",
       "      <td>-6.100465</td>\n",
       "      <td>0.004476</td>\n",
       "      <td>0.0</td>\n",
       "      <td>0.616004</td>\n",
       "    </tr>\n",
       "    <tr>\n",
       "      <th>89110</th>\n",
       "      <td>xj0NB</td>\n",
       "      <td>13.611991</td>\n",
       "      <td>-11.158730</td>\n",
       "      <td>-0.006534</td>\n",
       "      <td>0.0</td>\n",
       "      <td>-0.247937</td>\n",
       "    </tr>\n",
       "    <tr>\n",
       "      <th>68985</th>\n",
       "      <td>0znnb</td>\n",
       "      <td>13.723797</td>\n",
       "      <td>-7.016114</td>\n",
       "      <td>-0.001487</td>\n",
       "      <td>0.0</td>\n",
       "      <td>-0.219393</td>\n",
       "    </tr>\n",
       "  </tbody>\n",
       "</table>\n",
       "<p>2069 rows × 6 columns</p>\n",
       "</div>"
      ],
      "text/plain": [
       "          id         f0         f1        f2  product  predictions\n",
       "91141  F9AmG   6.090476  -4.494723  0.013815      0.0     1.243856\n",
       "60458  hFo8J  14.936429  -2.177675  0.002751      0.0    -0.387515\n",
       "52027  GxIpc  10.899110  -4.569143  0.002090      0.0     0.232528\n",
       "25371  AHFcE   5.686667   1.554737  0.005034      0.0     0.932481\n",
       "52292  HgtkM   4.604699  -2.155147  0.002581      0.0     1.104900\n",
       "...      ...        ...        ...       ...      ...          ...\n",
       "25841  s2LSM  17.522742   1.882029  0.005323      0.0    -0.782472\n",
       "38938  ipsXG   2.673063  -6.719536  0.000522      0.0     1.429934\n",
       "43479  YL3dr   8.929817  -6.100465  0.004476      0.0     0.616004\n",
       "89110  xj0NB  13.611991 -11.158730 -0.006534      0.0    -0.247937\n",
       "68985  0znnb  13.723797  -7.016114 -0.001487      0.0    -0.219393\n",
       "\n",
       "[2069 rows x 6 columns]"
      ]
     },
     "execution_count": 22,
     "metadata": {},
     "output_type": "execute_result"
    }
   ],
   "source": [
    "reg_2[reg_2['product'] == 0]"
   ]
  },
  {
   "cell_type": "markdown",
   "metadata": {},
   "source": [
    "El promedio de producto en la región 2 es menor porque hay cerca del 10% de pozos que no producen y tienen un valor de 0, pero considerando que para seleccionar la región, únicamente debemos elegir los 200 mejores pozos, el promedio real no es relevante para el estudio."
   ]
  },
  {
   "cell_type": "markdown",
   "metadata": {},
   "source": [
    "## Selección de región"
   ]
  },
  {
   "cell_type": "markdown",
   "metadata": {},
   "source": [
    "En promedio, un pozo tiene que producir por lo menos 500,000 dólares para que la inversión de 100,000,000 sea rentable. Hagamos primero el cálculo del promedio de la región."
   ]
  },
  {
   "cell_type": "code",
   "execution_count": 23,
   "metadata": {},
   "outputs": [
    {
     "name": "stdout",
     "output_type": "stream",
     "text": [
      "El promedio de la región 1 es de 92.59256778438035 miles de barriles por pozo, con una ganancia de $-16666688.994057685\n"
     ]
    }
   ],
   "source": [
    "def reg_avg(data, region, value=4500):\n",
    "    avg = data['predictions'].mean()\n",
    "    revenue = avg*200*value - 100000000\n",
    "    print(f\"El promedio de la región {region} es de {avg} miles de barriles por pozo, con una ganancia de ${revenue}\")\n",
    "\n",
    "reg_avg(reg_1, 1)"
   ]
  },
  {
   "cell_type": "code",
   "execution_count": 24,
   "metadata": {},
   "outputs": [
    {
     "name": "stdout",
     "output_type": "stream",
     "text": [
      "El promedio de la región 2 es de 68.728546895446 miles de barriles por pozo, con una ganancia de $-38144307.7940986\n"
     ]
    }
   ],
   "source": [
    "reg_avg(reg_2, 2)"
   ]
  },
  {
   "cell_type": "code",
   "execution_count": 25,
   "metadata": {},
   "outputs": [
    {
     "name": "stdout",
     "output_type": "stream",
     "text": [
      "El promedio de la región 3 es de 94.96504596800492 miles de barriles por pozo, con una ganancia de $-14531458.628795564\n"
     ]
    }
   ],
   "source": [
    "reg_avg(reg_3, 3)"
   ]
  },
  {
   "cell_type": "markdown",
   "metadata": {},
   "source": [
    "Con el primer vistazo parecería que ninguna región es rentable, pero lo que realmente lo que nos importa es el promedio de los mejores 200 pozos, no del total de la región, así que hagamos el cálculo para estos mejores 200 y basándonos en eso, seleccionemos la mejor región."
   ]
  },
  {
   "cell_type": "markdown",
   "metadata": {},
   "source": [
    "<div class=\"alert alert-block alert-success\">\n",
    "<b>Comentario de Revisor</b> <a class=\"tocSkip\"></a>\n",
    "\n",
    "Correcto. Efectivamente si solo usamos pozos promedios no obtendremos una operación rentable.\n",
    "\n",
    "</div>"
   ]
  },
  {
   "cell_type": "code",
   "execution_count": 26,
   "metadata": {},
   "outputs": [],
   "source": [
    "def best_200(data, region, top=200):\n",
    "    best = data.sort_values(by='predictions', ascending=False).head(top)\n",
    "    best['value'] = best['product'] * 4500\n",
    "    best['revenue'] = best['value'] - 500000\n",
    "    avg = best['product'].mean()\n",
    "    total = best['revenue'].sum()\n",
    "    total_formatted = \"{:,.2f}\".format(total)\n",
    "    print(f\"El promedio de barriles de los mejores 200 pozos de la región {region} es de: {avg}, con una ganancia de ${total_formatted}\")\n",
    "    return best.sort_values(by= 'revenue', ascending=False)\n"
   ]
  },
  {
   "cell_type": "code",
   "execution_count": 27,
   "metadata": {},
   "outputs": [
    {
     "name": "stdout",
     "output_type": "stream",
     "text": [
      "El promedio de barriles de los mejores 200 pozos de la región 1 es de: 148.00917825710945, con una ganancia de $33,208,260.43\n"
     ]
    },
    {
     "data": {
      "text/html": [
       "<div>\n",
       "<style scoped>\n",
       "    .dataframe tbody tr th:only-of-type {\n",
       "        vertical-align: middle;\n",
       "    }\n",
       "\n",
       "    .dataframe tbody tr th {\n",
       "        vertical-align: top;\n",
       "    }\n",
       "\n",
       "    .dataframe thead th {\n",
       "        text-align: right;\n",
       "    }\n",
       "</style>\n",
       "<table border=\"1\" class=\"dataframe\">\n",
       "  <thead>\n",
       "    <tr style=\"text-align: right;\">\n",
       "      <th></th>\n",
       "      <th>id</th>\n",
       "      <th>f0</th>\n",
       "      <th>f1</th>\n",
       "      <th>f2</th>\n",
       "      <th>product</th>\n",
       "      <th>predictions</th>\n",
       "      <th>value</th>\n",
       "      <th>revenue</th>\n",
       "    </tr>\n",
       "  </thead>\n",
       "  <tbody>\n",
       "    <tr>\n",
       "      <th>79494</th>\n",
       "      <td>obTWo</td>\n",
       "      <td>1.313813</td>\n",
       "      <td>-0.459792</td>\n",
       "      <td>9.423778</td>\n",
       "      <td>184.356455</td>\n",
       "      <td>151.191647</td>\n",
       "      <td>829604.049145</td>\n",
       "      <td>329604.049145</td>\n",
       "    </tr>\n",
       "    <tr>\n",
       "      <th>92090</th>\n",
       "      <td>ESs07</td>\n",
       "      <td>0.636169</td>\n",
       "      <td>-0.505572</td>\n",
       "      <td>10.550993</td>\n",
       "      <td>184.095785</td>\n",
       "      <td>156.834319</td>\n",
       "      <td>828431.032206</td>\n",
       "      <td>328431.032206</td>\n",
       "    </tr>\n",
       "    <tr>\n",
       "      <th>69887</th>\n",
       "      <td>NN1mh</td>\n",
       "      <td>0.851595</td>\n",
       "      <td>-0.600966</td>\n",
       "      <td>9.421972</td>\n",
       "      <td>183.552159</td>\n",
       "      <td>151.509350</td>\n",
       "      <td>825984.713264</td>\n",
       "      <td>325984.713264</td>\n",
       "    </tr>\n",
       "    <tr>\n",
       "      <th>24297</th>\n",
       "      <td>CEV7e</td>\n",
       "      <td>1.832177</td>\n",
       "      <td>-0.342070</td>\n",
       "      <td>9.211677</td>\n",
       "      <td>182.378042</td>\n",
       "      <td>149.995979</td>\n",
       "      <td>820701.190746</td>\n",
       "      <td>320701.190746</td>\n",
       "    </tr>\n",
       "    <tr>\n",
       "      <th>70797</th>\n",
       "      <td>VosME</td>\n",
       "      <td>0.197572</td>\n",
       "      <td>-0.132382</td>\n",
       "      <td>12.576618</td>\n",
       "      <td>182.225128</td>\n",
       "      <td>163.352610</td>\n",
       "      <td>820013.077083</td>\n",
       "      <td>320013.077083</td>\n",
       "    </tr>\n",
       "    <tr>\n",
       "      <th>...</th>\n",
       "      <td>...</td>\n",
       "      <td>...</td>\n",
       "      <td>...</td>\n",
       "      <td>...</td>\n",
       "      <td>...</td>\n",
       "      <td>...</td>\n",
       "      <td>...</td>\n",
       "      <td>...</td>\n",
       "    </tr>\n",
       "    <tr>\n",
       "      <th>54144</th>\n",
       "      <td>Cp0iw</td>\n",
       "      <td>0.820761</td>\n",
       "      <td>-0.323263</td>\n",
       "      <td>9.890833</td>\n",
       "      <td>88.347788</td>\n",
       "      <td>150.574800</td>\n",
       "      <td>397565.046434</td>\n",
       "      <td>-102434.953566</td>\n",
       "    </tr>\n",
       "    <tr>\n",
       "      <th>11404</th>\n",
       "      <td>Ue1K8</td>\n",
       "      <td>0.762994</td>\n",
       "      <td>0.742322</td>\n",
       "      <td>15.014250</td>\n",
       "      <td>76.184104</td>\n",
       "      <td>169.124234</td>\n",
       "      <td>342828.466966</td>\n",
       "      <td>-157171.533034</td>\n",
       "    </tr>\n",
       "    <tr>\n",
       "      <th>57385</th>\n",
       "      <td>DzK6D</td>\n",
       "      <td>0.762390</td>\n",
       "      <td>-0.501558</td>\n",
       "      <td>9.552921</td>\n",
       "      <td>72.653353</td>\n",
       "      <td>150.650773</td>\n",
       "      <td>326940.089877</td>\n",
       "      <td>-173059.910123</td>\n",
       "    </tr>\n",
       "    <tr>\n",
       "      <th>32357</th>\n",
       "      <td>PbauX</td>\n",
       "      <td>1.007152</td>\n",
       "      <td>-0.002959</td>\n",
       "      <td>12.602894</td>\n",
       "      <td>58.420650</td>\n",
       "      <td>164.609917</td>\n",
       "      <td>262892.922887</td>\n",
       "      <td>-237107.077113</td>\n",
       "    </tr>\n",
       "    <tr>\n",
       "      <th>99065</th>\n",
       "      <td>OXpa9</td>\n",
       "      <td>1.412223</td>\n",
       "      <td>-0.374404</td>\n",
       "      <td>10.208000</td>\n",
       "      <td>42.092314</td>\n",
       "      <td>155.511918</td>\n",
       "      <td>189415.413087</td>\n",
       "      <td>-310584.586913</td>\n",
       "    </tr>\n",
       "  </tbody>\n",
       "</table>\n",
       "<p>200 rows × 8 columns</p>\n",
       "</div>"
      ],
      "text/plain": [
       "          id        f0        f1         f2     product  predictions  \\\n",
       "79494  obTWo  1.313813 -0.459792   9.423778  184.356455   151.191647   \n",
       "92090  ESs07  0.636169 -0.505572  10.550993  184.095785   156.834319   \n",
       "69887  NN1mh  0.851595 -0.600966   9.421972  183.552159   151.509350   \n",
       "24297  CEV7e  1.832177 -0.342070   9.211677  182.378042   149.995979   \n",
       "70797  VosME  0.197572 -0.132382  12.576618  182.225128   163.352610   \n",
       "...      ...       ...       ...        ...         ...          ...   \n",
       "54144  Cp0iw  0.820761 -0.323263   9.890833   88.347788   150.574800   \n",
       "11404  Ue1K8  0.762994  0.742322  15.014250   76.184104   169.124234   \n",
       "57385  DzK6D  0.762390 -0.501558   9.552921   72.653353   150.650773   \n",
       "32357  PbauX  1.007152 -0.002959  12.602894   58.420650   164.609917   \n",
       "99065  OXpa9  1.412223 -0.374404  10.208000   42.092314   155.511918   \n",
       "\n",
       "               value        revenue  \n",
       "79494  829604.049145  329604.049145  \n",
       "92090  828431.032206  328431.032206  \n",
       "69887  825984.713264  325984.713264  \n",
       "24297  820701.190746  320701.190746  \n",
       "70797  820013.077083  320013.077083  \n",
       "...              ...            ...  \n",
       "54144  397565.046434 -102434.953566  \n",
       "11404  342828.466966 -157171.533034  \n",
       "57385  326940.089877 -173059.910123  \n",
       "32357  262892.922887 -237107.077113  \n",
       "99065  189415.413087 -310584.586913  \n",
       "\n",
       "[200 rows x 8 columns]"
      ]
     },
     "execution_count": 27,
     "metadata": {},
     "output_type": "execute_result"
    }
   ],
   "source": [
    "rev_1 = best_200(reg_1, 1)\n",
    "rev_1"
   ]
  },
  {
   "cell_type": "code",
   "execution_count": 28,
   "metadata": {},
   "outputs": [
    {
     "name": "stdout",
     "output_type": "stream",
     "text": [
      "El promedio de barriles de los mejores 200 pozos de la región 2 es de: 137.9454077409057, con una ganancia de $24,150,866.97\n"
     ]
    },
    {
     "data": {
      "text/html": [
       "<div>\n",
       "<style scoped>\n",
       "    .dataframe tbody tr th:only-of-type {\n",
       "        vertical-align: middle;\n",
       "    }\n",
       "\n",
       "    .dataframe tbody tr th {\n",
       "        vertical-align: top;\n",
       "    }\n",
       "\n",
       "    .dataframe thead th {\n",
       "        text-align: right;\n",
       "    }\n",
       "</style>\n",
       "<table border=\"1\" class=\"dataframe\">\n",
       "  <thead>\n",
       "    <tr style=\"text-align: right;\">\n",
       "      <th></th>\n",
       "      <th>id</th>\n",
       "      <th>f0</th>\n",
       "      <th>f1</th>\n",
       "      <th>f2</th>\n",
       "      <th>product</th>\n",
       "      <th>predictions</th>\n",
       "      <th>value</th>\n",
       "      <th>revenue</th>\n",
       "    </tr>\n",
       "  </thead>\n",
       "  <tbody>\n",
       "    <tr>\n",
       "      <th>38665</th>\n",
       "      <td>vz1OW</td>\n",
       "      <td>-19.348001</td>\n",
       "      <td>-14.265995</td>\n",
       "      <td>5.010731</td>\n",
       "      <td>137.945408</td>\n",
       "      <td>139.818970</td>\n",
       "      <td>620754.334834</td>\n",
       "      <td>120754.334834</td>\n",
       "    </tr>\n",
       "    <tr>\n",
       "      <th>81155</th>\n",
       "      <td>3DRNS</td>\n",
       "      <td>-14.171551</td>\n",
       "      <td>0.373357</td>\n",
       "      <td>5.003140</td>\n",
       "      <td>137.945408</td>\n",
       "      <td>138.541630</td>\n",
       "      <td>620754.334834</td>\n",
       "      <td>120754.334834</td>\n",
       "    </tr>\n",
       "    <tr>\n",
       "      <th>22728</th>\n",
       "      <td>YnfRo</td>\n",
       "      <td>-13.956944</td>\n",
       "      <td>-1.761040</td>\n",
       "      <td>5.003028</td>\n",
       "      <td>137.945408</td>\n",
       "      <td>138.554515</td>\n",
       "      <td>620754.334834</td>\n",
       "      <td>120754.334834</td>\n",
       "    </tr>\n",
       "    <tr>\n",
       "      <th>50981</th>\n",
       "      <td>KgIF2</td>\n",
       "      <td>-13.383161</td>\n",
       "      <td>-6.072087</td>\n",
       "      <td>5.002548</td>\n",
       "      <td>137.945408</td>\n",
       "      <td>138.553392</td>\n",
       "      <td>620754.334834</td>\n",
       "      <td>120754.334834</td>\n",
       "    </tr>\n",
       "    <tr>\n",
       "      <th>2965</th>\n",
       "      <td>Z7Eaz</td>\n",
       "      <td>-13.152097</td>\n",
       "      <td>-14.889838</td>\n",
       "      <td>4.996537</td>\n",
       "      <td>137.945408</td>\n",
       "      <td>138.552122</td>\n",
       "      <td>620754.334834</td>\n",
       "      <td>120754.334834</td>\n",
       "    </tr>\n",
       "    <tr>\n",
       "      <th>...</th>\n",
       "      <td>...</td>\n",
       "      <td>...</td>\n",
       "      <td>...</td>\n",
       "      <td>...</td>\n",
       "      <td>...</td>\n",
       "      <td>...</td>\n",
       "      <td>...</td>\n",
       "      <td>...</td>\n",
       "    </tr>\n",
       "    <tr>\n",
       "      <th>12645</th>\n",
       "      <td>eM3CG</td>\n",
       "      <td>-14.236583</td>\n",
       "      <td>-7.198060</td>\n",
       "      <td>5.005553</td>\n",
       "      <td>137.945408</td>\n",
       "      <td>138.782880</td>\n",
       "      <td>620754.334834</td>\n",
       "      <td>120754.334834</td>\n",
       "    </tr>\n",
       "    <tr>\n",
       "      <th>21923</th>\n",
       "      <td>6Sv3M</td>\n",
       "      <td>-12.773590</td>\n",
       "      <td>-17.667152</td>\n",
       "      <td>5.004843</td>\n",
       "      <td>137.945408</td>\n",
       "      <td>138.782291</td>\n",
       "      <td>620754.334834</td>\n",
       "      <td>120754.334834</td>\n",
       "    </tr>\n",
       "    <tr>\n",
       "      <th>31767</th>\n",
       "      <td>kA60S</td>\n",
       "      <td>-16.381435</td>\n",
       "      <td>-5.506176</td>\n",
       "      <td>4.994921</td>\n",
       "      <td>137.945408</td>\n",
       "      <td>138.769924</td>\n",
       "      <td>620754.334834</td>\n",
       "      <td>120754.334834</td>\n",
       "    </tr>\n",
       "    <tr>\n",
       "      <th>80264</th>\n",
       "      <td>219Sz</td>\n",
       "      <td>-15.302547</td>\n",
       "      <td>-8.617210</td>\n",
       "      <td>4.998001</td>\n",
       "      <td>137.945408</td>\n",
       "      <td>138.765103</td>\n",
       "      <td>620754.334834</td>\n",
       "      <td>120754.334834</td>\n",
       "    </tr>\n",
       "    <tr>\n",
       "      <th>59892</th>\n",
       "      <td>nNXJO</td>\n",
       "      <td>-13.829672</td>\n",
       "      <td>-2.451627</td>\n",
       "      <td>4.997812</td>\n",
       "      <td>137.945408</td>\n",
       "      <td>138.410697</td>\n",
       "      <td>620754.334834</td>\n",
       "      <td>120754.334834</td>\n",
       "    </tr>\n",
       "  </tbody>\n",
       "</table>\n",
       "<p>200 rows × 8 columns</p>\n",
       "</div>"
      ],
      "text/plain": [
       "          id         f0         f1        f2     product  predictions  \\\n",
       "38665  vz1OW -19.348001 -14.265995  5.010731  137.945408   139.818970   \n",
       "81155  3DRNS -14.171551   0.373357  5.003140  137.945408   138.541630   \n",
       "22728  YnfRo -13.956944  -1.761040  5.003028  137.945408   138.554515   \n",
       "50981  KgIF2 -13.383161  -6.072087  5.002548  137.945408   138.553392   \n",
       "2965   Z7Eaz -13.152097 -14.889838  4.996537  137.945408   138.552122   \n",
       "...      ...        ...        ...       ...         ...          ...   \n",
       "12645  eM3CG -14.236583  -7.198060  5.005553  137.945408   138.782880   \n",
       "21923  6Sv3M -12.773590 -17.667152  5.004843  137.945408   138.782291   \n",
       "31767  kA60S -16.381435  -5.506176  4.994921  137.945408   138.769924   \n",
       "80264  219Sz -15.302547  -8.617210  4.998001  137.945408   138.765103   \n",
       "59892  nNXJO -13.829672  -2.451627  4.997812  137.945408   138.410697   \n",
       "\n",
       "               value        revenue  \n",
       "38665  620754.334834  120754.334834  \n",
       "81155  620754.334834  120754.334834  \n",
       "22728  620754.334834  120754.334834  \n",
       "50981  620754.334834  120754.334834  \n",
       "2965   620754.334834  120754.334834  \n",
       "...              ...            ...  \n",
       "12645  620754.334834  120754.334834  \n",
       "21923  620754.334834  120754.334834  \n",
       "31767  620754.334834  120754.334834  \n",
       "80264  620754.334834  120754.334834  \n",
       "59892  620754.334834  120754.334834  \n",
       "\n",
       "[200 rows x 8 columns]"
      ]
     },
     "execution_count": 28,
     "metadata": {},
     "output_type": "execute_result"
    }
   ],
   "source": [
    "rev_2 = best_200(reg_2, 2)\n",
    "rev_2"
   ]
  },
  {
   "cell_type": "code",
   "execution_count": 29,
   "metadata": {},
   "outputs": [
    {
     "name": "stdout",
     "output_type": "stream",
     "text": [
      "El promedio de barriles de los mejores 200 pozos de la región 3 es de: 141.2261107066648, con una ganancia de $27,103,499.64\n"
     ]
    },
    {
     "data": {
      "text/html": [
       "<div>\n",
       "<style scoped>\n",
       "    .dataframe tbody tr th:only-of-type {\n",
       "        vertical-align: middle;\n",
       "    }\n",
       "\n",
       "    .dataframe tbody tr th {\n",
       "        vertical-align: top;\n",
       "    }\n",
       "\n",
       "    .dataframe thead th {\n",
       "        text-align: right;\n",
       "    }\n",
       "</style>\n",
       "<table border=\"1\" class=\"dataframe\">\n",
       "  <thead>\n",
       "    <tr style=\"text-align: right;\">\n",
       "      <th></th>\n",
       "      <th>id</th>\n",
       "      <th>f0</th>\n",
       "      <th>f1</th>\n",
       "      <th>f2</th>\n",
       "      <th>product</th>\n",
       "      <th>predictions</th>\n",
       "      <th>value</th>\n",
       "      <th>revenue</th>\n",
       "    </tr>\n",
       "  </thead>\n",
       "  <tbody>\n",
       "    <tr>\n",
       "      <th>88718</th>\n",
       "      <td>mXCsc</td>\n",
       "      <td>2.268297</td>\n",
       "      <td>-0.962011</td>\n",
       "      <td>12.227234</td>\n",
       "      <td>189.124330</td>\n",
       "      <td>150.686653</td>\n",
       "      <td>851059.483621</td>\n",
       "      <td>351059.483621</td>\n",
       "    </tr>\n",
       "    <tr>\n",
       "      <th>48686</th>\n",
       "      <td>r5T4I</td>\n",
       "      <td>2.043915</td>\n",
       "      <td>0.311560</td>\n",
       "      <td>10.833945</td>\n",
       "      <td>188.045780</td>\n",
       "      <td>142.672728</td>\n",
       "      <td>846206.010198</td>\n",
       "      <td>346206.010198</td>\n",
       "    </tr>\n",
       "    <tr>\n",
       "      <th>41292</th>\n",
       "      <td>qTmU2</td>\n",
       "      <td>2.745605</td>\n",
       "      <td>-2.231718</td>\n",
       "      <td>11.700883</td>\n",
       "      <td>185.804790</td>\n",
       "      <td>147.749895</td>\n",
       "      <td>836121.553069</td>\n",
       "      <td>336121.553069</td>\n",
       "    </tr>\n",
       "    <tr>\n",
       "      <th>55551</th>\n",
       "      <td>I1JuS</td>\n",
       "      <td>-0.630070</td>\n",
       "      <td>2.500197</td>\n",
       "      <td>11.478745</td>\n",
       "      <td>185.801367</td>\n",
       "      <td>146.179223</td>\n",
       "      <td>836106.151671</td>\n",
       "      <td>336106.151671</td>\n",
       "    </tr>\n",
       "    <tr>\n",
       "      <th>49250</th>\n",
       "      <td>zJDEU</td>\n",
       "      <td>0.049147</td>\n",
       "      <td>2.430505</td>\n",
       "      <td>11.888048</td>\n",
       "      <td>185.228664</td>\n",
       "      <td>148.539676</td>\n",
       "      <td>833528.989912</td>\n",
       "      <td>333528.989912</td>\n",
       "    </tr>\n",
       "    <tr>\n",
       "      <th>...</th>\n",
       "      <td>...</td>\n",
       "      <td>...</td>\n",
       "      <td>...</td>\n",
       "      <td>...</td>\n",
       "      <td>...</td>\n",
       "      <td>...</td>\n",
       "      <td>...</td>\n",
       "      <td>...</td>\n",
       "    </tr>\n",
       "    <tr>\n",
       "      <th>54985</th>\n",
       "      <td>HNrF2</td>\n",
       "      <td>-1.470172</td>\n",
       "      <td>-0.791491</td>\n",
       "      <td>10.885230</td>\n",
       "      <td>76.858903</td>\n",
       "      <td>142.902971</td>\n",
       "      <td>345865.064495</td>\n",
       "      <td>-154134.935505</td>\n",
       "    </tr>\n",
       "    <tr>\n",
       "      <th>46557</th>\n",
       "      <td>unhq1</td>\n",
       "      <td>-0.857034</td>\n",
       "      <td>1.203237</td>\n",
       "      <td>11.525279</td>\n",
       "      <td>75.530060</td>\n",
       "      <td>146.492155</td>\n",
       "      <td>339885.271272</td>\n",
       "      <td>-160114.728728</td>\n",
       "    </tr>\n",
       "    <tr>\n",
       "      <th>12947</th>\n",
       "      <td>FTyGn</td>\n",
       "      <td>0.626591</td>\n",
       "      <td>-0.576014</td>\n",
       "      <td>12.191463</td>\n",
       "      <td>74.349793</td>\n",
       "      <td>150.415503</td>\n",
       "      <td>334574.067713</td>\n",
       "      <td>-165425.932287</td>\n",
       "    </tr>\n",
       "    <tr>\n",
       "      <th>93243</th>\n",
       "      <td>zlMxI</td>\n",
       "      <td>-0.640929</td>\n",
       "      <td>-1.261981</td>\n",
       "      <td>11.881527</td>\n",
       "      <td>73.167745</td>\n",
       "      <td>148.635733</td>\n",
       "      <td>329254.852908</td>\n",
       "      <td>-170745.147092</td>\n",
       "    </tr>\n",
       "    <tr>\n",
       "      <th>99404</th>\n",
       "      <td>r1mmc</td>\n",
       "      <td>1.056913</td>\n",
       "      <td>2.140030</td>\n",
       "      <td>11.017728</td>\n",
       "      <td>39.756589</td>\n",
       "      <td>143.614755</td>\n",
       "      <td>178904.649613</td>\n",
       "      <td>-321095.350387</td>\n",
       "    </tr>\n",
       "  </tbody>\n",
       "</table>\n",
       "<p>200 rows × 8 columns</p>\n",
       "</div>"
      ],
      "text/plain": [
       "          id        f0        f1         f2     product  predictions  \\\n",
       "88718  mXCsc  2.268297 -0.962011  12.227234  189.124330   150.686653   \n",
       "48686  r5T4I  2.043915  0.311560  10.833945  188.045780   142.672728   \n",
       "41292  qTmU2  2.745605 -2.231718  11.700883  185.804790   147.749895   \n",
       "55551  I1JuS -0.630070  2.500197  11.478745  185.801367   146.179223   \n",
       "49250  zJDEU  0.049147  2.430505  11.888048  185.228664   148.539676   \n",
       "...      ...       ...       ...        ...         ...          ...   \n",
       "54985  HNrF2 -1.470172 -0.791491  10.885230   76.858903   142.902971   \n",
       "46557  unhq1 -0.857034  1.203237  11.525279   75.530060   146.492155   \n",
       "12947  FTyGn  0.626591 -0.576014  12.191463   74.349793   150.415503   \n",
       "93243  zlMxI -0.640929 -1.261981  11.881527   73.167745   148.635733   \n",
       "99404  r1mmc  1.056913  2.140030  11.017728   39.756589   143.614755   \n",
       "\n",
       "               value        revenue  \n",
       "88718  851059.483621  351059.483621  \n",
       "48686  846206.010198  346206.010198  \n",
       "41292  836121.553069  336121.553069  \n",
       "55551  836106.151671  336106.151671  \n",
       "49250  833528.989912  333528.989912  \n",
       "...              ...            ...  \n",
       "54985  345865.064495 -154134.935505  \n",
       "46557  339885.271272 -160114.728728  \n",
       "12947  334574.067713 -165425.932287  \n",
       "93243  329254.852908 -170745.147092  \n",
       "99404  178904.649613 -321095.350387  \n",
       "\n",
       "[200 rows x 8 columns]"
      ]
     },
     "execution_count": 29,
     "metadata": {},
     "output_type": "execute_result"
    }
   ],
   "source": [
    "rev_3 = best_200(reg_3, 3)\n",
    "rev_3"
   ]
  },
  {
   "cell_type": "markdown",
   "metadata": {},
   "source": [
    "Ahora que sí tomamos en cuenta sólo los mejores 200 pozos, vemos que todas las regiones nos pueden generar ganancias, pero para maximizar ingresos elegiremos la región 1, ya que es la que en promedio tiene más reservas en sus mejores 200 pozos."
   ]
  },
  {
   "cell_type": "markdown",
   "metadata": {},
   "source": [
    "## Bootstrapping"
   ]
  },
  {
   "cell_type": "markdown",
   "metadata": {},
   "source": [
    "Ahora vamos a hacer una función que realice el proceso de bootstrapping que necesitamos, va a tomar una muestra aleatoria de 500 pozos y de estos, seleccionaremos los mejores 200. Este proceso se realizará 1000 veces y en cada iteración se sacará el promedio de esos mejores 200, devolviendo un valor representativo de cada región en la que se desea perforar."
   ]
  },
  {
   "cell_type": "code",
   "execution_count": 30,
   "metadata": {},
   "outputs": [],
   "source": [
    "def bootstrap_test(data, region, n= 1000, sub = 500, top= 200):\n",
    "    state= np.random.RandomState(12345)\n",
    "    best_list =[]\n",
    "    losses = 0\n",
    "    for i in range(n):\n",
    "        boot_sample = data.sample(n=sub, replace = True, random_state=state)\n",
    "        best_sample = boot_sample.sort_values(by= 'predictions', ascending = False).head(top)\n",
    "        rev = best_sample['product'] * 4500 - 500000\n",
    "        best_list.append(best_sample['product'].mean())\n",
    "        if rev.sum() < 0:\n",
    "            losses += 1\n",
    "        \n",
    "    best_200_avg = np.mean(best_list)\n",
    "    ci_lower = np.percentile(best_list, 2.5)\n",
    "    ci_upper = np.percentile(best_list, 97.5)\n",
    "    total_rev = (best_200_avg * 4500 * 200) - 100000000\n",
    "    total_formatted = \"{:,.2f}\".format(total_rev)\n",
    "    risk = (losses * 100) / len(best_list)\n",
    "    print(f\"Promedio de producción en la región {region}: {best_200_avg}, Beneficio total: ${total_formatted}, Intervalo de confianza del 95%: {ci_lower, ci_upper}, Riesgo de pérdida: {risk}%\")\n",
    "    #return best_list, best_200_avg, total_rev, (ci_lower, ci_upper), risk"
   ]
  },
  {
   "cell_type": "code",
   "execution_count": 31,
   "metadata": {},
   "outputs": [],
   "source": [
    "def bootstrap(data, region, n= 1000, sub = 500, top= 200):\n",
    "    state= np.random.RandomState(12345)\n",
    "    best_list =[]\n",
    "    losses = 0\n",
    "    for i in range(n):\n",
    "        boot_sample = data.sample(n=sub, replace = True, random_state=state)\n",
    "        best_sample = boot_sample.sort_values(by= 'predictions', ascending = False).head(top)\n",
    "        rev = best_sample['product'].sum() * 4500 - 100_000_000\n",
    "        best_list.append(rev)\n",
    "        if rev< 0:\n",
    "            losses += 1\n",
    "        \n",
    "    best_200_avg = np.mean(best_list)\n",
    "    best_formatted = \"{:,.2f}\".format(best_200_avg)\n",
    "    ci_lower = np.percentile(best_list, 2.5)\n",
    "    ci_upper = np.percentile(best_list, 97.5)\n",
    "    #total_rev = (best_200_avg * 4500) - 100000000\n",
    "    #total_formatted = \"{:,.2f}\".format(total_rev)\n",
    "    risk = (losses * 100) / len(best_list)\n",
    "    #print(f\"Promedio de ganancia en la región {region}: ${best_formatted}, Beneficio total: ${total_formatted}, Intervalo de confianza del 95%: {ci_lower, ci_upper}, Riesgo de pérdida: {risk}%\")\n",
    "    print(f\"Beneficio promedio en la región {region}: ${best_formatted}, Intervalo de confianza del 95%: {ci_lower, ci_upper}, Riesgo de pérdida: {risk}%\")\n",
    "    #return best_list, best_200_avg, total_rev, (ci_lower, ci_upper), risk"
   ]
  },
  {
   "cell_type": "code",
   "execution_count": 32,
   "metadata": {},
   "outputs": [
    {
     "name": "stdout",
     "output_type": "stream",
     "text": [
      "Beneficio promedio en la región 1: $3,961,649.85, Intervalo de confianza del 95%: (-1112155.4589049604, 9097669.41553423), Riesgo de pérdida: 6.9%\n"
     ]
    }
   ],
   "source": [
    "bootstrap(reg_1, 1)"
   ]
  },
  {
   "cell_type": "code",
   "execution_count": 33,
   "metadata": {},
   "outputs": [
    {
     "name": "stdout",
     "output_type": "stream",
     "text": [
      "Beneficio promedio en la región 2: $4,560,451.06, Intervalo de confianza del 95%: (338205.0939898458, 8522894.538660347), Riesgo de pérdida: 1.5%\n"
     ]
    }
   ],
   "source": [
    "bootstrap(reg_2, 2)"
   ]
  },
  {
   "cell_type": "code",
   "execution_count": 34,
   "metadata": {},
   "outputs": [
    {
     "name": "stdout",
     "output_type": "stream",
     "text": [
      "Beneficio promedio en la región 3: $4,044,038.67, Intervalo de confianza del 95%: (-1633504.1339559986, 9503595.749237997), Riesgo de pérdida: 7.6%\n"
     ]
    }
   ],
   "source": [
    "bootstrap(reg_3, 3)"
   ]
  },
  {
   "cell_type": "markdown",
   "metadata": {},
   "source": [
    "El bootstrapping devuelve como mejor región la número dos, aunque previamente parecía ser la menos favorable, vamos a hacer un diagrama de caja para observar si esto es por la distribución de los datos."
   ]
  },
  {
   "cell_type": "code",
   "execution_count": 35,
   "metadata": {},
   "outputs": [
    {
     "data": {
      "image/png": "[encoded data removed]",
      "text/plain": [
       "<Figure size 1200x800 with 1 Axes>"
      ]
     },
     "metadata": {},
     "output_type": "display_data"
    }
   ],
   "source": [
    "import matplotlib.pyplot as plt\n",
    "\n",
    "plt.figure(figsize=(12, 8))\n",
    "plt.boxplot([df_1['product'], df_2['product'], df_3['product']], labels=['reg_1', 'reg_2', 'reg_3'])\n",
    "plt.title('Diagrama de Caja de producto por región')\n",
    "plt.xlabel('DataFrames')\n",
    "plt.ylabel('Product')\n",
    "plt.grid(True)\n",
    "plt.show()\n"
   ]
  },
  {
   "cell_type": "markdown",
   "metadata": {},
   "source": [
    "El diagrama muestra que la región 2 realmente no parece ser la mejor, con una media más baja y valores máximos más bajos también, a pesar de que el bootstrapping la muestra como la región con mayores ganancias y menor riesgo de pérdida."
   ]
  },
  {
   "cell_type": "markdown",
   "metadata": {},
   "source": [
    "## Conclusión"
   ]
  },
  {
   "cell_type": "markdown",
   "metadata": {},
   "source": [
    "Los resultados del análisis con y sin bootstrapping dieron resultados muy diferentes, lo que hace que disputen como mejores regiones la 1 y la 2, pero considerando que ya se tienen los datos de todos los pozos de las regiones, considero que la elección válida sería la región 1. La técnica de bootstrapping, aunque muy educativa en este ejemplo, no creo que sea la adecuada para la selección de la región, ya que no se perforarán los pozos al azar y únicamente se perforarán los 200 que ya se sabe que son los mejores en dicha región. Si no se conocieran los datos de cada pozo, la opción indiscutible sería la sería la región 2 para minimizar riesgos."
   ]
  }
 ],
 "metadata": {
  "ExecuteTimeLog": [
   {
    "duration": 240,
    "start_time": "2025-02-25T19:14:06.624Z"
   },
   {
    "duration": 306,
    "start_time": "2025-02-25T19:14:10.762Z"
   },
   {
    "duration": 2844,
    "start_time": "2025-02-25T19:14:11.073Z"
   },
   {
    "duration": 14,
    "start_time": "2025-02-25T19:14:33.072Z"
   },
   {
    "duration": 174,
    "start_time": "2025-02-25T19:21:09.124Z"
   },
   {
    "duration": 12,
    "start_time": "2025-02-25T19:21:20.575Z"
   },
   {
    "duration": 8,
    "start_time": "2025-02-25T19:21:31.311Z"
   },
   {
    "duration": 10,
    "start_time": "2025-02-25T19:21:46.012Z"
   },
   {
    "duration": 848,
    "start_time": "2025-02-26T16:52:46.417Z"
   },
   {
    "duration": 2806,
    "start_time": "2025-02-26T16:52:47.267Z"
   },
   {
    "duration": 13,
    "start_time": "2025-02-26T16:52:50.075Z"
   },
   {
    "duration": 16,
    "start_time": "2025-02-26T16:52:50.090Z"
   },
   {
    "duration": 4,
    "start_time": "2025-02-26T17:00:19.351Z"
   },
   {
    "duration": 223,
    "start_time": "2025-02-26T17:00:45.304Z"
   },
   {
    "duration": 4,
    "start_time": "2025-02-26T17:00:57.493Z"
   },
   {
    "duration": 4,
    "start_time": "2025-02-26T17:01:10.687Z"
   },
   {
    "duration": 2,
    "start_time": "2025-02-26T17:01:48.982Z"
   },
   {
    "duration": 87,
    "start_time": "2025-02-26T17:01:59.860Z"
   },
   {
    "duration": 761,
    "start_time": "2025-02-26T17:02:15.780Z"
   },
   {
    "duration": 2673,
    "start_time": "2025-02-26T17:02:16.544Z"
   },
   {
    "duration": 12,
    "start_time": "2025-02-26T17:02:19.219Z"
   },
   {
    "duration": 11,
    "start_time": "2025-02-26T17:02:19.234Z"
   },
   {
    "duration": 116,
    "start_time": "2025-02-26T17:02:19.248Z"
   },
   {
    "duration": 790,
    "start_time": "2025-02-26T17:05:21.281Z"
   },
   {
    "duration": 2911,
    "start_time": "2025-02-26T17:05:22.076Z"
   },
   {
    "duration": 18,
    "start_time": "2025-02-26T17:05:24.989Z"
   },
   {
    "duration": 11,
    "start_time": "2025-02-26T17:05:25.009Z"
   },
   {
    "duration": 138,
    "start_time": "2025-02-26T17:06:08.743Z"
   },
   {
    "duration": 120,
    "start_time": "2025-02-26T17:06:41.716Z"
   },
   {
    "duration": 123,
    "start_time": "2025-02-26T17:06:50.708Z"
   },
   {
    "duration": 34,
    "start_time": "2025-02-26T17:07:02.123Z"
   },
   {
    "duration": 271,
    "start_time": "2025-02-26T17:07:43.041Z"
   },
   {
    "duration": 49,
    "start_time": "2025-02-26T17:07:54.977Z"
   },
   {
    "duration": 16,
    "start_time": "2025-02-26T17:08:14.724Z"
   },
   {
    "duration": 26,
    "start_time": "2025-02-26T17:08:31.735Z"
   },
   {
    "duration": 4,
    "start_time": "2025-02-26T17:10:25.529Z"
   },
   {
    "duration": 5,
    "start_time": "2025-02-26T17:10:42.985Z"
   },
   {
    "duration": 764,
    "start_time": "2025-02-26T17:10:46.182Z"
   },
   {
    "duration": 2828,
    "start_time": "2025-02-26T17:10:46.948Z"
   },
   {
    "duration": 12,
    "start_time": "2025-02-26T17:10:49.778Z"
   },
   {
    "duration": 11,
    "start_time": "2025-02-26T17:10:49.805Z"
   },
   {
    "duration": 21,
    "start_time": "2025-02-26T17:10:49.819Z"
   },
   {
    "duration": 3,
    "start_time": "2025-02-26T17:10:49.842Z"
   },
   {
    "duration": 4,
    "start_time": "2025-02-26T17:11:05.482Z"
   },
   {
    "duration": 4,
    "start_time": "2025-02-26T17:11:09.244Z"
   },
   {
    "duration": 4,
    "start_time": "2025-02-26T17:11:14.444Z"
   },
   {
    "duration": 11,
    "start_time": "2025-02-26T17:12:21.203Z"
   },
   {
    "duration": 45,
    "start_time": "2025-02-26T17:19:24.735Z"
   },
   {
    "duration": 25,
    "start_time": "2025-02-26T17:29:10.200Z"
   },
   {
    "duration": 14,
    "start_time": "2025-02-26T17:29:19.398Z"
   },
   {
    "duration": 3,
    "start_time": "2025-02-26T19:52:09.342Z"
   },
   {
    "duration": 739,
    "start_time": "2025-02-26T19:52:30.996Z"
   },
   {
    "duration": 2767,
    "start_time": "2025-02-26T19:52:31.737Z"
   },
   {
    "duration": 11,
    "start_time": "2025-02-26T19:52:34.506Z"
   },
   {
    "duration": 10,
    "start_time": "2025-02-26T19:52:34.518Z"
   },
   {
    "duration": 5,
    "start_time": "2025-02-26T20:04:56.271Z"
   },
   {
    "duration": 17,
    "start_time": "2025-02-26T20:05:56.382Z"
   },
   {
    "duration": 156,
    "start_time": "2025-02-26T20:07:17.316Z"
   },
   {
    "duration": 779,
    "start_time": "2025-02-26T20:08:38.148Z"
   },
   {
    "duration": 3164,
    "start_time": "2025-02-26T20:08:38.930Z"
   },
   {
    "duration": 10,
    "start_time": "2025-02-26T20:08:42.096Z"
   },
   {
    "duration": 9,
    "start_time": "2025-02-26T20:08:42.108Z"
   },
   {
    "duration": 3,
    "start_time": "2025-02-26T20:08:42.119Z"
   },
   {
    "duration": 4,
    "start_time": "2025-02-26T20:08:42.124Z"
   },
   {
    "duration": 14,
    "start_time": "2025-02-26T20:08:42.129Z"
   },
   {
    "duration": 164,
    "start_time": "2025-02-26T20:08:42.144Z"
   },
   {
    "duration": 764,
    "start_time": "2025-02-26T20:09:20.143Z"
   },
   {
    "duration": 2457,
    "start_time": "2025-02-26T20:09:20.909Z"
   },
   {
    "duration": 10,
    "start_time": "2025-02-26T20:09:23.368Z"
   },
   {
    "duration": 9,
    "start_time": "2025-02-26T20:09:23.379Z"
   },
   {
    "duration": 3,
    "start_time": "2025-02-26T20:09:23.406Z"
   },
   {
    "duration": 4,
    "start_time": "2025-02-26T20:09:23.411Z"
   },
   {
    "duration": 10,
    "start_time": "2025-02-26T20:09:23.416Z"
   },
   {
    "duration": 13,
    "start_time": "2025-02-26T20:09:23.428Z"
   },
   {
    "duration": 3,
    "start_time": "2025-02-26T20:11:56.110Z"
   },
   {
    "duration": 297,
    "start_time": "2025-02-26T20:12:28.322Z"
   },
   {
    "duration": 4,
    "start_time": "2025-02-26T20:12:49.492Z"
   },
   {
    "duration": 4,
    "start_time": "2025-02-26T20:12:58.532Z"
   },
   {
    "duration": 3,
    "start_time": "2025-02-26T20:13:11.237Z"
   },
   {
    "duration": 9,
    "start_time": "2025-02-26T22:38:12.984Z"
   },
   {
    "duration": 4,
    "start_time": "2025-02-26T22:38:33.237Z"
   },
   {
    "duration": 156,
    "start_time": "2025-02-26T22:38:46.756Z"
   },
   {
    "duration": 769,
    "start_time": "2025-02-26T22:38:56.681Z"
   },
   {
    "duration": 2826,
    "start_time": "2025-02-26T22:38:57.452Z"
   },
   {
    "duration": 14,
    "start_time": "2025-02-26T22:39:00.280Z"
   },
   {
    "duration": 11,
    "start_time": "2025-02-26T22:39:00.296Z"
   },
   {
    "duration": 3,
    "start_time": "2025-02-26T22:39:00.310Z"
   },
   {
    "duration": 4,
    "start_time": "2025-02-26T22:39:00.315Z"
   },
   {
    "duration": 30,
    "start_time": "2025-02-26T22:39:00.321Z"
   },
   {
    "duration": 13,
    "start_time": "2025-02-26T22:39:00.353Z"
   },
   {
    "duration": 3,
    "start_time": "2025-02-26T22:39:00.368Z"
   },
   {
    "duration": 5,
    "start_time": "2025-02-26T22:39:00.373Z"
   },
   {
    "duration": 776,
    "start_time": "2025-02-26T22:39:00.443Z"
   },
   {
    "duration": 4,
    "start_time": "2025-02-26T22:39:55.318Z"
   },
   {
    "duration": 28,
    "start_time": "2025-02-26T22:39:56.712Z"
   },
   {
    "duration": 748,
    "start_time": "2025-02-26T22:45:29.310Z"
   },
   {
    "duration": 2672,
    "start_time": "2025-02-26T22:45:30.061Z"
   },
   {
    "duration": 13,
    "start_time": "2025-02-26T22:45:32.736Z"
   },
   {
    "duration": 10,
    "start_time": "2025-02-26T22:45:32.751Z"
   },
   {
    "duration": 3,
    "start_time": "2025-02-26T22:45:32.763Z"
   },
   {
    "duration": 3,
    "start_time": "2025-02-26T22:45:32.768Z"
   },
   {
    "duration": 9,
    "start_time": "2025-02-26T22:45:32.773Z"
   },
   {
    "duration": 59,
    "start_time": "2025-02-26T22:45:32.784Z"
   },
   {
    "duration": 4,
    "start_time": "2025-02-26T22:45:32.845Z"
   },
   {
    "duration": 7,
    "start_time": "2025-02-26T22:45:32.850Z"
   },
   {
    "duration": 103,
    "start_time": "2025-02-26T22:45:32.859Z"
   },
   {
    "duration": 18,
    "start_time": "2025-02-26T22:46:49.977Z"
   },
   {
    "duration": 17,
    "start_time": "2025-02-26T22:46:59.830Z"
   },
   {
    "duration": 20,
    "start_time": "2025-02-26T22:47:10.939Z"
   },
   {
    "duration": 771,
    "start_time": "2025-02-27T16:17:49.357Z"
   },
   {
    "duration": 6,
    "start_time": "2025-02-27T17:45:53.118Z"
   },
   {
    "duration": 821,
    "start_time": "2025-02-27T17:45:56.527Z"
   },
   {
    "duration": 3386,
    "start_time": "2025-02-27T17:45:57.350Z"
   },
   {
    "duration": 11,
    "start_time": "2025-02-27T17:46:00.738Z"
   },
   {
    "duration": 10,
    "start_time": "2025-02-27T17:46:00.750Z"
   },
   {
    "duration": 4,
    "start_time": "2025-02-27T17:46:00.761Z"
   },
   {
    "duration": 3,
    "start_time": "2025-02-27T17:46:00.768Z"
   },
   {
    "duration": 8,
    "start_time": "2025-02-27T17:46:00.773Z"
   },
   {
    "duration": 33,
    "start_time": "2025-02-27T17:46:00.783Z"
   },
   {
    "duration": 2,
    "start_time": "2025-02-27T17:46:00.818Z"
   },
   {
    "duration": 5,
    "start_time": "2025-02-27T17:46:00.823Z"
   },
   {
    "duration": 93,
    "start_time": "2025-02-27T17:46:00.830Z"
   },
   {
    "duration": 91,
    "start_time": "2025-02-27T17:46:00.925Z"
   },
   {
    "duration": 94,
    "start_time": "2025-02-27T17:46:01.018Z"
   },
   {
    "duration": 3,
    "start_time": "2025-02-27T17:46:01.114Z"
   },
   {
    "duration": 211,
    "start_time": "2025-02-27T17:46:40.701Z"
   },
   {
    "duration": 26,
    "start_time": "2025-02-27T17:46:53.833Z"
   },
   {
    "duration": 814,
    "start_time": "2025-02-27T17:48:45.010Z"
   },
   {
    "duration": 2663,
    "start_time": "2025-02-27T17:48:45.826Z"
   },
   {
    "duration": 12,
    "start_time": "2025-02-27T17:48:48.491Z"
   },
   {
    "duration": 8,
    "start_time": "2025-02-27T17:48:48.506Z"
   },
   {
    "duration": 3,
    "start_time": "2025-02-27T17:48:48.517Z"
   },
   {
    "duration": 4,
    "start_time": "2025-02-27T17:48:48.522Z"
   },
   {
    "duration": 9,
    "start_time": "2025-02-27T17:48:48.528Z"
   },
   {
    "duration": 14,
    "start_time": "2025-02-27T17:48:48.539Z"
   },
   {
    "duration": 56,
    "start_time": "2025-02-27T17:48:48.554Z"
   },
   {
    "duration": 5,
    "start_time": "2025-02-27T17:48:48.614Z"
   },
   {
    "duration": 106,
    "start_time": "2025-02-27T17:48:48.622Z"
   },
   {
    "duration": 86,
    "start_time": "2025-02-27T17:48:48.730Z"
   },
   {
    "duration": 97,
    "start_time": "2025-02-27T17:48:48.818Z"
   },
   {
    "duration": 4,
    "start_time": "2025-02-27T17:48:48.917Z"
   },
   {
    "duration": 228,
    "start_time": "2025-02-27T17:48:48.926Z"
   },
   {
    "duration": 4,
    "start_time": "2025-02-27T17:49:10.846Z"
   },
   {
    "duration": 823,
    "start_time": "2025-02-27T17:49:14.814Z"
   },
   {
    "duration": 2877,
    "start_time": "2025-02-27T17:49:15.640Z"
   },
   {
    "duration": 10,
    "start_time": "2025-02-27T17:49:18.519Z"
   },
   {
    "duration": 9,
    "start_time": "2025-02-27T17:49:18.531Z"
   },
   {
    "duration": 3,
    "start_time": "2025-02-27T17:49:18.543Z"
   },
   {
    "duration": 4,
    "start_time": "2025-02-27T17:49:18.548Z"
   },
   {
    "duration": 9,
    "start_time": "2025-02-27T17:49:18.554Z"
   },
   {
    "duration": 43,
    "start_time": "2025-02-27T17:49:18.566Z"
   },
   {
    "duration": 5,
    "start_time": "2025-02-27T17:49:18.612Z"
   },
   {
    "duration": 6,
    "start_time": "2025-02-27T17:49:18.621Z"
   },
   {
    "duration": 95,
    "start_time": "2025-02-27T17:49:18.630Z"
   },
   {
    "duration": 88,
    "start_time": "2025-02-27T17:49:18.727Z"
   },
   {
    "duration": 95,
    "start_time": "2025-02-27T17:49:18.818Z"
   },
   {
    "duration": 4,
    "start_time": "2025-02-27T17:49:18.916Z"
   },
   {
    "duration": 220,
    "start_time": "2025-02-27T17:49:18.922Z"
   },
   {
    "duration": 36,
    "start_time": "2025-02-27T17:52:16.485Z"
   },
   {
    "duration": 10,
    "start_time": "2025-02-27T17:53:33.853Z"
   },
   {
    "duration": 4,
    "start_time": "2025-02-27T17:55:44.384Z"
   },
   {
    "duration": 843,
    "start_time": "2025-02-27T17:55:51.502Z"
   },
   {
    "duration": 2765,
    "start_time": "2025-02-27T17:55:52.348Z"
   },
   {
    "duration": 11,
    "start_time": "2025-02-27T17:55:55.115Z"
   },
   {
    "duration": 9,
    "start_time": "2025-02-27T17:55:55.128Z"
   },
   {
    "duration": 5,
    "start_time": "2025-02-27T17:55:55.141Z"
   },
   {
    "duration": 4,
    "start_time": "2025-02-27T17:55:55.148Z"
   },
   {
    "duration": 11,
    "start_time": "2025-02-27T17:55:55.153Z"
   },
   {
    "duration": 43,
    "start_time": "2025-02-27T17:55:55.166Z"
   },
   {
    "duration": 4,
    "start_time": "2025-02-27T17:55:55.214Z"
   },
   {
    "duration": 9,
    "start_time": "2025-02-27T17:55:55.219Z"
   },
   {
    "duration": 108,
    "start_time": "2025-02-27T17:55:55.229Z"
   },
   {
    "duration": 88,
    "start_time": "2025-02-27T17:55:55.339Z"
   },
   {
    "duration": 181,
    "start_time": "2025-02-27T17:55:55.429Z"
   },
   {
    "duration": 12,
    "start_time": "2025-02-27T17:55:55.613Z"
   },
   {
    "duration": 3,
    "start_time": "2025-02-27T17:55:55.627Z"
   },
   {
    "duration": 199,
    "start_time": "2025-02-27T17:55:55.631Z"
   },
   {
    "duration": 22,
    "start_time": "2025-02-27T17:57:17.363Z"
   },
   {
    "duration": 7,
    "start_time": "2025-02-27T17:57:25.945Z"
   },
   {
    "duration": 4,
    "start_time": "2025-02-27T17:57:56.437Z"
   },
   {
    "duration": 23,
    "start_time": "2025-02-27T17:58:47.627Z"
   },
   {
    "duration": 102,
    "start_time": "2025-02-27T17:58:52.379Z"
   },
   {
    "duration": 21,
    "start_time": "2025-02-27T17:58:56.626Z"
   },
   {
    "duration": 3,
    "start_time": "2025-02-27T18:07:31.562Z"
   },
   {
    "duration": 401,
    "start_time": "2025-02-27T18:07:32.984Z"
   },
   {
    "duration": 391,
    "start_time": "2025-02-27T18:07:57.630Z"
   },
   {
    "duration": 370,
    "start_time": "2025-02-27T18:08:10.620Z"
   },
   {
    "duration": 3,
    "start_time": "2025-02-27T18:08:33.090Z"
   },
   {
    "duration": 22,
    "start_time": "2025-02-27T18:08:33.825Z"
   },
   {
    "duration": 4,
    "start_time": "2025-02-27T18:08:56.608Z"
   },
   {
    "duration": 22,
    "start_time": "2025-02-27T18:08:57.237Z"
   },
   {
    "duration": 3,
    "start_time": "2025-02-27T18:09:36.573Z"
   },
   {
    "duration": 955,
    "start_time": "2025-02-27T18:09:36.922Z"
   },
   {
    "duration": 4,
    "start_time": "2025-02-27T18:10:11.688Z"
   },
   {
    "duration": 501,
    "start_time": "2025-02-27T18:16:53.104Z"
   },
   {
    "duration": 863,
    "start_time": "2025-02-27T18:17:12.075Z"
   },
   {
    "duration": 4,
    "start_time": "2025-02-27T18:27:00.362Z"
   },
   {
    "duration": 444,
    "start_time": "2025-02-27T18:27:15.001Z"
   },
   {
    "duration": 3,
    "start_time": "2025-02-27T18:27:25.291Z"
   },
   {
    "duration": 14,
    "start_time": "2025-02-27T18:27:34.227Z"
   },
   {
    "duration": 16,
    "start_time": "2025-02-27T18:27:43.622Z"
   },
   {
    "duration": 5,
    "start_time": "2025-02-27T18:27:59.236Z"
   },
   {
    "duration": 14,
    "start_time": "2025-02-27T18:28:04.323Z"
   },
   {
    "duration": 3,
    "start_time": "2025-02-27T18:28:10.338Z"
   },
   {
    "duration": 6,
    "start_time": "2025-02-27T18:53:20.293Z"
   },
   {
    "duration": 775,
    "start_time": "2025-02-27T19:04:51.848Z"
   },
   {
    "duration": 2745,
    "start_time": "2025-02-27T19:04:52.626Z"
   },
   {
    "duration": 11,
    "start_time": "2025-02-27T19:04:55.373Z"
   },
   {
    "duration": 9,
    "start_time": "2025-02-27T19:04:55.385Z"
   },
   {
    "duration": 12,
    "start_time": "2025-02-27T19:04:55.397Z"
   },
   {
    "duration": 4,
    "start_time": "2025-02-27T19:04:55.411Z"
   },
   {
    "duration": 10,
    "start_time": "2025-02-27T19:04:55.416Z"
   },
   {
    "duration": 14,
    "start_time": "2025-02-27T19:04:55.427Z"
   },
   {
    "duration": 4,
    "start_time": "2025-02-27T19:04:55.443Z"
   },
   {
    "duration": 63,
    "start_time": "2025-02-27T19:04:55.448Z"
   },
   {
    "duration": 99,
    "start_time": "2025-02-27T19:04:55.514Z"
   },
   {
    "duration": 94,
    "start_time": "2025-02-27T19:04:55.615Z"
   },
   {
    "duration": 22,
    "start_time": "2025-02-27T19:04:55.711Z"
   },
   {
    "duration": 4,
    "start_time": "2025-02-27T19:04:55.815Z"
   },
   {
    "duration": 1069,
    "start_time": "2025-02-27T19:04:55.820Z"
   },
   {
    "duration": 4,
    "start_time": "2025-02-27T19:04:56.891Z"
   },
   {
    "duration": 612,
    "start_time": "2025-02-27T19:04:56.897Z"
   },
   {
    "duration": 4,
    "start_time": "2025-02-27T19:04:57.510Z"
   },
   {
    "duration": 7,
    "start_time": "2025-02-27T19:04:57.516Z"
   },
   {
    "duration": 3,
    "start_time": "2025-02-27T19:05:53.298Z"
   },
   {
    "duration": 2872,
    "start_time": "2025-02-27T19:05:53.620Z"
   },
   {
    "duration": 742,
    "start_time": "2025-02-27T19:25:02.200Z"
   },
   {
    "duration": 3301,
    "start_time": "2025-02-27T19:25:02.944Z"
   },
   {
    "duration": 15,
    "start_time": "2025-02-27T19:25:06.247Z"
   },
   {
    "duration": 9,
    "start_time": "2025-02-27T19:25:06.264Z"
   },
   {
    "duration": 4,
    "start_time": "2025-02-27T19:25:06.275Z"
   },
   {
    "duration": 3,
    "start_time": "2025-02-27T19:25:06.281Z"
   },
   {
    "duration": 11,
    "start_time": "2025-02-27T19:25:06.310Z"
   },
   {
    "duration": 17,
    "start_time": "2025-02-27T19:25:06.324Z"
   },
   {
    "duration": 5,
    "start_time": "2025-02-27T19:25:06.344Z"
   },
   {
    "duration": 60,
    "start_time": "2025-02-27T19:25:06.351Z"
   },
   {
    "duration": 106,
    "start_time": "2025-02-27T19:25:06.415Z"
   },
   {
    "duration": 113,
    "start_time": "2025-02-27T19:25:06.524Z"
   },
   {
    "duration": 99,
    "start_time": "2025-02-27T19:25:06.640Z"
   },
   {
    "duration": 68,
    "start_time": "2025-02-27T19:25:06.742Z"
   },
   {
    "duration": 3180,
    "start_time": "2025-02-27T19:25:06.813Z"
   },
   {
    "duration": 4,
    "start_time": "2025-02-27T19:40:46.203Z"
   },
   {
    "duration": 2746,
    "start_time": "2025-02-27T19:40:47.852Z"
   },
   {
    "duration": 4,
    "start_time": "2025-02-27T19:41:01.551Z"
   },
   {
    "duration": 494,
    "start_time": "2025-02-27T19:41:01.731Z"
   },
   {
    "duration": 4,
    "start_time": "2025-02-27T19:47:47.554Z"
   },
   {
    "duration": 2785,
    "start_time": "2025-02-27T19:47:47.791Z"
   },
   {
    "duration": 243,
    "start_time": "2025-02-27T19:48:45.297Z"
   },
   {
    "duration": 14,
    "start_time": "2025-02-27T19:49:12.292Z"
   },
   {
    "duration": 3,
    "start_time": "2025-02-27T20:07:39.923Z"
   },
   {
    "duration": 1267,
    "start_time": "2025-02-27T20:07:40.356Z"
   },
   {
    "duration": 3,
    "start_time": "2025-02-27T20:08:03.106Z"
   },
   {
    "duration": 617,
    "start_time": "2025-02-27T20:08:03.314Z"
   },
   {
    "duration": 3,
    "start_time": "2025-02-27T20:09:30.081Z"
   },
   {
    "duration": 629,
    "start_time": "2025-02-27T20:09:30.930Z"
   },
   {
    "duration": 3,
    "start_time": "2025-02-27T20:10:50.044Z"
   },
   {
    "duration": 614,
    "start_time": "2025-02-27T20:10:51.029Z"
   },
   {
    "duration": 3,
    "start_time": "2025-02-27T20:12:07.022Z"
   },
   {
    "duration": 605,
    "start_time": "2025-02-27T20:12:07.606Z"
   },
   {
    "duration": 3,
    "start_time": "2025-02-27T20:13:41.080Z"
   },
   {
    "duration": 4,
    "start_time": "2025-02-27T20:13:53.121Z"
   },
   {
    "duration": 587,
    "start_time": "2025-02-27T20:13:53.354Z"
   },
   {
    "duration": 4,
    "start_time": "2025-02-27T20:18:12.001Z"
   },
   {
    "duration": 592,
    "start_time": "2025-02-27T20:18:12.846Z"
   },
   {
    "duration": 4,
    "start_time": "2025-02-27T20:22:14.355Z"
   },
   {
    "duration": 600,
    "start_time": "2025-02-27T20:22:15.132Z"
   },
   {
    "duration": 670,
    "start_time": "2025-02-27T20:24:08.569Z"
   },
   {
    "duration": 661,
    "start_time": "2025-02-27T20:24:31.023Z"
   },
   {
    "duration": 183,
    "start_time": "2025-02-27T21:46:40.909Z"
   },
   {
    "duration": 811,
    "start_time": "2025-02-27T21:46:47.380Z"
   },
   {
    "duration": 2826,
    "start_time": "2025-02-27T21:46:48.193Z"
   },
   {
    "duration": 11,
    "start_time": "2025-02-27T21:46:51.021Z"
   },
   {
    "duration": 9,
    "start_time": "2025-02-27T21:46:51.034Z"
   },
   {
    "duration": 3,
    "start_time": "2025-02-27T21:46:51.044Z"
   },
   {
    "duration": 23,
    "start_time": "2025-02-27T21:46:51.049Z"
   },
   {
    "duration": 10,
    "start_time": "2025-02-27T21:46:51.073Z"
   },
   {
    "duration": 12,
    "start_time": "2025-02-27T21:46:51.085Z"
   },
   {
    "duration": 4,
    "start_time": "2025-02-27T21:46:51.098Z"
   },
   {
    "duration": 65,
    "start_time": "2025-02-27T21:46:51.105Z"
   },
   {
    "duration": 99,
    "start_time": "2025-02-27T21:46:51.173Z"
   },
   {
    "duration": 94,
    "start_time": "2025-02-27T21:46:51.277Z"
   },
   {
    "duration": 99,
    "start_time": "2025-02-27T21:46:51.373Z"
   },
   {
    "duration": 4,
    "start_time": "2025-02-27T21:46:51.475Z"
   },
   {
    "duration": 915,
    "start_time": "2025-02-27T21:46:51.481Z"
   },
   {
    "duration": 0,
    "start_time": "2025-02-27T21:46:52.398Z"
   },
   {
    "duration": 0,
    "start_time": "2025-02-27T21:46:52.399Z"
   },
   {
    "duration": 608,
    "start_time": "2025-02-27T21:47:16.672Z"
   },
   {
    "duration": 585,
    "start_time": "2025-02-27T21:47:43.520Z"
   },
   {
    "duration": 609,
    "start_time": "2025-02-27T21:47:49.984Z"
   },
   {
    "duration": 925,
    "start_time": "2025-02-27T23:57:57.373Z"
   },
   {
    "duration": 3235,
    "start_time": "2025-02-27T23:57:58.300Z"
   },
   {
    "duration": 15,
    "start_time": "2025-02-27T23:58:01.541Z"
   },
   {
    "duration": 10,
    "start_time": "2025-02-27T23:58:01.558Z"
   },
   {
    "duration": 3,
    "start_time": "2025-02-27T23:58:01.571Z"
   },
   {
    "duration": 3,
    "start_time": "2025-02-27T23:58:01.576Z"
   },
   {
    "duration": 9,
    "start_time": "2025-02-27T23:58:01.581Z"
   },
   {
    "duration": 36,
    "start_time": "2025-02-27T23:58:01.592Z"
   },
   {
    "duration": 16,
    "start_time": "2025-02-27T23:58:01.636Z"
   },
   {
    "duration": 12,
    "start_time": "2025-02-27T23:58:01.657Z"
   },
   {
    "duration": 37,
    "start_time": "2025-02-27T23:58:01.712Z"
   },
   {
    "duration": 81,
    "start_time": "2025-02-27T23:58:01.756Z"
   },
   {
    "duration": 112,
    "start_time": "2025-02-27T23:58:01.843Z"
   },
   {
    "duration": 16,
    "start_time": "2025-02-27T23:58:02.019Z"
   },
   {
    "duration": 725,
    "start_time": "2025-02-27T23:58:02.044Z"
   },
   {
    "duration": 705,
    "start_time": "2025-02-27T23:58:02.771Z"
   },
   {
    "duration": 690,
    "start_time": "2025-02-27T23:58:03.478Z"
   },
   {
    "duration": 14,
    "start_time": "2025-02-28T00:16:36.097Z"
   },
   {
    "duration": 19,
    "start_time": "2025-02-28T00:16:50.995Z"
   },
   {
    "duration": 831,
    "start_time": "2025-02-28T17:05:36.240Z"
   },
   {
    "duration": 2879,
    "start_time": "2025-02-28T17:05:37.074Z"
   },
   {
    "duration": 16,
    "start_time": "2025-02-28T17:05:39.955Z"
   },
   {
    "duration": 11,
    "start_time": "2025-02-28T17:05:39.973Z"
   },
   {
    "duration": 3,
    "start_time": "2025-02-28T17:05:39.988Z"
   },
   {
    "duration": 4,
    "start_time": "2025-02-28T17:05:39.993Z"
   },
   {
    "duration": 9,
    "start_time": "2025-02-28T17:05:39.999Z"
   },
   {
    "duration": 38,
    "start_time": "2025-02-28T17:05:40.010Z"
   },
   {
    "duration": 4,
    "start_time": "2025-02-28T17:05:40.050Z"
   },
   {
    "duration": 9,
    "start_time": "2025-02-28T17:05:40.057Z"
   },
   {
    "duration": 78,
    "start_time": "2025-02-28T17:05:40.068Z"
   },
   {
    "duration": 25,
    "start_time": "2025-02-28T17:05:40.149Z"
   },
   {
    "duration": 89,
    "start_time": "2025-02-28T17:05:40.177Z"
   },
   {
    "duration": 6,
    "start_time": "2025-02-28T17:05:40.272Z"
   },
   {
    "duration": 698,
    "start_time": "2025-02-28T17:05:40.345Z"
   },
   {
    "duration": 604,
    "start_time": "2025-02-28T17:05:41.045Z"
   },
   {
    "duration": 625,
    "start_time": "2025-02-28T17:05:41.652Z"
   },
   {
    "duration": 28,
    "start_time": "2025-02-28T17:05:49.932Z"
   },
   {
    "duration": 23,
    "start_time": "2025-02-28T17:06:47.111Z"
   },
   {
    "duration": 39,
    "start_time": "2025-02-28T17:09:03.735Z"
   },
   {
    "duration": 13,
    "start_time": "2025-02-28T17:09:36.063Z"
   },
   {
    "duration": 8,
    "start_time": "2025-02-28T17:09:42.366Z"
   },
   {
    "duration": 12,
    "start_time": "2025-02-28T17:09:52.928Z"
   },
   {
    "duration": 21,
    "start_time": "2025-02-28T17:10:07.857Z"
   },
   {
    "duration": 8,
    "start_time": "2025-02-28T17:10:17.112Z"
   },
   {
    "duration": 19,
    "start_time": "2025-02-28T17:10:37.063Z"
   },
   {
    "duration": 12,
    "start_time": "2025-02-28T17:10:56.458Z"
   },
   {
    "duration": 740,
    "start_time": "2025-02-28T17:16:08.308Z"
   },
   {
    "duration": 3003,
    "start_time": "2025-02-28T17:16:09.050Z"
   },
   {
    "duration": 16,
    "start_time": "2025-02-28T17:16:12.055Z"
   },
   {
    "duration": 12,
    "start_time": "2025-02-28T17:16:12.073Z"
   },
   {
    "duration": 3,
    "start_time": "2025-02-28T17:16:12.086Z"
   },
   {
    "duration": 4,
    "start_time": "2025-02-28T17:16:12.091Z"
   },
   {
    "duration": 9,
    "start_time": "2025-02-28T17:16:12.096Z"
   },
   {
    "duration": 38,
    "start_time": "2025-02-28T17:16:12.107Z"
   },
   {
    "duration": 4,
    "start_time": "2025-02-28T17:16:12.150Z"
   },
   {
    "duration": 6,
    "start_time": "2025-02-28T17:16:12.159Z"
   },
   {
    "duration": 16,
    "start_time": "2025-02-28T17:16:12.243Z"
   },
   {
    "duration": 86,
    "start_time": "2025-02-28T17:16:12.261Z"
   },
   {
    "duration": 94,
    "start_time": "2025-02-28T17:16:12.349Z"
   },
   {
    "duration": 102,
    "start_time": "2025-02-28T17:16:12.445Z"
   },
   {
    "duration": 12,
    "start_time": "2025-02-28T17:16:12.549Z"
   },
   {
    "duration": 4,
    "start_time": "2025-02-28T17:16:12.562Z"
   },
   {
    "duration": 623,
    "start_time": "2025-02-28T17:16:12.568Z"
   },
   {
    "duration": 607,
    "start_time": "2025-02-28T17:16:13.192Z"
   },
   {
    "duration": 609,
    "start_time": "2025-02-28T17:16:13.801Z"
   },
   {
    "duration": 609,
    "start_time": "2025-02-28T18:05:36.517Z"
   },
   {
    "duration": 818,
    "start_time": "2025-02-28T18:06:11.952Z"
   },
   {
    "duration": 2640,
    "start_time": "2025-02-28T18:06:12.772Z"
   },
   {
    "duration": 15,
    "start_time": "2025-02-28T18:06:15.414Z"
   },
   {
    "duration": 12,
    "start_time": "2025-02-28T18:06:15.442Z"
   },
   {
    "duration": 3,
    "start_time": "2025-02-28T18:06:15.457Z"
   },
   {
    "duration": 3,
    "start_time": "2025-02-28T18:06:15.462Z"
   },
   {
    "duration": 9,
    "start_time": "2025-02-28T18:06:15.467Z"
   },
   {
    "duration": 14,
    "start_time": "2025-02-28T18:06:15.477Z"
   },
   {
    "duration": 52,
    "start_time": "2025-02-28T18:06:15.492Z"
   },
   {
    "duration": 4,
    "start_time": "2025-02-28T18:06:15.546Z"
   },
   {
    "duration": 94,
    "start_time": "2025-02-28T18:06:15.555Z"
   },
   {
    "duration": 94,
    "start_time": "2025-02-28T18:06:15.650Z"
   },
   {
    "duration": 97,
    "start_time": "2025-02-28T18:06:15.746Z"
   },
   {
    "duration": 102,
    "start_time": "2025-02-28T18:06:15.846Z"
   },
   {
    "duration": 14,
    "start_time": "2025-02-28T18:06:15.949Z"
   },
   {
    "duration": 3,
    "start_time": "2025-02-28T18:06:15.965Z"
   },
   {
    "duration": 598,
    "start_time": "2025-02-28T18:06:15.970Z"
   },
   {
    "duration": 604,
    "start_time": "2025-02-28T18:06:16.570Z"
   },
   {
    "duration": 583,
    "start_time": "2025-02-28T18:06:17.176Z"
   },
   {
    "duration": 795,
    "start_time": "2025-02-28T18:16:43.961Z"
   },
   {
    "duration": 2759,
    "start_time": "2025-02-28T18:16:44.759Z"
   },
   {
    "duration": 16,
    "start_time": "2025-02-28T18:16:47.520Z"
   },
   {
    "duration": 13,
    "start_time": "2025-02-28T18:16:47.542Z"
   },
   {
    "duration": 4,
    "start_time": "2025-02-28T18:16:47.557Z"
   },
   {
    "duration": 4,
    "start_time": "2025-02-28T18:16:47.563Z"
   },
   {
    "duration": 9,
    "start_time": "2025-02-28T18:16:47.569Z"
   },
   {
    "duration": 9,
    "start_time": "2025-02-28T18:16:47.580Z"
   },
   {
    "duration": 2,
    "start_time": "2025-02-28T18:16:47.591Z"
   },
   {
    "duration": 50,
    "start_time": "2025-02-28T18:16:47.595Z"
   },
   {
    "duration": 97,
    "start_time": "2025-02-28T18:16:47.646Z"
   },
   {
    "duration": 20,
    "start_time": "2025-02-28T18:16:47.745Z"
   },
   {
    "duration": 91,
    "start_time": "2025-02-28T18:16:47.767Z"
   },
   {
    "duration": 110,
    "start_time": "2025-02-28T18:16:47.861Z"
   },
   {
    "duration": 12,
    "start_time": "2025-02-28T18:16:47.973Z"
   },
   {
    "duration": 57,
    "start_time": "2025-02-28T18:16:47.986Z"
   },
   {
    "duration": 3,
    "start_time": "2025-02-28T18:16:48.045Z"
   },
   {
    "duration": 3,
    "start_time": "2025-02-28T18:16:48.050Z"
   },
   {
    "duration": 229,
    "start_time": "2025-02-28T18:16:48.055Z"
   },
   {
    "duration": 0,
    "start_time": "2025-02-28T18:16:48.285Z"
   },
   {
    "duration": 6,
    "start_time": "2025-02-28T18:19:55.420Z"
   },
   {
    "duration": 4,
    "start_time": "2025-02-28T18:21:34.719Z"
   },
   {
    "duration": 3,
    "start_time": "2025-02-28T18:21:46.010Z"
   },
   {
    "duration": 4,
    "start_time": "2025-02-28T18:22:20.447Z"
   },
   {
    "duration": 3,
    "start_time": "2025-02-28T18:22:20.806Z"
   },
   {
    "duration": 5,
    "start_time": "2025-02-28T18:22:23.256Z"
   },
   {
    "duration": 4,
    "start_time": "2025-02-28T18:22:33.809Z"
   },
   {
    "duration": 2,
    "start_time": "2025-02-28T18:28:31.439Z"
   },
   {
    "duration": 22,
    "start_time": "2025-02-28T18:28:46.948Z"
   },
   {
    "duration": 3,
    "start_time": "2025-02-28T18:29:01.538Z"
   },
   {
    "duration": 22,
    "start_time": "2025-02-28T18:29:02.273Z"
   },
   {
    "duration": 21,
    "start_time": "2025-02-28T18:29:37.660Z"
   },
   {
    "duration": 25,
    "start_time": "2025-02-28T18:29:53.166Z"
   },
   {
    "duration": 2035,
    "start_time": "2025-02-28T18:54:12.784Z"
   },
   {
    "duration": 1425,
    "start_time": "2025-02-28T18:57:13.571Z"
   },
   {
    "duration": 3,
    "start_time": "2025-02-28T19:05:04.049Z"
   },
   {
    "duration": 49,
    "start_time": "2025-02-28T19:05:06.424Z"
   },
   {
    "duration": 3,
    "start_time": "2025-02-28T19:05:25.275Z"
   },
   {
    "duration": 25,
    "start_time": "2025-02-28T19:05:26.521Z"
   },
   {
    "duration": 1487,
    "start_time": "2025-02-28T19:07:25.185Z"
   },
   {
    "duration": 21,
    "start_time": "2025-02-28T19:08:59.721Z"
   },
   {
    "duration": 23,
    "start_time": "2025-02-28T19:09:24.071Z"
   },
   {
    "duration": 3,
    "start_time": "2025-02-28T19:09:45.122Z"
   },
   {
    "duration": 26,
    "start_time": "2025-02-28T19:09:45.236Z"
   },
   {
    "duration": 22,
    "start_time": "2025-02-28T19:10:11.396Z"
   },
   {
    "duration": 25,
    "start_time": "2025-02-28T19:10:31.442Z"
   },
   {
    "duration": 23,
    "start_time": "2025-02-28T19:10:35.783Z"
   },
   {
    "duration": 768,
    "start_time": "2025-03-01T17:54:27.214Z"
   },
   {
    "duration": 2995,
    "start_time": "2025-03-01T17:54:27.985Z"
   },
   {
    "duration": 15,
    "start_time": "2025-03-01T17:54:30.982Z"
   },
   {
    "duration": 12,
    "start_time": "2025-03-01T17:54:31.000Z"
   },
   {
    "duration": 4,
    "start_time": "2025-03-01T17:54:31.014Z"
   },
   {
    "duration": 5,
    "start_time": "2025-03-01T17:54:31.019Z"
   },
   {
    "duration": 9,
    "start_time": "2025-03-01T17:54:31.025Z"
   },
   {
    "duration": 36,
    "start_time": "2025-03-01T17:54:31.036Z"
   },
   {
    "duration": 7,
    "start_time": "2025-03-01T17:54:31.074Z"
   },
   {
    "duration": 5,
    "start_time": "2025-03-01T17:54:31.083Z"
   },
   {
    "duration": 94,
    "start_time": "2025-03-01T17:54:31.089Z"
   },
   {
    "duration": 89,
    "start_time": "2025-03-01T17:54:31.185Z"
   },
   {
    "duration": 95,
    "start_time": "2025-03-01T17:54:31.276Z"
   },
   {
    "duration": 33,
    "start_time": "2025-03-01T17:54:31.373Z"
   },
   {
    "duration": 13,
    "start_time": "2025-03-01T17:54:31.471Z"
   },
   {
    "duration": 6,
    "start_time": "2025-03-01T17:54:31.486Z"
   },
   {
    "duration": 4,
    "start_time": "2025-03-01T17:54:31.494Z"
   },
   {
    "duration": 6,
    "start_time": "2025-03-01T17:54:31.502Z"
   },
   {
    "duration": 4,
    "start_time": "2025-03-01T17:54:31.509Z"
   },
   {
    "duration": 22,
    "start_time": "2025-03-01T17:54:31.515Z"
   },
   {
    "duration": 51,
    "start_time": "2025-03-01T17:54:31.539Z"
   },
   {
    "duration": 23,
    "start_time": "2025-03-01T17:54:31.591Z"
   },
   {
    "duration": 3,
    "start_time": "2025-03-01T17:54:31.616Z"
   },
   {
    "duration": 3326,
    "start_time": "2025-03-01T17:54:31.621Z"
   },
   {
    "duration": 7,
    "start_time": "2025-03-01T19:09:06.013Z"
   },
   {
    "duration": 158,
    "start_time": "2025-03-01T19:09:23.237Z"
   },
   {
    "duration": 745,
    "start_time": "2025-03-01T19:09:27.372Z"
   },
   {
    "duration": 2899,
    "start_time": "2025-03-01T19:09:28.121Z"
   },
   {
    "duration": 19,
    "start_time": "2025-03-01T19:09:31.025Z"
   },
   {
    "duration": 12,
    "start_time": "2025-03-01T19:09:31.047Z"
   },
   {
    "duration": 4,
    "start_time": "2025-03-01T19:09:31.061Z"
   },
   {
    "duration": 3,
    "start_time": "2025-03-01T19:09:31.067Z"
   },
   {
    "duration": 9,
    "start_time": "2025-03-01T19:09:31.087Z"
   },
   {
    "duration": 13,
    "start_time": "2025-03-01T19:09:31.098Z"
   },
   {
    "duration": 4,
    "start_time": "2025-03-01T19:09:31.113Z"
   },
   {
    "duration": 66,
    "start_time": "2025-03-01T19:09:31.121Z"
   },
   {
    "duration": 100,
    "start_time": "2025-03-01T19:09:31.189Z"
   },
   {
    "duration": 20,
    "start_time": "2025-03-01T19:09:31.291Z"
   },
   {
    "duration": 20,
    "start_time": "2025-03-01T19:09:31.387Z"
   },
   {
    "duration": 109,
    "start_time": "2025-03-01T19:09:31.409Z"
   },
   {
    "duration": 77,
    "start_time": "2025-03-01T19:09:31.520Z"
   },
   {
    "duration": 4,
    "start_time": "2025-03-01T19:09:31.599Z"
   },
   {
    "duration": 4,
    "start_time": "2025-03-01T19:09:31.604Z"
   },
   {
    "duration": 4,
    "start_time": "2025-03-01T19:09:31.609Z"
   },
   {
    "duration": 3,
    "start_time": "2025-03-01T19:09:31.614Z"
   },
   {
    "duration": 23,
    "start_time": "2025-03-01T19:09:31.619Z"
   },
   {
    "duration": 57,
    "start_time": "2025-03-01T19:09:31.644Z"
   },
   {
    "duration": 23,
    "start_time": "2025-03-01T19:09:31.703Z"
   },
   {
    "duration": 4,
    "start_time": "2025-03-01T19:09:31.728Z"
   },
   {
    "duration": 628,
    "start_time": "2025-03-01T19:09:31.733Z"
   },
   {
    "duration": 5,
    "start_time": "2025-03-01T19:10:17.664Z"
   },
   {
    "duration": 586,
    "start_time": "2025-03-01T19:10:19.232Z"
   },
   {
    "duration": 3,
    "start_time": "2025-03-01T19:10:48.088Z"
   },
   {
    "duration": 593,
    "start_time": "2025-03-01T19:10:48.350Z"
   },
   {
    "duration": 622,
    "start_time": "2025-03-01T19:11:02.918Z"
   },
   {
    "duration": 598,
    "start_time": "2025-03-01T19:11:13.627Z"
   },
   {
    "duration": 4,
    "start_time": "2025-03-01T19:13:07.477Z"
   },
   {
    "duration": 597,
    "start_time": "2025-03-01T19:13:07.655Z"
   },
   {
    "duration": 4,
    "start_time": "2025-03-01T19:13:23.349Z"
   },
   {
    "duration": 820,
    "start_time": "2025-03-01T19:13:24.399Z"
   },
   {
    "duration": 3,
    "start_time": "2025-03-01T19:13:43.057Z"
   },
   {
    "duration": 622,
    "start_time": "2025-03-01T19:13:43.322Z"
   },
   {
    "duration": 4,
    "start_time": "2025-03-01T19:15:58.083Z"
   },
   {
    "duration": 587,
    "start_time": "2025-03-01T19:15:59.156Z"
   },
   {
    "duration": 584,
    "start_time": "2025-03-01T19:20:07.238Z"
   },
   {
    "duration": 613,
    "start_time": "2025-03-01T19:20:10.091Z"
   },
   {
    "duration": 3,
    "start_time": "2025-03-01T19:21:13.939Z"
   },
   {
    "duration": 4,
    "start_time": "2025-03-01T19:27:38.931Z"
   },
   {
    "duration": 586,
    "start_time": "2025-03-01T19:27:39.398Z"
   },
   {
    "duration": 610,
    "start_time": "2025-03-01T19:36:25.953Z"
   },
   {
    "duration": 4,
    "start_time": "2025-03-01T19:36:28.786Z"
   },
   {
    "duration": 646,
    "start_time": "2025-03-01T19:36:29.024Z"
   },
   {
    "duration": 647,
    "start_time": "2025-03-01T19:36:29.672Z"
   },
   {
    "duration": 622,
    "start_time": "2025-03-01T19:36:30.321Z"
   },
   {
    "duration": 2152,
    "start_time": "2025-03-01T19:39:17.628Z"
   },
   {
    "duration": 156,
    "start_time": "2025-03-01T19:39:44.375Z"
   },
   {
    "duration": 158,
    "start_time": "2025-03-01T19:41:51.082Z"
   },
   {
    "duration": 157,
    "start_time": "2025-03-01T19:41:59.381Z"
   },
   {
    "duration": 4,
    "start_time": "2025-03-01T19:47:00.171Z"
   },
   {
    "duration": 4,
    "start_time": "2025-03-01T19:48:21.318Z"
   },
   {
    "duration": 25,
    "start_time": "2025-03-01T19:48:21.474Z"
   },
   {
    "duration": 647,
    "start_time": "2025-03-01T19:48:31.026Z"
   },
   {
    "duration": 4,
    "start_time": "2025-03-01T19:49:28.105Z"
   },
   {
    "duration": 600,
    "start_time": "2025-03-01T19:49:28.832Z"
   },
   {
    "duration": 14,
    "start_time": "2025-03-01T19:50:05.641Z"
   },
   {
    "duration": 16,
    "start_time": "2025-03-01T19:50:05.822Z"
   },
   {
    "duration": 657,
    "start_time": "2025-03-01T19:50:15.294Z"
   },
   {
    "duration": 628,
    "start_time": "2025-03-01T19:50:18.510Z"
   },
   {
    "duration": 792,
    "start_time": "2025-03-02T04:04:07.600Z"
   },
   {
    "duration": 2834,
    "start_time": "2025-03-02T04:04:08.394Z"
   },
   {
    "duration": 15,
    "start_time": "2025-03-02T04:04:11.230Z"
   },
   {
    "duration": 13,
    "start_time": "2025-03-02T04:04:11.247Z"
   },
   {
    "duration": 4,
    "start_time": "2025-03-02T04:04:11.262Z"
   },
   {
    "duration": 20,
    "start_time": "2025-03-02T04:04:11.267Z"
   },
   {
    "duration": 10,
    "start_time": "2025-03-02T04:04:11.288Z"
   },
   {
    "duration": 11,
    "start_time": "2025-03-02T04:04:11.299Z"
   },
   {
    "duration": 5,
    "start_time": "2025-03-02T04:04:11.312Z"
   },
   {
    "duration": 5,
    "start_time": "2025-03-02T04:04:11.319Z"
   },
   {
    "duration": 21,
    "start_time": "2025-03-02T04:04:11.388Z"
   },
   {
    "duration": 21,
    "start_time": "2025-03-02T04:04:11.487Z"
   },
   {
    "duration": 97,
    "start_time": "2025-03-02T04:04:11.510Z"
   },
   {
    "duration": 107,
    "start_time": "2025-03-02T04:04:11.611Z"
   },
   {
    "duration": 77,
    "start_time": "2025-03-02T04:04:11.720Z"
   },
   {
    "duration": 4,
    "start_time": "2025-03-02T04:04:11.799Z"
   },
   {
    "duration": 3,
    "start_time": "2025-03-02T04:04:11.805Z"
   },
   {
    "duration": 3,
    "start_time": "2025-03-02T04:04:11.810Z"
   },
   {
    "duration": 3,
    "start_time": "2025-03-02T04:04:11.815Z"
   },
   {
    "duration": 24,
    "start_time": "2025-03-02T04:04:11.819Z"
   },
   {
    "duration": 57,
    "start_time": "2025-03-02T04:04:11.845Z"
   },
   {
    "duration": 23,
    "start_time": "2025-03-02T04:04:11.904Z"
   },
   {
    "duration": 5,
    "start_time": "2025-03-02T04:04:11.929Z"
   },
   {
    "duration": 623,
    "start_time": "2025-03-02T04:04:11.936Z"
   },
   {
    "duration": 593,
    "start_time": "2025-03-02T04:04:12.562Z"
   },
   {
    "duration": 605,
    "start_time": "2025-03-02T04:04:13.161Z"
   },
   {
    "duration": 292,
    "start_time": "2025-03-02T04:04:13.767Z"
   },
   {
    "duration": 155,
    "start_time": "2025-03-03T16:36:20.092Z"
   },
   {
    "duration": 802,
    "start_time": "2025-03-03T16:36:25.985Z"
   },
   {
    "duration": 2741,
    "start_time": "2025-03-03T16:36:26.789Z"
   },
   {
    "duration": 15,
    "start_time": "2025-03-03T16:36:29.532Z"
   },
   {
    "duration": 10,
    "start_time": "2025-03-03T16:36:29.550Z"
   },
   {
    "duration": 24,
    "start_time": "2025-03-03T16:36:29.563Z"
   },
   {
    "duration": 4,
    "start_time": "2025-03-03T16:36:29.589Z"
   },
   {
    "duration": 5,
    "start_time": "2025-03-03T16:36:29.594Z"
   },
   {
    "duration": 10,
    "start_time": "2025-03-03T16:36:29.600Z"
   },
   {
    "duration": 11,
    "start_time": "2025-03-03T16:36:29.611Z"
   },
   {
    "duration": 3,
    "start_time": "2025-03-03T16:36:29.624Z"
   },
   {
    "duration": 65,
    "start_time": "2025-03-03T16:36:29.628Z"
   },
   {
    "duration": 95,
    "start_time": "2025-03-03T16:36:29.695Z"
   },
   {
    "duration": 95,
    "start_time": "2025-03-03T16:36:29.792Z"
   },
   {
    "duration": 18,
    "start_time": "2025-03-03T16:36:29.892Z"
   },
   {
    "duration": 113,
    "start_time": "2025-03-03T16:36:29.912Z"
   },
   {
    "duration": 14,
    "start_time": "2025-03-03T16:36:30.087Z"
   },
   {
    "duration": 4,
    "start_time": "2025-03-03T16:36:30.103Z"
   },
   {
    "duration": 5,
    "start_time": "2025-03-03T16:36:30.108Z"
   },
   {
    "duration": 3,
    "start_time": "2025-03-03T16:36:30.115Z"
   },
   {
    "duration": 3,
    "start_time": "2025-03-03T16:36:30.120Z"
   },
   {
    "duration": 22,
    "start_time": "2025-03-03T16:36:30.125Z"
   },
   {
    "duration": 58,
    "start_time": "2025-03-03T16:36:30.148Z"
   },
   {
    "duration": 24,
    "start_time": "2025-03-03T16:36:30.207Z"
   },
   {
    "duration": 5,
    "start_time": "2025-03-03T16:36:30.232Z"
   },
   {
    "duration": 628,
    "start_time": "2025-03-03T16:36:30.239Z"
   },
   {
    "duration": 661,
    "start_time": "2025-03-03T16:36:30.869Z"
   },
   {
    "duration": 599,
    "start_time": "2025-03-03T16:36:31.532Z"
   },
   {
    "duration": 2129,
    "start_time": "2025-03-03T16:36:32.133Z"
   },
   {
    "duration": 7,
    "start_time": "2025-03-03T16:36:54.466Z"
   },
   {
    "duration": 16,
    "start_time": "2025-03-03T16:37:07.298Z"
   },
   {
    "duration": 5,
    "start_time": "2025-03-03T16:37:37.691Z"
   },
   {
    "duration": 16,
    "start_time": "2025-03-03T16:37:46.919Z"
   },
   {
    "duration": 15,
    "start_time": "2025-03-03T16:38:22.617Z"
   },
   {
    "duration": 722,
    "start_time": "2025-03-03T16:40:44.773Z"
   },
   {
    "duration": 2744,
    "start_time": "2025-03-03T16:40:45.497Z"
   },
   {
    "duration": 15,
    "start_time": "2025-03-03T16:40:48.242Z"
   },
   {
    "duration": 13,
    "start_time": "2025-03-03T16:40:48.261Z"
   },
   {
    "duration": 22,
    "start_time": "2025-03-03T16:40:48.276Z"
   },
   {
    "duration": 221,
    "start_time": "2025-03-03T16:40:48.300Z"
   },
   {
    "duration": 0,
    "start_time": "2025-03-03T16:40:48.523Z"
   },
   {
    "duration": 0,
    "start_time": "2025-03-03T16:40:48.525Z"
   },
   {
    "duration": 0,
    "start_time": "2025-03-03T16:40:48.526Z"
   },
   {
    "duration": 0,
    "start_time": "2025-03-03T16:40:48.528Z"
   },
   {
    "duration": 0,
    "start_time": "2025-03-03T16:40:48.529Z"
   },
   {
    "duration": 0,
    "start_time": "2025-03-03T16:40:48.531Z"
   },
   {
    "duration": 0,
    "start_time": "2025-03-03T16:40:48.532Z"
   },
   {
    "duration": 0,
    "start_time": "2025-03-03T16:40:48.533Z"
   },
   {
    "duration": 0,
    "start_time": "2025-03-03T16:40:48.535Z"
   },
   {
    "duration": 0,
    "start_time": "2025-03-03T16:40:48.537Z"
   },
   {
    "duration": 0,
    "start_time": "2025-03-03T16:40:48.538Z"
   },
   {
    "duration": 0,
    "start_time": "2025-03-03T16:40:48.540Z"
   },
   {
    "duration": 0,
    "start_time": "2025-03-03T16:40:48.541Z"
   },
   {
    "duration": 0,
    "start_time": "2025-03-03T16:40:48.543Z"
   },
   {
    "duration": 0,
    "start_time": "2025-03-03T16:40:48.544Z"
   },
   {
    "duration": 0,
    "start_time": "2025-03-03T16:40:48.546Z"
   },
   {
    "duration": 0,
    "start_time": "2025-03-03T16:40:48.586Z"
   },
   {
    "duration": 0,
    "start_time": "2025-03-03T16:40:48.587Z"
   },
   {
    "duration": 0,
    "start_time": "2025-03-03T16:40:48.588Z"
   },
   {
    "duration": 0,
    "start_time": "2025-03-03T16:40:48.589Z"
   },
   {
    "duration": 0,
    "start_time": "2025-03-03T16:40:48.591Z"
   },
   {
    "duration": 0,
    "start_time": "2025-03-03T16:40:48.592Z"
   },
   {
    "duration": 0,
    "start_time": "2025-03-03T16:40:48.593Z"
   },
   {
    "duration": 13,
    "start_time": "2025-03-03T16:42:04.177Z"
   },
   {
    "duration": 707,
    "start_time": "2025-03-03T16:42:09.870Z"
   },
   {
    "duration": 2899,
    "start_time": "2025-03-03T16:42:10.579Z"
   },
   {
    "duration": 19,
    "start_time": "2025-03-03T16:42:13.479Z"
   },
   {
    "duration": 16,
    "start_time": "2025-03-03T16:42:13.501Z"
   },
   {
    "duration": 14,
    "start_time": "2025-03-03T16:42:13.519Z"
   },
   {
    "duration": 12,
    "start_time": "2025-03-03T16:42:13.534Z"
   },
   {
    "duration": 252,
    "start_time": "2025-03-03T16:42:13.547Z"
   },
   {
    "duration": 0,
    "start_time": "2025-03-03T16:42:13.802Z"
   },
   {
    "duration": 0,
    "start_time": "2025-03-03T16:42:13.803Z"
   },
   {
    "duration": 0,
    "start_time": "2025-03-03T16:42:13.804Z"
   },
   {
    "duration": 0,
    "start_time": "2025-03-03T16:42:13.806Z"
   },
   {
    "duration": 0,
    "start_time": "2025-03-03T16:42:13.807Z"
   },
   {
    "duration": 0,
    "start_time": "2025-03-03T16:42:13.809Z"
   },
   {
    "duration": 0,
    "start_time": "2025-03-03T16:42:13.810Z"
   },
   {
    "duration": 0,
    "start_time": "2025-03-03T16:42:13.811Z"
   },
   {
    "duration": 0,
    "start_time": "2025-03-03T16:42:13.812Z"
   },
   {
    "duration": 0,
    "start_time": "2025-03-03T16:42:13.813Z"
   },
   {
    "duration": 0,
    "start_time": "2025-03-03T16:42:13.819Z"
   },
   {
    "duration": 0,
    "start_time": "2025-03-03T16:42:13.820Z"
   },
   {
    "duration": 0,
    "start_time": "2025-03-03T16:42:13.821Z"
   },
   {
    "duration": 0,
    "start_time": "2025-03-03T16:42:13.822Z"
   },
   {
    "duration": 0,
    "start_time": "2025-03-03T16:42:13.823Z"
   },
   {
    "duration": 0,
    "start_time": "2025-03-03T16:42:13.825Z"
   },
   {
    "duration": 0,
    "start_time": "2025-03-03T16:42:13.826Z"
   },
   {
    "duration": 0,
    "start_time": "2025-03-03T16:42:13.827Z"
   },
   {
    "duration": 0,
    "start_time": "2025-03-03T16:42:13.828Z"
   },
   {
    "duration": 0,
    "start_time": "2025-03-03T16:42:13.829Z"
   },
   {
    "duration": 0,
    "start_time": "2025-03-03T16:42:13.831Z"
   },
   {
    "duration": 0,
    "start_time": "2025-03-03T16:42:13.832Z"
   },
   {
    "duration": 6,
    "start_time": "2025-03-03T16:43:47.006Z"
   },
   {
    "duration": 4,
    "start_time": "2025-03-03T16:43:48.814Z"
   },
   {
    "duration": 10,
    "start_time": "2025-03-03T16:43:48.987Z"
   },
   {
    "duration": 13,
    "start_time": "2025-03-03T16:43:50.553Z"
   },
   {
    "duration": 5,
    "start_time": "2025-03-03T16:43:50.726Z"
   },
   {
    "duration": 838,
    "start_time": "2025-03-03T16:45:20.586Z"
   },
   {
    "duration": 2708,
    "start_time": "2025-03-03T16:45:21.426Z"
   },
   {
    "duration": 16,
    "start_time": "2025-03-03T16:45:24.136Z"
   },
   {
    "duration": 14,
    "start_time": "2025-03-03T16:45:24.154Z"
   },
   {
    "duration": 14,
    "start_time": "2025-03-03T16:45:24.188Z"
   },
   {
    "duration": 13,
    "start_time": "2025-03-03T16:45:24.204Z"
   },
   {
    "duration": 4,
    "start_time": "2025-03-03T16:45:24.218Z"
   },
   {
    "duration": 4,
    "start_time": "2025-03-03T16:45:24.224Z"
   },
   {
    "duration": 11,
    "start_time": "2025-03-03T16:45:24.230Z"
   },
   {
    "duration": 45,
    "start_time": "2025-03-03T16:45:24.242Z"
   },
   {
    "duration": 4,
    "start_time": "2025-03-03T16:45:24.288Z"
   },
   {
    "duration": 8,
    "start_time": "2025-03-03T16:45:24.293Z"
   },
   {
    "duration": 101,
    "start_time": "2025-03-03T16:45:24.302Z"
   },
   {
    "duration": 85,
    "start_time": "2025-03-03T16:45:24.406Z"
   },
   {
    "duration": 22,
    "start_time": "2025-03-03T16:45:24.492Z"
   },
   {
    "duration": 102,
    "start_time": "2025-03-03T16:45:24.516Z"
   },
   {
    "duration": 72,
    "start_time": "2025-03-03T16:45:24.621Z"
   },
   {
    "duration": 5,
    "start_time": "2025-03-03T16:45:24.696Z"
   },
   {
    "duration": 4,
    "start_time": "2025-03-03T16:45:24.703Z"
   },
   {
    "duration": 4,
    "start_time": "2025-03-03T16:45:24.711Z"
   },
   {
    "duration": 4,
    "start_time": "2025-03-03T16:45:24.718Z"
   },
   {
    "duration": 30,
    "start_time": "2025-03-03T16:45:24.724Z"
   },
   {
    "duration": 22,
    "start_time": "2025-03-03T16:45:24.786Z"
   },
   {
    "duration": 26,
    "start_time": "2025-03-03T16:45:24.810Z"
   },
   {
    "duration": 5,
    "start_time": "2025-03-03T16:45:24.838Z"
   },
   {
    "duration": 696,
    "start_time": "2025-03-03T16:45:24.845Z"
   },
   {
    "duration": 672,
    "start_time": "2025-03-03T16:45:25.542Z"
   },
   {
    "duration": 651,
    "start_time": "2025-03-03T16:45:26.216Z"
   },
   {
    "duration": 304,
    "start_time": "2025-03-03T16:45:26.869Z"
   },
   {
    "duration": 3,
    "start_time": "2025-03-03T17:05:39.017Z"
   },
   {
    "duration": 287,
    "start_time": "2025-03-03T17:05:41.281Z"
   },
   {
    "duration": 3,
    "start_time": "2025-03-03T17:06:55.198Z"
   },
   {
    "duration": 35,
    "start_time": "2025-03-03T17:06:56.785Z"
   },
   {
    "duration": 22,
    "start_time": "2025-03-03T17:07:28.312Z"
   },
   {
    "duration": 24,
    "start_time": "2025-03-03T17:07:35.900Z"
   },
   {
    "duration": 3,
    "start_time": "2025-03-03T17:13:51.362Z"
   },
   {
    "duration": 24,
    "start_time": "2025-03-03T17:13:51.963Z"
   },
   {
    "duration": 21,
    "start_time": "2025-03-03T17:14:18.692Z"
   },
   {
    "duration": 24,
    "start_time": "2025-03-03T17:14:27.644Z"
   },
   {
    "duration": 34,
    "start_time": "2025-03-03T17:15:12.237Z"
   },
   {
    "duration": 32,
    "start_time": "2025-03-03T17:15:23.214Z"
   },
   {
    "duration": 13,
    "start_time": "2025-03-03T17:15:41.500Z"
   },
   {
    "duration": 13,
    "start_time": "2025-03-03T17:16:03.277Z"
   },
   {
    "duration": 786,
    "start_time": "2025-03-03T17:16:39.526Z"
   },
   {
    "duration": 3163,
    "start_time": "2025-03-03T17:16:40.314Z"
   },
   {
    "duration": 18,
    "start_time": "2025-03-03T17:16:43.478Z"
   },
   {
    "duration": 14,
    "start_time": "2025-03-03T17:16:43.498Z"
   },
   {
    "duration": 14,
    "start_time": "2025-03-03T17:16:43.514Z"
   },
   {
    "duration": 14,
    "start_time": "2025-03-03T17:16:43.529Z"
   },
   {
    "duration": 9,
    "start_time": "2025-03-03T17:16:43.544Z"
   },
   {
    "duration": 4,
    "start_time": "2025-03-03T17:16:43.555Z"
   },
   {
    "duration": 5,
    "start_time": "2025-03-03T17:16:43.586Z"
   },
   {
    "duration": 10,
    "start_time": "2025-03-03T17:16:43.593Z"
   },
   {
    "duration": 13,
    "start_time": "2025-03-03T17:16:43.605Z"
   },
   {
    "duration": 3,
    "start_time": "2025-03-03T17:16:43.620Z"
   },
   {
    "duration": 64,
    "start_time": "2025-03-03T17:16:43.624Z"
   },
   {
    "duration": 24,
    "start_time": "2025-03-03T17:16:43.692Z"
   },
   {
    "duration": 21,
    "start_time": "2025-03-03T17:16:43.787Z"
   },
   {
    "duration": 88,
    "start_time": "2025-03-03T17:16:43.810Z"
   },
   {
    "duration": 108,
    "start_time": "2025-03-03T17:16:43.903Z"
   },
   {
    "duration": 16,
    "start_time": "2025-03-03T17:16:44.013Z"
   },
   {
    "duration": 4,
    "start_time": "2025-03-03T17:16:44.030Z"
   },
   {
    "duration": 3,
    "start_time": "2025-03-03T17:16:44.035Z"
   },
   {
    "duration": 3,
    "start_time": "2025-03-03T17:16:44.088Z"
   },
   {
    "duration": 4,
    "start_time": "2025-03-03T17:16:44.092Z"
   },
   {
    "duration": 24,
    "start_time": "2025-03-03T17:16:44.097Z"
   },
   {
    "duration": 24,
    "start_time": "2025-03-03T17:16:44.123Z"
   },
   {
    "duration": 280,
    "start_time": "2025-03-03T17:16:44.149Z"
   },
   {
    "duration": 0,
    "start_time": "2025-03-03T17:16:44.432Z"
   },
   {
    "duration": 0,
    "start_time": "2025-03-03T17:16:44.433Z"
   },
   {
    "duration": 0,
    "start_time": "2025-03-03T17:16:44.435Z"
   },
   {
    "duration": 0,
    "start_time": "2025-03-03T17:16:44.436Z"
   },
   {
    "duration": 0,
    "start_time": "2025-03-03T17:16:44.437Z"
   },
   {
    "duration": 0,
    "start_time": "2025-03-03T17:16:44.439Z"
   },
   {
    "duration": 0,
    "start_time": "2025-03-03T17:16:44.440Z"
   },
   {
    "duration": 30,
    "start_time": "2025-03-03T17:17:39.914Z"
   },
   {
    "duration": 158,
    "start_time": "2025-03-03T18:16:04.451Z"
   },
   {
    "duration": 12,
    "start_time": "2025-03-03T18:16:22.899Z"
   },
   {
    "duration": 836,
    "start_time": "2025-03-03T18:16:26.314Z"
   },
   {
    "duration": 2801,
    "start_time": "2025-03-03T18:16:27.152Z"
   },
   {
    "duration": 16,
    "start_time": "2025-03-03T18:16:29.954Z"
   },
   {
    "duration": 14,
    "start_time": "2025-03-03T18:16:29.972Z"
   },
   {
    "duration": 39,
    "start_time": "2025-03-03T18:16:29.987Z"
   },
   {
    "duration": 14,
    "start_time": "2025-03-03T18:16:30.028Z"
   },
   {
    "duration": 9,
    "start_time": "2025-03-03T18:16:30.045Z"
   },
   {
    "duration": 9,
    "start_time": "2025-03-03T18:16:30.056Z"
   },
   {
    "duration": 9,
    "start_time": "2025-03-03T18:16:30.067Z"
   },
   {
    "duration": 4,
    "start_time": "2025-03-03T18:16:30.107Z"
   },
   {
    "duration": 4,
    "start_time": "2025-03-03T18:16:30.113Z"
   },
   {
    "duration": 11,
    "start_time": "2025-03-03T18:16:30.118Z"
   },
   {
    "duration": 16,
    "start_time": "2025-03-03T18:16:30.131Z"
   },
   {
    "duration": 55,
    "start_time": "2025-03-03T18:16:30.149Z"
   },
   {
    "duration": 5,
    "start_time": "2025-03-03T18:16:30.206Z"
   },
   {
    "duration": 96,
    "start_time": "2025-03-03T18:16:30.213Z"
   },
   {
    "duration": 97,
    "start_time": "2025-03-03T18:16:30.312Z"
   },
   {
    "duration": 96,
    "start_time": "2025-03-03T18:16:30.412Z"
   },
   {
    "duration": 108,
    "start_time": "2025-03-03T18:16:30.510Z"
   },
   {
    "duration": 13,
    "start_time": "2025-03-03T18:16:30.620Z"
   },
   {
    "duration": 4,
    "start_time": "2025-03-03T18:16:30.635Z"
   },
   {
    "duration": 4,
    "start_time": "2025-03-03T18:16:30.641Z"
   },
   {
    "duration": 4,
    "start_time": "2025-03-03T18:16:30.646Z"
   },
   {
    "duration": 3,
    "start_time": "2025-03-03T18:16:30.651Z"
   },
   {
    "duration": 63,
    "start_time": "2025-03-03T18:16:30.656Z"
   },
   {
    "duration": 23,
    "start_time": "2025-03-03T18:16:30.720Z"
   },
   {
    "duration": 291,
    "start_time": "2025-03-03T18:16:30.744Z"
   },
   {
    "duration": 0,
    "start_time": "2025-03-03T18:16:31.037Z"
   },
   {
    "duration": 0,
    "start_time": "2025-03-03T18:16:31.038Z"
   },
   {
    "duration": 0,
    "start_time": "2025-03-03T18:16:31.039Z"
   },
   {
    "duration": 0,
    "start_time": "2025-03-03T18:16:31.040Z"
   },
   {
    "duration": 0,
    "start_time": "2025-03-03T18:16:31.041Z"
   },
   {
    "duration": 0,
    "start_time": "2025-03-03T18:16:31.042Z"
   },
   {
    "duration": 0,
    "start_time": "2025-03-03T18:16:31.044Z"
   },
   {
    "duration": 3,
    "start_time": "2025-03-03T18:18:01.719Z"
   },
   {
    "duration": 29,
    "start_time": "2025-03-03T18:18:03.041Z"
   },
   {
    "duration": 2,
    "start_time": "2025-03-03T18:21:19.547Z"
   },
   {
    "duration": 32,
    "start_time": "2025-03-03T18:21:21.267Z"
   },
   {
    "duration": 3,
    "start_time": "2025-03-03T18:32:39.755Z"
   },
   {
    "duration": 30,
    "start_time": "2025-03-03T18:32:40.493Z"
   },
   {
    "duration": 3,
    "start_time": "2025-03-03T18:35:36.523Z"
   },
   {
    "duration": 35,
    "start_time": "2025-03-03T18:35:37.345Z"
   },
   {
    "duration": 3,
    "start_time": "2025-03-03T18:42:00.614Z"
   },
   {
    "duration": 37,
    "start_time": "2025-03-03T18:42:01.840Z"
   },
   {
    "duration": 3,
    "start_time": "2025-03-03T18:42:19.384Z"
   },
   {
    "duration": 30,
    "start_time": "2025-03-03T18:42:20.097Z"
   },
   {
    "duration": 3,
    "start_time": "2025-03-03T18:44:27.886Z"
   },
   {
    "duration": 30,
    "start_time": "2025-03-03T18:44:29.997Z"
   },
   {
    "duration": 841,
    "start_time": "2025-03-03T18:44:41.918Z"
   },
   {
    "duration": 2777,
    "start_time": "2025-03-03T18:44:42.762Z"
   },
   {
    "duration": 17,
    "start_time": "2025-03-03T18:44:45.541Z"
   },
   {
    "duration": 15,
    "start_time": "2025-03-03T18:44:45.561Z"
   },
   {
    "duration": 44,
    "start_time": "2025-03-03T18:44:45.579Z"
   },
   {
    "duration": 14,
    "start_time": "2025-03-03T18:44:45.626Z"
   },
   {
    "duration": 11,
    "start_time": "2025-03-03T18:44:45.642Z"
   },
   {
    "duration": 10,
    "start_time": "2025-03-03T18:44:45.655Z"
   },
   {
    "duration": 10,
    "start_time": "2025-03-03T18:44:45.666Z"
   },
   {
    "duration": 5,
    "start_time": "2025-03-03T18:44:45.704Z"
   },
   {
    "duration": 5,
    "start_time": "2025-03-03T18:44:45.710Z"
   },
   {
    "duration": 10,
    "start_time": "2025-03-03T18:44:45.717Z"
   },
   {
    "duration": 15,
    "start_time": "2025-03-03T18:44:45.728Z"
   },
   {
    "duration": 3,
    "start_time": "2025-03-03T18:44:45.746Z"
   },
   {
    "duration": 59,
    "start_time": "2025-03-03T18:44:45.750Z"
   },
   {
    "duration": 99,
    "start_time": "2025-03-03T18:44:45.811Z"
   },
   {
    "duration": 97,
    "start_time": "2025-03-03T18:44:45.912Z"
   },
   {
    "duration": 97,
    "start_time": "2025-03-03T18:44:46.011Z"
   },
   {
    "duration": 111,
    "start_time": "2025-03-03T18:44:46.109Z"
   },
   {
    "duration": 12,
    "start_time": "2025-03-03T18:44:46.221Z"
   },
   {
    "duration": 3,
    "start_time": "2025-03-03T18:44:46.235Z"
   },
   {
    "duration": 3,
    "start_time": "2025-03-03T18:44:46.241Z"
   },
   {
    "duration": 3,
    "start_time": "2025-03-03T18:44:46.246Z"
   },
   {
    "duration": 5,
    "start_time": "2025-03-03T18:44:46.251Z"
   },
   {
    "duration": 0,
    "start_time": "2025-03-03T18:44:46.258Z"
   },
   {
    "duration": 0,
    "start_time": "2025-03-03T18:44:46.259Z"
   },
   {
    "duration": 0,
    "start_time": "2025-03-03T18:44:46.260Z"
   },
   {
    "duration": 0,
    "start_time": "2025-03-03T18:44:46.261Z"
   },
   {
    "duration": 0,
    "start_time": "2025-03-03T18:44:46.262Z"
   },
   {
    "duration": 0,
    "start_time": "2025-03-03T18:44:46.306Z"
   },
   {
    "duration": 0,
    "start_time": "2025-03-03T18:44:46.309Z"
   },
   {
    "duration": 0,
    "start_time": "2025-03-03T18:44:46.309Z"
   },
   {
    "duration": 0,
    "start_time": "2025-03-03T18:44:46.311Z"
   },
   {
    "duration": 0,
    "start_time": "2025-03-03T18:44:46.316Z"
   },
   {
    "duration": 0,
    "start_time": "2025-03-03T18:44:46.317Z"
   },
   {
    "duration": 4,
    "start_time": "2025-03-03T18:45:05.717Z"
   },
   {
    "duration": 775,
    "start_time": "2025-03-03T18:45:12.767Z"
   },
   {
    "duration": 2815,
    "start_time": "2025-03-03T18:45:13.545Z"
   },
   {
    "duration": 16,
    "start_time": "2025-03-03T18:45:16.362Z"
   },
   {
    "duration": 32,
    "start_time": "2025-03-03T18:45:16.381Z"
   },
   {
    "duration": 24,
    "start_time": "2025-03-03T18:45:16.415Z"
   },
   {
    "duration": 15,
    "start_time": "2025-03-03T18:45:16.441Z"
   },
   {
    "duration": 9,
    "start_time": "2025-03-03T18:45:16.458Z"
   },
   {
    "duration": 9,
    "start_time": "2025-03-03T18:45:16.469Z"
   },
   {
    "duration": 9,
    "start_time": "2025-03-03T18:45:16.506Z"
   },
   {
    "duration": 3,
    "start_time": "2025-03-03T18:45:16.519Z"
   },
   {
    "duration": 4,
    "start_time": "2025-03-03T18:45:16.523Z"
   },
   {
    "duration": 10,
    "start_time": "2025-03-03T18:45:16.529Z"
   },
   {
    "duration": 9,
    "start_time": "2025-03-03T18:45:16.541Z"
   },
   {
    "duration": 4,
    "start_time": "2025-03-03T18:45:16.551Z"
   },
   {
    "duration": 5,
    "start_time": "2025-03-03T18:45:16.606Z"
   },
   {
    "duration": 101,
    "start_time": "2025-03-03T18:45:16.613Z"
   },
   {
    "duration": 93,
    "start_time": "2025-03-03T18:45:16.716Z"
   },
   {
    "duration": 98,
    "start_time": "2025-03-03T18:45:16.811Z"
   },
   {
    "duration": 110,
    "start_time": "2025-03-03T18:45:16.911Z"
   },
   {
    "duration": 12,
    "start_time": "2025-03-03T18:45:17.023Z"
   },
   {
    "duration": 3,
    "start_time": "2025-03-03T18:45:17.037Z"
   },
   {
    "duration": 3,
    "start_time": "2025-03-03T18:45:17.042Z"
   },
   {
    "duration": 4,
    "start_time": "2025-03-03T18:45:17.047Z"
   },
   {
    "duration": 4,
    "start_time": "2025-03-03T18:45:17.052Z"
   },
   {
    "duration": 4,
    "start_time": "2025-03-03T18:45:17.105Z"
   },
   {
    "duration": 31,
    "start_time": "2025-03-03T18:45:17.111Z"
   },
   {
    "duration": 30,
    "start_time": "2025-03-03T18:45:17.144Z"
   },
   {
    "duration": 262,
    "start_time": "2025-03-03T18:45:17.178Z"
   },
   {
    "duration": 0,
    "start_time": "2025-03-03T18:45:17.441Z"
   },
   {
    "duration": 0,
    "start_time": "2025-03-03T18:45:17.443Z"
   },
   {
    "duration": 0,
    "start_time": "2025-03-03T18:45:17.444Z"
   },
   {
    "duration": 0,
    "start_time": "2025-03-03T18:45:17.445Z"
   },
   {
    "duration": 0,
    "start_time": "2025-03-03T18:45:17.446Z"
   },
   {
    "duration": 0,
    "start_time": "2025-03-03T18:45:17.447Z"
   },
   {
    "duration": 0,
    "start_time": "2025-03-03T18:45:17.448Z"
   },
   {
    "duration": 3,
    "start_time": "2025-03-03T18:46:06.146Z"
   },
   {
    "duration": 29,
    "start_time": "2025-03-03T18:46:08.176Z"
   },
   {
    "duration": 3,
    "start_time": "2025-03-03T18:46:38.436Z"
   },
   {
    "duration": 29,
    "start_time": "2025-03-03T18:46:39.145Z"
   },
   {
    "duration": 3,
    "start_time": "2025-03-03T18:47:26.124Z"
   },
   {
    "duration": 13,
    "start_time": "2025-03-03T18:47:26.878Z"
   },
   {
    "duration": 3,
    "start_time": "2025-03-03T18:47:36.085Z"
   },
   {
    "duration": 29,
    "start_time": "2025-03-03T18:47:36.734Z"
   },
   {
    "duration": 3,
    "start_time": "2025-03-03T18:50:11.226Z"
   },
   {
    "duration": 30,
    "start_time": "2025-03-03T18:50:13.718Z"
   },
   {
    "duration": 14,
    "start_time": "2025-03-03T18:51:04.407Z"
   },
   {
    "duration": 162,
    "start_time": "2025-03-03T19:44:52.800Z"
   },
   {
    "duration": 790,
    "start_time": "2025-03-03T19:44:56.756Z"
   },
   {
    "duration": 2582,
    "start_time": "2025-03-03T19:44:57.549Z"
   },
   {
    "duration": 14,
    "start_time": "2025-03-03T19:45:00.133Z"
   },
   {
    "duration": 13,
    "start_time": "2025-03-03T19:45:00.149Z"
   },
   {
    "duration": 27,
    "start_time": "2025-03-03T19:45:00.164Z"
   },
   {
    "duration": 19,
    "start_time": "2025-03-03T19:45:00.193Z"
   },
   {
    "duration": 45,
    "start_time": "2025-03-03T19:45:00.213Z"
   },
   {
    "duration": 15,
    "start_time": "2025-03-03T19:45:00.259Z"
   },
   {
    "duration": 9,
    "start_time": "2025-03-03T19:45:00.276Z"
   },
   {
    "duration": 10,
    "start_time": "2025-03-03T19:45:00.286Z"
   },
   {
    "duration": 8,
    "start_time": "2025-03-03T19:45:00.297Z"
   },
   {
    "duration": 3,
    "start_time": "2025-03-03T19:45:00.307Z"
   },
   {
    "duration": 4,
    "start_time": "2025-03-03T19:45:00.343Z"
   },
   {
    "duration": 7,
    "start_time": "2025-03-03T19:45:00.351Z"
   },
   {
    "duration": 11,
    "start_time": "2025-03-03T19:45:00.360Z"
   },
   {
    "duration": 4,
    "start_time": "2025-03-03T19:45:00.372Z"
   },
   {
    "duration": 5,
    "start_time": "2025-03-03T19:45:00.378Z"
   },
   {
    "duration": 22,
    "start_time": "2025-03-03T19:45:00.442Z"
   },
   {
    "duration": 97,
    "start_time": "2025-03-03T19:45:00.465Z"
   },
   {
    "duration": 100,
    "start_time": "2025-03-03T19:45:00.563Z"
   },
   {
    "duration": 108,
    "start_time": "2025-03-03T19:45:00.665Z"
   },
   {
    "duration": 68,
    "start_time": "2025-03-03T19:45:00.776Z"
   },
   {
    "duration": 4,
    "start_time": "2025-03-03T19:45:00.845Z"
   },
   {
    "duration": 4,
    "start_time": "2025-03-03T19:45:00.851Z"
   },
   {
    "duration": 4,
    "start_time": "2025-03-03T19:45:00.856Z"
   },
   {
    "duration": 5,
    "start_time": "2025-03-03T19:45:00.861Z"
   },
   {
    "duration": 3,
    "start_time": "2025-03-03T19:45:00.868Z"
   },
   {
    "duration": 31,
    "start_time": "2025-03-03T19:45:00.872Z"
   },
   {
    "duration": 171,
    "start_time": "2025-03-03T19:45:00.904Z"
   },
   {
    "duration": 0,
    "start_time": "2025-03-03T19:45:01.077Z"
   },
   {
    "duration": 0,
    "start_time": "2025-03-03T19:45:01.078Z"
   },
   {
    "duration": 0,
    "start_time": "2025-03-03T19:45:01.080Z"
   },
   {
    "duration": 0,
    "start_time": "2025-03-03T19:45:01.081Z"
   },
   {
    "duration": 0,
    "start_time": "2025-03-03T19:45:01.082Z"
   },
   {
    "duration": 0,
    "start_time": "2025-03-03T19:45:01.084Z"
   },
   {
    "duration": 0,
    "start_time": "2025-03-03T19:45:01.085Z"
   },
   {
    "duration": 1,
    "start_time": "2025-03-03T19:45:01.086Z"
   },
   {
    "duration": 4,
    "start_time": "2025-03-03T19:48:45.224Z"
   },
   {
    "duration": 32,
    "start_time": "2025-03-03T19:49:09.034Z"
   },
   {
    "duration": 7,
    "start_time": "2025-03-03T19:49:34.551Z"
   },
   {
    "duration": 31,
    "start_time": "2025-03-03T19:49:36.684Z"
   },
   {
    "duration": 3,
    "start_time": "2025-03-03T19:49:51.428Z"
   },
   {
    "duration": 29,
    "start_time": "2025-03-03T19:49:51.968Z"
   },
   {
    "duration": 33,
    "start_time": "2025-03-03T19:50:23.275Z"
   },
   {
    "duration": 3,
    "start_time": "2025-03-03T19:51:00.421Z"
   },
   {
    "duration": 40,
    "start_time": "2025-03-03T19:51:02.542Z"
   },
   {
    "duration": 48,
    "start_time": "2025-03-03T19:51:24.321Z"
   },
   {
    "duration": 31,
    "start_time": "2025-03-03T19:52:12.495Z"
   },
   {
    "duration": 8,
    "start_time": "2025-03-03T19:57:20.615Z"
   },
   {
    "duration": 3,
    "start_time": "2025-03-03T19:58:08.006Z"
   },
   {
    "duration": 40,
    "start_time": "2025-03-03T19:58:09.654Z"
   },
   {
    "duration": 4,
    "start_time": "2025-03-03T19:58:24.626Z"
   },
   {
    "duration": 30,
    "start_time": "2025-03-03T19:58:25.475Z"
   },
   {
    "duration": 871,
    "start_time": "2025-03-03T19:58:31.644Z"
   },
   {
    "duration": 2772,
    "start_time": "2025-03-03T19:58:32.518Z"
   },
   {
    "duration": 15,
    "start_time": "2025-03-03T19:58:35.292Z"
   },
   {
    "duration": 14,
    "start_time": "2025-03-03T19:58:35.309Z"
   },
   {
    "duration": 51,
    "start_time": "2025-03-03T19:58:35.325Z"
   },
   {
    "duration": 20,
    "start_time": "2025-03-03T19:58:35.379Z"
   },
   {
    "duration": 24,
    "start_time": "2025-03-03T19:58:35.401Z"
   },
   {
    "duration": 37,
    "start_time": "2025-03-03T19:58:35.427Z"
   },
   {
    "duration": 12,
    "start_time": "2025-03-03T19:58:35.471Z"
   },
   {
    "duration": 10,
    "start_time": "2025-03-03T19:58:35.486Z"
   },
   {
    "duration": 9,
    "start_time": "2025-03-03T19:58:35.497Z"
   },
   {
    "duration": 3,
    "start_time": "2025-03-03T19:58:35.508Z"
   },
   {
    "duration": 4,
    "start_time": "2025-03-03T19:58:35.513Z"
   },
   {
    "duration": 25,
    "start_time": "2025-03-03T19:58:35.519Z"
   },
   {
    "duration": 17,
    "start_time": "2025-03-03T19:58:35.552Z"
   },
   {
    "duration": 3,
    "start_time": "2025-03-03T19:58:35.571Z"
   },
   {
    "duration": 6,
    "start_time": "2025-03-03T19:58:35.576Z"
   },
   {
    "duration": 77,
    "start_time": "2025-03-03T19:58:35.584Z"
   },
   {
    "duration": 89,
    "start_time": "2025-03-03T19:58:35.664Z"
   },
   {
    "duration": 22,
    "start_time": "2025-03-03T19:58:35.755Z"
   },
   {
    "duration": 168,
    "start_time": "2025-03-03T19:58:35.779Z"
   },
   {
    "duration": 13,
    "start_time": "2025-03-03T19:58:35.948Z"
   },
   {
    "duration": 4,
    "start_time": "2025-03-03T19:58:35.963Z"
   },
   {
    "duration": 4,
    "start_time": "2025-03-03T19:58:35.969Z"
   },
   {
    "duration": 3,
    "start_time": "2025-03-03T19:58:35.975Z"
   },
   {
    "duration": 4,
    "start_time": "2025-03-03T19:58:35.980Z"
   },
   {
    "duration": 67,
    "start_time": "2025-03-03T19:58:35.986Z"
   },
   {
    "duration": 39,
    "start_time": "2025-03-03T19:58:36.058Z"
   },
   {
    "duration": 55,
    "start_time": "2025-03-03T19:58:36.098Z"
   },
   {
    "duration": 5,
    "start_time": "2025-03-03T19:58:36.155Z"
   },
   {
    "duration": 702,
    "start_time": "2025-03-03T19:58:36.161Z"
   },
   {
    "duration": 673,
    "start_time": "2025-03-03T19:58:36.865Z"
   },
   {
    "duration": 648,
    "start_time": "2025-03-03T19:58:37.543Z"
   },
   {
    "duration": 2403,
    "start_time": "2025-03-03T19:58:38.193Z"
   },
   {
    "duration": 797,
    "start_time": "2025-03-03T21:18:31.248Z"
   },
   {
    "duration": 2842,
    "start_time": "2025-03-03T21:18:32.047Z"
   },
   {
    "duration": 18,
    "start_time": "2025-03-03T21:18:34.891Z"
   },
   {
    "duration": 17,
    "start_time": "2025-03-03T21:18:34.911Z"
   },
   {
    "duration": 35,
    "start_time": "2025-03-03T21:18:34.931Z"
   },
   {
    "duration": 19,
    "start_time": "2025-03-03T21:18:34.968Z"
   },
   {
    "duration": 23,
    "start_time": "2025-03-03T21:18:34.989Z"
   },
   {
    "duration": 42,
    "start_time": "2025-03-03T21:18:35.013Z"
   },
   {
    "duration": 9,
    "start_time": "2025-03-03T21:18:35.057Z"
   },
   {
    "duration": 9,
    "start_time": "2025-03-03T21:18:35.069Z"
   },
   {
    "duration": 9,
    "start_time": "2025-03-03T21:18:35.079Z"
   },
   {
    "duration": 3,
    "start_time": "2025-03-03T21:18:35.089Z"
   },
   {
    "duration": 4,
    "start_time": "2025-03-03T21:18:35.094Z"
   },
   {
    "duration": 9,
    "start_time": "2025-03-03T21:18:35.099Z"
   },
   {
    "duration": 42,
    "start_time": "2025-03-03T21:18:35.109Z"
   },
   {
    "duration": 4,
    "start_time": "2025-03-03T21:18:35.152Z"
   },
   {
    "duration": 5,
    "start_time": "2025-03-03T21:18:35.161Z"
   },
   {
    "duration": 92,
    "start_time": "2025-03-03T21:18:35.168Z"
   },
   {
    "duration": 87,
    "start_time": "2025-03-03T21:18:35.261Z"
   },
   {
    "duration": 95,
    "start_time": "2025-03-03T21:18:35.350Z"
   },
   {
    "duration": 100,
    "start_time": "2025-03-03T21:18:35.449Z"
   },
   {
    "duration": 12,
    "start_time": "2025-03-03T21:18:35.551Z"
   },
   {
    "duration": 4,
    "start_time": "2025-03-03T21:18:35.564Z"
   },
   {
    "duration": 4,
    "start_time": "2025-03-03T21:18:35.569Z"
   },
   {
    "duration": 4,
    "start_time": "2025-03-03T21:18:35.574Z"
   },
   {
    "duration": 4,
    "start_time": "2025-03-03T21:18:35.579Z"
   },
   {
    "duration": 68,
    "start_time": "2025-03-03T21:18:35.584Z"
   },
   {
    "duration": 29,
    "start_time": "2025-03-03T21:18:35.656Z"
   },
   {
    "duration": 30,
    "start_time": "2025-03-03T21:18:35.687Z"
   },
   {
    "duration": 3,
    "start_time": "2025-03-03T21:18:35.719Z"
   },
   {
    "duration": 608,
    "start_time": "2025-03-03T21:18:35.724Z"
   },
   {
    "duration": 610,
    "start_time": "2025-03-03T21:18:36.334Z"
   },
   {
    "duration": 598,
    "start_time": "2025-03-03T21:18:36.946Z"
   },
   {
    "duration": 2036,
    "start_time": "2025-03-03T21:18:37.546Z"
   },
   {
    "duration": 5,
    "start_time": "2025-03-03T21:22:05.082Z"
   },
   {
    "duration": 780,
    "start_time": "2025-03-03T21:22:06.132Z"
   },
   {
    "duration": 5,
    "start_time": "2025-03-03T21:23:10.451Z"
   },
   {
    "duration": 137,
    "start_time": "2025-03-03T21:23:11.037Z"
   },
   {
    "duration": 4,
    "start_time": "2025-03-03T21:23:31.463Z"
   },
   {
    "duration": 25,
    "start_time": "2025-03-03T21:23:31.847Z"
   },
   {
    "duration": 30,
    "start_time": "2025-03-03T21:23:40.920Z"
   },
   {
    "duration": 33,
    "start_time": "2025-03-03T21:23:48.496Z"
   },
   {
    "duration": 32,
    "start_time": "2025-03-03T21:23:55.383Z"
   },
   {
    "duration": 808,
    "start_time": "2025-03-03T21:25:29.754Z"
   },
   {
    "duration": 2829,
    "start_time": "2025-03-03T21:25:30.564Z"
   },
   {
    "duration": 18,
    "start_time": "2025-03-03T21:25:33.396Z"
   },
   {
    "duration": 13,
    "start_time": "2025-03-03T21:25:33.417Z"
   },
   {
    "duration": 36,
    "start_time": "2025-03-03T21:25:33.432Z"
   },
   {
    "duration": 19,
    "start_time": "2025-03-03T21:25:33.470Z"
   },
   {
    "duration": 24,
    "start_time": "2025-03-03T21:25:33.490Z"
   },
   {
    "duration": 39,
    "start_time": "2025-03-03T21:25:33.515Z"
   },
   {
    "duration": 9,
    "start_time": "2025-03-03T21:25:33.556Z"
   },
   {
    "duration": 8,
    "start_time": "2025-03-03T21:25:33.569Z"
   },
   {
    "duration": 8,
    "start_time": "2025-03-03T21:25:33.579Z"
   },
   {
    "duration": 3,
    "start_time": "2025-03-03T21:25:33.588Z"
   },
   {
    "duration": 3,
    "start_time": "2025-03-03T21:25:33.593Z"
   },
   {
    "duration": 8,
    "start_time": "2025-03-03T21:25:33.598Z"
   },
   {
    "duration": 46,
    "start_time": "2025-03-03T21:25:33.608Z"
   },
   {
    "duration": 3,
    "start_time": "2025-03-03T21:25:33.656Z"
   },
   {
    "duration": 6,
    "start_time": "2025-03-03T21:25:33.661Z"
   },
   {
    "duration": 175,
    "start_time": "2025-03-03T21:25:33.669Z"
   },
   {
    "duration": 100,
    "start_time": "2025-03-03T21:25:33.846Z"
   },
   {
    "duration": 111,
    "start_time": "2025-03-03T21:25:33.948Z"
   },
   {
    "duration": 87,
    "start_time": "2025-03-03T21:25:34.061Z"
   },
   {
    "duration": 12,
    "start_time": "2025-03-03T21:25:34.150Z"
   },
   {
    "duration": 4,
    "start_time": "2025-03-03T21:25:34.163Z"
   },
   {
    "duration": 4,
    "start_time": "2025-03-03T21:25:34.169Z"
   },
   {
    "duration": 3,
    "start_time": "2025-03-03T21:25:34.176Z"
   },
   {
    "duration": 3,
    "start_time": "2025-03-03T21:25:34.181Z"
   },
   {
    "duration": 17,
    "start_time": "2025-03-03T21:25:34.186Z"
   },
   {
    "duration": 16,
    "start_time": "2025-03-03T21:25:34.243Z"
   },
   {
    "duration": 16,
    "start_time": "2025-03-03T21:25:34.261Z"
   },
   {
    "duration": 4,
    "start_time": "2025-03-03T21:25:34.278Z"
   },
   {
    "duration": 632,
    "start_time": "2025-03-03T21:25:34.284Z"
   },
   {
    "duration": 596,
    "start_time": "2025-03-03T21:25:34.918Z"
   },
   {
    "duration": 583,
    "start_time": "2025-03-03T21:25:35.516Z"
   },
   {
    "duration": 276,
    "start_time": "2025-03-03T21:25:36.101Z"
   },
   {
    "duration": 3,
    "start_time": "2025-03-03T21:35:34.990Z"
   },
   {
    "duration": 17,
    "start_time": "2025-03-03T21:35:35.310Z"
   },
   {
    "duration": 56,
    "start_time": "2025-03-03T21:39:39.514Z"
   },
   {
    "duration": 823,
    "start_time": "2025-03-03T21:39:40.876Z"
   },
   {
    "duration": 4,
    "start_time": "2025-03-03T21:40:02.065Z"
   },
   {
    "duration": 594,
    "start_time": "2025-03-03T21:40:02.626Z"
   },
   {
    "duration": 733,
    "start_time": "2025-03-04T00:31:45.993Z"
   },
   {
    "duration": 2810,
    "start_time": "2025-03-04T00:31:46.729Z"
   },
   {
    "duration": 19,
    "start_time": "2025-03-04T00:31:49.541Z"
   },
   {
    "duration": 21,
    "start_time": "2025-03-04T00:31:49.562Z"
   },
   {
    "duration": 46,
    "start_time": "2025-03-04T00:31:49.586Z"
   },
   {
    "duration": 21,
    "start_time": "2025-03-04T00:31:49.634Z"
   },
   {
    "duration": 24,
    "start_time": "2025-03-04T00:31:49.657Z"
   },
   {
    "duration": 38,
    "start_time": "2025-03-04T00:31:49.683Z"
   },
   {
    "duration": 10,
    "start_time": "2025-03-04T00:31:49.722Z"
   },
   {
    "duration": 9,
    "start_time": "2025-03-04T00:31:49.733Z"
   },
   {
    "duration": 11,
    "start_time": "2025-03-04T00:31:49.744Z"
   },
   {
    "duration": 3,
    "start_time": "2025-03-04T00:31:49.758Z"
   },
   {
    "duration": 13,
    "start_time": "2025-03-04T00:31:49.763Z"
   },
   {
    "duration": 33,
    "start_time": "2025-03-04T00:31:49.781Z"
   },
   {
    "duration": 14,
    "start_time": "2025-03-04T00:31:49.815Z"
   },
   {
    "duration": 4,
    "start_time": "2025-03-04T00:31:49.830Z"
   },
   {
    "duration": 5,
    "start_time": "2025-03-04T00:31:49.835Z"
   },
   {
    "duration": 168,
    "start_time": "2025-03-04T00:31:49.842Z"
   },
   {
    "duration": 99,
    "start_time": "2025-03-04T00:31:50.012Z"
   },
   {
    "duration": 113,
    "start_time": "2025-03-04T00:31:50.113Z"
   },
   {
    "duration": 92,
    "start_time": "2025-03-04T00:31:50.227Z"
   },
   {
    "duration": 11,
    "start_time": "2025-03-04T00:31:50.321Z"
   },
   {
    "duration": 3,
    "start_time": "2025-03-04T00:31:50.334Z"
   },
   {
    "duration": 3,
    "start_time": "2025-03-04T00:31:50.339Z"
   },
   {
    "duration": 3,
    "start_time": "2025-03-04T00:31:50.344Z"
   },
   {
    "duration": 4,
    "start_time": "2025-03-04T00:31:50.349Z"
   },
   {
    "duration": 56,
    "start_time": "2025-03-04T00:31:50.354Z"
   },
   {
    "duration": 17,
    "start_time": "2025-03-04T00:31:50.411Z"
   },
   {
    "duration": 20,
    "start_time": "2025-03-04T00:31:50.429Z"
   },
   {
    "duration": 5,
    "start_time": "2025-03-04T00:31:50.451Z"
   },
   {
    "duration": 603,
    "start_time": "2025-03-04T00:31:50.458Z"
   },
   {
    "duration": 550,
    "start_time": "2025-03-04T00:31:51.063Z"
   },
   {
    "duration": 584,
    "start_time": "2025-03-04T00:31:51.615Z"
   },
   {
    "duration": 2093,
    "start_time": "2025-03-04T00:31:52.202Z"
   },
   {
    "duration": 4,
    "start_time": "2025-03-04T00:38:29.675Z"
   },
   {
    "duration": 553,
    "start_time": "2025-03-04T00:38:36.073Z"
   },
   {
    "duration": 549,
    "start_time": "2025-03-04T00:38:43.018Z"
   },
   {
    "duration": 4,
    "start_time": "2025-03-04T00:40:39.214Z"
   },
   {
    "duration": 570,
    "start_time": "2025-03-04T00:40:47.482Z"
   },
   {
    "duration": 4,
    "start_time": "2025-03-04T00:42:18.476Z"
   },
   {
    "duration": 578,
    "start_time": "2025-03-04T00:42:21.799Z"
   },
   {
    "duration": 5,
    "start_time": "2025-03-04T00:57:00.898Z"
   },
   {
    "duration": 5,
    "start_time": "2025-03-04T00:57:16.283Z"
   },
   {
    "duration": 746,
    "start_time": "2025-03-04T00:57:18.684Z"
   },
   {
    "duration": 4,
    "start_time": "2025-03-04T00:59:31.877Z"
   },
   {
    "duration": 757,
    "start_time": "2025-03-04T00:59:34.047Z"
   },
   {
    "duration": 9,
    "start_time": "2025-03-04T00:59:52.936Z"
   },
   {
    "duration": 784,
    "start_time": "2025-03-04T00:59:56.845Z"
   },
   {
    "duration": 5,
    "start_time": "2025-03-04T01:01:57.956Z"
   },
   {
    "duration": 5,
    "start_time": "2025-03-04T01:09:44.743Z"
   },
   {
    "duration": 783,
    "start_time": "2025-03-04T01:09:50.970Z"
   },
   {
    "duration": 794,
    "start_time": "2025-03-04T01:10:13.475Z"
   },
   {
    "duration": 771,
    "start_time": "2025-03-04T01:10:15.744Z"
   },
   {
    "duration": 4,
    "start_time": "2025-03-04T01:12:39.257Z"
   },
   {
    "duration": 4,
    "start_time": "2025-03-04T01:12:39.550Z"
   },
   {
    "duration": 772,
    "start_time": "2025-03-04T01:12:39.913Z"
   },
   {
    "duration": 803,
    "start_time": "2025-03-04T01:12:40.687Z"
   },
   {
    "duration": 768,
    "start_time": "2025-03-04T01:12:41.492Z"
   },
   {
    "duration": 155,
    "start_time": "2025-03-04T01:15:23.037Z"
   },
   {
    "duration": 5665,
    "start_time": "2025-03-04T01:18:05.650Z"
   },
   {
    "duration": 5619,
    "start_time": "2025-03-04T01:21:47.876Z"
   },
   {
    "duration": 21,
    "start_time": "2025-03-04T01:30:13.821Z"
   },
   {
    "duration": 7,
    "start_time": "2025-03-04T01:30:30.131Z"
   },
   {
    "duration": 143,
    "start_time": "2025-03-04T01:38:24.261Z"
   },
   {
    "duration": 148,
    "start_time": "2025-03-04T01:39:09.166Z"
   },
   {
    "duration": 205,
    "start_time": "2025-03-04T01:39:19.452Z"
   },
   {
    "duration": 18,
    "start_time": "2025-03-04T01:40:05.677Z"
   },
   {
    "duration": 6,
    "start_time": "2025-03-04T01:41:17.274Z"
   },
   {
    "duration": 105,
    "start_time": "2025-03-04T01:41:49.325Z"
   },
   {
    "duration": 792,
    "start_time": "2025-03-04T01:42:04.274Z"
   },
   {
    "duration": 3,
    "start_time": "2025-03-04T01:42:17.666Z"
   },
   {
    "duration": 771,
    "start_time": "2025-03-04T01:42:20.972Z"
   },
   {
    "duration": 876,
    "start_time": "2025-03-04T01:43:08.285Z"
   },
   {
    "duration": 2801,
    "start_time": "2025-03-04T01:43:09.163Z"
   },
   {
    "duration": 17,
    "start_time": "2025-03-04T01:43:11.966Z"
   },
   {
    "duration": 27,
    "start_time": "2025-03-04T01:43:11.986Z"
   },
   {
    "duration": 27,
    "start_time": "2025-03-04T01:43:12.015Z"
   },
   {
    "duration": 22,
    "start_time": "2025-03-04T01:43:12.043Z"
   },
   {
    "duration": 46,
    "start_time": "2025-03-04T01:43:12.067Z"
   },
   {
    "duration": 15,
    "start_time": "2025-03-04T01:43:12.115Z"
   },
   {
    "duration": 10,
    "start_time": "2025-03-04T01:43:12.132Z"
   },
   {
    "duration": 10,
    "start_time": "2025-03-04T01:43:12.144Z"
   },
   {
    "duration": 11,
    "start_time": "2025-03-04T01:43:12.155Z"
   },
   {
    "duration": 4,
    "start_time": "2025-03-04T01:43:12.167Z"
   },
   {
    "duration": 4,
    "start_time": "2025-03-04T01:43:12.209Z"
   },
   {
    "duration": 8,
    "start_time": "2025-03-04T01:43:12.217Z"
   },
   {
    "duration": 14,
    "start_time": "2025-03-04T01:43:12.227Z"
   },
   {
    "duration": 4,
    "start_time": "2025-03-04T01:43:12.242Z"
   },
   {
    "duration": 62,
    "start_time": "2025-03-04T01:43:12.248Z"
   },
   {
    "duration": 98,
    "start_time": "2025-03-04T01:43:12.312Z"
   },
   {
    "duration": 109,
    "start_time": "2025-03-04T01:43:12.412Z"
   },
   {
    "duration": 183,
    "start_time": "2025-03-04T01:43:12.526Z"
   },
   {
    "duration": 25,
    "start_time": "2025-03-04T01:43:12.712Z"
   },
   {
    "duration": 12,
    "start_time": "2025-03-04T01:43:12.739Z"
   },
   {
    "duration": 4,
    "start_time": "2025-03-04T01:43:12.752Z"
   },
   {
    "duration": 3,
    "start_time": "2025-03-04T01:43:12.758Z"
   },
   {
    "duration": 3,
    "start_time": "2025-03-04T01:43:12.763Z"
   },
   {
    "duration": 42,
    "start_time": "2025-03-04T01:43:12.767Z"
   },
   {
    "duration": 17,
    "start_time": "2025-03-04T01:43:12.812Z"
   },
   {
    "duration": 16,
    "start_time": "2025-03-04T01:43:12.832Z"
   },
   {
    "duration": 17,
    "start_time": "2025-03-04T01:43:12.850Z"
   },
   {
    "duration": 5,
    "start_time": "2025-03-04T01:43:12.869Z"
   },
   {
    "duration": 810,
    "start_time": "2025-03-04T01:43:12.909Z"
   },
   {
    "duration": 809,
    "start_time": "2025-03-04T01:43:13.720Z"
   },
   {
    "duration": 862,
    "start_time": "2025-03-04T01:43:14.531Z"
   },
   {
    "duration": 29,
    "start_time": "2025-03-04T01:43:15.395Z"
   },
   {
    "duration": 1078,
    "start_time": "2025-03-04T01:43:15.425Z"
   },
   {
    "duration": 0,
    "start_time": "2025-03-04T01:43:16.509Z"
   },
   {
    "duration": 824,
    "start_time": "2025-03-04T01:43:20.257Z"
   },
   {
    "duration": 783,
    "start_time": "2025-03-04T01:43:41.109Z"
   },
   {
    "duration": 793,
    "start_time": "2025-03-04T01:44:10.878Z"
   },
   {
    "duration": 819,
    "start_time": "2025-03-04T01:44:17.599Z"
   },
   {
    "duration": 8,
    "start_time": "2025-03-04T01:44:40.466Z"
   },
   {
    "duration": 4,
    "start_time": "2025-03-04T01:51:24.992Z"
   },
   {
    "duration": 805,
    "start_time": "2025-03-04T01:51:25.906Z"
   },
   {
    "duration": 910,
    "start_time": "2025-03-04T01:51:33.545Z"
   },
   {
    "duration": 2689,
    "start_time": "2025-03-04T01:51:34.457Z"
   },
   {
    "duration": 15,
    "start_time": "2025-03-04T01:51:37.148Z"
   },
   {
    "duration": 15,
    "start_time": "2025-03-04T01:51:37.166Z"
   },
   {
    "duration": 43,
    "start_time": "2025-03-04T01:51:37.186Z"
   },
   {
    "duration": 27,
    "start_time": "2025-03-04T01:51:37.231Z"
   },
   {
    "duration": 34,
    "start_time": "2025-03-04T01:51:37.260Z"
   },
   {
    "duration": 19,
    "start_time": "2025-03-04T01:51:37.310Z"
   },
   {
    "duration": 11,
    "start_time": "2025-03-04T01:51:37.332Z"
   },
   {
    "duration": 11,
    "start_time": "2025-03-04T01:51:37.346Z"
   },
   {
    "duration": 10,
    "start_time": "2025-03-04T01:51:37.359Z"
   },
   {
    "duration": 4,
    "start_time": "2025-03-04T01:51:37.371Z"
   },
   {
    "duration": 33,
    "start_time": "2025-03-04T01:51:37.376Z"
   },
   {
    "duration": 12,
    "start_time": "2025-03-04T01:51:37.413Z"
   },
   {
    "duration": 15,
    "start_time": "2025-03-04T01:51:37.427Z"
   },
   {
    "duration": 3,
    "start_time": "2025-03-04T01:51:37.444Z"
   },
   {
    "duration": 63,
    "start_time": "2025-03-04T01:51:37.448Z"
   },
   {
    "duration": 110,
    "start_time": "2025-03-04T01:51:37.513Z"
   },
   {
    "duration": 107,
    "start_time": "2025-03-04T01:51:37.625Z"
   },
   {
    "duration": 178,
    "start_time": "2025-03-04T01:51:37.734Z"
   },
   {
    "duration": 21,
    "start_time": "2025-03-04T01:51:37.914Z"
   },
   {
    "duration": 12,
    "start_time": "2025-03-04T01:51:37.937Z"
   },
   {
    "duration": 5,
    "start_time": "2025-03-04T01:51:38.009Z"
   },
   {
    "duration": 3,
    "start_time": "2025-03-04T01:51:38.016Z"
   },
   {
    "duration": 3,
    "start_time": "2025-03-04T01:51:38.021Z"
   },
   {
    "duration": 4,
    "start_time": "2025-03-04T01:51:38.026Z"
   },
   {
    "duration": 17,
    "start_time": "2025-03-04T01:51:38.033Z"
   },
   {
    "duration": 17,
    "start_time": "2025-03-04T01:51:38.052Z"
   },
   {
    "duration": 53,
    "start_time": "2025-03-04T01:51:38.071Z"
   },
   {
    "duration": 6,
    "start_time": "2025-03-04T01:51:38.125Z"
   },
   {
    "duration": 821,
    "start_time": "2025-03-04T01:51:38.132Z"
   },
   {
    "duration": 789,
    "start_time": "2025-03-04T01:51:38.955Z"
   },
   {
    "duration": 771,
    "start_time": "2025-03-04T01:51:39.746Z"
   },
   {
    "duration": 8,
    "start_time": "2025-03-04T01:51:40.519Z"
   },
   {
    "duration": 924,
    "start_time": "2025-03-04T01:51:40.528Z"
   },
   {
    "duration": 0,
    "start_time": "2025-03-04T01:51:41.453Z"
   },
   {
    "duration": 857,
    "start_time": "2025-03-04T01:52:19.580Z"
   },
   {
    "duration": 2638,
    "start_time": "2025-03-04T01:52:20.440Z"
   },
   {
    "duration": 16,
    "start_time": "2025-03-04T01:52:23.079Z"
   },
   {
    "duration": 22,
    "start_time": "2025-03-04T01:52:23.097Z"
   },
   {
    "duration": 26,
    "start_time": "2025-03-04T01:52:23.122Z"
   },
   {
    "duration": 19,
    "start_time": "2025-03-04T01:52:23.150Z"
   },
   {
    "duration": 48,
    "start_time": "2025-03-04T01:52:23.171Z"
   },
   {
    "duration": 14,
    "start_time": "2025-03-04T01:52:23.221Z"
   },
   {
    "duration": 9,
    "start_time": "2025-03-04T01:52:23.236Z"
   },
   {
    "duration": 9,
    "start_time": "2025-03-04T01:52:23.247Z"
   },
   {
    "duration": 9,
    "start_time": "2025-03-04T01:52:23.258Z"
   },
   {
    "duration": 5,
    "start_time": "2025-03-04T01:52:23.269Z"
   },
   {
    "duration": 33,
    "start_time": "2025-03-04T01:52:23.276Z"
   },
   {
    "duration": 9,
    "start_time": "2025-03-04T01:52:23.312Z"
   },
   {
    "duration": 10,
    "start_time": "2025-03-04T01:52:23.323Z"
   },
   {
    "duration": 3,
    "start_time": "2025-03-04T01:52:23.334Z"
   },
   {
    "duration": 5,
    "start_time": "2025-03-04T01:52:23.339Z"
   },
   {
    "duration": 178,
    "start_time": "2025-03-04T01:52:23.346Z"
   },
   {
    "duration": 105,
    "start_time": "2025-03-04T01:52:23.526Z"
   },
   {
    "duration": 102,
    "start_time": "2025-03-04T01:52:23.708Z"
   },
   {
    "duration": 23,
    "start_time": "2025-03-04T01:52:23.812Z"
   },
   {
    "duration": 12,
    "start_time": "2025-03-04T01:52:23.836Z"
   },
   {
    "duration": 60,
    "start_time": "2025-03-04T01:52:23.850Z"
   },
   {
    "duration": 3,
    "start_time": "2025-03-04T01:52:23.912Z"
   },
   {
    "duration": 3,
    "start_time": "2025-03-04T01:52:23.917Z"
   },
   {
    "duration": 4,
    "start_time": "2025-03-04T01:52:23.921Z"
   },
   {
    "duration": 16,
    "start_time": "2025-03-04T01:52:23.927Z"
   },
   {
    "duration": 16,
    "start_time": "2025-03-04T01:52:23.945Z"
   },
   {
    "duration": 57,
    "start_time": "2025-03-04T01:52:23.963Z"
   },
   {
    "duration": 5,
    "start_time": "2025-03-04T01:52:24.022Z"
   },
   {
    "duration": 792,
    "start_time": "2025-03-04T01:52:24.028Z"
   },
   {
    "duration": 794,
    "start_time": "2025-03-04T01:52:24.822Z"
   },
   {
    "duration": 791,
    "start_time": "2025-03-04T01:52:25.618Z"
   },
   {
    "duration": 207,
    "start_time": "2025-03-04T01:52:26.410Z"
   },
   {
    "duration": 2781,
    "start_time": "2025-03-04T22:12:15.399Z"
   },
   {
    "duration": 3157,
    "start_time": "2025-03-04T22:12:18.182Z"
   },
   {
    "duration": 15,
    "start_time": "2025-03-04T22:12:21.341Z"
   },
   {
    "duration": 15,
    "start_time": "2025-03-04T22:12:21.358Z"
   },
   {
    "duration": 45,
    "start_time": "2025-03-04T22:12:21.377Z"
   },
   {
    "duration": 21,
    "start_time": "2025-03-04T22:12:21.424Z"
   },
   {
    "duration": 23,
    "start_time": "2025-03-04T22:12:21.447Z"
   },
   {
    "duration": 35,
    "start_time": "2025-03-04T22:12:21.473Z"
   },
   {
    "duration": 11,
    "start_time": "2025-03-04T22:12:21.510Z"
   },
   {
    "duration": 11,
    "start_time": "2025-03-04T22:12:21.523Z"
   },
   {
    "duration": 12,
    "start_time": "2025-03-04T22:12:21.536Z"
   },
   {
    "duration": 4,
    "start_time": "2025-03-04T22:12:21.550Z"
   },
   {
    "duration": 4,
    "start_time": "2025-03-04T22:12:21.556Z"
   },
   {
    "duration": 47,
    "start_time": "2025-03-04T22:12:21.566Z"
   },
   {
    "duration": 22,
    "start_time": "2025-03-04T22:12:21.615Z"
   },
   {
    "duration": 65,
    "start_time": "2025-03-04T22:12:21.642Z"
   },
   {
    "duration": 7,
    "start_time": "2025-03-04T22:12:21.712Z"
   },
   {
    "duration": 180,
    "start_time": "2025-03-04T22:12:21.724Z"
   },
   {
    "duration": 103,
    "start_time": "2025-03-04T22:12:21.909Z"
   },
   {
    "duration": 190,
    "start_time": "2025-03-04T22:12:22.016Z"
   },
   {
    "duration": 20,
    "start_time": "2025-03-04T22:12:22.208Z"
   },
   {
    "duration": 12,
    "start_time": "2025-03-04T22:12:22.230Z"
   },
   {
    "duration": 3,
    "start_time": "2025-03-04T22:12:22.243Z"
   },
   {
    "duration": 3,
    "start_time": "2025-03-04T22:12:22.248Z"
   },
   {
    "duration": 3,
    "start_time": "2025-03-04T22:12:22.253Z"
   },
   {
    "duration": 3,
    "start_time": "2025-03-04T22:12:22.258Z"
   },
   {
    "duration": 18,
    "start_time": "2025-03-04T22:12:22.306Z"
   },
   {
    "duration": 16,
    "start_time": "2025-03-04T22:12:22.326Z"
   },
   {
    "duration": 17,
    "start_time": "2025-03-04T22:12:22.344Z"
   },
   {
    "duration": 5,
    "start_time": "2025-03-04T22:12:22.363Z"
   },
   {
    "duration": 885,
    "start_time": "2025-03-04T22:12:22.370Z"
   },
   {
    "duration": 810,
    "start_time": "2025-03-04T22:12:23.257Z"
   },
   {
    "duration": 805,
    "start_time": "2025-03-04T22:12:24.069Z"
   },
   {
    "duration": 169,
    "start_time": "2025-03-04T22:12:24.876Z"
   },
   {
    "duration": 5,
    "start_time": "2025-03-04T22:13:12.877Z"
   },
   {
    "duration": 811,
    "start_time": "2025-03-04T22:13:13.982Z"
   },
   {
    "duration": 795,
    "start_time": "2025-03-04T22:13:14.804Z"
   },
   {
    "duration": 816,
    "start_time": "2025-03-04T22:13:15.601Z"
   },
   {
    "duration": 6,
    "start_time": "2025-03-04T22:16:17.791Z"
   },
   {
    "duration": 5,
    "start_time": "2025-03-04T22:16:18.529Z"
   },
   {
    "duration": 571,
    "start_time": "2025-03-04T22:16:19.266Z"
   },
   {
    "duration": 567,
    "start_time": "2025-03-04T22:16:19.840Z"
   },
   {
    "duration": 567,
    "start_time": "2025-03-04T22:16:24.879Z"
   },
   {
    "duration": 5,
    "start_time": "2025-03-04T22:16:46.865Z"
   },
   {
    "duration": 582,
    "start_time": "2025-03-04T22:16:47.342Z"
   },
   {
    "duration": 583,
    "start_time": "2025-03-04T22:16:47.926Z"
   },
   {
    "duration": 580,
    "start_time": "2025-03-04T22:16:48.511Z"
   },
   {
    "duration": 7,
    "start_time": "2025-03-04T22:17:02.218Z"
   },
   {
    "duration": 565,
    "start_time": "2025-03-04T22:17:03.395Z"
   },
   {
    "duration": 599,
    "start_time": "2025-03-04T22:17:03.962Z"
   },
   {
    "duration": 568,
    "start_time": "2025-03-04T22:17:04.563Z"
   },
   {
    "duration": 5,
    "start_time": "2025-03-04T22:17:12.669Z"
   },
   {
    "duration": 570,
    "start_time": "2025-03-04T22:17:14.135Z"
   },
   {
    "duration": 580,
    "start_time": "2025-03-04T22:17:14.707Z"
   },
   {
    "duration": 566,
    "start_time": "2025-03-04T22:17:15.289Z"
   },
   {
    "duration": 2743,
    "start_time": "2025-03-04T22:34:52.220Z"
   },
   {
    "duration": 3213,
    "start_time": "2025-03-04T22:34:54.966Z"
   },
   {
    "duration": 45,
    "start_time": "2025-03-04T22:34:58.181Z"
   },
   {
    "duration": 24,
    "start_time": "2025-03-04T22:34:58.232Z"
   },
   {
    "duration": 28,
    "start_time": "2025-03-04T22:34:58.257Z"
   },
   {
    "duration": 20,
    "start_time": "2025-03-04T22:34:58.287Z"
   },
   {
    "duration": 37,
    "start_time": "2025-03-04T22:34:58.309Z"
   },
   {
    "duration": 14,
    "start_time": "2025-03-04T22:34:58.348Z"
   },
   {
    "duration": 10,
    "start_time": "2025-03-04T22:34:58.363Z"
   },
   {
    "duration": 10,
    "start_time": "2025-03-04T22:34:58.376Z"
   },
   {
    "duration": 43,
    "start_time": "2025-03-04T22:34:58.387Z"
   },
   {
    "duration": 5,
    "start_time": "2025-03-04T22:34:58.433Z"
   },
   {
    "duration": 3,
    "start_time": "2025-03-04T22:34:58.441Z"
   },
   {
    "duration": 8,
    "start_time": "2025-03-04T22:34:58.446Z"
   },
   {
    "duration": 19,
    "start_time": "2025-03-04T22:34:58.455Z"
   },
   {
    "duration": 49,
    "start_time": "2025-03-04T22:34:58.477Z"
   },
   {
    "duration": 4,
    "start_time": "2025-03-04T22:34:58.528Z"
   },
   {
    "duration": 195,
    "start_time": "2025-03-04T22:34:58.534Z"
   },
   {
    "duration": 85,
    "start_time": "2025-03-04T22:34:58.740Z"
   },
   {
    "duration": 199,
    "start_time": "2025-03-04T22:34:58.827Z"
   },
   {
    "duration": 26,
    "start_time": "2025-03-04T22:34:59.029Z"
   },
   {
    "duration": 12,
    "start_time": "2025-03-04T22:34:59.057Z"
   },
   {
    "duration": 4,
    "start_time": "2025-03-04T22:34:59.071Z"
   },
   {
    "duration": 3,
    "start_time": "2025-03-04T22:34:59.077Z"
   },
   {
    "duration": 3,
    "start_time": "2025-03-04T22:34:59.082Z"
   },
   {
    "duration": 5,
    "start_time": "2025-03-04T22:34:59.087Z"
   },
   {
    "duration": 18,
    "start_time": "2025-03-04T22:34:59.124Z"
   },
   {
    "duration": 16,
    "start_time": "2025-03-04T22:34:59.147Z"
   },
   {
    "duration": 16,
    "start_time": "2025-03-04T22:34:59.165Z"
   },
   {
    "duration": 6,
    "start_time": "2025-03-04T22:34:59.183Z"
   },
   {
    "duration": 34,
    "start_time": "2025-03-04T22:34:59.191Z"
   },
   {
    "duration": 598,
    "start_time": "2025-03-04T22:34:59.226Z"
   },
   {
    "duration": 552,
    "start_time": "2025-03-04T22:34:59.826Z"
   },
   {
    "duration": 576,
    "start_time": "2025-03-04T22:35:00.380Z"
   },
   {
    "duration": 158,
    "start_time": "2025-03-04T22:35:00.957Z"
   },
   {
    "duration": 269,
    "start_time": "2025-03-04T22:36:08.024Z"
   },
   {
    "duration": 5,
    "start_time": "2025-03-04T22:36:11.979Z"
   },
   {
    "duration": 862,
    "start_time": "2025-03-04T22:36:14.021Z"
   },
   {
    "duration": 18,
    "start_time": "2025-03-04T22:42:02.302Z"
   },
   {
    "duration": 974,
    "start_time": "2025-03-04T22:42:06.128Z"
   },
   {
    "duration": 2979,
    "start_time": "2025-03-04T22:42:07.104Z"
   },
   {
    "duration": 15,
    "start_time": "2025-03-04T22:42:10.085Z"
   },
   {
    "duration": 25,
    "start_time": "2025-03-04T22:42:10.103Z"
   },
   {
    "duration": 25,
    "start_time": "2025-03-04T22:42:10.132Z"
   },
   {
    "duration": 25,
    "start_time": "2025-03-04T22:42:10.159Z"
   },
   {
    "duration": 45,
    "start_time": "2025-03-04T22:42:10.185Z"
   },
   {
    "duration": 16,
    "start_time": "2025-03-04T22:42:10.232Z"
   },
   {
    "duration": 12,
    "start_time": "2025-03-04T22:42:10.251Z"
   },
   {
    "duration": 11,
    "start_time": "2025-03-04T22:42:10.265Z"
   },
   {
    "duration": 9,
    "start_time": "2025-03-04T22:42:10.280Z"
   },
   {
    "duration": 3,
    "start_time": "2025-03-04T22:42:10.291Z"
   },
   {
    "duration": 5,
    "start_time": "2025-03-04T22:42:10.324Z"
   },
   {
    "duration": 10,
    "start_time": "2025-03-04T22:42:10.334Z"
   },
   {
    "duration": 15,
    "start_time": "2025-03-04T22:42:10.346Z"
   },
   {
    "duration": 4,
    "start_time": "2025-03-04T22:42:10.362Z"
   },
   {
    "duration": 56,
    "start_time": "2025-03-04T22:42:10.368Z"
   },
   {
    "duration": 121,
    "start_time": "2025-03-04T22:42:10.426Z"
   },
   {
    "duration": 114,
    "start_time": "2025-03-04T22:42:10.549Z"
   },
   {
    "duration": 87,
    "start_time": "2025-03-04T22:42:10.665Z"
   },
   {
    "duration": 27,
    "start_time": "2025-03-04T22:42:10.823Z"
   },
   {
    "duration": 12,
    "start_time": "2025-03-04T22:42:10.853Z"
   },
   {
    "duration": 4,
    "start_time": "2025-03-04T22:42:10.868Z"
   },
   {
    "duration": 3,
    "start_time": "2025-03-04T22:42:10.873Z"
   },
   {
    "duration": 3,
    "start_time": "2025-03-04T22:42:10.878Z"
   },
   {
    "duration": 43,
    "start_time": "2025-03-04T22:42:10.883Z"
   },
   {
    "duration": 18,
    "start_time": "2025-03-04T22:42:10.928Z"
   },
   {
    "duration": 18,
    "start_time": "2025-03-04T22:42:10.948Z"
   },
   {
    "duration": 21,
    "start_time": "2025-03-04T22:42:10.967Z"
   },
   {
    "duration": 6,
    "start_time": "2025-03-04T22:42:10.989Z"
   },
   {
    "duration": 5,
    "start_time": "2025-03-04T22:42:11.025Z"
   },
   {
    "duration": 597,
    "start_time": "2025-03-04T22:42:11.032Z"
   },
   {
    "duration": 863,
    "start_time": "2025-03-04T22:42:11.630Z"
   },
   {
    "duration": 588,
    "start_time": "2025-03-04T22:42:12.495Z"
   },
   {
    "duration": 614,
    "start_time": "2025-03-04T22:42:13.085Z"
   },
   {
    "duration": 217,
    "start_time": "2025-03-04T22:42:13.701Z"
   },
   {
    "duration": 2609,
    "start_time": "2025-03-05T00:45:09.995Z"
   },
   {
    "duration": 2769,
    "start_time": "2025-03-05T00:45:12.609Z"
   },
   {
    "duration": 15,
    "start_time": "2025-03-05T00:45:15.379Z"
   },
   {
    "duration": 21,
    "start_time": "2025-03-05T00:45:15.396Z"
   },
   {
    "duration": 26,
    "start_time": "2025-03-05T00:45:15.420Z"
   },
   {
    "duration": 19,
    "start_time": "2025-03-05T00:45:15.448Z"
   },
   {
    "duration": 41,
    "start_time": "2025-03-05T00:45:15.469Z"
   },
   {
    "duration": 14,
    "start_time": "2025-03-05T00:45:15.512Z"
   },
   {
    "duration": 9,
    "start_time": "2025-03-05T00:45:15.527Z"
   },
   {
    "duration": 9,
    "start_time": "2025-03-05T00:45:15.538Z"
   },
   {
    "duration": 8,
    "start_time": "2025-03-05T00:45:15.549Z"
   },
   {
    "duration": 3,
    "start_time": "2025-03-05T00:45:15.559Z"
   },
   {
    "duration": 4,
    "start_time": "2025-03-05T00:45:15.564Z"
   },
   {
    "duration": 45,
    "start_time": "2025-03-05T00:45:15.571Z"
   },
   {
    "duration": 18,
    "start_time": "2025-03-05T00:45:15.617Z"
   },
   {
    "duration": 72,
    "start_time": "2025-03-05T00:45:15.637Z"
   },
   {
    "duration": 12,
    "start_time": "2025-03-05T00:45:15.712Z"
   },
   {
    "duration": 186,
    "start_time": "2025-03-05T00:45:15.725Z"
   },
   {
    "duration": 99,
    "start_time": "2025-03-05T00:45:15.913Z"
   },
   {
    "duration": 112,
    "start_time": "2025-03-05T00:45:16.015Z"
   },
   {
    "duration": 93,
    "start_time": "2025-03-05T00:45:16.129Z"
   },
   {
    "duration": 12,
    "start_time": "2025-03-05T00:45:16.224Z"
   },
   {
    "duration": 4,
    "start_time": "2025-03-05T00:45:16.237Z"
   },
   {
    "duration": 3,
    "start_time": "2025-03-05T00:45:16.242Z"
   },
   {
    "duration": 3,
    "start_time": "2025-03-05T00:45:16.247Z"
   },
   {
    "duration": 4,
    "start_time": "2025-03-05T00:45:16.252Z"
   },
   {
    "duration": 52,
    "start_time": "2025-03-05T00:45:16.258Z"
   },
   {
    "duration": 17,
    "start_time": "2025-03-05T00:45:16.311Z"
   },
   {
    "duration": 16,
    "start_time": "2025-03-05T00:45:16.329Z"
   },
   {
    "duration": 4,
    "start_time": "2025-03-05T00:45:16.347Z"
   },
   {
    "duration": 4,
    "start_time": "2025-03-05T00:45:16.353Z"
   },
   {
    "duration": 603,
    "start_time": "2025-03-05T00:45:16.359Z"
   },
   {
    "duration": 845,
    "start_time": "2025-03-05T00:45:16.964Z"
   },
   {
    "duration": 554,
    "start_time": "2025-03-05T00:45:17.813Z"
   },
   {
    "duration": 551,
    "start_time": "2025-03-05T00:45:18.370Z"
   },
   {
    "duration": 158,
    "start_time": "2025-03-05T00:45:18.923Z"
   },
   {
    "duration": 5,
    "start_time": "2025-03-05T00:50:48.561Z"
   },
   {
    "duration": 541,
    "start_time": "2025-03-05T00:50:50.864Z"
   },
   {
    "duration": 4,
    "start_time": "2025-03-05T00:51:00.640Z"
   },
   {
    "duration": 551,
    "start_time": "2025-03-05T00:51:01.069Z"
   },
   {
    "duration": 845,
    "start_time": "2025-03-05T01:03:58.093Z"
   },
   {
    "duration": 2827,
    "start_time": "2025-03-05T01:03:58.941Z"
   },
   {
    "duration": 17,
    "start_time": "2025-03-05T01:04:01.770Z"
   },
   {
    "duration": 19,
    "start_time": "2025-03-05T01:04:01.790Z"
   },
   {
    "duration": 25,
    "start_time": "2025-03-05T01:04:01.811Z"
   },
   {
    "duration": 19,
    "start_time": "2025-03-05T01:04:01.838Z"
   },
   {
    "duration": 24,
    "start_time": "2025-03-05T01:04:01.859Z"
   },
   {
    "duration": 33,
    "start_time": "2025-03-05T01:04:01.885Z"
   },
   {
    "duration": 9,
    "start_time": "2025-03-05T01:04:01.920Z"
   },
   {
    "duration": 9,
    "start_time": "2025-03-05T01:04:01.931Z"
   },
   {
    "duration": 9,
    "start_time": "2025-03-05T01:04:01.942Z"
   },
   {
    "duration": 4,
    "start_time": "2025-03-05T01:04:01.952Z"
   },
   {
    "duration": 4,
    "start_time": "2025-03-05T01:04:01.957Z"
   },
   {
    "duration": 46,
    "start_time": "2025-03-05T01:04:01.965Z"
   },
   {
    "duration": 13,
    "start_time": "2025-03-05T01:04:02.012Z"
   },
   {
    "duration": 6,
    "start_time": "2025-03-05T01:04:02.026Z"
   },
   {
    "duration": 7,
    "start_time": "2025-03-05T01:04:02.033Z"
   },
   {
    "duration": 168,
    "start_time": "2025-03-05T01:04:02.042Z"
   },
   {
    "duration": 108,
    "start_time": "2025-03-05T01:04:02.212Z"
   },
   {
    "duration": 106,
    "start_time": "2025-03-05T01:04:02.322Z"
   },
   {
    "duration": 95,
    "start_time": "2025-03-05T01:04:02.430Z"
   },
   {
    "duration": 14,
    "start_time": "2025-03-05T01:04:02.527Z"
   },
   {
    "duration": 5,
    "start_time": "2025-03-05T01:04:02.543Z"
   },
   {
    "duration": 3,
    "start_time": "2025-03-05T01:04:02.551Z"
   },
   {
    "duration": 3,
    "start_time": "2025-03-05T01:04:02.556Z"
   },
   {
    "duration": 4,
    "start_time": "2025-03-05T01:04:02.561Z"
   },
   {
    "duration": 57,
    "start_time": "2025-03-05T01:04:02.567Z"
   },
   {
    "duration": 16,
    "start_time": "2025-03-05T01:04:02.626Z"
   },
   {
    "duration": 16,
    "start_time": "2025-03-05T01:04:02.643Z"
   },
   {
    "duration": 5,
    "start_time": "2025-03-05T01:04:02.661Z"
   },
   {
    "duration": 5,
    "start_time": "2025-03-05T01:04:02.667Z"
   },
   {
    "duration": 599,
    "start_time": "2025-03-05T01:04:02.674Z"
   },
   {
    "duration": 569,
    "start_time": "2025-03-05T01:04:03.275Z"
   },
   {
    "duration": 558,
    "start_time": "2025-03-05T01:04:03.846Z"
   },
   {
    "duration": 212,
    "start_time": "2025-03-05T01:04:04.409Z"
   }
  ],
  "kernelspec": {
   "display_name": "base",
   "language": "python",
   "name": "python3"
  },
  "language_info": {
   "codemirror_mode": {
    "name": "ipython",
    "version": 3
   },
   "file_extension": ".py",
   "mimetype": "text/x-python",
   "name": "python",
   "nbconvert_exporter": "python",
   "pygments_lexer": "ipython3",
   "version": "3.12.4"
  },
  "toc": {
   "base_numbering": 1,
   "nav_menu": {},
   "number_sections": true,
   "sideBar": true,
   "skip_h1_title": true,
   "title_cell": "Table of Contents",
   "title_sidebar": "Contents",
   "toc_cell": false,
   "toc_position": {},
   "toc_section_display": true,
   "toc_window_display": false
  }
 },
 "nbformat": 4,
 "nbformat_minor": 2
}
