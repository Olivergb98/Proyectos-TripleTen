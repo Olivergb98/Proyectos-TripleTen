{
 "cells": [
  {
   "cell_type": "code",
   "execution_count": 1,
   "metadata": {},
   "outputs": [],
   "source": [
    "import pandas as pd\n",
    "from sklearn.model_selection import train_test_split\n",
    "from lazypredict.Supervised import LazyClassifier"
   ]
  },
  {
   "cell_type": "code",
   "execution_count": 4,
   "metadata": {},
   "outputs": [
    {
     "name": "stdout",
     "output_type": "stream",
     "text": [
      "<class 'pandas.core.frame.DataFrame'>\n",
      "RangeIndex: 3214 entries, 0 to 3213\n",
      "Data columns (total 5 columns):\n",
      " #   Column    Non-Null Count  Dtype  \n",
      "---  ------    --------------  -----  \n",
      " 0   calls     3214 non-null   float64\n",
      " 1   minutes   3214 non-null   float64\n",
      " 2   messages  3214 non-null   float64\n",
      " 3   mb_used   3214 non-null   float64\n",
      " 4   is_ultra  3214 non-null   int64  \n",
      "dtypes: float64(4), int64(1)\n",
      "memory usage: 125.7 KB\n"
     ]
    }
   ],
   "source": [
    "df= pd.read_csv('users_behavior.csv')\n",
    "df.info()"
   ]
  },
  {
   "cell_type": "code",
   "execution_count": 5,
   "metadata": {},
   "outputs": [],
   "source": [
    "X = df[['calls', 'minutes', 'messages', 'mb_used']]\n",
    "y = df['is_ultra']\n",
    "X_train, X_test, y_train, y_test = train_test_split( X, y, test_size=0.2, random_state=123)"
   ]
  },
  {
   "cell_type": "code",
   "execution_count": 6,
   "metadata": {},
   "outputs": [
    {
     "name": "stderr",
     "output_type": "stream",
     "text": [
      "100%|██████████| 29/29 [00:01<00:00, 17.65it/s]"
     ]
    },
    {
     "name": "stdout",
     "output_type": "stream",
     "text": [
      "[LightGBM] [Info] Number of positive: 792, number of negative: 1779\n",
      "[LightGBM] [Info] Auto-choosing row-wise multi-threading, the overhead of testing was 0.000053 seconds.\n",
      "You can set `force_row_wise=true` to remove the overhead.\n",
      "And if memory is not enough, you can set `force_col_wise=true`.\n",
      "[LightGBM] [Info] Total Bins 801\n",
      "[LightGBM] [Info] Number of data points in the train set: 2571, number of used features: 4\n",
      "[LightGBM] [Info] [binary:BoostFromScore]: pavg=0.308051 -> initscore=-0.809245\n",
      "[LightGBM] [Info] Start training from score -0.809245\n"
     ]
    },
    {
     "name": "stderr",
     "output_type": "stream",
     "text": [
      "\n"
     ]
    }
   ],
   "source": [
    "clf = LazyClassifier()\n",
    "models, predictions = clf.fit(X_train, X_test, y_train, y_test)"
   ]
  },
  {
   "cell_type": "code",
   "execution_count": 7,
   "metadata": {},
   "outputs": [
    {
     "name": "stdout",
     "output_type": "stream",
     "text": [
      "                               Accuracy  Balanced Accuracy  ROC AUC  F1 Score  \\\n",
      "Model                                                                           \n",
      "LGBMClassifier                     0.81               0.74     0.74      0.80   \n",
      "AdaBoostClassifier                 0.81               0.74     0.74      0.80   \n",
      "RandomForestClassifier             0.80               0.73     0.73      0.79   \n",
      "XGBClassifier                      0.80               0.72     0.72      0.79   \n",
      "ExtraTreesClassifier               0.79               0.72     0.72      0.78   \n",
      "LabelSpreading                     0.80               0.71     0.71      0.79   \n",
      "LabelPropagation                   0.80               0.71     0.71      0.78   \n",
      "BaggingClassifier                  0.78               0.71     0.71      0.77   \n",
      "SVC                                0.80               0.70     0.70      0.78   \n",
      "KNeighborsClassifier               0.78               0.70     0.70      0.77   \n",
      "QuadraticDiscriminantAnalysis      0.79               0.69     0.69      0.77   \n",
      "GaussianNB                         0.78               0.69     0.69      0.76   \n",
      "NuSVC                              0.79               0.68     0.68      0.77   \n",
      "DecisionTreeClassifier             0.72               0.67     0.67      0.72   \n",
      "ExtraTreeClassifier                0.72               0.66     0.66      0.71   \n",
      "LogisticRegression                 0.74               0.59     0.59      0.69   \n",
      "LinearDiscriminantAnalysis         0.74               0.59     0.59      0.68   \n",
      "CalibratedClassifierCV             0.74               0.58     0.58      0.68   \n",
      "NearestCentroid                    0.60               0.58     0.58      0.62   \n",
      "RidgeClassifierCV                  0.74               0.58     0.58      0.67   \n",
      "RidgeClassifier                    0.74               0.57     0.57      0.67   \n",
      "LinearSVC                          0.74               0.57     0.57      0.67   \n",
      "BernoulliNB                        0.69               0.55     0.55      0.64   \n",
      "SGDClassifier                      0.71               0.52     0.52      0.60   \n",
      "Perceptron                         0.46               0.50     0.50      0.47   \n",
      "PassiveAggressiveClassifier        0.70               0.50     0.50      0.58   \n",
      "DummyClassifier                    0.70               0.50     0.50      0.58   \n",
      "\n",
      "                               Time Taken  \n",
      "Model                                      \n",
      "LGBMClassifier                       0.15  \n",
      "AdaBoostClassifier                   0.09  \n",
      "RandomForestClassifier               0.32  \n",
      "XGBClassifier                        0.14  \n",
      "ExtraTreesClassifier                 0.19  \n",
      "LabelSpreading                       0.11  \n",
      "LabelPropagation                     0.08  \n",
      "BaggingClassifier                    0.06  \n",
      "SVC                                  0.14  \n",
      "KNeighborsClassifier                 0.02  \n",
      "QuadraticDiscriminantAnalysis        0.01  \n",
      "GaussianNB                           0.01  \n",
      "NuSVC                                0.13  \n",
      "DecisionTreeClassifier               0.01  \n",
      "ExtraTreeClassifier                  0.01  \n",
      "LogisticRegression                   0.01  \n",
      "LinearDiscriminantAnalysis           0.02  \n",
      "CalibratedClassifierCV               0.02  \n",
      "NearestCentroid                      0.01  \n",
      "RidgeClassifierCV                    0.01  \n",
      "RidgeClassifier                      0.01  \n",
      "LinearSVC                            0.05  \n",
      "BernoulliNB                          0.01  \n",
      "SGDClassifier                        0.01  \n",
      "Perceptron                           0.01  \n",
      "PassiveAggressiveClassifier          0.01  \n",
      "DummyClassifier                      0.01  \n"
     ]
    }
   ],
   "source": [
    "print(models)"
   ]
  },
  {
   "cell_type": "code",
   "execution_count": null,
   "metadata": {},
   "outputs": [],
   "source": []
  }
 ],
 "metadata": {
  "kernelspec": {
   "display_name": "base",
   "language": "python",
   "name": "python3"
  },
  "language_info": {
   "codemirror_mode": {
    "name": "ipython",
    "version": 3
   },
   "file_extension": ".py",
   "mimetype": "text/x-python",
   "name": "python",
   "nbconvert_exporter": "python",
   "pygments_lexer": "ipython3",
   "version": "3.12.4"
  }
 },
 "nbformat": 4,
 "nbformat_minor": 2
}
