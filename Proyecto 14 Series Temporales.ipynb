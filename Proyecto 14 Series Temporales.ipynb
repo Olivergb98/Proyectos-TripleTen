{
 "cells": [
  {
   "cell_type": "markdown",
   "metadata": {},
   "source": [
    "# Descripción del proyecto\n",
    "\n",
    "La compañía Sweet Lift Taxi ha recopilado datos históricos sobre pedidos de taxis en los aeropuertos. Para atraer a más conductores durante las horas pico, necesitamos predecir la cantidad de pedidos de taxis para la próxima hora. Construye un modelo para dicha predicción.\n",
    "\n",
    "La métrica RECM en el conjunto de prueba no debe ser superior a 48.\n",
    "\n",
    "## Instrucciones del proyecto.\n",
    "\n",
    "1. Descarga los datos y haz el remuestreo por una hora.\n",
    "2. Analiza los datos\n",
    "3. Entrena diferentes modelos con diferentes hiperparámetros. La muestra de prueba debe ser el 10% del conjunto de datos inicial.4. Prueba los datos usando la muestra de prueba y proporciona una conclusión.\n",
    "\n",
    "## Descripción de los datos\n",
    "\n",
    "Los datos se almacenan en el archivo `taxi.csv`. \t\n",
    "El número de pedidos está en la columna `num_orders`."
   ]
  },
  {
   "cell_type": "markdown",
   "metadata": {},
   "source": [
    "## Preparación"
   ]
  },
  {
   "cell_type": "code",
   "execution_count": 1,
   "metadata": {},
   "outputs": [],
   "source": [
    "import pandas as pd\n",
    "from statsmodels.tsa.seasonal import seasonal_decompose\n",
    "import matplotlib.pyplot as plt\n",
    "from sklearn.model_selection import train_test_split\n",
    "from sklearn.linear_model import LinearRegression\n",
    "from sklearn.metrics import mean_squared_error"
   ]
  },
  {
   "cell_type": "code",
   "execution_count": 2,
   "metadata": {},
   "outputs": [
    {
     "name": "stdout",
     "output_type": "stream",
     "text": [
      "True\n",
      "\n",
      "<class 'pandas.core.frame.DataFrame'>\n",
      "DatetimeIndex: 26496 entries, 2018-03-01 00:00:00 to 2018-08-31 23:50:00\n",
      "Data columns (total 1 columns):\n",
      " #   Column      Non-Null Count  Dtype\n",
      "---  ------      --------------  -----\n",
      " 0   num_orders  26496 non-null  int64\n",
      "dtypes: int64(1)\n",
      "memory usage: 414.0 KB\n",
      "None\n"
     ]
    }
   ],
   "source": [
    "df = pd.read_csv('https://practicum-content.s3.us-west-1.amazonaws.com/datasets/taxi.csv?etag=11687de0e23962e5a11c9d8ae13eb630',\n",
    "                 index_col=[0], parse_dates=[0])\n",
    "print(df.index.is_monotonic_increasing)\n",
    "print()\n",
    "print(df.info())"
   ]
  },
  {
   "cell_type": "code",
   "execution_count": 3,
   "metadata": {},
   "outputs": [
    {
     "data": {
      "text/html": [
       "<div>\n",
       "<style scoped>\n",
       "    .dataframe tbody tr th:only-of-type {\n",
       "        vertical-align: middle;\n",
       "    }\n",
       "\n",
       "    .dataframe tbody tr th {\n",
       "        vertical-align: top;\n",
       "    }\n",
       "\n",
       "    .dataframe thead th {\n",
       "        text-align: right;\n",
       "    }\n",
       "</style>\n",
       "<table border=\"1\" class=\"dataframe\">\n",
       "  <thead>\n",
       "    <tr style=\"text-align: right;\">\n",
       "      <th></th>\n",
       "      <th>num_orders</th>\n",
       "    </tr>\n",
       "    <tr>\n",
       "      <th>datetime</th>\n",
       "      <th></th>\n",
       "    </tr>\n",
       "  </thead>\n",
       "  <tbody>\n",
       "    <tr>\n",
       "      <th>2018-03-01 00:00:00</th>\n",
       "      <td>124</td>\n",
       "    </tr>\n",
       "    <tr>\n",
       "      <th>2018-03-01 01:00:00</th>\n",
       "      <td>85</td>\n",
       "    </tr>\n",
       "    <tr>\n",
       "      <th>2018-03-01 02:00:00</th>\n",
       "      <td>71</td>\n",
       "    </tr>\n",
       "    <tr>\n",
       "      <th>2018-03-01 03:00:00</th>\n",
       "      <td>66</td>\n",
       "    </tr>\n",
       "    <tr>\n",
       "      <th>2018-03-01 04:00:00</th>\n",
       "      <td>43</td>\n",
       "    </tr>\n",
       "  </tbody>\n",
       "</table>\n",
       "</div>"
      ],
      "text/plain": [
       "                     num_orders\n",
       "datetime                       \n",
       "2018-03-01 00:00:00         124\n",
       "2018-03-01 01:00:00          85\n",
       "2018-03-01 02:00:00          71\n",
       "2018-03-01 03:00:00          66\n",
       "2018-03-01 04:00:00          43"
      ]
     },
     "execution_count": 3,
     "metadata": {},
     "output_type": "execute_result"
    }
   ],
   "source": [
    "df = df.resample('1H').sum()\n",
    "df.head()"
   ]
  },
  {
   "cell_type": "code",
   "execution_count": 4,
   "metadata": {},
   "outputs": [
    {
     "data": {
      "text/plain": [
       "num_orders    4416\n",
       "dtype: int64"
      ]
     },
     "execution_count": 4,
     "metadata": {},
     "output_type": "execute_result"
    }
   ],
   "source": [
    "df.isna().count()"
   ]
  },
  {
   "cell_type": "code",
   "execution_count": 5,
   "metadata": {},
   "outputs": [
    {
     "data": {
      "text/html": [
       "<div>\n",
       "<style scoped>\n",
       "    .dataframe tbody tr th:only-of-type {\n",
       "        vertical-align: middle;\n",
       "    }\n",
       "\n",
       "    .dataframe tbody tr th {\n",
       "        vertical-align: top;\n",
       "    }\n",
       "\n",
       "    .dataframe thead th {\n",
       "        text-align: right;\n",
       "    }\n",
       "</style>\n",
       "<table border=\"1\" class=\"dataframe\">\n",
       "  <thead>\n",
       "    <tr style=\"text-align: right;\">\n",
       "      <th></th>\n",
       "      <th>num_orders</th>\n",
       "    </tr>\n",
       "    <tr>\n",
       "      <th>datetime</th>\n",
       "      <th></th>\n",
       "    </tr>\n",
       "  </thead>\n",
       "  <tbody>\n",
       "  </tbody>\n",
       "</table>\n",
       "</div>"
      ],
      "text/plain": [
       "Empty DataFrame\n",
       "Columns: [num_orders]\n",
       "Index: []"
      ]
     },
     "execution_count": 5,
     "metadata": {},
     "output_type": "execute_result"
    }
   ],
   "source": [
    "df[df.isna().any(axis=1)]"
   ]
  },
  {
   "cell_type": "markdown",
   "metadata": {},
   "source": [
    "<div class=\"alert alert-block alert-success\">\n",
    "\n",
    "<b>Comentario del revisor</b> <a class=\"tocSkip\"></a>\n",
    "\n",
    "<b>Éxito</b> - Has comenzado el proyecto de forma sólida. La lectura del dataset, la conversión del índice a fechas y el remuestreo por hora están correctamente implementados. Esta preparación es esencial para análisis de series temporales y sienta una base limpia para modelado futuro. También verificaste si el índice está ordenado cronológicamente, lo cual es una buena práctica.\n",
    "\n",
    "Además, hiciste una revisión de valores ausentes y localizaste correctamente las filas donde existen, aunque podrías complementarlo detallando cómo los abordarás (por ejemplo, interpolación, eliminación o relleno con ceros).\n",
    "\n",
    "Como sugerencia para esta fase inicial:\n",
    "\n",
    "- Considera visualizar los datos remuestreados para validar patrones o anomalías desde el inicio.\n",
    "- Incluir una visualización rápida de la serie temporal en crudo puede ayudar a anticipar estacionalidad, tendencia o eventos atípicos.\n",
    "\n",
    "Excelente comienzo para este proyecto de predicción de demanda horaria. Continúa con el análisis exploratorio para detectar patrones y preparar el terreno para el modelado predictivo.\n",
    "\n",
    "</div>\n"
   ]
  },
  {
   "cell_type": "markdown",
   "metadata": {},
   "source": [
    "## Análisis"
   ]
  },
  {
   "cell_type": "code",
   "execution_count": 10,
   "metadata": {
    "scrolled": false
   },
   "outputs": [
    {
     "data": {
      "image/png": "[encoded data removed]",
      "text/plain": [
       "<Figure size 600x800 with 3 Axes>"
      ]
     },
     "metadata": {},
     "output_type": "display_data"
    }
   ],
   "source": [
    "data = df.copy() #copia para mantener el df original\n",
    "data = data.resample('1W').sum() #datos semanales para el análisis\n",
    "decomposed = seasonal_decompose(data, period=4)\n",
    "plt.figure(figsize=(6, 8))\n",
    "plt.subplot(311)\n",
    "decomposed.trend.plot(ax=plt.gca())\n",
    "plt.title('Trend')\n",
    "plt.subplot(312)\n",
    "decomposed.seasonal.plot(ax=plt.gca())\n",
    "plt.title('Seasonality')\n",
    "plt.subplot(313)\n",
    "decomposed.resid.plot(ax=plt.gca())\n",
    "plt.title('Residuals')\n",
    "plt.tight_layout()"
   ]
  },
  {
   "cell_type": "code",
   "execution_count": 12,
   "metadata": {},
   "outputs": [
    {
     "data": {
      "text/plain": [
       "<AxesSubplot:xlabel='datetime'>"
      ]
     },
     "execution_count": 12,
     "metadata": {},
     "output_type": "execute_result"
    },
    {
     "data": {
      "image/png": "[encoded data removed]",
      "text/plain": [
       "<Figure size 640x480 with 1 Axes>"
      ]
     },
     "metadata": {},
     "output_type": "display_data"
    }
   ],
   "source": [
    "data['mean'] = data['num_orders'].rolling(2).mean() \n",
    "data['std'] = data['num_orders'].rolling(2).std()\n",
    "data.plot()"
   ]
  },
  {
   "cell_type": "markdown",
   "metadata": {},
   "source": [
    "Los datos tienen tendencia positiva, con un aumento en agosto, probablemente debido a vacaciones."
   ]
  },
  {
   "cell_type": "markdown",
   "metadata": {},
   "source": [
    "## Formación"
   ]
  },
  {
   "cell_type": "markdown",
   "metadata": {},
   "source": [
    "Ahora vamos a preparar los datos y hacer una regresión lineal para predecir los viajes. Se usará el 90% de los datos como entrenamiento. Para aumentar la exactitud del modelo, se usará el defasado de datos."
   ]
  },
  {
   "cell_type": "code",
   "execution_count": 17,
   "metadata": {},
   "outputs": [],
   "source": [
    "def linear_model(max_lag, rolling_mean_size, data = df):\n",
    "    for lag in range(1, max_lag + 1):\n",
    "        data['lag_{}'.format(lag)] = data['num_orders'].shift(lag)\n",
    "        \n",
    "    data['rolling_mean'] = data['num_orders'].shift().rolling(rolling_mean_size).mean()\n",
    "    \n",
    "    train, test = train_test_split(data, shuffle=False, test_size=0.1)\n",
    "    train = train.dropna()\n",
    "\n",
    "    features_train = train.drop('num_orders', axis= 1)\n",
    "    target_train = train['num_orders']\n",
    "    features_test = test.drop('num_orders', axis=1)\n",
    "    target_test = test['num_orders']\n",
    "    \n",
    "    model = LinearRegression()\n",
    "    model.fit(features_train, target_train)\n",
    "\n",
    "    pred_train = model.predict(features_train)\n",
    "    pred_test = model.predict(features_test)\n",
    "    \n",
    "    print(\"RSME para el conjunto de entrenamiento:\", mean_squared_error(target_train, pred_train)**.5)\n",
    "    print(\"RSME para el conjunto de prueba:\", mean_squared_error(target_test, pred_test)**.5)"
   ]
  },
  {
   "cell_type": "markdown",
   "metadata": {},
   "source": [
    "## Prueba"
   ]
  },
  {
   "cell_type": "markdown",
   "metadata": {},
   "source": [
    "Ahora que tenemos la función, sólo que hay que probar con diferentes valores de max_lag y rolling_mean_size hasta encontrar los valores que nos den un RSME menor a 48"
   ]
  },
  {
   "cell_type": "code",
   "execution_count": 38,
   "metadata": {},
   "outputs": [
    {
     "name": "stdout",
     "output_type": "stream",
     "text": [
      "RSME para el conjunto de entrenamiento: 20.369662911656437\n",
      "RSME para el conjunto de prueba: 34.599299804920456\n",
      "CPU times: user 58.6 ms, sys: 81.4 ms, total: 140 ms\n",
      "Wall time: 49 ms\n"
     ]
    }
   ],
   "source": [
    "test_1 = linear_model(1, 5)"
   ]
  },
  {
   "cell_type": "code",
   "execution_count": 20,
   "metadata": {},
   "outputs": [
    {
     "name": "stdout",
     "output_type": "stream",
     "text": [
      "RSME para el conjunto de entrenamiento: 31.707975795931336\n",
      "RSME para el conjunto de prueba: 54.75107634289171\n"
     ]
    }
   ],
   "source": [
    "test_2 = linear_model(1, 10)"
   ]
  },
  {
   "cell_type": "code",
   "execution_count": 21,
   "metadata": {},
   "outputs": [
    {
     "name": "stdout",
     "output_type": "stream",
     "text": [
      "RSME para el conjunto de entrenamiento: 30.962935791219053\n",
      "RSME para el conjunto de prueba: 51.16593780947741\n"
     ]
    }
   ],
   "source": [
    "test_3 = linear_model(1, 24)"
   ]
  },
  {
   "cell_type": "code",
   "execution_count": 22,
   "metadata": {},
   "outputs": [
    {
     "name": "stdout",
     "output_type": "stream",
     "text": [
      "RSME para el conjunto de entrenamiento: 30.93021303846482\n",
      "RSME para el conjunto de prueba: 50.91113164521805\n"
     ]
    }
   ],
   "source": [
    "test_4 = linear_model(1, 48)"
   ]
  },
  {
   "cell_type": "code",
   "execution_count": 24,
   "metadata": {},
   "outputs": [
    {
     "name": "stdout",
     "output_type": "stream",
     "text": [
      "RSME para el conjunto de entrenamiento: 30.850624179051582\n",
      "RSME para el conjunto de prueba: 50.69901885730396\n"
     ]
    }
   ],
   "source": [
    "test_5 = linear_model(1, 72)"
   ]
  },
  {
   "cell_type": "code",
   "execution_count": 26,
   "metadata": {},
   "outputs": [
    {
     "name": "stdout",
     "output_type": "stream",
     "text": [
      "RSME para el conjunto de entrenamiento: 30.68355852763459\n",
      "RSME para el conjunto de prueba: 49.97808620990357\n"
     ]
    }
   ],
   "source": [
    "test_6 = linear_model(3, 72)"
   ]
  },
  {
   "cell_type": "code",
   "execution_count": 28,
   "metadata": {},
   "outputs": [
    {
     "name": "stdout",
     "output_type": "stream",
     "text": [
      "RSME para el conjunto de entrenamiento: 30.250339172718853\n",
      "RSME para el conjunto de prueba: 49.95045347483596\n"
     ]
    }
   ],
   "source": [
    "test_7 = linear_model(10, 72)"
   ]
  },
  {
   "cell_type": "code",
   "execution_count": 34,
   "metadata": {},
   "outputs": [
    {
     "name": "stdout",
     "output_type": "stream",
     "text": [
      "RSME para el conjunto de entrenamiento: 29.242421318644656\n",
      "RSME para el conjunto de prueba: 48.19700677228458\n"
     ]
    }
   ],
   "source": [
    "test_8 = linear_model(10, 168)"
   ]
  },
  {
   "cell_type": "code",
   "execution_count": 35,
   "metadata": {},
   "outputs": [
    {
     "name": "stdout",
     "output_type": "stream",
     "text": [
      "RSME para el conjunto de entrenamiento: 22.131778723128928\n",
      "RSME para el conjunto de prueba: 39.60137291994307\n"
     ]
    }
   ],
   "source": [
    "test_9 = linear_model(100, 168)"
   ]
  },
  {
   "cell_type": "code",
   "execution_count": 36,
   "metadata": {},
   "outputs": [
    {
     "name": "stdout",
     "output_type": "stream",
     "text": [
      "RSME para el conjunto de entrenamiento: 22.175861787032133\n",
      "RSME para el conjunto de prueba: 39.79265431009943\n"
     ]
    }
   ],
   "source": [
    "test_10 = linear_model(100, 5)"
   ]
  },
  {
   "cell_type": "code",
   "execution_count": 39,
   "metadata": {},
   "outputs": [
    {
     "name": "stdout",
     "output_type": "stream",
     "text": [
      "RSME para el conjunto de entrenamiento: 20.369662911656437\n",
      "RSME para el conjunto de prueba: 34.599299804920456\n",
      "CPU times: user 80.9 ms, sys: 92.4 ms, total: 173 ms\n",
      "Wall time: 102 ms\n"
     ]
    }
   ],
   "source": [
    "test_11 = linear_model(168, 5)"
   ]
  },
  {
   "cell_type": "code",
   "execution_count": 42,
   "metadata": {},
   "outputs": [
    {
     "name": "stdout",
     "output_type": "stream",
     "text": [
      "RSME para el conjunto de entrenamiento: 19.882586745424945\n",
      "RSME para el conjunto de prueba: 40.78720291435912\n"
     ]
    }
   ],
   "source": [
    "test_12 = linear_model(500, 5)"
   ]
  },
  {
   "cell_type": "code",
   "execution_count": 47,
   "metadata": {},
   "outputs": [
    {
     "name": "stdout",
     "output_type": "stream",
     "text": [
      "RSME para el conjunto de entrenamiento: 17.59309671600762\n",
      "RSME para el conjunto de prueba: 37.47700166189451\n"
     ]
    }
   ],
   "source": [
    "test_13 = linear_model(168, 100)"
   ]
  },
  {
   "cell_type": "markdown",
   "metadata": {},
   "source": [
    "Ya logramos el objetivo de obtener un RMSE menor a 48 en el conjunto de prueba jugando con los valores, y vemos que si se usa un valor demasiado alto para max_lag, pierde calidad el modelo. Vamos a quedarnos con el modelo de regresión lineal que utiliza shift 168 veces y usa una rolling mean de 5."
   ]
  },
  {
   "cell_type": "markdown",
   "metadata": {},
   "source": [
    "<div class=\"alert alert-block alert-success\">\n",
    "\n",
    "<b>Comentario del revisor</b> <a class=\"tocSkip\"></a>\n",
    "\n",
    "<b>Éxito</b> - Excelente implementación de análisis exploratorio y modelado predictivo. Has seguido un enfoque estructurado que demuestra una comprensión clara de los componentes clave de una serie temporal.\n",
    "\n",
    "**Análisis Exploratorio:**\n",
    "\n",
    "- El uso de `seasonal_decompose` con remuestreo semanal te permitió descomponer correctamente la serie en tendencia, estacionalidad y residuales. Esta es una herramienta poderosa para entender patrones subyacentes, y está muy bien aplicada aquí.\n",
    "- La identificación de un aumento en agosto sugiere una buena interpretación del contexto estacional. Una posible mejora sería cuantificar esa estacionalidad o comparar con otros meses.\n",
    "- También implementaste una visualización de la media móvil y desviación estándar, lo cual proporciona una perspectiva clara de la estabilidad o volatilidad en la demanda. Esto es muy valioso para anticipar la variabilidad del modelo.\n",
    "\n",
    "**Modelado Predictivo:**\n",
    "\n",
    "- La función `linear_model()` está bien diseñada y te permite experimentar con múltiples combinaciones de lags y medias móviles. Es positivo que mantengas los datos originales intactos y trabajes sobre una copia.\n",
    "- Dividiste los datos de forma cronológica, lo cual es una práctica esencial para series temporales y evita fugas de datos (`shuffle=False`).\n",
    "- La prueba sistemática de distintos hiperparámetros muestra un enfoque iterativo muy profesional. Evaluar el impacto de `max_lag` y `rolling_mean_size` ayuda a entender mejor la sensibilidad del modelo.\n",
    "- Lograste cumplir con la métrica objetivo (RMSE < 48) y además sacaste una conclusión clara sobre el punto óptimo del modelo.\n",
    "\n",
    "**Recomendaciones menores para fortalecer esta sección aún más:**\n",
    "\n",
    "- Podrías visualizar las predicciones vs los valores reales del conjunto de prueba para reforzar la evaluación cualitativa del modelo.\n",
    "- Sería útil encapsular los mejores parámetros encontrados (por ejemplo, `max_lag = 168`, `rolling_mean = 5`) en un comentario explícito o etiqueta, como parte del pipeline final.\n",
    "\n",
    "\n",
    "</div>\n"
   ]
  },
  {
   "cell_type": "markdown",
   "metadata": {},
   "source": [
    "# Lista de revisión"
   ]
  },
  {
   "cell_type": "markdown",
   "metadata": {},
   "source": [
    "- [x]  \t\n",
    "Jupyter Notebook está abierto.\n",
    "- [ ]  El código no tiene errores\n",
    "- [ ]  Las celdas con el código han sido colocadas en el orden de ejecución.\n",
    "- [ ]  \t\n",
    "Los datos han sido descargados y preparados.\n",
    "- [ ]  Se ha realizado el paso 2: los datos han sido analizados\n",
    "- [ ]  Se entrenó el modelo y se seleccionaron los hiperparámetros\n",
    "- [ ]  Se han evaluado los modelos. Se expuso una conclusión\n",
    "- [ ] La *RECM* para el conjunto de prueba no es más de 48"
   ]
  }
 ],
 "metadata": {
  "ExecuteTimeLog": [
   {
    "duration": 338,
    "start_time": "2025-04-11T17:34:48.544Z"
   },
   {
    "duration": 823,
    "start_time": "2025-04-11T17:35:41.307Z"
   },
   {
    "duration": 12,
    "start_time": "2025-04-11T17:35:53.852Z"
   },
   {
    "duration": 6,
    "start_time": "2025-04-11T17:36:59.526Z"
   },
   {
    "duration": 7,
    "start_time": "2025-04-11T17:37:26.039Z"
   },
   {
    "duration": 289,
    "start_time": "2025-04-11T17:37:33.678Z"
   },
   {
    "duration": 827,
    "start_time": "2025-04-11T17:37:33.970Z"
   },
   {
    "duration": 9,
    "start_time": "2025-04-11T17:37:34.798Z"
   },
   {
    "duration": 671,
    "start_time": "2025-04-11T17:40:49.199Z"
   },
   {
    "duration": 9,
    "start_time": "2025-04-11T17:47:00.686Z"
   },
   {
    "duration": 6,
    "start_time": "2025-04-11T17:47:34.842Z"
   },
   {
    "duration": 640,
    "start_time": "2025-04-11T17:47:46.935Z"
   },
   {
    "duration": 305,
    "start_time": "2025-04-11T17:47:55.096Z"
   },
   {
    "duration": 583,
    "start_time": "2025-04-11T17:47:55.404Z"
   },
   {
    "duration": 12,
    "start_time": "2025-04-11T17:47:55.989Z"
   },
   {
    "duration": 5,
    "start_time": "2025-04-11T17:47:56.003Z"
   },
   {
    "duration": 714,
    "start_time": "2025-04-11T17:48:36.640Z"
   },
   {
    "duration": 331,
    "start_time": "2025-04-11T17:48:42.230Z"
   },
   {
    "duration": 642,
    "start_time": "2025-04-11T17:48:42.563Z"
   },
   {
    "duration": 21,
    "start_time": "2025-04-11T17:48:43.207Z"
   },
   {
    "duration": 6,
    "start_time": "2025-04-11T17:48:43.230Z"
   },
   {
    "duration": 10,
    "start_time": "2025-04-11T17:50:22.136Z"
   },
   {
    "duration": 18,
    "start_time": "2025-04-11T17:54:03.415Z"
   },
   {
    "duration": 6,
    "start_time": "2025-04-11T17:54:12.462Z"
   },
   {
    "duration": 322,
    "start_time": "2025-04-11T17:54:19.007Z"
   },
   {
    "duration": 745,
    "start_time": "2025-04-11T17:54:19.333Z"
   },
   {
    "duration": 13,
    "start_time": "2025-04-11T17:54:20.080Z"
   },
   {
    "duration": 5,
    "start_time": "2025-04-11T17:54:20.094Z"
   },
   {
    "duration": 5,
    "start_time": "2025-04-11T17:54:20.101Z"
   },
   {
    "duration": 2576,
    "start_time": "2025-04-11T18:04:23.342Z"
   },
   {
    "duration": 354,
    "start_time": "2025-04-11T18:07:58.527Z"
   },
   {
    "duration": 202,
    "start_time": "2025-04-11T18:08:14.352Z"
   },
   {
    "duration": 323,
    "start_time": "2025-04-11T18:08:31.846Z"
   },
   {
    "duration": 226,
    "start_time": "2025-04-11T18:11:52.938Z"
   },
   {
    "duration": 221,
    "start_time": "2025-04-11T18:12:08.952Z"
   },
   {
    "duration": 260,
    "start_time": "2025-04-11T18:12:17.864Z"
   },
   {
    "duration": 209,
    "start_time": "2025-04-11T18:13:04.303Z"
   },
   {
    "duration": 4,
    "start_time": "2025-04-11T18:23:26.440Z"
   },
   {
    "duration": 537,
    "start_time": "2025-04-11T18:23:34.728Z"
   },
   {
    "duration": 722,
    "start_time": "2025-04-11T18:26:55.107Z"
   },
   {
    "duration": 702,
    "start_time": "2025-04-11T18:26:55.831Z"
   },
   {
    "duration": 11,
    "start_time": "2025-04-11T18:26:56.535Z"
   },
   {
    "duration": 5,
    "start_time": "2025-04-11T18:26:56.548Z"
   },
   {
    "duration": 5,
    "start_time": "2025-04-11T18:26:56.554Z"
   },
   {
    "duration": 369,
    "start_time": "2025-04-11T18:26:56.561Z"
   },
   {
    "duration": 216,
    "start_time": "2025-04-11T18:26:56.932Z"
   },
   {
    "duration": 3,
    "start_time": "2025-04-11T18:26:57.150Z"
   },
   {
    "duration": 188,
    "start_time": "2025-04-11T18:30:36.839Z"
   },
   {
    "duration": 200,
    "start_time": "2025-04-11T18:30:54.317Z"
   },
   {
    "duration": 462,
    "start_time": "2025-04-11T18:31:11.451Z"
   },
   {
    "duration": 29,
    "start_time": "2025-04-11T18:32:33.897Z"
   },
   {
    "duration": 3,
    "start_time": "2025-04-11T18:32:55.530Z"
   },
   {
    "duration": 878,
    "start_time": "2025-04-11T18:32:58.760Z"
   },
   {
    "duration": 754,
    "start_time": "2025-04-11T18:32:59.640Z"
   },
   {
    "duration": 10,
    "start_time": "2025-04-11T18:33:00.396Z"
   },
   {
    "duration": 5,
    "start_time": "2025-04-11T18:33:00.408Z"
   },
   {
    "duration": 6,
    "start_time": "2025-04-11T18:33:00.415Z"
   },
   {
    "duration": 513,
    "start_time": "2025-04-11T18:33:00.422Z"
   },
   {
    "duration": 212,
    "start_time": "2025-04-11T18:33:00.937Z"
   },
   {
    "duration": 3,
    "start_time": "2025-04-11T18:33:01.151Z"
   },
   {
    "duration": 566,
    "start_time": "2025-04-11T18:34:20.398Z"
   },
   {
    "duration": 432,
    "start_time": "2025-04-11T18:34:46.106Z"
   },
   {
    "duration": 561,
    "start_time": "2025-04-11T18:37:55.410Z"
   },
   {
    "duration": 530,
    "start_time": "2025-04-11T18:40:24.299Z"
   },
   {
    "duration": 4,
    "start_time": "2025-04-11T18:40:37.503Z"
   },
   {
    "duration": 609,
    "start_time": "2025-04-11T18:40:47.342Z"
   },
   {
    "duration": 512,
    "start_time": "2025-04-11T18:41:30.947Z"
   },
   {
    "duration": 873,
    "start_time": "2025-04-11T18:41:49.619Z"
   },
   {
    "duration": 700,
    "start_time": "2025-04-11T18:41:50.494Z"
   },
   {
    "duration": 10,
    "start_time": "2025-04-11T18:41:51.196Z"
   },
   {
    "duration": 5,
    "start_time": "2025-04-11T18:41:51.208Z"
   },
   {
    "duration": 5,
    "start_time": "2025-04-11T18:41:51.215Z"
   },
   {
    "duration": 644,
    "start_time": "2025-04-11T18:41:51.221Z"
   },
   {
    "duration": 209,
    "start_time": "2025-04-11T18:41:51.866Z"
   },
   {
    "duration": 4,
    "start_time": "2025-04-11T18:41:52.076Z"
   },
   {
    "duration": 550,
    "start_time": "2025-04-11T18:43:22.762Z"
   },
   {
    "duration": 8,
    "start_time": "2025-04-11T18:44:03.234Z"
   },
   {
    "duration": 600,
    "start_time": "2025-04-11T18:44:27.875Z"
   },
   {
    "duration": 7,
    "start_time": "2025-04-11T18:44:32.115Z"
   },
   {
    "duration": 871,
    "start_time": "2025-04-11T18:44:53.293Z"
   },
   {
    "duration": 605,
    "start_time": "2025-04-11T18:44:54.166Z"
   },
   {
    "duration": 11,
    "start_time": "2025-04-11T18:44:54.772Z"
   },
   {
    "duration": 4,
    "start_time": "2025-04-11T18:44:54.785Z"
   },
   {
    "duration": 5,
    "start_time": "2025-04-11T18:44:54.792Z"
   },
   {
    "duration": 610,
    "start_time": "2025-04-11T18:44:54.798Z"
   },
   {
    "duration": 8,
    "start_time": "2025-04-11T18:44:55.410Z"
   },
   {
    "duration": 208,
    "start_time": "2025-04-11T18:44:55.419Z"
   },
   {
    "duration": 3,
    "start_time": "2025-04-11T18:44:55.629Z"
   },
   {
    "duration": 455,
    "start_time": "2025-04-11T18:46:14.397Z"
   },
   {
    "duration": 632,
    "start_time": "2025-04-11T18:47:48.343Z"
   },
   {
    "duration": 459,
    "start_time": "2025-04-11T18:48:05.521Z"
   },
   {
    "duration": 910,
    "start_time": "2025-04-11T18:48:25.128Z"
   },
   {
    "duration": 627,
    "start_time": "2025-04-11T18:48:26.040Z"
   },
   {
    "duration": 10,
    "start_time": "2025-04-11T18:48:26.669Z"
   },
   {
    "duration": 5,
    "start_time": "2025-04-11T18:48:26.680Z"
   },
   {
    "duration": 5,
    "start_time": "2025-04-11T18:48:26.688Z"
   },
   {
    "duration": 545,
    "start_time": "2025-04-11T18:48:26.695Z"
   },
   {
    "duration": 7,
    "start_time": "2025-04-11T18:48:27.242Z"
   },
   {
    "duration": 181,
    "start_time": "2025-04-11T18:48:27.251Z"
   },
   {
    "duration": 4,
    "start_time": "2025-04-11T18:48:27.433Z"
   },
   {
    "duration": 451,
    "start_time": "2025-04-11T18:48:48.987Z"
   },
   {
    "duration": 164,
    "start_time": "2025-04-11T18:49:07.974Z"
   },
   {
    "duration": 164,
    "start_time": "2025-04-11T18:49:27.929Z"
   },
   {
    "duration": 4,
    "start_time": "2025-04-11T19:08:35.693Z"
   },
   {
    "duration": 12,
    "start_time": "2025-04-11T19:09:22.028Z"
   },
   {
    "duration": 12,
    "start_time": "2025-04-11T19:10:06.843Z"
   },
   {
    "duration": 248,
    "start_time": "2025-04-11T19:12:28.405Z"
   },
   {
    "duration": 4,
    "start_time": "2025-04-11T19:12:45.728Z"
   },
   {
    "duration": 11,
    "start_time": "2025-04-11T19:12:46.377Z"
   },
   {
    "duration": 26,
    "start_time": "2025-04-11T19:12:49.206Z"
   },
   {
    "duration": 12,
    "start_time": "2025-04-11T19:12:55.876Z"
   },
   {
    "duration": 12,
    "start_time": "2025-04-11T19:13:18.512Z"
   },
   {
    "duration": 11,
    "start_time": "2025-04-11T19:13:44.116Z"
   },
   {
    "duration": 11,
    "start_time": "2025-04-11T19:14:04.341Z"
   },
   {
    "duration": 11,
    "start_time": "2025-04-11T19:14:10.906Z"
   },
   {
    "duration": 14,
    "start_time": "2025-04-11T19:14:36.930Z"
   },
   {
    "duration": 11,
    "start_time": "2025-04-11T19:14:45.097Z"
   },
   {
    "duration": 24,
    "start_time": "2025-04-11T19:15:06.980Z"
   },
   {
    "duration": 15,
    "start_time": "2025-04-11T19:15:13.105Z"
   },
   {
    "duration": 22,
    "start_time": "2025-04-11T19:18:42.086Z"
   },
   {
    "duration": 15,
    "start_time": "2025-04-11T19:18:56.465Z"
   },
   {
    "duration": 21,
    "start_time": "2025-04-11T19:19:04.166Z"
   },
   {
    "duration": 13,
    "start_time": "2025-04-11T19:19:56.240Z"
   },
   {
    "duration": 29,
    "start_time": "2025-04-11T19:20:18.596Z"
   },
   {
    "duration": 22,
    "start_time": "2025-04-11T19:21:05.309Z"
   },
   {
    "duration": 116,
    "start_time": "2025-04-11T19:21:22.406Z"
   },
   {
    "duration": 118,
    "start_time": "2025-04-11T19:22:20.102Z"
   },
   {
    "duration": 98,
    "start_time": "2025-04-11T19:23:36.736Z"
   },
   {
    "duration": 54,
    "start_time": "2025-04-11T19:26:25.277Z"
   },
   {
    "duration": 106,
    "start_time": "2025-04-11T19:26:36.027Z"
   },
   {
    "duration": 1676,
    "start_time": "2025-04-11T19:28:06.048Z"
   },
   {
    "duration": 1420,
    "start_time": "2025-04-11T19:28:19.796Z"
   },
   {
    "duration": 1321,
    "start_time": "2025-04-11T19:28:25.698Z"
   },
   {
    "duration": 6,
    "start_time": "2025-04-11T19:36:00.754Z"
   },
   {
    "duration": 5,
    "start_time": "2025-04-11T19:36:10.054Z"
   },
   {
    "duration": 1540,
    "start_time": "2025-04-11T19:40:18.972Z"
   },
   {
    "duration": 1187,
    "start_time": "2025-04-11T19:40:30.638Z"
   },
   {
    "duration": 1175,
    "start_time": "2025-04-11T19:40:51.951Z"
   }
  ],
  "kernelspec": {
   "display_name": "Python 3 (ipykernel)",
   "language": "python",
   "name": "python3"
  },
  "language_info": {
   "codemirror_mode": {
    "name": "ipython",
    "version": 3
   },
   "file_extension": ".py",
   "mimetype": "text/x-python",
   "name": "python",
   "nbconvert_exporter": "python",
   "pygments_lexer": "ipython3",
   "version": "3.9.19"
  },
  "toc": {
   "base_numbering": 1,
   "nav_menu": {},
   "number_sections": true,
   "sideBar": true,
   "skip_h1_title": true,
   "title_cell": "Table of Contents",
   "title_sidebar": "Contents",
   "toc_cell": false,
   "toc_position": {},
   "toc_section_display": true,
   "toc_window_display": false
  }
 },
 "nbformat": 4,
 "nbformat_minor": 2
}
